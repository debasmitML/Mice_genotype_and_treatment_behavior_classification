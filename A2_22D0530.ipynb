{
  "cells": [
    {
      "cell_type": "code",
      "execution_count": null,
      "metadata": {
        "id": "huENumI1NPzq"
      },
      "outputs": [],
      "source": [
        "## initializing the libraries\n",
        "import numpy as np                       ## this library is used for working with arrays  \n",
        "import pandas as pd                      ## this library is used for working with dataframes\n",
        "import matplotlib.pyplot as plt          ## for plotting\n",
        "import seaborn as sns                    ## for plotting \n",
        "from sklearn.experimental import enable_iterative_imputer      \n",
        "from sklearn.impute import IterativeImputer                ## feature imputation, dealing the missing feature variables\n",
        "from sklearn.preprocessing import MinMaxScaler             ## for Normalising the feature values\n",
        "from sklearn.preprocessing import StandardScaler\n",
        "from sklearn.preprocessing import LabelEncoder             ## Encoded the caegorical label into numerical value\n",
        "from sklearn.inspection import permutation_importance      ## for getting the features importance value\n",
        "from sklearn.feature_selection import RFECV                ## For eliminating features recursively\n",
        "from sklearn.model_selection import GridSearchCV           ## For hyper parameter tuning using cross-validation \n",
        "from sklearn.svm import SVC                                ## For implementing Support Vector Machine ( Classifier )\n",
        "from sklearn.neural_network import MLPClassifier           ## For implementing Neural Network architecture\n",
        "from sklearn.ensemble import RandomForestClassifier        ## For implementing Random Forest Classifier\n",
        "from sklearn.linear_model import LogisticRegression        ## For implementing Logistic Regression Classifier\n",
        "from sklearn.metrics import classification_report, confusion_matrix    ## For getting Classification report (accuracy, precision, recall, f1-score) and confusion matrix"
      ]
    },
    {
      "cell_type": "markdown",
      "metadata": {
        "id": "4KYf-_pofuWR"
      },
      "source": [
        "Objective 1:"
      ]
    },
    {
      "cell_type": "markdown",
      "metadata": {
        "id": "xD8th565kWZi"
      },
      "source": [
        "Question 1 : Read the data using pandas read_csv command"
      ]
    },
    {
      "cell_type": "code",
      "execution_count": null,
      "metadata": {
        "id": "1x9xs2upWyM2"
      },
      "outputs": [],
      "source": [
        "Data= pd.read_csv('https://www.ee.iitb.ac.in/~asethi/Dump/MouseTrain.csv')"
      ]
    },
    {
      "cell_type": "code",
      "execution_count": null,
      "metadata": {
        "colab": {
          "base_uri": "https://localhost:8080/",
          "height": 424
        },
        "id": "mGg1YWllXDO0",
        "outputId": "7bd426ce-5c5f-4d68-e55c-fb920bcc1dd0"
      },
      "outputs": [
        {
          "data": {
            "text/html": [
              "\n",
              "  <div id=\"df-39b59156-79dd-4b12-a416-3887c44c07e3\">\n",
              "    <div class=\"colab-df-container\">\n",
              "      <div>\n",
              "<style scoped>\n",
              "    .dataframe tbody tr th:only-of-type {\n",
              "        vertical-align: middle;\n",
              "    }\n",
              "\n",
              "    .dataframe tbody tr th {\n",
              "        vertical-align: top;\n",
              "    }\n",
              "\n",
              "    .dataframe thead th {\n",
              "        text-align: right;\n",
              "    }\n",
              "</style>\n",
              "<table border=\"1\" class=\"dataframe\">\n",
              "  <thead>\n",
              "    <tr style=\"text-align: right;\">\n",
              "      <th></th>\n",
              "      <th>DYRK1A_N</th>\n",
              "      <th>ITSN1_N</th>\n",
              "      <th>BDNF_N</th>\n",
              "      <th>NR1_N</th>\n",
              "      <th>NR2A_N</th>\n",
              "      <th>pAKT_N</th>\n",
              "      <th>pBRAF_N</th>\n",
              "      <th>pCAMKII_N</th>\n",
              "      <th>pCREB_N</th>\n",
              "      <th>pELK_N</th>\n",
              "      <th>...</th>\n",
              "      <th>BCL2_N</th>\n",
              "      <th>pS6_N</th>\n",
              "      <th>pCFOS_N</th>\n",
              "      <th>SYP_N</th>\n",
              "      <th>H3AcK18_N</th>\n",
              "      <th>EGR1_N</th>\n",
              "      <th>H3MeK4_N</th>\n",
              "      <th>CaNA_N</th>\n",
              "      <th>Genotype</th>\n",
              "      <th>Treatment_Behavior</th>\n",
              "    </tr>\n",
              "  </thead>\n",
              "  <tbody>\n",
              "    <tr>\n",
              "      <th>0</th>\n",
              "      <td>0.503644</td>\n",
              "      <td>0.747193</td>\n",
              "      <td>0.430175</td>\n",
              "      <td>2.816329</td>\n",
              "      <td>5.990152</td>\n",
              "      <td>0.218830</td>\n",
              "      <td>0.177565</td>\n",
              "      <td>2.373744</td>\n",
              "      <td>0.232224</td>\n",
              "      <td>1.750936</td>\n",
              "      <td>...</td>\n",
              "      <td>NaN</td>\n",
              "      <td>0.106305</td>\n",
              "      <td>0.108336</td>\n",
              "      <td>0.427099</td>\n",
              "      <td>0.114783</td>\n",
              "      <td>0.131790</td>\n",
              "      <td>0.128186</td>\n",
              "      <td>1.675652</td>\n",
              "      <td>Control</td>\n",
              "      <td>Memantine_C/S</td>\n",
              "    </tr>\n",
              "    <tr>\n",
              "      <th>1</th>\n",
              "      <td>0.514617</td>\n",
              "      <td>0.689064</td>\n",
              "      <td>0.411770</td>\n",
              "      <td>2.789514</td>\n",
              "      <td>5.685038</td>\n",
              "      <td>0.211636</td>\n",
              "      <td>0.172817</td>\n",
              "      <td>2.292150</td>\n",
              "      <td>0.226972</td>\n",
              "      <td>1.596377</td>\n",
              "      <td>...</td>\n",
              "      <td>NaN</td>\n",
              "      <td>0.106592</td>\n",
              "      <td>0.104315</td>\n",
              "      <td>0.441581</td>\n",
              "      <td>0.111974</td>\n",
              "      <td>0.135103</td>\n",
              "      <td>0.131119</td>\n",
              "      <td>1.743610</td>\n",
              "      <td>Control</td>\n",
              "      <td>Memantine_C/S</td>\n",
              "    </tr>\n",
              "    <tr>\n",
              "      <th>2</th>\n",
              "      <td>0.509183</td>\n",
              "      <td>0.730247</td>\n",
              "      <td>0.418309</td>\n",
              "      <td>2.687201</td>\n",
              "      <td>5.622059</td>\n",
              "      <td>0.209011</td>\n",
              "      <td>0.175722</td>\n",
              "      <td>2.283337</td>\n",
              "      <td>0.230247</td>\n",
              "      <td>1.561316</td>\n",
              "      <td>...</td>\n",
              "      <td>NaN</td>\n",
              "      <td>0.108303</td>\n",
              "      <td>0.106219</td>\n",
              "      <td>0.435777</td>\n",
              "      <td>0.111883</td>\n",
              "      <td>0.133362</td>\n",
              "      <td>0.127431</td>\n",
              "      <td>1.926427</td>\n",
              "      <td>Control</td>\n",
              "      <td>Memantine_C/S</td>\n",
              "    </tr>\n",
              "    <tr>\n",
              "      <th>3</th>\n",
              "      <td>0.442107</td>\n",
              "      <td>0.617076</td>\n",
              "      <td>0.358626</td>\n",
              "      <td>2.466947</td>\n",
              "      <td>4.979503</td>\n",
              "      <td>0.222886</td>\n",
              "      <td>0.176463</td>\n",
              "      <td>2.152301</td>\n",
              "      <td>0.207004</td>\n",
              "      <td>1.595086</td>\n",
              "      <td>...</td>\n",
              "      <td>NaN</td>\n",
              "      <td>0.103184</td>\n",
              "      <td>0.111262</td>\n",
              "      <td>0.391691</td>\n",
              "      <td>0.130405</td>\n",
              "      <td>0.147444</td>\n",
              "      <td>0.146901</td>\n",
              "      <td>1.700563</td>\n",
              "      <td>Control</td>\n",
              "      <td>Memantine_C/S</td>\n",
              "    </tr>\n",
              "    <tr>\n",
              "      <th>4</th>\n",
              "      <td>0.434940</td>\n",
              "      <td>0.617430</td>\n",
              "      <td>0.358802</td>\n",
              "      <td>2.365785</td>\n",
              "      <td>4.718679</td>\n",
              "      <td>0.213106</td>\n",
              "      <td>0.173627</td>\n",
              "      <td>2.134014</td>\n",
              "      <td>0.192158</td>\n",
              "      <td>1.504230</td>\n",
              "      <td>...</td>\n",
              "      <td>NaN</td>\n",
              "      <td>0.104784</td>\n",
              "      <td>0.110694</td>\n",
              "      <td>0.434154</td>\n",
              "      <td>0.118481</td>\n",
              "      <td>0.140314</td>\n",
              "      <td>0.148380</td>\n",
              "      <td>1.839730</td>\n",
              "      <td>Control</td>\n",
              "      <td>Memantine_C/S</td>\n",
              "    </tr>\n",
              "    <tr>\n",
              "      <th>...</th>\n",
              "      <td>...</td>\n",
              "      <td>...</td>\n",
              "      <td>...</td>\n",
              "      <td>...</td>\n",
              "      <td>...</td>\n",
              "      <td>...</td>\n",
              "      <td>...</td>\n",
              "      <td>...</td>\n",
              "      <td>...</td>\n",
              "      <td>...</td>\n",
              "      <td>...</td>\n",
              "      <td>...</td>\n",
              "      <td>...</td>\n",
              "      <td>...</td>\n",
              "      <td>...</td>\n",
              "      <td>...</td>\n",
              "      <td>...</td>\n",
              "      <td>...</td>\n",
              "      <td>...</td>\n",
              "      <td>...</td>\n",
              "      <td>...</td>\n",
              "    </tr>\n",
              "    <tr>\n",
              "      <th>757</th>\n",
              "      <td>0.394169</td>\n",
              "      <td>0.623696</td>\n",
              "      <td>0.316564</td>\n",
              "      <td>2.104045</td>\n",
              "      <td>3.314706</td>\n",
              "      <td>0.234529</td>\n",
              "      <td>0.200657</td>\n",
              "      <td>3.208804</td>\n",
              "      <td>0.221809</td>\n",
              "      <td>1.218951</td>\n",
              "      <td>...</td>\n",
              "      <td>0.110916</td>\n",
              "      <td>0.119428</td>\n",
              "      <td>0.115567</td>\n",
              "      <td>0.441207</td>\n",
              "      <td>0.148473</td>\n",
              "      <td>0.146192</td>\n",
              "      <td>0.190681</td>\n",
              "      <td>1.474465</td>\n",
              "      <td>Ts65Dn</td>\n",
              "      <td>Saline_S/C</td>\n",
              "    </tr>\n",
              "    <tr>\n",
              "      <th>758</th>\n",
              "      <td>0.401739</td>\n",
              "      <td>0.659571</td>\n",
              "      <td>0.321841</td>\n",
              "      <td>2.183930</td>\n",
              "      <td>3.411782</td>\n",
              "      <td>0.236546</td>\n",
              "      <td>0.190826</td>\n",
              "      <td>3.384350</td>\n",
              "      <td>0.231899</td>\n",
              "      <td>1.250487</td>\n",
              "      <td>...</td>\n",
              "      <td>0.110350</td>\n",
              "      <td>0.118081</td>\n",
              "      <td>0.108944</td>\n",
              "      <td>0.444913</td>\n",
              "      <td>0.153137</td>\n",
              "      <td>0.149798</td>\n",
              "      <td>0.197944</td>\n",
              "      <td>1.516605</td>\n",
              "      <td>Ts65Dn</td>\n",
              "      <td>Saline_S/C</td>\n",
              "    </tr>\n",
              "    <tr>\n",
              "      <th>759</th>\n",
              "      <td>0.382182</td>\n",
              "      <td>0.586545</td>\n",
              "      <td>0.318545</td>\n",
              "      <td>2.072000</td>\n",
              "      <td>3.073636</td>\n",
              "      <td>0.259636</td>\n",
              "      <td>0.202727</td>\n",
              "      <td>3.006364</td>\n",
              "      <td>0.223455</td>\n",
              "      <td>1.248727</td>\n",
              "      <td>...</td>\n",
              "      <td>0.133664</td>\n",
              "      <td>0.116134</td>\n",
              "      <td>0.114635</td>\n",
              "      <td>0.422789</td>\n",
              "      <td>0.148426</td>\n",
              "      <td>0.163649</td>\n",
              "      <td>0.191212</td>\n",
              "      <td>1.433514</td>\n",
              "      <td>Ts65Dn</td>\n",
              "      <td>Saline_S/C</td>\n",
              "    </tr>\n",
              "    <tr>\n",
              "      <th>760</th>\n",
              "      <td>0.365622</td>\n",
              "      <td>0.572209</td>\n",
              "      <td>0.297992</td>\n",
              "      <td>2.004931</td>\n",
              "      <td>2.783551</td>\n",
              "      <td>0.245333</td>\n",
              "      <td>0.190384</td>\n",
              "      <td>2.948221</td>\n",
              "      <td>0.217506</td>\n",
              "      <td>1.177527</td>\n",
              "      <td>...</td>\n",
              "      <td>0.136994</td>\n",
              "      <td>0.120649</td>\n",
              "      <td>0.120649</td>\n",
              "      <td>0.459901</td>\n",
              "      <td>0.146872</td>\n",
              "      <td>0.140640</td>\n",
              "      <td>0.213899</td>\n",
              "      <td>1.543274</td>\n",
              "      <td>Ts65Dn</td>\n",
              "      <td>Saline_S/C</td>\n",
              "    </tr>\n",
              "    <tr>\n",
              "      <th>761</th>\n",
              "      <td>0.365605</td>\n",
              "      <td>0.599499</td>\n",
              "      <td>0.301539</td>\n",
              "      <td>2.062813</td>\n",
              "      <td>2.952577</td>\n",
              "      <td>0.248568</td>\n",
              "      <td>0.198819</td>\n",
              "      <td>3.069435</td>\n",
              "      <td>0.226736</td>\n",
              "      <td>1.220472</td>\n",
              "      <td>...</td>\n",
              "      <td>0.120182</td>\n",
              "      <td>0.121738</td>\n",
              "      <td>0.110486</td>\n",
              "      <td>0.424228</td>\n",
              "      <td>0.173689</td>\n",
              "      <td>0.166268</td>\n",
              "      <td>0.206129</td>\n",
              "      <td>1.520110</td>\n",
              "      <td>Ts65Dn</td>\n",
              "      <td>Saline_S/C</td>\n",
              "    </tr>\n",
              "  </tbody>\n",
              "</table>\n",
              "<p>762 rows × 79 columns</p>\n",
              "</div>\n",
              "      <button class=\"colab-df-convert\" onclick=\"convertToInteractive('df-39b59156-79dd-4b12-a416-3887c44c07e3')\"\n",
              "              title=\"Convert this dataframe to an interactive table.\"\n",
              "              style=\"display:none;\">\n",
              "        \n",
              "  <svg xmlns=\"http://www.w3.org/2000/svg\" height=\"24px\"viewBox=\"0 0 24 24\"\n",
              "       width=\"24px\">\n",
              "    <path d=\"M0 0h24v24H0V0z\" fill=\"none\"/>\n",
              "    <path d=\"M18.56 5.44l.94 2.06.94-2.06 2.06-.94-2.06-.94-.94-2.06-.94 2.06-2.06.94zm-11 1L8.5 8.5l.94-2.06 2.06-.94-2.06-.94L8.5 2.5l-.94 2.06-2.06.94zm10 10l.94 2.06.94-2.06 2.06-.94-2.06-.94-.94-2.06-.94 2.06-2.06.94z\"/><path d=\"M17.41 7.96l-1.37-1.37c-.4-.4-.92-.59-1.43-.59-.52 0-1.04.2-1.43.59L10.3 9.45l-7.72 7.72c-.78.78-.78 2.05 0 2.83L4 21.41c.39.39.9.59 1.41.59.51 0 1.02-.2 1.41-.59l7.78-7.78 2.81-2.81c.8-.78.8-2.07 0-2.86zM5.41 20L4 18.59l7.72-7.72 1.47 1.35L5.41 20z\"/>\n",
              "  </svg>\n",
              "      </button>\n",
              "      \n",
              "  <style>\n",
              "    .colab-df-container {\n",
              "      display:flex;\n",
              "      flex-wrap:wrap;\n",
              "      gap: 12px;\n",
              "    }\n",
              "\n",
              "    .colab-df-convert {\n",
              "      background-color: #E8F0FE;\n",
              "      border: none;\n",
              "      border-radius: 50%;\n",
              "      cursor: pointer;\n",
              "      display: none;\n",
              "      fill: #1967D2;\n",
              "      height: 32px;\n",
              "      padding: 0 0 0 0;\n",
              "      width: 32px;\n",
              "    }\n",
              "\n",
              "    .colab-df-convert:hover {\n",
              "      background-color: #E2EBFA;\n",
              "      box-shadow: 0px 1px 2px rgba(60, 64, 67, 0.3), 0px 1px 3px 1px rgba(60, 64, 67, 0.15);\n",
              "      fill: #174EA6;\n",
              "    }\n",
              "\n",
              "    [theme=dark] .colab-df-convert {\n",
              "      background-color: #3B4455;\n",
              "      fill: #D2E3FC;\n",
              "    }\n",
              "\n",
              "    [theme=dark] .colab-df-convert:hover {\n",
              "      background-color: #434B5C;\n",
              "      box-shadow: 0px 1px 3px 1px rgba(0, 0, 0, 0.15);\n",
              "      filter: drop-shadow(0px 1px 2px rgba(0, 0, 0, 0.3));\n",
              "      fill: #FFFFFF;\n",
              "    }\n",
              "  </style>\n",
              "\n",
              "      <script>\n",
              "        const buttonEl =\n",
              "          document.querySelector('#df-39b59156-79dd-4b12-a416-3887c44c07e3 button.colab-df-convert');\n",
              "        buttonEl.style.display =\n",
              "          google.colab.kernel.accessAllowed ? 'block' : 'none';\n",
              "\n",
              "        async function convertToInteractive(key) {\n",
              "          const element = document.querySelector('#df-39b59156-79dd-4b12-a416-3887c44c07e3');\n",
              "          const dataTable =\n",
              "            await google.colab.kernel.invokeFunction('convertToInteractive',\n",
              "                                                     [key], {});\n",
              "          if (!dataTable) return;\n",
              "\n",
              "          const docLinkHtml = 'Like what you see? Visit the ' +\n",
              "            '<a target=\"_blank\" href=https://colab.research.google.com/notebooks/data_table.ipynb>data table notebook</a>'\n",
              "            + ' to learn more about interactive tables.';\n",
              "          element.innerHTML = '';\n",
              "          dataTable['output_type'] = 'display_data';\n",
              "          await google.colab.output.renderOutput(dataTable, element);\n",
              "          const docLink = document.createElement('div');\n",
              "          docLink.innerHTML = docLinkHtml;\n",
              "          element.appendChild(docLink);\n",
              "        }\n",
              "      </script>\n",
              "    </div>\n",
              "  </div>\n",
              "  "
            ],
            "text/plain": [
              "     DYRK1A_N   ITSN1_N    BDNF_N     NR1_N    NR2A_N    pAKT_N   pBRAF_N  \\\n",
              "0    0.503644  0.747193  0.430175  2.816329  5.990152  0.218830  0.177565   \n",
              "1    0.514617  0.689064  0.411770  2.789514  5.685038  0.211636  0.172817   \n",
              "2    0.509183  0.730247  0.418309  2.687201  5.622059  0.209011  0.175722   \n",
              "3    0.442107  0.617076  0.358626  2.466947  4.979503  0.222886  0.176463   \n",
              "4    0.434940  0.617430  0.358802  2.365785  4.718679  0.213106  0.173627   \n",
              "..        ...       ...       ...       ...       ...       ...       ...   \n",
              "757  0.394169  0.623696  0.316564  2.104045  3.314706  0.234529  0.200657   \n",
              "758  0.401739  0.659571  0.321841  2.183930  3.411782  0.236546  0.190826   \n",
              "759  0.382182  0.586545  0.318545  2.072000  3.073636  0.259636  0.202727   \n",
              "760  0.365622  0.572209  0.297992  2.004931  2.783551  0.245333  0.190384   \n",
              "761  0.365605  0.599499  0.301539  2.062813  2.952577  0.248568  0.198819   \n",
              "\n",
              "     pCAMKII_N   pCREB_N    pELK_N  ...    BCL2_N     pS6_N   pCFOS_N  \\\n",
              "0     2.373744  0.232224  1.750936  ...       NaN  0.106305  0.108336   \n",
              "1     2.292150  0.226972  1.596377  ...       NaN  0.106592  0.104315   \n",
              "2     2.283337  0.230247  1.561316  ...       NaN  0.108303  0.106219   \n",
              "3     2.152301  0.207004  1.595086  ...       NaN  0.103184  0.111262   \n",
              "4     2.134014  0.192158  1.504230  ...       NaN  0.104784  0.110694   \n",
              "..         ...       ...       ...  ...       ...       ...       ...   \n",
              "757   3.208804  0.221809  1.218951  ...  0.110916  0.119428  0.115567   \n",
              "758   3.384350  0.231899  1.250487  ...  0.110350  0.118081  0.108944   \n",
              "759   3.006364  0.223455  1.248727  ...  0.133664  0.116134  0.114635   \n",
              "760   2.948221  0.217506  1.177527  ...  0.136994  0.120649  0.120649   \n",
              "761   3.069435  0.226736  1.220472  ...  0.120182  0.121738  0.110486   \n",
              "\n",
              "        SYP_N  H3AcK18_N    EGR1_N  H3MeK4_N    CaNA_N  Genotype  \\\n",
              "0    0.427099   0.114783  0.131790  0.128186  1.675652   Control   \n",
              "1    0.441581   0.111974  0.135103  0.131119  1.743610   Control   \n",
              "2    0.435777   0.111883  0.133362  0.127431  1.926427   Control   \n",
              "3    0.391691   0.130405  0.147444  0.146901  1.700563   Control   \n",
              "4    0.434154   0.118481  0.140314  0.148380  1.839730   Control   \n",
              "..        ...        ...       ...       ...       ...       ...   \n",
              "757  0.441207   0.148473  0.146192  0.190681  1.474465    Ts65Dn   \n",
              "758  0.444913   0.153137  0.149798  0.197944  1.516605    Ts65Dn   \n",
              "759  0.422789   0.148426  0.163649  0.191212  1.433514    Ts65Dn   \n",
              "760  0.459901   0.146872  0.140640  0.213899  1.543274    Ts65Dn   \n",
              "761  0.424228   0.173689  0.166268  0.206129  1.520110    Ts65Dn   \n",
              "\n",
              "     Treatment_Behavior  \n",
              "0         Memantine_C/S  \n",
              "1         Memantine_C/S  \n",
              "2         Memantine_C/S  \n",
              "3         Memantine_C/S  \n",
              "4         Memantine_C/S  \n",
              "..                  ...  \n",
              "757          Saline_S/C  \n",
              "758          Saline_S/C  \n",
              "759          Saline_S/C  \n",
              "760          Saline_S/C  \n",
              "761          Saline_S/C  \n",
              "\n",
              "[762 rows x 79 columns]"
            ]
          },
          "execution_count": 404,
          "metadata": {},
          "output_type": "execute_result"
        }
      ],
      "source": [
        "Data                                      ## Data has 762 samples and 79 columns"
      ]
    },
    {
      "cell_type": "markdown",
      "metadata": {
        "id": "BSz99xhZkytj"
      },
      "source": [
        "Question 2(c) : For both binary and multiclass classification it can be seen that the classes are pretty much balanced. But for multiclass, 4th class is not balanced. As it is almost 58% of the class with highest samples"
      ]
    },
    {
      "cell_type": "code",
      "execution_count": null,
      "metadata": {
        "colab": {
          "base_uri": "https://localhost:8080/"
        },
        "id": "bX9pJkeEXJeN",
        "outputId": "6059e8a0-dfd0-44d6-d8f9-ea5932339732"
      },
      "outputs": [
        {
          "data": {
            "text/plain": [
              "Treatment_Behavior\n",
              "Memantine_C/S         225\n",
              "Memantine_S/C         225\n",
              "Saline_C/S            180\n",
              "Saline_S/C            132\n",
              "dtype: int64"
            ]
          },
          "execution_count": 367,
          "metadata": {},
          "output_type": "execute_result"
        }
      ],
      "source": [
        "pd.DataFrame(Data['Treatment_Behavior']).value_counts()"
      ]
    },
    {
      "cell_type": "code",
      "execution_count": null,
      "metadata": {
        "colab": {
          "base_uri": "https://localhost:8080/"
        },
        "id": "Nowt_J1B38io",
        "outputId": "0298bd5a-63cf-45ac-ad84-178e44ec2349"
      },
      "outputs": [
        {
          "data": {
            "text/plain": [
              "Genotype\n",
              "Control     435\n",
              "Ts65Dn      327\n",
              "dtype: int64"
            ]
          },
          "execution_count": 368,
          "metadata": {},
          "output_type": "execute_result"
        }
      ],
      "source": [
        "pd.DataFrame(Data['Genotype']).value_counts()"
      ]
    },
    {
      "cell_type": "code",
      "execution_count": null,
      "metadata": {
        "id": "4Ai18vLMdrGV"
      },
      "outputs": [],
      "source": [
        "features_data = Data.drop(['Genotype' , 'Treatment_Behavior'] , axis = 1)    ## Dropping the columns of the class labels from the training data"
      ]
    },
    {
      "cell_type": "code",
      "execution_count": null,
      "metadata": {
        "colab": {
          "base_uri": "https://localhost:8080/",
          "height": 424
        },
        "id": "Mq1gmpf6ewHm",
        "outputId": "183d51b8-6cfb-409d-bbf5-67be07069096"
      },
      "outputs": [
        {
          "data": {
            "text/html": [
              "\n",
              "  <div id=\"df-fab746c7-4006-4fb7-af7e-ab93e238011b\">\n",
              "    <div class=\"colab-df-container\">\n",
              "      <div>\n",
              "<style scoped>\n",
              "    .dataframe tbody tr th:only-of-type {\n",
              "        vertical-align: middle;\n",
              "    }\n",
              "\n",
              "    .dataframe tbody tr th {\n",
              "        vertical-align: top;\n",
              "    }\n",
              "\n",
              "    .dataframe thead th {\n",
              "        text-align: right;\n",
              "    }\n",
              "</style>\n",
              "<table border=\"1\" class=\"dataframe\">\n",
              "  <thead>\n",
              "    <tr style=\"text-align: right;\">\n",
              "      <th></th>\n",
              "      <th>DYRK1A_N</th>\n",
              "      <th>ITSN1_N</th>\n",
              "      <th>BDNF_N</th>\n",
              "      <th>NR1_N</th>\n",
              "      <th>NR2A_N</th>\n",
              "      <th>pAKT_N</th>\n",
              "      <th>pBRAF_N</th>\n",
              "      <th>pCAMKII_N</th>\n",
              "      <th>pCREB_N</th>\n",
              "      <th>pELK_N</th>\n",
              "      <th>...</th>\n",
              "      <th>SHH_N</th>\n",
              "      <th>BAD_N</th>\n",
              "      <th>BCL2_N</th>\n",
              "      <th>pS6_N</th>\n",
              "      <th>pCFOS_N</th>\n",
              "      <th>SYP_N</th>\n",
              "      <th>H3AcK18_N</th>\n",
              "      <th>EGR1_N</th>\n",
              "      <th>H3MeK4_N</th>\n",
              "      <th>CaNA_N</th>\n",
              "    </tr>\n",
              "  </thead>\n",
              "  <tbody>\n",
              "    <tr>\n",
              "      <th>0</th>\n",
              "      <td>0.503644</td>\n",
              "      <td>0.747193</td>\n",
              "      <td>0.430175</td>\n",
              "      <td>2.816329</td>\n",
              "      <td>5.990152</td>\n",
              "      <td>0.218830</td>\n",
              "      <td>0.177565</td>\n",
              "      <td>2.373744</td>\n",
              "      <td>0.232224</td>\n",
              "      <td>1.750936</td>\n",
              "      <td>...</td>\n",
              "      <td>0.188852</td>\n",
              "      <td>0.122652</td>\n",
              "      <td>NaN</td>\n",
              "      <td>0.106305</td>\n",
              "      <td>0.108336</td>\n",
              "      <td>0.427099</td>\n",
              "      <td>0.114783</td>\n",
              "      <td>0.131790</td>\n",
              "      <td>0.128186</td>\n",
              "      <td>1.675652</td>\n",
              "    </tr>\n",
              "    <tr>\n",
              "      <th>1</th>\n",
              "      <td>0.514617</td>\n",
              "      <td>0.689064</td>\n",
              "      <td>0.411770</td>\n",
              "      <td>2.789514</td>\n",
              "      <td>5.685038</td>\n",
              "      <td>0.211636</td>\n",
              "      <td>0.172817</td>\n",
              "      <td>2.292150</td>\n",
              "      <td>0.226972</td>\n",
              "      <td>1.596377</td>\n",
              "      <td>...</td>\n",
              "      <td>0.200404</td>\n",
              "      <td>0.116682</td>\n",
              "      <td>NaN</td>\n",
              "      <td>0.106592</td>\n",
              "      <td>0.104315</td>\n",
              "      <td>0.441581</td>\n",
              "      <td>0.111974</td>\n",
              "      <td>0.135103</td>\n",
              "      <td>0.131119</td>\n",
              "      <td>1.743610</td>\n",
              "    </tr>\n",
              "    <tr>\n",
              "      <th>2</th>\n",
              "      <td>0.509183</td>\n",
              "      <td>0.730247</td>\n",
              "      <td>0.418309</td>\n",
              "      <td>2.687201</td>\n",
              "      <td>5.622059</td>\n",
              "      <td>0.209011</td>\n",
              "      <td>0.175722</td>\n",
              "      <td>2.283337</td>\n",
              "      <td>0.230247</td>\n",
              "      <td>1.561316</td>\n",
              "      <td>...</td>\n",
              "      <td>0.193685</td>\n",
              "      <td>0.118508</td>\n",
              "      <td>NaN</td>\n",
              "      <td>0.108303</td>\n",
              "      <td>0.106219</td>\n",
              "      <td>0.435777</td>\n",
              "      <td>0.111883</td>\n",
              "      <td>0.133362</td>\n",
              "      <td>0.127431</td>\n",
              "      <td>1.926427</td>\n",
              "    </tr>\n",
              "    <tr>\n",
              "      <th>3</th>\n",
              "      <td>0.442107</td>\n",
              "      <td>0.617076</td>\n",
              "      <td>0.358626</td>\n",
              "      <td>2.466947</td>\n",
              "      <td>4.979503</td>\n",
              "      <td>0.222886</td>\n",
              "      <td>0.176463</td>\n",
              "      <td>2.152301</td>\n",
              "      <td>0.207004</td>\n",
              "      <td>1.595086</td>\n",
              "      <td>...</td>\n",
              "      <td>0.192112</td>\n",
              "      <td>0.132781</td>\n",
              "      <td>NaN</td>\n",
              "      <td>0.103184</td>\n",
              "      <td>0.111262</td>\n",
              "      <td>0.391691</td>\n",
              "      <td>0.130405</td>\n",
              "      <td>0.147444</td>\n",
              "      <td>0.146901</td>\n",
              "      <td>1.700563</td>\n",
              "    </tr>\n",
              "    <tr>\n",
              "      <th>4</th>\n",
              "      <td>0.434940</td>\n",
              "      <td>0.617430</td>\n",
              "      <td>0.358802</td>\n",
              "      <td>2.365785</td>\n",
              "      <td>4.718679</td>\n",
              "      <td>0.213106</td>\n",
              "      <td>0.173627</td>\n",
              "      <td>2.134014</td>\n",
              "      <td>0.192158</td>\n",
              "      <td>1.504230</td>\n",
              "      <td>...</td>\n",
              "      <td>0.205604</td>\n",
              "      <td>0.129954</td>\n",
              "      <td>NaN</td>\n",
              "      <td>0.104784</td>\n",
              "      <td>0.110694</td>\n",
              "      <td>0.434154</td>\n",
              "      <td>0.118481</td>\n",
              "      <td>0.140314</td>\n",
              "      <td>0.148380</td>\n",
              "      <td>1.839730</td>\n",
              "    </tr>\n",
              "    <tr>\n",
              "      <th>...</th>\n",
              "      <td>...</td>\n",
              "      <td>...</td>\n",
              "      <td>...</td>\n",
              "      <td>...</td>\n",
              "      <td>...</td>\n",
              "      <td>...</td>\n",
              "      <td>...</td>\n",
              "      <td>...</td>\n",
              "      <td>...</td>\n",
              "      <td>...</td>\n",
              "      <td>...</td>\n",
              "      <td>...</td>\n",
              "      <td>...</td>\n",
              "      <td>...</td>\n",
              "      <td>...</td>\n",
              "      <td>...</td>\n",
              "      <td>...</td>\n",
              "      <td>...</td>\n",
              "      <td>...</td>\n",
              "      <td>...</td>\n",
              "      <td>...</td>\n",
              "    </tr>\n",
              "    <tr>\n",
              "      <th>757</th>\n",
              "      <td>0.394169</td>\n",
              "      <td>0.623696</td>\n",
              "      <td>0.316564</td>\n",
              "      <td>2.104045</td>\n",
              "      <td>3.314706</td>\n",
              "      <td>0.234529</td>\n",
              "      <td>0.200657</td>\n",
              "      <td>3.208804</td>\n",
              "      <td>0.221809</td>\n",
              "      <td>1.218951</td>\n",
              "      <td>...</td>\n",
              "      <td>0.216128</td>\n",
              "      <td>0.156371</td>\n",
              "      <td>0.110916</td>\n",
              "      <td>0.119428</td>\n",
              "      <td>0.115567</td>\n",
              "      <td>0.441207</td>\n",
              "      <td>0.148473</td>\n",
              "      <td>0.146192</td>\n",
              "      <td>0.190681</td>\n",
              "      <td>1.474465</td>\n",
              "    </tr>\n",
              "    <tr>\n",
              "      <th>758</th>\n",
              "      <td>0.401739</td>\n",
              "      <td>0.659571</td>\n",
              "      <td>0.321841</td>\n",
              "      <td>2.183930</td>\n",
              "      <td>3.411782</td>\n",
              "      <td>0.236546</td>\n",
              "      <td>0.190826</td>\n",
              "      <td>3.384350</td>\n",
              "      <td>0.231899</td>\n",
              "      <td>1.250487</td>\n",
              "      <td>...</td>\n",
              "      <td>0.209717</td>\n",
              "      <td>0.153224</td>\n",
              "      <td>0.110350</td>\n",
              "      <td>0.118081</td>\n",
              "      <td>0.108944</td>\n",
              "      <td>0.444913</td>\n",
              "      <td>0.153137</td>\n",
              "      <td>0.149798</td>\n",
              "      <td>0.197944</td>\n",
              "      <td>1.516605</td>\n",
              "    </tr>\n",
              "    <tr>\n",
              "      <th>759</th>\n",
              "      <td>0.382182</td>\n",
              "      <td>0.586545</td>\n",
              "      <td>0.318545</td>\n",
              "      <td>2.072000</td>\n",
              "      <td>3.073636</td>\n",
              "      <td>0.259636</td>\n",
              "      <td>0.202727</td>\n",
              "      <td>3.006364</td>\n",
              "      <td>0.223455</td>\n",
              "      <td>1.248727</td>\n",
              "      <td>...</td>\n",
              "      <td>0.211279</td>\n",
              "      <td>0.166417</td>\n",
              "      <td>0.133664</td>\n",
              "      <td>0.116134</td>\n",
              "      <td>0.114635</td>\n",
              "      <td>0.422789</td>\n",
              "      <td>0.148426</td>\n",
              "      <td>0.163649</td>\n",
              "      <td>0.191212</td>\n",
              "      <td>1.433514</td>\n",
              "    </tr>\n",
              "    <tr>\n",
              "      <th>760</th>\n",
              "      <td>0.365622</td>\n",
              "      <td>0.572209</td>\n",
              "      <td>0.297992</td>\n",
              "      <td>2.004931</td>\n",
              "      <td>2.783551</td>\n",
              "      <td>0.245333</td>\n",
              "      <td>0.190384</td>\n",
              "      <td>2.948221</td>\n",
              "      <td>0.217506</td>\n",
              "      <td>1.177527</td>\n",
              "      <td>...</td>\n",
              "      <td>0.197436</td>\n",
              "      <td>0.158631</td>\n",
              "      <td>0.136994</td>\n",
              "      <td>0.120649</td>\n",
              "      <td>0.120649</td>\n",
              "      <td>0.459901</td>\n",
              "      <td>0.146872</td>\n",
              "      <td>0.140640</td>\n",
              "      <td>0.213899</td>\n",
              "      <td>1.543274</td>\n",
              "    </tr>\n",
              "    <tr>\n",
              "      <th>761</th>\n",
              "      <td>0.365605</td>\n",
              "      <td>0.599499</td>\n",
              "      <td>0.301539</td>\n",
              "      <td>2.062813</td>\n",
              "      <td>2.952577</td>\n",
              "      <td>0.248568</td>\n",
              "      <td>0.198819</td>\n",
              "      <td>3.069435</td>\n",
              "      <td>0.226736</td>\n",
              "      <td>1.220472</td>\n",
              "      <td>...</td>\n",
              "      <td>0.225640</td>\n",
              "      <td>0.172492</td>\n",
              "      <td>0.120182</td>\n",
              "      <td>0.121738</td>\n",
              "      <td>0.110486</td>\n",
              "      <td>0.424228</td>\n",
              "      <td>0.173689</td>\n",
              "      <td>0.166268</td>\n",
              "      <td>0.206129</td>\n",
              "      <td>1.520110</td>\n",
              "    </tr>\n",
              "  </tbody>\n",
              "</table>\n",
              "<p>762 rows × 77 columns</p>\n",
              "</div>\n",
              "      <button class=\"colab-df-convert\" onclick=\"convertToInteractive('df-fab746c7-4006-4fb7-af7e-ab93e238011b')\"\n",
              "              title=\"Convert this dataframe to an interactive table.\"\n",
              "              style=\"display:none;\">\n",
              "        \n",
              "  <svg xmlns=\"http://www.w3.org/2000/svg\" height=\"24px\"viewBox=\"0 0 24 24\"\n",
              "       width=\"24px\">\n",
              "    <path d=\"M0 0h24v24H0V0z\" fill=\"none\"/>\n",
              "    <path d=\"M18.56 5.44l.94 2.06.94-2.06 2.06-.94-2.06-.94-.94-2.06-.94 2.06-2.06.94zm-11 1L8.5 8.5l.94-2.06 2.06-.94-2.06-.94L8.5 2.5l-.94 2.06-2.06.94zm10 10l.94 2.06.94-2.06 2.06-.94-2.06-.94-.94-2.06-.94 2.06-2.06.94z\"/><path d=\"M17.41 7.96l-1.37-1.37c-.4-.4-.92-.59-1.43-.59-.52 0-1.04.2-1.43.59L10.3 9.45l-7.72 7.72c-.78.78-.78 2.05 0 2.83L4 21.41c.39.39.9.59 1.41.59.51 0 1.02-.2 1.41-.59l7.78-7.78 2.81-2.81c.8-.78.8-2.07 0-2.86zM5.41 20L4 18.59l7.72-7.72 1.47 1.35L5.41 20z\"/>\n",
              "  </svg>\n",
              "      </button>\n",
              "      \n",
              "  <style>\n",
              "    .colab-df-container {\n",
              "      display:flex;\n",
              "      flex-wrap:wrap;\n",
              "      gap: 12px;\n",
              "    }\n",
              "\n",
              "    .colab-df-convert {\n",
              "      background-color: #E8F0FE;\n",
              "      border: none;\n",
              "      border-radius: 50%;\n",
              "      cursor: pointer;\n",
              "      display: none;\n",
              "      fill: #1967D2;\n",
              "      height: 32px;\n",
              "      padding: 0 0 0 0;\n",
              "      width: 32px;\n",
              "    }\n",
              "\n",
              "    .colab-df-convert:hover {\n",
              "      background-color: #E2EBFA;\n",
              "      box-shadow: 0px 1px 2px rgba(60, 64, 67, 0.3), 0px 1px 3px 1px rgba(60, 64, 67, 0.15);\n",
              "      fill: #174EA6;\n",
              "    }\n",
              "\n",
              "    [theme=dark] .colab-df-convert {\n",
              "      background-color: #3B4455;\n",
              "      fill: #D2E3FC;\n",
              "    }\n",
              "\n",
              "    [theme=dark] .colab-df-convert:hover {\n",
              "      background-color: #434B5C;\n",
              "      box-shadow: 0px 1px 3px 1px rgba(0, 0, 0, 0.15);\n",
              "      filter: drop-shadow(0px 1px 2px rgba(0, 0, 0, 0.3));\n",
              "      fill: #FFFFFF;\n",
              "    }\n",
              "  </style>\n",
              "\n",
              "      <script>\n",
              "        const buttonEl =\n",
              "          document.querySelector('#df-fab746c7-4006-4fb7-af7e-ab93e238011b button.colab-df-convert');\n",
              "        buttonEl.style.display =\n",
              "          google.colab.kernel.accessAllowed ? 'block' : 'none';\n",
              "\n",
              "        async function convertToInteractive(key) {\n",
              "          const element = document.querySelector('#df-fab746c7-4006-4fb7-af7e-ab93e238011b');\n",
              "          const dataTable =\n",
              "            await google.colab.kernel.invokeFunction('convertToInteractive',\n",
              "                                                     [key], {});\n",
              "          if (!dataTable) return;\n",
              "\n",
              "          const docLinkHtml = 'Like what you see? Visit the ' +\n",
              "            '<a target=\"_blank\" href=https://colab.research.google.com/notebooks/data_table.ipynb>data table notebook</a>'\n",
              "            + ' to learn more about interactive tables.';\n",
              "          element.innerHTML = '';\n",
              "          dataTable['output_type'] = 'display_data';\n",
              "          await google.colab.output.renderOutput(dataTable, element);\n",
              "          const docLink = document.createElement('div');\n",
              "          docLink.innerHTML = docLinkHtml;\n",
              "          element.appendChild(docLink);\n",
              "        }\n",
              "      </script>\n",
              "    </div>\n",
              "  </div>\n",
              "  "
            ],
            "text/plain": [
              "     DYRK1A_N   ITSN1_N    BDNF_N     NR1_N    NR2A_N    pAKT_N   pBRAF_N  \\\n",
              "0    0.503644  0.747193  0.430175  2.816329  5.990152  0.218830  0.177565   \n",
              "1    0.514617  0.689064  0.411770  2.789514  5.685038  0.211636  0.172817   \n",
              "2    0.509183  0.730247  0.418309  2.687201  5.622059  0.209011  0.175722   \n",
              "3    0.442107  0.617076  0.358626  2.466947  4.979503  0.222886  0.176463   \n",
              "4    0.434940  0.617430  0.358802  2.365785  4.718679  0.213106  0.173627   \n",
              "..        ...       ...       ...       ...       ...       ...       ...   \n",
              "757  0.394169  0.623696  0.316564  2.104045  3.314706  0.234529  0.200657   \n",
              "758  0.401739  0.659571  0.321841  2.183930  3.411782  0.236546  0.190826   \n",
              "759  0.382182  0.586545  0.318545  2.072000  3.073636  0.259636  0.202727   \n",
              "760  0.365622  0.572209  0.297992  2.004931  2.783551  0.245333  0.190384   \n",
              "761  0.365605  0.599499  0.301539  2.062813  2.952577  0.248568  0.198819   \n",
              "\n",
              "     pCAMKII_N   pCREB_N    pELK_N  ...     SHH_N     BAD_N    BCL2_N  \\\n",
              "0     2.373744  0.232224  1.750936  ...  0.188852  0.122652       NaN   \n",
              "1     2.292150  0.226972  1.596377  ...  0.200404  0.116682       NaN   \n",
              "2     2.283337  0.230247  1.561316  ...  0.193685  0.118508       NaN   \n",
              "3     2.152301  0.207004  1.595086  ...  0.192112  0.132781       NaN   \n",
              "4     2.134014  0.192158  1.504230  ...  0.205604  0.129954       NaN   \n",
              "..         ...       ...       ...  ...       ...       ...       ...   \n",
              "757   3.208804  0.221809  1.218951  ...  0.216128  0.156371  0.110916   \n",
              "758   3.384350  0.231899  1.250487  ...  0.209717  0.153224  0.110350   \n",
              "759   3.006364  0.223455  1.248727  ...  0.211279  0.166417  0.133664   \n",
              "760   2.948221  0.217506  1.177527  ...  0.197436  0.158631  0.136994   \n",
              "761   3.069435  0.226736  1.220472  ...  0.225640  0.172492  0.120182   \n",
              "\n",
              "        pS6_N   pCFOS_N     SYP_N  H3AcK18_N    EGR1_N  H3MeK4_N    CaNA_N  \n",
              "0    0.106305  0.108336  0.427099   0.114783  0.131790  0.128186  1.675652  \n",
              "1    0.106592  0.104315  0.441581   0.111974  0.135103  0.131119  1.743610  \n",
              "2    0.108303  0.106219  0.435777   0.111883  0.133362  0.127431  1.926427  \n",
              "3    0.103184  0.111262  0.391691   0.130405  0.147444  0.146901  1.700563  \n",
              "4    0.104784  0.110694  0.434154   0.118481  0.140314  0.148380  1.839730  \n",
              "..        ...       ...       ...        ...       ...       ...       ...  \n",
              "757  0.119428  0.115567  0.441207   0.148473  0.146192  0.190681  1.474465  \n",
              "758  0.118081  0.108944  0.444913   0.153137  0.149798  0.197944  1.516605  \n",
              "759  0.116134  0.114635  0.422789   0.148426  0.163649  0.191212  1.433514  \n",
              "760  0.120649  0.120649  0.459901   0.146872  0.140640  0.213899  1.543274  \n",
              "761  0.121738  0.110486  0.424228   0.173689  0.166268  0.206129  1.520110  \n",
              "\n",
              "[762 rows x 77 columns]"
            ]
          },
          "execution_count": 370,
          "metadata": {},
          "output_type": "execute_result"
        }
      ],
      "source": [
        "features_data"
      ]
    },
    {
      "cell_type": "markdown",
      "metadata": {
        "id": "r4gyjwv4meOM"
      },
      "source": [
        "Question 2(a) : Drop the columns which have more than 150 nan values.. "
      ]
    },
    {
      "cell_type": "code",
      "execution_count": null,
      "metadata": {
        "colab": {
          "base_uri": "https://localhost:8080/"
        },
        "id": "6pyvhGhVf8tG",
        "outputId": "d856184a-05b1-4c39-be15-fb1586499f2f"
      },
      "outputs": [
        {
          "name": "stdout",
          "output_type": "stream",
          "text": [
            " Enter the maximum allowable nan values : 150\n"
          ]
        }
      ],
      "source": [
        "max_nan = int(input(' Enter the maximum allowable nan values : '))    ## this variable takes maximum allowable number of nan values in a feature variable as input\n",
        "## this function takes the feature variables and maximum allowable nan value in a column as inputs and returns the name of the dropped columns and new feaure_matrix after removing \n",
        "##those feature variables\n",
        "def drop_nan_value_features(feature_matrix , nan):                    \n",
        "  drop_columns = []                          ## this list stores the column heading of the dropped features \n",
        "  for i in range(feature_matrix.shape[1]):   ## i iterates through the number of features / variables\n",
        "    if feature_matrix.iloc[:,i].isna().sum() >= nan :\n",
        "      drop_columns.append( feature_matrix.columns[i] )          ## if nan values in a feature column more than max_nan, then store that variable name in the list\n",
        "  feature_matrix_new = feature_matrix.drop(drop_columns, axis = 1)     ## construct new feature_matrix after removing the strored feature column headings from the feature data\n",
        "  return feature_matrix_new , drop_columns"
      ]
    },
    {
      "cell_type": "code",
      "execution_count": null,
      "metadata": {
        "id": "I7Vkm4lPgWP-"
      },
      "outputs": [],
      "source": [
        "features_data_new ,dropped_columns = drop_nan_value_features(features_data , max_nan)         ## these two variabes store the new feature_matrix and dropped features column's headings respectively"
      ]
    },
    {
      "cell_type": "code",
      "execution_count": null,
      "metadata": {
        "colab": {
          "base_uri": "https://localhost:8080/",
          "height": 424
        },
        "id": "Ma_O8eKcl3jv",
        "outputId": "fd751375-f213-48b9-9088-23474af96485"
      },
      "outputs": [
        {
          "data": {
            "text/html": [
              "\n",
              "  <div id=\"df-acc4e57b-b30d-432f-bbbc-a421d1d9aaa5\">\n",
              "    <div class=\"colab-df-container\">\n",
              "      <div>\n",
              "<style scoped>\n",
              "    .dataframe tbody tr th:only-of-type {\n",
              "        vertical-align: middle;\n",
              "    }\n",
              "\n",
              "    .dataframe tbody tr th {\n",
              "        vertical-align: top;\n",
              "    }\n",
              "\n",
              "    .dataframe thead th {\n",
              "        text-align: right;\n",
              "    }\n",
              "</style>\n",
              "<table border=\"1\" class=\"dataframe\">\n",
              "  <thead>\n",
              "    <tr style=\"text-align: right;\">\n",
              "      <th></th>\n",
              "      <th>DYRK1A_N</th>\n",
              "      <th>ITSN1_N</th>\n",
              "      <th>BDNF_N</th>\n",
              "      <th>NR1_N</th>\n",
              "      <th>NR2A_N</th>\n",
              "      <th>pAKT_N</th>\n",
              "      <th>pBRAF_N</th>\n",
              "      <th>pCAMKII_N</th>\n",
              "      <th>pCREB_N</th>\n",
              "      <th>pELK_N</th>\n",
              "      <th>...</th>\n",
              "      <th>pCASP9_N</th>\n",
              "      <th>PSD95_N</th>\n",
              "      <th>SNCA_N</th>\n",
              "      <th>Ubiquitin_N</th>\n",
              "      <th>pGSK3B_Tyr216_N</th>\n",
              "      <th>SHH_N</th>\n",
              "      <th>pS6_N</th>\n",
              "      <th>pCFOS_N</th>\n",
              "      <th>SYP_N</th>\n",
              "      <th>CaNA_N</th>\n",
              "    </tr>\n",
              "  </thead>\n",
              "  <tbody>\n",
              "    <tr>\n",
              "      <th>0</th>\n",
              "      <td>0.503644</td>\n",
              "      <td>0.747193</td>\n",
              "      <td>0.430175</td>\n",
              "      <td>2.816329</td>\n",
              "      <td>5.990152</td>\n",
              "      <td>0.218830</td>\n",
              "      <td>0.177565</td>\n",
              "      <td>2.373744</td>\n",
              "      <td>0.232224</td>\n",
              "      <td>1.750936</td>\n",
              "      <td>...</td>\n",
              "      <td>1.603310</td>\n",
              "      <td>2.014875</td>\n",
              "      <td>0.108234</td>\n",
              "      <td>1.044979</td>\n",
              "      <td>0.831557</td>\n",
              "      <td>0.188852</td>\n",
              "      <td>0.106305</td>\n",
              "      <td>0.108336</td>\n",
              "      <td>0.427099</td>\n",
              "      <td>1.675652</td>\n",
              "    </tr>\n",
              "    <tr>\n",
              "      <th>1</th>\n",
              "      <td>0.514617</td>\n",
              "      <td>0.689064</td>\n",
              "      <td>0.411770</td>\n",
              "      <td>2.789514</td>\n",
              "      <td>5.685038</td>\n",
              "      <td>0.211636</td>\n",
              "      <td>0.172817</td>\n",
              "      <td>2.292150</td>\n",
              "      <td>0.226972</td>\n",
              "      <td>1.596377</td>\n",
              "      <td>...</td>\n",
              "      <td>1.671738</td>\n",
              "      <td>2.004605</td>\n",
              "      <td>0.109749</td>\n",
              "      <td>1.009883</td>\n",
              "      <td>0.849270</td>\n",
              "      <td>0.200404</td>\n",
              "      <td>0.106592</td>\n",
              "      <td>0.104315</td>\n",
              "      <td>0.441581</td>\n",
              "      <td>1.743610</td>\n",
              "    </tr>\n",
              "    <tr>\n",
              "      <th>2</th>\n",
              "      <td>0.509183</td>\n",
              "      <td>0.730247</td>\n",
              "      <td>0.418309</td>\n",
              "      <td>2.687201</td>\n",
              "      <td>5.622059</td>\n",
              "      <td>0.209011</td>\n",
              "      <td>0.175722</td>\n",
              "      <td>2.283337</td>\n",
              "      <td>0.230247</td>\n",
              "      <td>1.561316</td>\n",
              "      <td>...</td>\n",
              "      <td>1.663550</td>\n",
              "      <td>2.016831</td>\n",
              "      <td>0.108196</td>\n",
              "      <td>0.996848</td>\n",
              "      <td>0.846709</td>\n",
              "      <td>0.193685</td>\n",
              "      <td>0.108303</td>\n",
              "      <td>0.106219</td>\n",
              "      <td>0.435777</td>\n",
              "      <td>1.926427</td>\n",
              "    </tr>\n",
              "    <tr>\n",
              "      <th>3</th>\n",
              "      <td>0.442107</td>\n",
              "      <td>0.617076</td>\n",
              "      <td>0.358626</td>\n",
              "      <td>2.466947</td>\n",
              "      <td>4.979503</td>\n",
              "      <td>0.222886</td>\n",
              "      <td>0.176463</td>\n",
              "      <td>2.152301</td>\n",
              "      <td>0.207004</td>\n",
              "      <td>1.595086</td>\n",
              "      <td>...</td>\n",
              "      <td>1.484624</td>\n",
              "      <td>1.957233</td>\n",
              "      <td>0.119883</td>\n",
              "      <td>0.990225</td>\n",
              "      <td>0.833277</td>\n",
              "      <td>0.192112</td>\n",
              "      <td>0.103184</td>\n",
              "      <td>0.111262</td>\n",
              "      <td>0.391691</td>\n",
              "      <td>1.700563</td>\n",
              "    </tr>\n",
              "    <tr>\n",
              "      <th>4</th>\n",
              "      <td>0.434940</td>\n",
              "      <td>0.617430</td>\n",
              "      <td>0.358802</td>\n",
              "      <td>2.365785</td>\n",
              "      <td>4.718679</td>\n",
              "      <td>0.213106</td>\n",
              "      <td>0.173627</td>\n",
              "      <td>2.134014</td>\n",
              "      <td>0.192158</td>\n",
              "      <td>1.504230</td>\n",
              "      <td>...</td>\n",
              "      <td>1.534835</td>\n",
              "      <td>2.009109</td>\n",
              "      <td>0.119524</td>\n",
              "      <td>0.997775</td>\n",
              "      <td>0.878668</td>\n",
              "      <td>0.205604</td>\n",
              "      <td>0.104784</td>\n",
              "      <td>0.110694</td>\n",
              "      <td>0.434154</td>\n",
              "      <td>1.839730</td>\n",
              "    </tr>\n",
              "    <tr>\n",
              "      <th>...</th>\n",
              "      <td>...</td>\n",
              "      <td>...</td>\n",
              "      <td>...</td>\n",
              "      <td>...</td>\n",
              "      <td>...</td>\n",
              "      <td>...</td>\n",
              "      <td>...</td>\n",
              "      <td>...</td>\n",
              "      <td>...</td>\n",
              "      <td>...</td>\n",
              "      <td>...</td>\n",
              "      <td>...</td>\n",
              "      <td>...</td>\n",
              "      <td>...</td>\n",
              "      <td>...</td>\n",
              "      <td>...</td>\n",
              "      <td>...</td>\n",
              "      <td>...</td>\n",
              "      <td>...</td>\n",
              "      <td>...</td>\n",
              "      <td>...</td>\n",
              "    </tr>\n",
              "    <tr>\n",
              "      <th>757</th>\n",
              "      <td>0.394169</td>\n",
              "      <td>0.623696</td>\n",
              "      <td>0.316564</td>\n",
              "      <td>2.104045</td>\n",
              "      <td>3.314706</td>\n",
              "      <td>0.234529</td>\n",
              "      <td>0.200657</td>\n",
              "      <td>3.208804</td>\n",
              "      <td>0.221809</td>\n",
              "      <td>1.218951</td>\n",
              "      <td>...</td>\n",
              "      <td>1.622850</td>\n",
              "      <td>2.236925</td>\n",
              "      <td>0.149263</td>\n",
              "      <td>1.136276</td>\n",
              "      <td>1.001404</td>\n",
              "      <td>0.216128</td>\n",
              "      <td>0.119428</td>\n",
              "      <td>0.115567</td>\n",
              "      <td>0.441207</td>\n",
              "      <td>1.474465</td>\n",
              "    </tr>\n",
              "    <tr>\n",
              "      <th>758</th>\n",
              "      <td>0.401739</td>\n",
              "      <td>0.659571</td>\n",
              "      <td>0.321841</td>\n",
              "      <td>2.183930</td>\n",
              "      <td>3.411782</td>\n",
              "      <td>0.236546</td>\n",
              "      <td>0.190826</td>\n",
              "      <td>3.384350</td>\n",
              "      <td>0.231899</td>\n",
              "      <td>1.250487</td>\n",
              "      <td>...</td>\n",
              "      <td>1.657617</td>\n",
              "      <td>2.274556</td>\n",
              "      <td>0.154894</td>\n",
              "      <td>1.154191</td>\n",
              "      <td>1.043402</td>\n",
              "      <td>0.209717</td>\n",
              "      <td>0.118081</td>\n",
              "      <td>0.108944</td>\n",
              "      <td>0.444913</td>\n",
              "      <td>1.516605</td>\n",
              "    </tr>\n",
              "    <tr>\n",
              "      <th>759</th>\n",
              "      <td>0.382182</td>\n",
              "      <td>0.586545</td>\n",
              "      <td>0.318545</td>\n",
              "      <td>2.072000</td>\n",
              "      <td>3.073636</td>\n",
              "      <td>0.259636</td>\n",
              "      <td>0.202727</td>\n",
              "      <td>3.006364</td>\n",
              "      <td>0.223455</td>\n",
              "      <td>1.248727</td>\n",
              "      <td>...</td>\n",
              "      <td>1.504094</td>\n",
              "      <td>2.107139</td>\n",
              "      <td>0.153154</td>\n",
              "      <td>1.195479</td>\n",
              "      <td>0.948795</td>\n",
              "      <td>0.211279</td>\n",
              "      <td>0.116134</td>\n",
              "      <td>0.114635</td>\n",
              "      <td>0.422789</td>\n",
              "      <td>1.433514</td>\n",
              "    </tr>\n",
              "    <tr>\n",
              "      <th>760</th>\n",
              "      <td>0.365622</td>\n",
              "      <td>0.572209</td>\n",
              "      <td>0.297992</td>\n",
              "      <td>2.004931</td>\n",
              "      <td>2.783551</td>\n",
              "      <td>0.245333</td>\n",
              "      <td>0.190384</td>\n",
              "      <td>2.948221</td>\n",
              "      <td>0.217506</td>\n",
              "      <td>1.177527</td>\n",
              "      <td>...</td>\n",
              "      <td>1.568203</td>\n",
              "      <td>2.212959</td>\n",
              "      <td>0.154868</td>\n",
              "      <td>1.213194</td>\n",
              "      <td>0.995884</td>\n",
              "      <td>0.197436</td>\n",
              "      <td>0.120649</td>\n",
              "      <td>0.120649</td>\n",
              "      <td>0.459901</td>\n",
              "      <td>1.543274</td>\n",
              "    </tr>\n",
              "    <tr>\n",
              "      <th>761</th>\n",
              "      <td>0.365605</td>\n",
              "      <td>0.599499</td>\n",
              "      <td>0.301539</td>\n",
              "      <td>2.062813</td>\n",
              "      <td>2.952577</td>\n",
              "      <td>0.248568</td>\n",
              "      <td>0.198819</td>\n",
              "      <td>3.069435</td>\n",
              "      <td>0.226736</td>\n",
              "      <td>1.220472</td>\n",
              "      <td>...</td>\n",
              "      <td>1.694039</td>\n",
              "      <td>2.293512</td>\n",
              "      <td>0.155016</td>\n",
              "      <td>1.284654</td>\n",
              "      <td>1.031482</td>\n",
              "      <td>0.225640</td>\n",
              "      <td>0.121738</td>\n",
              "      <td>0.110486</td>\n",
              "      <td>0.424228</td>\n",
              "      <td>1.520110</td>\n",
              "    </tr>\n",
              "  </tbody>\n",
              "</table>\n",
              "<p>762 rows × 72 columns</p>\n",
              "</div>\n",
              "      <button class=\"colab-df-convert\" onclick=\"convertToInteractive('df-acc4e57b-b30d-432f-bbbc-a421d1d9aaa5')\"\n",
              "              title=\"Convert this dataframe to an interactive table.\"\n",
              "              style=\"display:none;\">\n",
              "        \n",
              "  <svg xmlns=\"http://www.w3.org/2000/svg\" height=\"24px\"viewBox=\"0 0 24 24\"\n",
              "       width=\"24px\">\n",
              "    <path d=\"M0 0h24v24H0V0z\" fill=\"none\"/>\n",
              "    <path d=\"M18.56 5.44l.94 2.06.94-2.06 2.06-.94-2.06-.94-.94-2.06-.94 2.06-2.06.94zm-11 1L8.5 8.5l.94-2.06 2.06-.94-2.06-.94L8.5 2.5l-.94 2.06-2.06.94zm10 10l.94 2.06.94-2.06 2.06-.94-2.06-.94-.94-2.06-.94 2.06-2.06.94z\"/><path d=\"M17.41 7.96l-1.37-1.37c-.4-.4-.92-.59-1.43-.59-.52 0-1.04.2-1.43.59L10.3 9.45l-7.72 7.72c-.78.78-.78 2.05 0 2.83L4 21.41c.39.39.9.59 1.41.59.51 0 1.02-.2 1.41-.59l7.78-7.78 2.81-2.81c.8-.78.8-2.07 0-2.86zM5.41 20L4 18.59l7.72-7.72 1.47 1.35L5.41 20z\"/>\n",
              "  </svg>\n",
              "      </button>\n",
              "      \n",
              "  <style>\n",
              "    .colab-df-container {\n",
              "      display:flex;\n",
              "      flex-wrap:wrap;\n",
              "      gap: 12px;\n",
              "    }\n",
              "\n",
              "    .colab-df-convert {\n",
              "      background-color: #E8F0FE;\n",
              "      border: none;\n",
              "      border-radius: 50%;\n",
              "      cursor: pointer;\n",
              "      display: none;\n",
              "      fill: #1967D2;\n",
              "      height: 32px;\n",
              "      padding: 0 0 0 0;\n",
              "      width: 32px;\n",
              "    }\n",
              "\n",
              "    .colab-df-convert:hover {\n",
              "      background-color: #E2EBFA;\n",
              "      box-shadow: 0px 1px 2px rgba(60, 64, 67, 0.3), 0px 1px 3px 1px rgba(60, 64, 67, 0.15);\n",
              "      fill: #174EA6;\n",
              "    }\n",
              "\n",
              "    [theme=dark] .colab-df-convert {\n",
              "      background-color: #3B4455;\n",
              "      fill: #D2E3FC;\n",
              "    }\n",
              "\n",
              "    [theme=dark] .colab-df-convert:hover {\n",
              "      background-color: #434B5C;\n",
              "      box-shadow: 0px 1px 3px 1px rgba(0, 0, 0, 0.15);\n",
              "      filter: drop-shadow(0px 1px 2px rgba(0, 0, 0, 0.3));\n",
              "      fill: #FFFFFF;\n",
              "    }\n",
              "  </style>\n",
              "\n",
              "      <script>\n",
              "        const buttonEl =\n",
              "          document.querySelector('#df-acc4e57b-b30d-432f-bbbc-a421d1d9aaa5 button.colab-df-convert');\n",
              "        buttonEl.style.display =\n",
              "          google.colab.kernel.accessAllowed ? 'block' : 'none';\n",
              "\n",
              "        async function convertToInteractive(key) {\n",
              "          const element = document.querySelector('#df-acc4e57b-b30d-432f-bbbc-a421d1d9aaa5');\n",
              "          const dataTable =\n",
              "            await google.colab.kernel.invokeFunction('convertToInteractive',\n",
              "                                                     [key], {});\n",
              "          if (!dataTable) return;\n",
              "\n",
              "          const docLinkHtml = 'Like what you see? Visit the ' +\n",
              "            '<a target=\"_blank\" href=https://colab.research.google.com/notebooks/data_table.ipynb>data table notebook</a>'\n",
              "            + ' to learn more about interactive tables.';\n",
              "          element.innerHTML = '';\n",
              "          dataTable['output_type'] = 'display_data';\n",
              "          await google.colab.output.renderOutput(dataTable, element);\n",
              "          const docLink = document.createElement('div');\n",
              "          docLink.innerHTML = docLinkHtml;\n",
              "          element.appendChild(docLink);\n",
              "        }\n",
              "      </script>\n",
              "    </div>\n",
              "  </div>\n",
              "  "
            ],
            "text/plain": [
              "     DYRK1A_N   ITSN1_N    BDNF_N     NR1_N    NR2A_N    pAKT_N   pBRAF_N  \\\n",
              "0    0.503644  0.747193  0.430175  2.816329  5.990152  0.218830  0.177565   \n",
              "1    0.514617  0.689064  0.411770  2.789514  5.685038  0.211636  0.172817   \n",
              "2    0.509183  0.730247  0.418309  2.687201  5.622059  0.209011  0.175722   \n",
              "3    0.442107  0.617076  0.358626  2.466947  4.979503  0.222886  0.176463   \n",
              "4    0.434940  0.617430  0.358802  2.365785  4.718679  0.213106  0.173627   \n",
              "..        ...       ...       ...       ...       ...       ...       ...   \n",
              "757  0.394169  0.623696  0.316564  2.104045  3.314706  0.234529  0.200657   \n",
              "758  0.401739  0.659571  0.321841  2.183930  3.411782  0.236546  0.190826   \n",
              "759  0.382182  0.586545  0.318545  2.072000  3.073636  0.259636  0.202727   \n",
              "760  0.365622  0.572209  0.297992  2.004931  2.783551  0.245333  0.190384   \n",
              "761  0.365605  0.599499  0.301539  2.062813  2.952577  0.248568  0.198819   \n",
              "\n",
              "     pCAMKII_N   pCREB_N    pELK_N  ...  pCASP9_N   PSD95_N    SNCA_N  \\\n",
              "0     2.373744  0.232224  1.750936  ...  1.603310  2.014875  0.108234   \n",
              "1     2.292150  0.226972  1.596377  ...  1.671738  2.004605  0.109749   \n",
              "2     2.283337  0.230247  1.561316  ...  1.663550  2.016831  0.108196   \n",
              "3     2.152301  0.207004  1.595086  ...  1.484624  1.957233  0.119883   \n",
              "4     2.134014  0.192158  1.504230  ...  1.534835  2.009109  0.119524   \n",
              "..         ...       ...       ...  ...       ...       ...       ...   \n",
              "757   3.208804  0.221809  1.218951  ...  1.622850  2.236925  0.149263   \n",
              "758   3.384350  0.231899  1.250487  ...  1.657617  2.274556  0.154894   \n",
              "759   3.006364  0.223455  1.248727  ...  1.504094  2.107139  0.153154   \n",
              "760   2.948221  0.217506  1.177527  ...  1.568203  2.212959  0.154868   \n",
              "761   3.069435  0.226736  1.220472  ...  1.694039  2.293512  0.155016   \n",
              "\n",
              "     Ubiquitin_N  pGSK3B_Tyr216_N     SHH_N     pS6_N   pCFOS_N     SYP_N  \\\n",
              "0       1.044979         0.831557  0.188852  0.106305  0.108336  0.427099   \n",
              "1       1.009883         0.849270  0.200404  0.106592  0.104315  0.441581   \n",
              "2       0.996848         0.846709  0.193685  0.108303  0.106219  0.435777   \n",
              "3       0.990225         0.833277  0.192112  0.103184  0.111262  0.391691   \n",
              "4       0.997775         0.878668  0.205604  0.104784  0.110694  0.434154   \n",
              "..           ...              ...       ...       ...       ...       ...   \n",
              "757     1.136276         1.001404  0.216128  0.119428  0.115567  0.441207   \n",
              "758     1.154191         1.043402  0.209717  0.118081  0.108944  0.444913   \n",
              "759     1.195479         0.948795  0.211279  0.116134  0.114635  0.422789   \n",
              "760     1.213194         0.995884  0.197436  0.120649  0.120649  0.459901   \n",
              "761     1.284654         1.031482  0.225640  0.121738  0.110486  0.424228   \n",
              "\n",
              "       CaNA_N  \n",
              "0    1.675652  \n",
              "1    1.743610  \n",
              "2    1.926427  \n",
              "3    1.700563  \n",
              "4    1.839730  \n",
              "..        ...  \n",
              "757  1.474465  \n",
              "758  1.516605  \n",
              "759  1.433514  \n",
              "760  1.543274  \n",
              "761  1.520110  \n",
              "\n",
              "[762 rows x 72 columns]"
            ]
          },
          "execution_count": 373,
          "metadata": {},
          "output_type": "execute_result"
        }
      ],
      "source": [
        "features_data_new"
      ]
    },
    {
      "cell_type": "code",
      "execution_count": null,
      "metadata": {
        "colab": {
          "base_uri": "https://localhost:8080/"
        },
        "id": "ii6wN8tygxHA",
        "outputId": "6891705f-6f5c-43ea-b972-9cfd5dddd287"
      },
      "outputs": [
        {
          "data": {
            "text/plain": [
              "(762, 72)"
            ]
          },
          "execution_count": 374,
          "metadata": {},
          "output_type": "execute_result"
        }
      ],
      "source": [
        "features_data_new.shape"
      ]
    },
    {
      "cell_type": "code",
      "execution_count": null,
      "metadata": {
        "colab": {
          "base_uri": "https://localhost:8080/"
        },
        "id": "2z0Uevcwh-OO",
        "outputId": "d15488bb-2b1c-4748-a9db-159eca7ce510"
      },
      "outputs": [
        {
          "name": "stdout",
          "output_type": "stream",
          "text": [
            "name of the dropped columns are :  ['BAD_N', 'BCL2_N', 'H3AcK18_N', 'EGR1_N', 'H3MeK4_N']\n"
          ]
        }
      ],
      "source": [
        "print('name of the dropped columns are : ' , dropped_columns)   "
      ]
    },
    {
      "cell_type": "markdown",
      "metadata": {
        "id": "Qk2f5qxJBGjT"
      },
      "source": [
        "Question 3 : Filling nan values using multivariate feature imputation"
      ]
    },
    {
      "cell_type": "code",
      "execution_count": null,
      "metadata": {
        "id": "Ip7d8uYj4N4p"
      },
      "outputs": [],
      "source": [
        "imputer = IterativeImputer(max_iter=10, random_state=0)        ## define multivariate feature imputation with maximum iteration of 10\n",
        "imputer.fit( features_data_new )                               ## fit on the new training feature matrix\n",
        "features = imputer.transform(features_data_new)                ## transform the training features and filling up the nan values by imputation"
      ]
    },
    {
      "cell_type": "code",
      "execution_count": null,
      "metadata": {
        "id": "wdzG9XI8BwAT"
      },
      "outputs": [],
      "source": [
        "features = pd.DataFrame(features , columns = features_data_new.columns)     ## This DataFrame stores the training features after using imputation"
      ]
    },
    {
      "cell_type": "code",
      "execution_count": null,
      "metadata": {
        "colab": {
          "base_uri": "https://localhost:8080/",
          "height": 424
        },
        "id": "nQgC2PzjByVa",
        "outputId": "67d06aac-325a-4581-d429-2b6ab66dcf02"
      },
      "outputs": [
        {
          "data": {
            "text/html": [
              "\n",
              "  <div id=\"df-23dd3d18-f995-433a-9b88-85c82e6a9bdd\">\n",
              "    <div class=\"colab-df-container\">\n",
              "      <div>\n",
              "<style scoped>\n",
              "    .dataframe tbody tr th:only-of-type {\n",
              "        vertical-align: middle;\n",
              "    }\n",
              "\n",
              "    .dataframe tbody tr th {\n",
              "        vertical-align: top;\n",
              "    }\n",
              "\n",
              "    .dataframe thead th {\n",
              "        text-align: right;\n",
              "    }\n",
              "</style>\n",
              "<table border=\"1\" class=\"dataframe\">\n",
              "  <thead>\n",
              "    <tr style=\"text-align: right;\">\n",
              "      <th></th>\n",
              "      <th>DYRK1A_N</th>\n",
              "      <th>ITSN1_N</th>\n",
              "      <th>BDNF_N</th>\n",
              "      <th>NR1_N</th>\n",
              "      <th>NR2A_N</th>\n",
              "      <th>pAKT_N</th>\n",
              "      <th>pBRAF_N</th>\n",
              "      <th>pCAMKII_N</th>\n",
              "      <th>pCREB_N</th>\n",
              "      <th>pELK_N</th>\n",
              "      <th>...</th>\n",
              "      <th>pCASP9_N</th>\n",
              "      <th>PSD95_N</th>\n",
              "      <th>SNCA_N</th>\n",
              "      <th>Ubiquitin_N</th>\n",
              "      <th>pGSK3B_Tyr216_N</th>\n",
              "      <th>SHH_N</th>\n",
              "      <th>pS6_N</th>\n",
              "      <th>pCFOS_N</th>\n",
              "      <th>SYP_N</th>\n",
              "      <th>CaNA_N</th>\n",
              "    </tr>\n",
              "  </thead>\n",
              "  <tbody>\n",
              "    <tr>\n",
              "      <th>0</th>\n",
              "      <td>0.503644</td>\n",
              "      <td>0.747193</td>\n",
              "      <td>0.430175</td>\n",
              "      <td>2.816329</td>\n",
              "      <td>5.990152</td>\n",
              "      <td>0.218830</td>\n",
              "      <td>0.177565</td>\n",
              "      <td>2.373744</td>\n",
              "      <td>0.232224</td>\n",
              "      <td>1.750936</td>\n",
              "      <td>...</td>\n",
              "      <td>1.603310</td>\n",
              "      <td>2.014875</td>\n",
              "      <td>0.108234</td>\n",
              "      <td>1.044979</td>\n",
              "      <td>0.831557</td>\n",
              "      <td>0.188852</td>\n",
              "      <td>0.106305</td>\n",
              "      <td>0.108336</td>\n",
              "      <td>0.427099</td>\n",
              "      <td>1.675652</td>\n",
              "    </tr>\n",
              "    <tr>\n",
              "      <th>1</th>\n",
              "      <td>0.514617</td>\n",
              "      <td>0.689064</td>\n",
              "      <td>0.411770</td>\n",
              "      <td>2.789514</td>\n",
              "      <td>5.685038</td>\n",
              "      <td>0.211636</td>\n",
              "      <td>0.172817</td>\n",
              "      <td>2.292150</td>\n",
              "      <td>0.226972</td>\n",
              "      <td>1.596377</td>\n",
              "      <td>...</td>\n",
              "      <td>1.671738</td>\n",
              "      <td>2.004605</td>\n",
              "      <td>0.109749</td>\n",
              "      <td>1.009883</td>\n",
              "      <td>0.849270</td>\n",
              "      <td>0.200404</td>\n",
              "      <td>0.106592</td>\n",
              "      <td>0.104315</td>\n",
              "      <td>0.441581</td>\n",
              "      <td>1.743610</td>\n",
              "    </tr>\n",
              "    <tr>\n",
              "      <th>2</th>\n",
              "      <td>0.509183</td>\n",
              "      <td>0.730247</td>\n",
              "      <td>0.418309</td>\n",
              "      <td>2.687201</td>\n",
              "      <td>5.622059</td>\n",
              "      <td>0.209011</td>\n",
              "      <td>0.175722</td>\n",
              "      <td>2.283337</td>\n",
              "      <td>0.230247</td>\n",
              "      <td>1.561316</td>\n",
              "      <td>...</td>\n",
              "      <td>1.663550</td>\n",
              "      <td>2.016831</td>\n",
              "      <td>0.108196</td>\n",
              "      <td>0.996848</td>\n",
              "      <td>0.846709</td>\n",
              "      <td>0.193685</td>\n",
              "      <td>0.108303</td>\n",
              "      <td>0.106219</td>\n",
              "      <td>0.435777</td>\n",
              "      <td>1.926427</td>\n",
              "    </tr>\n",
              "    <tr>\n",
              "      <th>3</th>\n",
              "      <td>0.442107</td>\n",
              "      <td>0.617076</td>\n",
              "      <td>0.358626</td>\n",
              "      <td>2.466947</td>\n",
              "      <td>4.979503</td>\n",
              "      <td>0.222886</td>\n",
              "      <td>0.176463</td>\n",
              "      <td>2.152301</td>\n",
              "      <td>0.207004</td>\n",
              "      <td>1.595086</td>\n",
              "      <td>...</td>\n",
              "      <td>1.484624</td>\n",
              "      <td>1.957233</td>\n",
              "      <td>0.119883</td>\n",
              "      <td>0.990225</td>\n",
              "      <td>0.833277</td>\n",
              "      <td>0.192112</td>\n",
              "      <td>0.103184</td>\n",
              "      <td>0.111262</td>\n",
              "      <td>0.391691</td>\n",
              "      <td>1.700563</td>\n",
              "    </tr>\n",
              "    <tr>\n",
              "      <th>4</th>\n",
              "      <td>0.434940</td>\n",
              "      <td>0.617430</td>\n",
              "      <td>0.358802</td>\n",
              "      <td>2.365785</td>\n",
              "      <td>4.718679</td>\n",
              "      <td>0.213106</td>\n",
              "      <td>0.173627</td>\n",
              "      <td>2.134014</td>\n",
              "      <td>0.192158</td>\n",
              "      <td>1.504230</td>\n",
              "      <td>...</td>\n",
              "      <td>1.534835</td>\n",
              "      <td>2.009109</td>\n",
              "      <td>0.119524</td>\n",
              "      <td>0.997775</td>\n",
              "      <td>0.878668</td>\n",
              "      <td>0.205604</td>\n",
              "      <td>0.104784</td>\n",
              "      <td>0.110694</td>\n",
              "      <td>0.434154</td>\n",
              "      <td>1.839730</td>\n",
              "    </tr>\n",
              "    <tr>\n",
              "      <th>...</th>\n",
              "      <td>...</td>\n",
              "      <td>...</td>\n",
              "      <td>...</td>\n",
              "      <td>...</td>\n",
              "      <td>...</td>\n",
              "      <td>...</td>\n",
              "      <td>...</td>\n",
              "      <td>...</td>\n",
              "      <td>...</td>\n",
              "      <td>...</td>\n",
              "      <td>...</td>\n",
              "      <td>...</td>\n",
              "      <td>...</td>\n",
              "      <td>...</td>\n",
              "      <td>...</td>\n",
              "      <td>...</td>\n",
              "      <td>...</td>\n",
              "      <td>...</td>\n",
              "      <td>...</td>\n",
              "      <td>...</td>\n",
              "      <td>...</td>\n",
              "    </tr>\n",
              "    <tr>\n",
              "      <th>757</th>\n",
              "      <td>0.394169</td>\n",
              "      <td>0.623696</td>\n",
              "      <td>0.316564</td>\n",
              "      <td>2.104045</td>\n",
              "      <td>3.314706</td>\n",
              "      <td>0.234529</td>\n",
              "      <td>0.200657</td>\n",
              "      <td>3.208804</td>\n",
              "      <td>0.221809</td>\n",
              "      <td>1.218951</td>\n",
              "      <td>...</td>\n",
              "      <td>1.622850</td>\n",
              "      <td>2.236925</td>\n",
              "      <td>0.149263</td>\n",
              "      <td>1.136276</td>\n",
              "      <td>1.001404</td>\n",
              "      <td>0.216128</td>\n",
              "      <td>0.119428</td>\n",
              "      <td>0.115567</td>\n",
              "      <td>0.441207</td>\n",
              "      <td>1.474465</td>\n",
              "    </tr>\n",
              "    <tr>\n",
              "      <th>758</th>\n",
              "      <td>0.401739</td>\n",
              "      <td>0.659571</td>\n",
              "      <td>0.321841</td>\n",
              "      <td>2.183930</td>\n",
              "      <td>3.411782</td>\n",
              "      <td>0.236546</td>\n",
              "      <td>0.190826</td>\n",
              "      <td>3.384350</td>\n",
              "      <td>0.231899</td>\n",
              "      <td>1.250487</td>\n",
              "      <td>...</td>\n",
              "      <td>1.657617</td>\n",
              "      <td>2.274556</td>\n",
              "      <td>0.154894</td>\n",
              "      <td>1.154191</td>\n",
              "      <td>1.043402</td>\n",
              "      <td>0.209717</td>\n",
              "      <td>0.118081</td>\n",
              "      <td>0.108944</td>\n",
              "      <td>0.444913</td>\n",
              "      <td>1.516605</td>\n",
              "    </tr>\n",
              "    <tr>\n",
              "      <th>759</th>\n",
              "      <td>0.382182</td>\n",
              "      <td>0.586545</td>\n",
              "      <td>0.318545</td>\n",
              "      <td>2.072000</td>\n",
              "      <td>3.073636</td>\n",
              "      <td>0.259636</td>\n",
              "      <td>0.202727</td>\n",
              "      <td>3.006364</td>\n",
              "      <td>0.223455</td>\n",
              "      <td>1.248727</td>\n",
              "      <td>...</td>\n",
              "      <td>1.504094</td>\n",
              "      <td>2.107139</td>\n",
              "      <td>0.153154</td>\n",
              "      <td>1.195479</td>\n",
              "      <td>0.948795</td>\n",
              "      <td>0.211279</td>\n",
              "      <td>0.116134</td>\n",
              "      <td>0.114635</td>\n",
              "      <td>0.422789</td>\n",
              "      <td>1.433514</td>\n",
              "    </tr>\n",
              "    <tr>\n",
              "      <th>760</th>\n",
              "      <td>0.365622</td>\n",
              "      <td>0.572209</td>\n",
              "      <td>0.297992</td>\n",
              "      <td>2.004931</td>\n",
              "      <td>2.783551</td>\n",
              "      <td>0.245333</td>\n",
              "      <td>0.190384</td>\n",
              "      <td>2.948221</td>\n",
              "      <td>0.217506</td>\n",
              "      <td>1.177527</td>\n",
              "      <td>...</td>\n",
              "      <td>1.568203</td>\n",
              "      <td>2.212959</td>\n",
              "      <td>0.154868</td>\n",
              "      <td>1.213194</td>\n",
              "      <td>0.995884</td>\n",
              "      <td>0.197436</td>\n",
              "      <td>0.120649</td>\n",
              "      <td>0.120649</td>\n",
              "      <td>0.459901</td>\n",
              "      <td>1.543274</td>\n",
              "    </tr>\n",
              "    <tr>\n",
              "      <th>761</th>\n",
              "      <td>0.365605</td>\n",
              "      <td>0.599499</td>\n",
              "      <td>0.301539</td>\n",
              "      <td>2.062813</td>\n",
              "      <td>2.952577</td>\n",
              "      <td>0.248568</td>\n",
              "      <td>0.198819</td>\n",
              "      <td>3.069435</td>\n",
              "      <td>0.226736</td>\n",
              "      <td>1.220472</td>\n",
              "      <td>...</td>\n",
              "      <td>1.694039</td>\n",
              "      <td>2.293512</td>\n",
              "      <td>0.155016</td>\n",
              "      <td>1.284654</td>\n",
              "      <td>1.031482</td>\n",
              "      <td>0.225640</td>\n",
              "      <td>0.121738</td>\n",
              "      <td>0.110486</td>\n",
              "      <td>0.424228</td>\n",
              "      <td>1.520110</td>\n",
              "    </tr>\n",
              "  </tbody>\n",
              "</table>\n",
              "<p>762 rows × 72 columns</p>\n",
              "</div>\n",
              "      <button class=\"colab-df-convert\" onclick=\"convertToInteractive('df-23dd3d18-f995-433a-9b88-85c82e6a9bdd')\"\n",
              "              title=\"Convert this dataframe to an interactive table.\"\n",
              "              style=\"display:none;\">\n",
              "        \n",
              "  <svg xmlns=\"http://www.w3.org/2000/svg\" height=\"24px\"viewBox=\"0 0 24 24\"\n",
              "       width=\"24px\">\n",
              "    <path d=\"M0 0h24v24H0V0z\" fill=\"none\"/>\n",
              "    <path d=\"M18.56 5.44l.94 2.06.94-2.06 2.06-.94-2.06-.94-.94-2.06-.94 2.06-2.06.94zm-11 1L8.5 8.5l.94-2.06 2.06-.94-2.06-.94L8.5 2.5l-.94 2.06-2.06.94zm10 10l.94 2.06.94-2.06 2.06-.94-2.06-.94-.94-2.06-.94 2.06-2.06.94z\"/><path d=\"M17.41 7.96l-1.37-1.37c-.4-.4-.92-.59-1.43-.59-.52 0-1.04.2-1.43.59L10.3 9.45l-7.72 7.72c-.78.78-.78 2.05 0 2.83L4 21.41c.39.39.9.59 1.41.59.51 0 1.02-.2 1.41-.59l7.78-7.78 2.81-2.81c.8-.78.8-2.07 0-2.86zM5.41 20L4 18.59l7.72-7.72 1.47 1.35L5.41 20z\"/>\n",
              "  </svg>\n",
              "      </button>\n",
              "      \n",
              "  <style>\n",
              "    .colab-df-container {\n",
              "      display:flex;\n",
              "      flex-wrap:wrap;\n",
              "      gap: 12px;\n",
              "    }\n",
              "\n",
              "    .colab-df-convert {\n",
              "      background-color: #E8F0FE;\n",
              "      border: none;\n",
              "      border-radius: 50%;\n",
              "      cursor: pointer;\n",
              "      display: none;\n",
              "      fill: #1967D2;\n",
              "      height: 32px;\n",
              "      padding: 0 0 0 0;\n",
              "      width: 32px;\n",
              "    }\n",
              "\n",
              "    .colab-df-convert:hover {\n",
              "      background-color: #E2EBFA;\n",
              "      box-shadow: 0px 1px 2px rgba(60, 64, 67, 0.3), 0px 1px 3px 1px rgba(60, 64, 67, 0.15);\n",
              "      fill: #174EA6;\n",
              "    }\n",
              "\n",
              "    [theme=dark] .colab-df-convert {\n",
              "      background-color: #3B4455;\n",
              "      fill: #D2E3FC;\n",
              "    }\n",
              "\n",
              "    [theme=dark] .colab-df-convert:hover {\n",
              "      background-color: #434B5C;\n",
              "      box-shadow: 0px 1px 3px 1px rgba(0, 0, 0, 0.15);\n",
              "      filter: drop-shadow(0px 1px 2px rgba(0, 0, 0, 0.3));\n",
              "      fill: #FFFFFF;\n",
              "    }\n",
              "  </style>\n",
              "\n",
              "      <script>\n",
              "        const buttonEl =\n",
              "          document.querySelector('#df-23dd3d18-f995-433a-9b88-85c82e6a9bdd button.colab-df-convert');\n",
              "        buttonEl.style.display =\n",
              "          google.colab.kernel.accessAllowed ? 'block' : 'none';\n",
              "\n",
              "        async function convertToInteractive(key) {\n",
              "          const element = document.querySelector('#df-23dd3d18-f995-433a-9b88-85c82e6a9bdd');\n",
              "          const dataTable =\n",
              "            await google.colab.kernel.invokeFunction('convertToInteractive',\n",
              "                                                     [key], {});\n",
              "          if (!dataTable) return;\n",
              "\n",
              "          const docLinkHtml = 'Like what you see? Visit the ' +\n",
              "            '<a target=\"_blank\" href=https://colab.research.google.com/notebooks/data_table.ipynb>data table notebook</a>'\n",
              "            + ' to learn more about interactive tables.';\n",
              "          element.innerHTML = '';\n",
              "          dataTable['output_type'] = 'display_data';\n",
              "          await google.colab.output.renderOutput(dataTable, element);\n",
              "          const docLink = document.createElement('div');\n",
              "          docLink.innerHTML = docLinkHtml;\n",
              "          element.appendChild(docLink);\n",
              "        }\n",
              "      </script>\n",
              "    </div>\n",
              "  </div>\n",
              "  "
            ],
            "text/plain": [
              "     DYRK1A_N   ITSN1_N    BDNF_N     NR1_N    NR2A_N    pAKT_N   pBRAF_N  \\\n",
              "0    0.503644  0.747193  0.430175  2.816329  5.990152  0.218830  0.177565   \n",
              "1    0.514617  0.689064  0.411770  2.789514  5.685038  0.211636  0.172817   \n",
              "2    0.509183  0.730247  0.418309  2.687201  5.622059  0.209011  0.175722   \n",
              "3    0.442107  0.617076  0.358626  2.466947  4.979503  0.222886  0.176463   \n",
              "4    0.434940  0.617430  0.358802  2.365785  4.718679  0.213106  0.173627   \n",
              "..        ...       ...       ...       ...       ...       ...       ...   \n",
              "757  0.394169  0.623696  0.316564  2.104045  3.314706  0.234529  0.200657   \n",
              "758  0.401739  0.659571  0.321841  2.183930  3.411782  0.236546  0.190826   \n",
              "759  0.382182  0.586545  0.318545  2.072000  3.073636  0.259636  0.202727   \n",
              "760  0.365622  0.572209  0.297992  2.004931  2.783551  0.245333  0.190384   \n",
              "761  0.365605  0.599499  0.301539  2.062813  2.952577  0.248568  0.198819   \n",
              "\n",
              "     pCAMKII_N   pCREB_N    pELK_N  ...  pCASP9_N   PSD95_N    SNCA_N  \\\n",
              "0     2.373744  0.232224  1.750936  ...  1.603310  2.014875  0.108234   \n",
              "1     2.292150  0.226972  1.596377  ...  1.671738  2.004605  0.109749   \n",
              "2     2.283337  0.230247  1.561316  ...  1.663550  2.016831  0.108196   \n",
              "3     2.152301  0.207004  1.595086  ...  1.484624  1.957233  0.119883   \n",
              "4     2.134014  0.192158  1.504230  ...  1.534835  2.009109  0.119524   \n",
              "..         ...       ...       ...  ...       ...       ...       ...   \n",
              "757   3.208804  0.221809  1.218951  ...  1.622850  2.236925  0.149263   \n",
              "758   3.384350  0.231899  1.250487  ...  1.657617  2.274556  0.154894   \n",
              "759   3.006364  0.223455  1.248727  ...  1.504094  2.107139  0.153154   \n",
              "760   2.948221  0.217506  1.177527  ...  1.568203  2.212959  0.154868   \n",
              "761   3.069435  0.226736  1.220472  ...  1.694039  2.293512  0.155016   \n",
              "\n",
              "     Ubiquitin_N  pGSK3B_Tyr216_N     SHH_N     pS6_N   pCFOS_N     SYP_N  \\\n",
              "0       1.044979         0.831557  0.188852  0.106305  0.108336  0.427099   \n",
              "1       1.009883         0.849270  0.200404  0.106592  0.104315  0.441581   \n",
              "2       0.996848         0.846709  0.193685  0.108303  0.106219  0.435777   \n",
              "3       0.990225         0.833277  0.192112  0.103184  0.111262  0.391691   \n",
              "4       0.997775         0.878668  0.205604  0.104784  0.110694  0.434154   \n",
              "..           ...              ...       ...       ...       ...       ...   \n",
              "757     1.136276         1.001404  0.216128  0.119428  0.115567  0.441207   \n",
              "758     1.154191         1.043402  0.209717  0.118081  0.108944  0.444913   \n",
              "759     1.195479         0.948795  0.211279  0.116134  0.114635  0.422789   \n",
              "760     1.213194         0.995884  0.197436  0.120649  0.120649  0.459901   \n",
              "761     1.284654         1.031482  0.225640  0.121738  0.110486  0.424228   \n",
              "\n",
              "       CaNA_N  \n",
              "0    1.675652  \n",
              "1    1.743610  \n",
              "2    1.926427  \n",
              "3    1.700563  \n",
              "4    1.839730  \n",
              "..        ...  \n",
              "757  1.474465  \n",
              "758  1.516605  \n",
              "759  1.433514  \n",
              "760  1.543274  \n",
              "761  1.520110  \n",
              "\n",
              "[762 rows x 72 columns]"
            ]
          },
          "execution_count": 378,
          "metadata": {},
          "output_type": "execute_result"
        }
      ],
      "source": [
        "features"
      ]
    },
    {
      "cell_type": "code",
      "execution_count": null,
      "metadata": {
        "colab": {
          "base_uri": "https://localhost:8080/"
        },
        "id": "_6CvTGmvCAnD",
        "outputId": "1e7b04c0-6ebc-471f-a5cc-d8645e905df7"
      },
      "outputs": [
        {
          "data": {
            "text/plain": [
              "(762, 72)"
            ]
          },
          "execution_count": 379,
          "metadata": {},
          "output_type": "execute_result"
        }
      ],
      "source": [
        "features.shape"
      ]
    },
    {
      "cell_type": "markdown",
      "metadata": {
        "id": "Tfl_Wr-42Ycn"
      },
      "source": [
        "Feature Normalization : Feature normalization is used to make all the features in the same scale, so all the features have same importance. \n"
      ]
    },
    {
      "cell_type": "code",
      "execution_count": null,
      "metadata": {
        "id": "cG-ipe1h2XFI"
      },
      "outputs": [],
      "source": [
        "Scaler = MinMaxScaler()                                                     ## Define MinMaxScaler for feature normalisation\n",
        "Scaler.fit(features)                                                        ## fit on the training features\n",
        "normalized_features = Scaler.transform(features)                            ## transform the training features"
      ]
    },
    {
      "cell_type": "code",
      "execution_count": null,
      "metadata": {
        "id": "YuGTB0R52_aI"
      },
      "outputs": [],
      "source": [
        "normalized_features = pd.DataFrame(normalized_features , columns = features.columns)    ## stores the dataframe of normalised feature matrix"
      ]
    },
    {
      "cell_type": "code",
      "execution_count": null,
      "metadata": {
        "colab": {
          "base_uri": "https://localhost:8080/",
          "height": 424
        },
        "id": "7PKp87uX3hi4",
        "outputId": "dd25b635-a7ad-435e-fcbd-cf7afb40794f"
      },
      "outputs": [
        {
          "data": {
            "text/html": [
              "\n",
              "  <div id=\"df-ec1adcf8-63f3-4ad1-a069-8f6be2ddf944\">\n",
              "    <div class=\"colab-df-container\">\n",
              "      <div>\n",
              "<style scoped>\n",
              "    .dataframe tbody tr th:only-of-type {\n",
              "        vertical-align: middle;\n",
              "    }\n",
              "\n",
              "    .dataframe tbody tr th {\n",
              "        vertical-align: top;\n",
              "    }\n",
              "\n",
              "    .dataframe thead th {\n",
              "        text-align: right;\n",
              "    }\n",
              "</style>\n",
              "<table border=\"1\" class=\"dataframe\">\n",
              "  <thead>\n",
              "    <tr style=\"text-align: right;\">\n",
              "      <th></th>\n",
              "      <th>DYRK1A_N</th>\n",
              "      <th>ITSN1_N</th>\n",
              "      <th>BDNF_N</th>\n",
              "      <th>NR1_N</th>\n",
              "      <th>NR2A_N</th>\n",
              "      <th>pAKT_N</th>\n",
              "      <th>pBRAF_N</th>\n",
              "      <th>pCAMKII_N</th>\n",
              "      <th>pCREB_N</th>\n",
              "      <th>pELK_N</th>\n",
              "      <th>...</th>\n",
              "      <th>pCASP9_N</th>\n",
              "      <th>PSD95_N</th>\n",
              "      <th>SNCA_N</th>\n",
              "      <th>Ubiquitin_N</th>\n",
              "      <th>pGSK3B_Tyr216_N</th>\n",
              "      <th>SHH_N</th>\n",
              "      <th>pS6_N</th>\n",
              "      <th>pCFOS_N</th>\n",
              "      <th>SYP_N</th>\n",
              "      <th>CaNA_N</th>\n",
              "    </tr>\n",
              "  </thead>\n",
              "  <tbody>\n",
              "    <tr>\n",
              "      <th>0</th>\n",
              "      <td>0.141964</td>\n",
              "      <td>0.206582</td>\n",
              "      <td>0.778929</td>\n",
              "      <td>0.598198</td>\n",
              "      <td>0.627323</td>\n",
              "      <td>0.418953</td>\n",
              "      <td>0.448666</td>\n",
              "      <td>0.179985</td>\n",
              "      <td>0.617322</td>\n",
              "      <td>0.232553</td>\n",
              "      <td>...</td>\n",
              "      <td>0.432843</td>\n",
              "      <td>0.483783</td>\n",
              "      <td>0.046679</td>\n",
              "      <td>0.256699</td>\n",
              "      <td>0.405228</td>\n",
              "      <td>0.133965</td>\n",
              "      <td>0.426816</td>\n",
              "      <td>0.257612</td>\n",
              "      <td>0.336299</td>\n",
              "      <td>0.705738</td>\n",
              "    </tr>\n",
              "    <tr>\n",
              "      <th>1</th>\n",
              "      <td>0.146642</td>\n",
              "      <td>0.181725</td>\n",
              "      <td>0.718187</td>\n",
              "      <td>0.586752</td>\n",
              "      <td>0.581701</td>\n",
              "      <td>0.399583</td>\n",
              "      <td>0.429899</td>\n",
              "      <td>0.165355</td>\n",
              "      <td>0.590173</td>\n",
              "      <td>0.205362</td>\n",
              "      <td>...</td>\n",
              "      <td>0.472327</td>\n",
              "      <td>0.477640</td>\n",
              "      <td>0.056774</td>\n",
              "      <td>0.226088</td>\n",
              "      <td>0.433471</td>\n",
              "      <td>0.193010</td>\n",
              "      <td>0.429952</td>\n",
              "      <td>0.229167</td>\n",
              "      <td>0.365208</td>\n",
              "      <td>0.749771</td>\n",
              "    </tr>\n",
              "    <tr>\n",
              "      <th>2</th>\n",
              "      <td>0.144325</td>\n",
              "      <td>0.199336</td>\n",
              "      <td>0.739766</td>\n",
              "      <td>0.543079</td>\n",
              "      <td>0.572284</td>\n",
              "      <td>0.392514</td>\n",
              "      <td>0.441381</td>\n",
              "      <td>0.163775</td>\n",
              "      <td>0.607102</td>\n",
              "      <td>0.199194</td>\n",
              "      <td>...</td>\n",
              "      <td>0.467603</td>\n",
              "      <td>0.484953</td>\n",
              "      <td>0.046425</td>\n",
              "      <td>0.214719</td>\n",
              "      <td>0.429387</td>\n",
              "      <td>0.158667</td>\n",
              "      <td>0.448652</td>\n",
              "      <td>0.242637</td>\n",
              "      <td>0.353621</td>\n",
              "      <td>0.868229</td>\n",
              "    </tr>\n",
              "    <tr>\n",
              "      <th>3</th>\n",
              "      <td>0.115730</td>\n",
              "      <td>0.150943</td>\n",
              "      <td>0.542794</td>\n",
              "      <td>0.449063</td>\n",
              "      <td>0.476206</td>\n",
              "      <td>0.429874</td>\n",
              "      <td>0.444307</td>\n",
              "      <td>0.140281</td>\n",
              "      <td>0.486945</td>\n",
              "      <td>0.205135</td>\n",
              "      <td>...</td>\n",
              "      <td>0.364359</td>\n",
              "      <td>0.449304</td>\n",
              "      <td>0.124345</td>\n",
              "      <td>0.208943</td>\n",
              "      <td>0.407971</td>\n",
              "      <td>0.150629</td>\n",
              "      <td>0.392700</td>\n",
              "      <td>0.278314</td>\n",
              "      <td>0.265619</td>\n",
              "      <td>0.721879</td>\n",
              "    </tr>\n",
              "    <tr>\n",
              "      <th>4</th>\n",
              "      <td>0.112675</td>\n",
              "      <td>0.151094</td>\n",
              "      <td>0.543375</td>\n",
              "      <td>0.405882</td>\n",
              "      <td>0.437206</td>\n",
              "      <td>0.403540</td>\n",
              "      <td>0.433100</td>\n",
              "      <td>0.137002</td>\n",
              "      <td>0.410194</td>\n",
              "      <td>0.189152</td>\n",
              "      <td>...</td>\n",
              "      <td>0.393332</td>\n",
              "      <td>0.480334</td>\n",
              "      <td>0.121953</td>\n",
              "      <td>0.215528</td>\n",
              "      <td>0.480342</td>\n",
              "      <td>0.219591</td>\n",
              "      <td>0.410187</td>\n",
              "      <td>0.274295</td>\n",
              "      <td>0.350381</td>\n",
              "      <td>0.812053</td>\n",
              "    </tr>\n",
              "    <tr>\n",
              "      <th>...</th>\n",
              "      <td>...</td>\n",
              "      <td>...</td>\n",
              "      <td>...</td>\n",
              "      <td>...</td>\n",
              "      <td>...</td>\n",
              "      <td>...</td>\n",
              "      <td>...</td>\n",
              "      <td>...</td>\n",
              "      <td>...</td>\n",
              "      <td>...</td>\n",
              "      <td>...</td>\n",
              "      <td>...</td>\n",
              "      <td>...</td>\n",
              "      <td>...</td>\n",
              "      <td>...</td>\n",
              "      <td>...</td>\n",
              "      <td>...</td>\n",
              "      <td>...</td>\n",
              "      <td>...</td>\n",
              "      <td>...</td>\n",
              "      <td>...</td>\n",
              "    </tr>\n",
              "    <tr>\n",
              "      <th>757</th>\n",
              "      <td>0.095294</td>\n",
              "      <td>0.153773</td>\n",
              "      <td>0.403975</td>\n",
              "      <td>0.294157</td>\n",
              "      <td>0.227277</td>\n",
              "      <td>0.461224</td>\n",
              "      <td>0.539931</td>\n",
              "      <td>0.329707</td>\n",
              "      <td>0.563483</td>\n",
              "      <td>0.138965</td>\n",
              "      <td>...</td>\n",
              "      <td>0.444118</td>\n",
              "      <td>0.616606</td>\n",
              "      <td>0.320227</td>\n",
              "      <td>0.336327</td>\n",
              "      <td>0.676031</td>\n",
              "      <td>0.273383</td>\n",
              "      <td>0.570243</td>\n",
              "      <td>0.308771</td>\n",
              "      <td>0.364462</td>\n",
              "      <td>0.575377</td>\n",
              "    </tr>\n",
              "    <tr>\n",
              "      <th>758</th>\n",
              "      <td>0.098521</td>\n",
              "      <td>0.169114</td>\n",
              "      <td>0.421390</td>\n",
              "      <td>0.328257</td>\n",
              "      <td>0.241792</td>\n",
              "      <td>0.466656</td>\n",
              "      <td>0.501075</td>\n",
              "      <td>0.361182</td>\n",
              "      <td>0.615645</td>\n",
              "      <td>0.144513</td>\n",
              "      <td>...</td>\n",
              "      <td>0.464179</td>\n",
              "      <td>0.639116</td>\n",
              "      <td>0.357769</td>\n",
              "      <td>0.351952</td>\n",
              "      <td>0.742991</td>\n",
              "      <td>0.240613</td>\n",
              "      <td>0.555524</td>\n",
              "      <td>0.261914</td>\n",
              "      <td>0.371858</td>\n",
              "      <td>0.602682</td>\n",
              "    </tr>\n",
              "    <tr>\n",
              "      <th>759</th>\n",
              "      <td>0.090184</td>\n",
              "      <td>0.137887</td>\n",
              "      <td>0.410514</td>\n",
              "      <td>0.280479</td>\n",
              "      <td>0.191231</td>\n",
              "      <td>0.528828</td>\n",
              "      <td>0.548111</td>\n",
              "      <td>0.293411</td>\n",
              "      <td>0.571988</td>\n",
              "      <td>0.144203</td>\n",
              "      <td>...</td>\n",
              "      <td>0.375593</td>\n",
              "      <td>0.538972</td>\n",
              "      <td>0.346172</td>\n",
              "      <td>0.387964</td>\n",
              "      <td>0.592151</td>\n",
              "      <td>0.248596</td>\n",
              "      <td>0.534245</td>\n",
              "      <td>0.302178</td>\n",
              "      <td>0.327695</td>\n",
              "      <td>0.548842</td>\n",
              "    </tr>\n",
              "    <tr>\n",
              "      <th>760</th>\n",
              "      <td>0.083124</td>\n",
              "      <td>0.131757</td>\n",
              "      <td>0.342682</td>\n",
              "      <td>0.251851</td>\n",
              "      <td>0.147856</td>\n",
              "      <td>0.490315</td>\n",
              "      <td>0.499328</td>\n",
              "      <td>0.282986</td>\n",
              "      <td>0.541237</td>\n",
              "      <td>0.131677</td>\n",
              "      <td>...</td>\n",
              "      <td>0.412586</td>\n",
              "      <td>0.602270</td>\n",
              "      <td>0.357600</td>\n",
              "      <td>0.403414</td>\n",
              "      <td>0.667230</td>\n",
              "      <td>0.177844</td>\n",
              "      <td>0.583591</td>\n",
              "      <td>0.344728</td>\n",
              "      <td>0.401777</td>\n",
              "      <td>0.619962</td>\n",
              "    </tr>\n",
              "    <tr>\n",
              "      <th>761</th>\n",
              "      <td>0.083117</td>\n",
              "      <td>0.143426</td>\n",
              "      <td>0.354387</td>\n",
              "      <td>0.276558</td>\n",
              "      <td>0.173129</td>\n",
              "      <td>0.499026</td>\n",
              "      <td>0.532664</td>\n",
              "      <td>0.304719</td>\n",
              "      <td>0.588951</td>\n",
              "      <td>0.139232</td>\n",
              "      <td>...</td>\n",
              "      <td>0.485195</td>\n",
              "      <td>0.650455</td>\n",
              "      <td>0.358582</td>\n",
              "      <td>0.465741</td>\n",
              "      <td>0.723986</td>\n",
              "      <td>0.322001</td>\n",
              "      <td>0.595494</td>\n",
              "      <td>0.272824</td>\n",
              "      <td>0.330568</td>\n",
              "      <td>0.604953</td>\n",
              "    </tr>\n",
              "  </tbody>\n",
              "</table>\n",
              "<p>762 rows × 72 columns</p>\n",
              "</div>\n",
              "      <button class=\"colab-df-convert\" onclick=\"convertToInteractive('df-ec1adcf8-63f3-4ad1-a069-8f6be2ddf944')\"\n",
              "              title=\"Convert this dataframe to an interactive table.\"\n",
              "              style=\"display:none;\">\n",
              "        \n",
              "  <svg xmlns=\"http://www.w3.org/2000/svg\" height=\"24px\"viewBox=\"0 0 24 24\"\n",
              "       width=\"24px\">\n",
              "    <path d=\"M0 0h24v24H0V0z\" fill=\"none\"/>\n",
              "    <path d=\"M18.56 5.44l.94 2.06.94-2.06 2.06-.94-2.06-.94-.94-2.06-.94 2.06-2.06.94zm-11 1L8.5 8.5l.94-2.06 2.06-.94-2.06-.94L8.5 2.5l-.94 2.06-2.06.94zm10 10l.94 2.06.94-2.06 2.06-.94-2.06-.94-.94-2.06-.94 2.06-2.06.94z\"/><path d=\"M17.41 7.96l-1.37-1.37c-.4-.4-.92-.59-1.43-.59-.52 0-1.04.2-1.43.59L10.3 9.45l-7.72 7.72c-.78.78-.78 2.05 0 2.83L4 21.41c.39.39.9.59 1.41.59.51 0 1.02-.2 1.41-.59l7.78-7.78 2.81-2.81c.8-.78.8-2.07 0-2.86zM5.41 20L4 18.59l7.72-7.72 1.47 1.35L5.41 20z\"/>\n",
              "  </svg>\n",
              "      </button>\n",
              "      \n",
              "  <style>\n",
              "    .colab-df-container {\n",
              "      display:flex;\n",
              "      flex-wrap:wrap;\n",
              "      gap: 12px;\n",
              "    }\n",
              "\n",
              "    .colab-df-convert {\n",
              "      background-color: #E8F0FE;\n",
              "      border: none;\n",
              "      border-radius: 50%;\n",
              "      cursor: pointer;\n",
              "      display: none;\n",
              "      fill: #1967D2;\n",
              "      height: 32px;\n",
              "      padding: 0 0 0 0;\n",
              "      width: 32px;\n",
              "    }\n",
              "\n",
              "    .colab-df-convert:hover {\n",
              "      background-color: #E2EBFA;\n",
              "      box-shadow: 0px 1px 2px rgba(60, 64, 67, 0.3), 0px 1px 3px 1px rgba(60, 64, 67, 0.15);\n",
              "      fill: #174EA6;\n",
              "    }\n",
              "\n",
              "    [theme=dark] .colab-df-convert {\n",
              "      background-color: #3B4455;\n",
              "      fill: #D2E3FC;\n",
              "    }\n",
              "\n",
              "    [theme=dark] .colab-df-convert:hover {\n",
              "      background-color: #434B5C;\n",
              "      box-shadow: 0px 1px 3px 1px rgba(0, 0, 0, 0.15);\n",
              "      filter: drop-shadow(0px 1px 2px rgba(0, 0, 0, 0.3));\n",
              "      fill: #FFFFFF;\n",
              "    }\n",
              "  </style>\n",
              "\n",
              "      <script>\n",
              "        const buttonEl =\n",
              "          document.querySelector('#df-ec1adcf8-63f3-4ad1-a069-8f6be2ddf944 button.colab-df-convert');\n",
              "        buttonEl.style.display =\n",
              "          google.colab.kernel.accessAllowed ? 'block' : 'none';\n",
              "\n",
              "        async function convertToInteractive(key) {\n",
              "          const element = document.querySelector('#df-ec1adcf8-63f3-4ad1-a069-8f6be2ddf944');\n",
              "          const dataTable =\n",
              "            await google.colab.kernel.invokeFunction('convertToInteractive',\n",
              "                                                     [key], {});\n",
              "          if (!dataTable) return;\n",
              "\n",
              "          const docLinkHtml = 'Like what you see? Visit the ' +\n",
              "            '<a target=\"_blank\" href=https://colab.research.google.com/notebooks/data_table.ipynb>data table notebook</a>'\n",
              "            + ' to learn more about interactive tables.';\n",
              "          element.innerHTML = '';\n",
              "          dataTable['output_type'] = 'display_data';\n",
              "          await google.colab.output.renderOutput(dataTable, element);\n",
              "          const docLink = document.createElement('div');\n",
              "          docLink.innerHTML = docLinkHtml;\n",
              "          element.appendChild(docLink);\n",
              "        }\n",
              "      </script>\n",
              "    </div>\n",
              "  </div>\n",
              "  "
            ],
            "text/plain": [
              "     DYRK1A_N   ITSN1_N    BDNF_N     NR1_N    NR2A_N    pAKT_N   pBRAF_N  \\\n",
              "0    0.141964  0.206582  0.778929  0.598198  0.627323  0.418953  0.448666   \n",
              "1    0.146642  0.181725  0.718187  0.586752  0.581701  0.399583  0.429899   \n",
              "2    0.144325  0.199336  0.739766  0.543079  0.572284  0.392514  0.441381   \n",
              "3    0.115730  0.150943  0.542794  0.449063  0.476206  0.429874  0.444307   \n",
              "4    0.112675  0.151094  0.543375  0.405882  0.437206  0.403540  0.433100   \n",
              "..        ...       ...       ...       ...       ...       ...       ...   \n",
              "757  0.095294  0.153773  0.403975  0.294157  0.227277  0.461224  0.539931   \n",
              "758  0.098521  0.169114  0.421390  0.328257  0.241792  0.466656  0.501075   \n",
              "759  0.090184  0.137887  0.410514  0.280479  0.191231  0.528828  0.548111   \n",
              "760  0.083124  0.131757  0.342682  0.251851  0.147856  0.490315  0.499328   \n",
              "761  0.083117  0.143426  0.354387  0.276558  0.173129  0.499026  0.532664   \n",
              "\n",
              "     pCAMKII_N   pCREB_N    pELK_N  ...  pCASP9_N   PSD95_N    SNCA_N  \\\n",
              "0     0.179985  0.617322  0.232553  ...  0.432843  0.483783  0.046679   \n",
              "1     0.165355  0.590173  0.205362  ...  0.472327  0.477640  0.056774   \n",
              "2     0.163775  0.607102  0.199194  ...  0.467603  0.484953  0.046425   \n",
              "3     0.140281  0.486945  0.205135  ...  0.364359  0.449304  0.124345   \n",
              "4     0.137002  0.410194  0.189152  ...  0.393332  0.480334  0.121953   \n",
              "..         ...       ...       ...  ...       ...       ...       ...   \n",
              "757   0.329707  0.563483  0.138965  ...  0.444118  0.616606  0.320227   \n",
              "758   0.361182  0.615645  0.144513  ...  0.464179  0.639116  0.357769   \n",
              "759   0.293411  0.571988  0.144203  ...  0.375593  0.538972  0.346172   \n",
              "760   0.282986  0.541237  0.131677  ...  0.412586  0.602270  0.357600   \n",
              "761   0.304719  0.588951  0.139232  ...  0.485195  0.650455  0.358582   \n",
              "\n",
              "     Ubiquitin_N  pGSK3B_Tyr216_N     SHH_N     pS6_N   pCFOS_N     SYP_N  \\\n",
              "0       0.256699         0.405228  0.133965  0.426816  0.257612  0.336299   \n",
              "1       0.226088         0.433471  0.193010  0.429952  0.229167  0.365208   \n",
              "2       0.214719         0.429387  0.158667  0.448652  0.242637  0.353621   \n",
              "3       0.208943         0.407971  0.150629  0.392700  0.278314  0.265619   \n",
              "4       0.215528         0.480342  0.219591  0.410187  0.274295  0.350381   \n",
              "..           ...              ...       ...       ...       ...       ...   \n",
              "757     0.336327         0.676031  0.273383  0.570243  0.308771  0.364462   \n",
              "758     0.351952         0.742991  0.240613  0.555524  0.261914  0.371858   \n",
              "759     0.387964         0.592151  0.248596  0.534245  0.302178  0.327695   \n",
              "760     0.403414         0.667230  0.177844  0.583591  0.344728  0.401777   \n",
              "761     0.465741         0.723986  0.322001  0.595494  0.272824  0.330568   \n",
              "\n",
              "       CaNA_N  \n",
              "0    0.705738  \n",
              "1    0.749771  \n",
              "2    0.868229  \n",
              "3    0.721879  \n",
              "4    0.812053  \n",
              "..        ...  \n",
              "757  0.575377  \n",
              "758  0.602682  \n",
              "759  0.548842  \n",
              "760  0.619962  \n",
              "761  0.604953  \n",
              "\n",
              "[762 rows x 72 columns]"
            ]
          },
          "execution_count": 382,
          "metadata": {},
          "output_type": "execute_result"
        }
      ],
      "source": [
        "normalized_features"
      ]
    },
    {
      "cell_type": "markdown",
      "metadata": {
        "id": "MDt2OxUg4SVg"
      },
      "source": [
        "Removing features based on variance  :  Remove only those feature columns which have zero variance"
      ]
    },
    {
      "cell_type": "code",
      "execution_count": null,
      "metadata": {
        "id": "jpbxQhQ34YuA"
      },
      "outputs": [],
      "source": [
        "def drop_zero_variance_features(feature_matrix):      ## This function takes the training feature matrix as the input\n",
        "  drop_columns = []                                   ## this list stores the names of the feature variables which have zero variance\n",
        "  for i in range(feature_matrix.shape[1]):            ## i is iterating through the number of features / variables\n",
        "    if np.array(feature_matrix.iloc[:,i]).var() == 0 :   ## if variance of that feature column is 0, then only drop that specific feature, \n",
        "      drop_columns.append( feature_matrix.columns[i] )   ## this list appens the feature headings\n",
        "  feature_matrix_new = feature_matrix.drop(drop_columns, axis = 1)   ## Drop the features which have zero variance\n",
        "  return feature_matrix_new , drop_columns"
      ]
    },
    {
      "cell_type": "code",
      "execution_count": null,
      "metadata": {
        "id": "CbviIxru4Y4g"
      },
      "outputs": [],
      "source": [
        "features_new , zero_variance_columns = drop_zero_variance_features(normalized_features)"
      ]
    },
    {
      "cell_type": "code",
      "execution_count": null,
      "metadata": {
        "colab": {
          "base_uri": "https://localhost:8080/"
        },
        "id": "InZNhCRr8c2a",
        "outputId": "e112a2ef-0f0a-470a-a0e6-d2ddd600eac1"
      },
      "outputs": [
        {
          "data": {
            "text/plain": [
              "[]"
            ]
          },
          "execution_count": 385,
          "metadata": {},
          "output_type": "execute_result"
        }
      ],
      "source": [
        "zero_variance_columns        ## Any feature with 762 samples has zero variance"
      ]
    },
    {
      "cell_type": "markdown",
      "metadata": {
        "id": "2n46kVuzFHyi"
      },
      "source": [
        " Question 2(b) : Removing correlated features, if the absolute value of correlation between two features is greater than 0.93, then removing any one feature between the two features\n"
      ]
    },
    {
      "cell_type": "code",
      "execution_count": null,
      "metadata": {
        "colab": {
          "base_uri": "https://localhost:8080/",
          "height": 424
        },
        "id": "b1VuPxUS87QR",
        "outputId": "58196e93-bda5-4428-a489-b7d44b75907b"
      },
      "outputs": [
        {
          "data": {
            "text/html": [
              "\n",
              "  <div id=\"df-27c6e276-5653-4247-8fa2-55b71c4b7fc0\">\n",
              "    <div class=\"colab-df-container\">\n",
              "      <div>\n",
              "<style scoped>\n",
              "    .dataframe tbody tr th:only-of-type {\n",
              "        vertical-align: middle;\n",
              "    }\n",
              "\n",
              "    .dataframe tbody tr th {\n",
              "        vertical-align: top;\n",
              "    }\n",
              "\n",
              "    .dataframe thead th {\n",
              "        text-align: right;\n",
              "    }\n",
              "</style>\n",
              "<table border=\"1\" class=\"dataframe\">\n",
              "  <thead>\n",
              "    <tr style=\"text-align: right;\">\n",
              "      <th></th>\n",
              "      <th>DYRK1A_N</th>\n",
              "      <th>ITSN1_N</th>\n",
              "      <th>BDNF_N</th>\n",
              "      <th>NR1_N</th>\n",
              "      <th>NR2A_N</th>\n",
              "      <th>pAKT_N</th>\n",
              "      <th>pBRAF_N</th>\n",
              "      <th>pCAMKII_N</th>\n",
              "      <th>pCREB_N</th>\n",
              "      <th>pELK_N</th>\n",
              "      <th>...</th>\n",
              "      <th>pCASP9_N</th>\n",
              "      <th>PSD95_N</th>\n",
              "      <th>SNCA_N</th>\n",
              "      <th>Ubiquitin_N</th>\n",
              "      <th>pGSK3B_Tyr216_N</th>\n",
              "      <th>SHH_N</th>\n",
              "      <th>pS6_N</th>\n",
              "      <th>pCFOS_N</th>\n",
              "      <th>SYP_N</th>\n",
              "      <th>CaNA_N</th>\n",
              "    </tr>\n",
              "  </thead>\n",
              "  <tbody>\n",
              "    <tr>\n",
              "      <th>DYRK1A_N</th>\n",
              "      <td>1.000000</td>\n",
              "      <td>0.961321</td>\n",
              "      <td>0.407110</td>\n",
              "      <td>0.314795</td>\n",
              "      <td>0.340011</td>\n",
              "      <td>-0.182126</td>\n",
              "      <td>-0.085401</td>\n",
              "      <td>-0.158167</td>\n",
              "      <td>0.082463</td>\n",
              "      <td>0.811398</td>\n",
              "      <td>...</td>\n",
              "      <td>-0.243189</td>\n",
              "      <td>-0.162544</td>\n",
              "      <td>-0.401000</td>\n",
              "      <td>-0.428442</td>\n",
              "      <td>0.339879</td>\n",
              "      <td>-0.223812</td>\n",
              "      <td>-0.358480</td>\n",
              "      <td>-0.249935</td>\n",
              "      <td>-0.035929</td>\n",
              "      <td>0.457907</td>\n",
              "    </tr>\n",
              "    <tr>\n",
              "      <th>ITSN1_N</th>\n",
              "      <td>0.961321</td>\n",
              "      <td>1.000000</td>\n",
              "      <td>0.495102</td>\n",
              "      <td>0.428745</td>\n",
              "      <td>0.421034</td>\n",
              "      <td>-0.149509</td>\n",
              "      <td>-0.068712</td>\n",
              "      <td>-0.114789</td>\n",
              "      <td>0.200468</td>\n",
              "      <td>0.796880</td>\n",
              "      <td>...</td>\n",
              "      <td>-0.138549</td>\n",
              "      <td>-0.089496</td>\n",
              "      <td>-0.430173</td>\n",
              "      <td>-0.370611</td>\n",
              "      <td>0.403635</td>\n",
              "      <td>-0.220720</td>\n",
              "      <td>-0.299066</td>\n",
              "      <td>-0.321841</td>\n",
              "      <td>0.039384</td>\n",
              "      <td>0.495085</td>\n",
              "    </tr>\n",
              "    <tr>\n",
              "      <th>BDNF_N</th>\n",
              "      <td>0.407110</td>\n",
              "      <td>0.495102</td>\n",
              "      <td>1.000000</td>\n",
              "      <td>0.817986</td>\n",
              "      <td>0.746004</td>\n",
              "      <td>0.241501</td>\n",
              "      <td>0.332689</td>\n",
              "      <td>0.129602</td>\n",
              "      <td>0.569146</td>\n",
              "      <td>0.458951</td>\n",
              "      <td>...</td>\n",
              "      <td>0.055620</td>\n",
              "      <td>0.046813</td>\n",
              "      <td>-0.214369</td>\n",
              "      <td>-0.031408</td>\n",
              "      <td>0.235227</td>\n",
              "      <td>-0.112984</td>\n",
              "      <td>0.070504</td>\n",
              "      <td>-0.261881</td>\n",
              "      <td>0.454025</td>\n",
              "      <td>0.304098</td>\n",
              "    </tr>\n",
              "    <tr>\n",
              "      <th>NR1_N</th>\n",
              "      <td>0.314795</td>\n",
              "      <td>0.428745</td>\n",
              "      <td>0.817986</td>\n",
              "      <td>1.000000</td>\n",
              "      <td>0.866667</td>\n",
              "      <td>0.185322</td>\n",
              "      <td>0.220929</td>\n",
              "      <td>0.253744</td>\n",
              "      <td>0.599846</td>\n",
              "      <td>0.399791</td>\n",
              "      <td>...</td>\n",
              "      <td>0.200738</td>\n",
              "      <td>0.324115</td>\n",
              "      <td>-0.247044</td>\n",
              "      <td>0.074819</td>\n",
              "      <td>0.245469</td>\n",
              "      <td>-0.100915</td>\n",
              "      <td>0.227674</td>\n",
              "      <td>-0.355890</td>\n",
              "      <td>0.486483</td>\n",
              "      <td>0.205033</td>\n",
              "    </tr>\n",
              "    <tr>\n",
              "      <th>NR2A_N</th>\n",
              "      <td>0.340011</td>\n",
              "      <td>0.421034</td>\n",
              "      <td>0.746004</td>\n",
              "      <td>0.866667</td>\n",
              "      <td>1.000000</td>\n",
              "      <td>0.076446</td>\n",
              "      <td>0.079740</td>\n",
              "      <td>0.223203</td>\n",
              "      <td>0.362348</td>\n",
              "      <td>0.387644</td>\n",
              "      <td>...</td>\n",
              "      <td>0.129107</td>\n",
              "      <td>0.184531</td>\n",
              "      <td>-0.311324</td>\n",
              "      <td>0.002289</td>\n",
              "      <td>0.117841</td>\n",
              "      <td>-0.237932</td>\n",
              "      <td>0.215495</td>\n",
              "      <td>-0.401223</td>\n",
              "      <td>0.377628</td>\n",
              "      <td>0.185840</td>\n",
              "    </tr>\n",
              "    <tr>\n",
              "      <th>...</th>\n",
              "      <td>...</td>\n",
              "      <td>...</td>\n",
              "      <td>...</td>\n",
              "      <td>...</td>\n",
              "      <td>...</td>\n",
              "      <td>...</td>\n",
              "      <td>...</td>\n",
              "      <td>...</td>\n",
              "      <td>...</td>\n",
              "      <td>...</td>\n",
              "      <td>...</td>\n",
              "      <td>...</td>\n",
              "      <td>...</td>\n",
              "      <td>...</td>\n",
              "      <td>...</td>\n",
              "      <td>...</td>\n",
              "      <td>...</td>\n",
              "      <td>...</td>\n",
              "      <td>...</td>\n",
              "      <td>...</td>\n",
              "      <td>...</td>\n",
              "    </tr>\n",
              "    <tr>\n",
              "      <th>SHH_N</th>\n",
              "      <td>-0.223812</td>\n",
              "      <td>-0.220720</td>\n",
              "      <td>-0.112984</td>\n",
              "      <td>-0.100915</td>\n",
              "      <td>-0.237932</td>\n",
              "      <td>0.113274</td>\n",
              "      <td>0.107594</td>\n",
              "      <td>0.065394</td>\n",
              "      <td>0.044608</td>\n",
              "      <td>-0.190035</td>\n",
              "      <td>...</td>\n",
              "      <td>0.195775</td>\n",
              "      <td>0.233734</td>\n",
              "      <td>0.505187</td>\n",
              "      <td>0.316371</td>\n",
              "      <td>0.288273</td>\n",
              "      <td>1.000000</td>\n",
              "      <td>0.388021</td>\n",
              "      <td>0.538729</td>\n",
              "      <td>0.115625</td>\n",
              "      <td>-0.166451</td>\n",
              "    </tr>\n",
              "    <tr>\n",
              "      <th>pS6_N</th>\n",
              "      <td>-0.358480</td>\n",
              "      <td>-0.299066</td>\n",
              "      <td>0.070504</td>\n",
              "      <td>0.227674</td>\n",
              "      <td>0.215495</td>\n",
              "      <td>0.329791</td>\n",
              "      <td>0.268852</td>\n",
              "      <td>0.417864</td>\n",
              "      <td>0.291003</td>\n",
              "      <td>-0.204637</td>\n",
              "      <td>...</td>\n",
              "      <td>0.505705</td>\n",
              "      <td>0.588040</td>\n",
              "      <td>0.584767</td>\n",
              "      <td>0.702910</td>\n",
              "      <td>0.052804</td>\n",
              "      <td>0.388021</td>\n",
              "      <td>1.000000</td>\n",
              "      <td>0.169090</td>\n",
              "      <td>0.392329</td>\n",
              "      <td>-0.415155</td>\n",
              "    </tr>\n",
              "    <tr>\n",
              "      <th>pCFOS_N</th>\n",
              "      <td>-0.249935</td>\n",
              "      <td>-0.321841</td>\n",
              "      <td>-0.261881</td>\n",
              "      <td>-0.355890</td>\n",
              "      <td>-0.401223</td>\n",
              "      <td>0.084886</td>\n",
              "      <td>0.134206</td>\n",
              "      <td>-0.061822</td>\n",
              "      <td>-0.213143</td>\n",
              "      <td>-0.167895</td>\n",
              "      <td>...</td>\n",
              "      <td>0.072955</td>\n",
              "      <td>-0.128116</td>\n",
              "      <td>0.644965</td>\n",
              "      <td>0.229688</td>\n",
              "      <td>-0.077440</td>\n",
              "      <td>0.538729</td>\n",
              "      <td>0.169090</td>\n",
              "      <td>1.000000</td>\n",
              "      <td>0.040611</td>\n",
              "      <td>-0.324501</td>\n",
              "    </tr>\n",
              "    <tr>\n",
              "      <th>SYP_N</th>\n",
              "      <td>-0.035929</td>\n",
              "      <td>0.039384</td>\n",
              "      <td>0.454025</td>\n",
              "      <td>0.486483</td>\n",
              "      <td>0.377628</td>\n",
              "      <td>0.199349</td>\n",
              "      <td>0.232262</td>\n",
              "      <td>0.187727</td>\n",
              "      <td>0.383455</td>\n",
              "      <td>0.003932</td>\n",
              "      <td>...</td>\n",
              "      <td>0.525524</td>\n",
              "      <td>0.404700</td>\n",
              "      <td>0.140256</td>\n",
              "      <td>0.343885</td>\n",
              "      <td>0.345046</td>\n",
              "      <td>0.115625</td>\n",
              "      <td>0.392329</td>\n",
              "      <td>0.040611</td>\n",
              "      <td>1.000000</td>\n",
              "      <td>0.273142</td>\n",
              "    </tr>\n",
              "    <tr>\n",
              "      <th>CaNA_N</th>\n",
              "      <td>0.457907</td>\n",
              "      <td>0.495085</td>\n",
              "      <td>0.304098</td>\n",
              "      <td>0.205033</td>\n",
              "      <td>0.185840</td>\n",
              "      <td>-0.245944</td>\n",
              "      <td>-0.204640</td>\n",
              "      <td>-0.361215</td>\n",
              "      <td>0.054356</td>\n",
              "      <td>0.223832</td>\n",
              "      <td>...</td>\n",
              "      <td>0.148304</td>\n",
              "      <td>0.056238</td>\n",
              "      <td>-0.566640</td>\n",
              "      <td>-0.442124</td>\n",
              "      <td>0.527547</td>\n",
              "      <td>-0.166451</td>\n",
              "      <td>-0.415155</td>\n",
              "      <td>-0.324501</td>\n",
              "      <td>0.273142</td>\n",
              "      <td>1.000000</td>\n",
              "    </tr>\n",
              "  </tbody>\n",
              "</table>\n",
              "<p>72 rows × 72 columns</p>\n",
              "</div>\n",
              "      <button class=\"colab-df-convert\" onclick=\"convertToInteractive('df-27c6e276-5653-4247-8fa2-55b71c4b7fc0')\"\n",
              "              title=\"Convert this dataframe to an interactive table.\"\n",
              "              style=\"display:none;\">\n",
              "        \n",
              "  <svg xmlns=\"http://www.w3.org/2000/svg\" height=\"24px\"viewBox=\"0 0 24 24\"\n",
              "       width=\"24px\">\n",
              "    <path d=\"M0 0h24v24H0V0z\" fill=\"none\"/>\n",
              "    <path d=\"M18.56 5.44l.94 2.06.94-2.06 2.06-.94-2.06-.94-.94-2.06-.94 2.06-2.06.94zm-11 1L8.5 8.5l.94-2.06 2.06-.94-2.06-.94L8.5 2.5l-.94 2.06-2.06.94zm10 10l.94 2.06.94-2.06 2.06-.94-2.06-.94-.94-2.06-.94 2.06-2.06.94z\"/><path d=\"M17.41 7.96l-1.37-1.37c-.4-.4-.92-.59-1.43-.59-.52 0-1.04.2-1.43.59L10.3 9.45l-7.72 7.72c-.78.78-.78 2.05 0 2.83L4 21.41c.39.39.9.59 1.41.59.51 0 1.02-.2 1.41-.59l7.78-7.78 2.81-2.81c.8-.78.8-2.07 0-2.86zM5.41 20L4 18.59l7.72-7.72 1.47 1.35L5.41 20z\"/>\n",
              "  </svg>\n",
              "      </button>\n",
              "      \n",
              "  <style>\n",
              "    .colab-df-container {\n",
              "      display:flex;\n",
              "      flex-wrap:wrap;\n",
              "      gap: 12px;\n",
              "    }\n",
              "\n",
              "    .colab-df-convert {\n",
              "      background-color: #E8F0FE;\n",
              "      border: none;\n",
              "      border-radius: 50%;\n",
              "      cursor: pointer;\n",
              "      display: none;\n",
              "      fill: #1967D2;\n",
              "      height: 32px;\n",
              "      padding: 0 0 0 0;\n",
              "      width: 32px;\n",
              "    }\n",
              "\n",
              "    .colab-df-convert:hover {\n",
              "      background-color: #E2EBFA;\n",
              "      box-shadow: 0px 1px 2px rgba(60, 64, 67, 0.3), 0px 1px 3px 1px rgba(60, 64, 67, 0.15);\n",
              "      fill: #174EA6;\n",
              "    }\n",
              "\n",
              "    [theme=dark] .colab-df-convert {\n",
              "      background-color: #3B4455;\n",
              "      fill: #D2E3FC;\n",
              "    }\n",
              "\n",
              "    [theme=dark] .colab-df-convert:hover {\n",
              "      background-color: #434B5C;\n",
              "      box-shadow: 0px 1px 3px 1px rgba(0, 0, 0, 0.15);\n",
              "      filter: drop-shadow(0px 1px 2px rgba(0, 0, 0, 0.3));\n",
              "      fill: #FFFFFF;\n",
              "    }\n",
              "  </style>\n",
              "\n",
              "      <script>\n",
              "        const buttonEl =\n",
              "          document.querySelector('#df-27c6e276-5653-4247-8fa2-55b71c4b7fc0 button.colab-df-convert');\n",
              "        buttonEl.style.display =\n",
              "          google.colab.kernel.accessAllowed ? 'block' : 'none';\n",
              "\n",
              "        async function convertToInteractive(key) {\n",
              "          const element = document.querySelector('#df-27c6e276-5653-4247-8fa2-55b71c4b7fc0');\n",
              "          const dataTable =\n",
              "            await google.colab.kernel.invokeFunction('convertToInteractive',\n",
              "                                                     [key], {});\n",
              "          if (!dataTable) return;\n",
              "\n",
              "          const docLinkHtml = 'Like what you see? Visit the ' +\n",
              "            '<a target=\"_blank\" href=https://colab.research.google.com/notebooks/data_table.ipynb>data table notebook</a>'\n",
              "            + ' to learn more about interactive tables.';\n",
              "          element.innerHTML = '';\n",
              "          dataTable['output_type'] = 'display_data';\n",
              "          await google.colab.output.renderOutput(dataTable, element);\n",
              "          const docLink = document.createElement('div');\n",
              "          docLink.innerHTML = docLinkHtml;\n",
              "          element.appendChild(docLink);\n",
              "        }\n",
              "      </script>\n",
              "    </div>\n",
              "  </div>\n",
              "  "
            ],
            "text/plain": [
              "          DYRK1A_N   ITSN1_N    BDNF_N     NR1_N    NR2A_N    pAKT_N  \\\n",
              "DYRK1A_N  1.000000  0.961321  0.407110  0.314795  0.340011 -0.182126   \n",
              "ITSN1_N   0.961321  1.000000  0.495102  0.428745  0.421034 -0.149509   \n",
              "BDNF_N    0.407110  0.495102  1.000000  0.817986  0.746004  0.241501   \n",
              "NR1_N     0.314795  0.428745  0.817986  1.000000  0.866667  0.185322   \n",
              "NR2A_N    0.340011  0.421034  0.746004  0.866667  1.000000  0.076446   \n",
              "...            ...       ...       ...       ...       ...       ...   \n",
              "SHH_N    -0.223812 -0.220720 -0.112984 -0.100915 -0.237932  0.113274   \n",
              "pS6_N    -0.358480 -0.299066  0.070504  0.227674  0.215495  0.329791   \n",
              "pCFOS_N  -0.249935 -0.321841 -0.261881 -0.355890 -0.401223  0.084886   \n",
              "SYP_N    -0.035929  0.039384  0.454025  0.486483  0.377628  0.199349   \n",
              "CaNA_N    0.457907  0.495085  0.304098  0.205033  0.185840 -0.245944   \n",
              "\n",
              "           pBRAF_N  pCAMKII_N   pCREB_N    pELK_N  ...  pCASP9_N   PSD95_N  \\\n",
              "DYRK1A_N -0.085401  -0.158167  0.082463  0.811398  ... -0.243189 -0.162544   \n",
              "ITSN1_N  -0.068712  -0.114789  0.200468  0.796880  ... -0.138549 -0.089496   \n",
              "BDNF_N    0.332689   0.129602  0.569146  0.458951  ...  0.055620  0.046813   \n",
              "NR1_N     0.220929   0.253744  0.599846  0.399791  ...  0.200738  0.324115   \n",
              "NR2A_N    0.079740   0.223203  0.362348  0.387644  ...  0.129107  0.184531   \n",
              "...            ...        ...       ...       ...  ...       ...       ...   \n",
              "SHH_N     0.107594   0.065394  0.044608 -0.190035  ...  0.195775  0.233734   \n",
              "pS6_N     0.268852   0.417864  0.291003 -0.204637  ...  0.505705  0.588040   \n",
              "pCFOS_N   0.134206  -0.061822 -0.213143 -0.167895  ...  0.072955 -0.128116   \n",
              "SYP_N     0.232262   0.187727  0.383455  0.003932  ...  0.525524  0.404700   \n",
              "CaNA_N   -0.204640  -0.361215  0.054356  0.223832  ...  0.148304  0.056238   \n",
              "\n",
              "            SNCA_N  Ubiquitin_N  pGSK3B_Tyr216_N     SHH_N     pS6_N  \\\n",
              "DYRK1A_N -0.401000    -0.428442         0.339879 -0.223812 -0.358480   \n",
              "ITSN1_N  -0.430173    -0.370611         0.403635 -0.220720 -0.299066   \n",
              "BDNF_N   -0.214369    -0.031408         0.235227 -0.112984  0.070504   \n",
              "NR1_N    -0.247044     0.074819         0.245469 -0.100915  0.227674   \n",
              "NR2A_N   -0.311324     0.002289         0.117841 -0.237932  0.215495   \n",
              "...            ...          ...              ...       ...       ...   \n",
              "SHH_N     0.505187     0.316371         0.288273  1.000000  0.388021   \n",
              "pS6_N     0.584767     0.702910         0.052804  0.388021  1.000000   \n",
              "pCFOS_N   0.644965     0.229688        -0.077440  0.538729  0.169090   \n",
              "SYP_N     0.140256     0.343885         0.345046  0.115625  0.392329   \n",
              "CaNA_N   -0.566640    -0.442124         0.527547 -0.166451 -0.415155   \n",
              "\n",
              "           pCFOS_N     SYP_N    CaNA_N  \n",
              "DYRK1A_N -0.249935 -0.035929  0.457907  \n",
              "ITSN1_N  -0.321841  0.039384  0.495085  \n",
              "BDNF_N   -0.261881  0.454025  0.304098  \n",
              "NR1_N    -0.355890  0.486483  0.205033  \n",
              "NR2A_N   -0.401223  0.377628  0.185840  \n",
              "...            ...       ...       ...  \n",
              "SHH_N     0.538729  0.115625 -0.166451  \n",
              "pS6_N     0.169090  0.392329 -0.415155  \n",
              "pCFOS_N   1.000000  0.040611 -0.324501  \n",
              "SYP_N     0.040611  1.000000  0.273142  \n",
              "CaNA_N   -0.324501  0.273142  1.000000  \n",
              "\n",
              "[72 rows x 72 columns]"
            ]
          },
          "execution_count": 386,
          "metadata": {},
          "output_type": "execute_result"
        }
      ],
      "source": [
        "corr_matrix = features_new.corr()\n",
        "corr_matrix"
      ]
    },
    {
      "cell_type": "code",
      "execution_count": null,
      "metadata": {
        "id": "IPU22G7zDkmD"
      },
      "outputs": [],
      "source": [
        "## this function takes the feature matrix and maximum allowable correlation value as the inputs and returns correlated feature column names and feature matrix after removing the \n",
        "## correlated features as the output\n",
        "def remove_correlated_features(feature_data, allowable_correlation_value):\n",
        "  correlated_feature_columns = set()               ## this set will store the correlated feature column names \n",
        "  correlation_matrix = feature_data.corr()         ## it gives the correlation matrix of shape(67 , 67) between 67 features\n",
        "  for i in range(correlation_matrix.shape[0]):     ## i iterates through the number of features\n",
        "    for j in range(i):                             ## j iterates through the values of i, as correlation matrix is a symmetric matrix, then does not need to check correlation value between two features twice\n",
        "      if np.abs(correlation_matrix.iloc[i,j]) >= allowable_correlation_value:  ## if correlation value between two features more than the absolute value of maximum allowable correlation\n",
        "                                                                               ## then add the feature names and drop those correlated features     \n",
        "        correlated_feature_columns.add(correlation_matrix.columns[i])\n",
        "  training_features = feature_data.drop(list(correlated_feature_columns) , axis=1)\n",
        "  return training_features , correlated_feature_columns"
      ]
    },
    {
      "cell_type": "code",
      "execution_count": null,
      "metadata": {
        "colab": {
          "base_uri": "https://localhost:8080/"
        },
        "id": "ITynUnsHSmgl",
        "outputId": "a3ce03f7-93a0-437d-82c5-2473042e1011"
      },
      "outputs": [
        {
          "name": "stdout",
          "output_type": "stream",
          "text": [
            "Enter the maximum allowable correlation value : 0.93\n"
          ]
        }
      ],
      "source": [
        "max_correlation_value = float(input('Enter the maximum allowable correlation value : '))    ##it stores the maximum allowable correlation value\n",
        "training_features , correlated_feature_columns = remove_correlated_features(features_new, max_correlation_value)"
      ]
    },
    {
      "cell_type": "code",
      "execution_count": null,
      "metadata": {
        "colab": {
          "base_uri": "https://localhost:8080/"
        },
        "id": "A1rT_Ci7XKTC",
        "outputId": "23525f32-38a1-4c4a-c15c-887a75980621"
      },
      "outputs": [
        {
          "data": {
            "text/plain": [
              "{'BRAF_N', 'ITSN1_N', 'pERK_N', 'pNR1_N', 'pS6_N'}"
            ]
          },
          "execution_count": 389,
          "metadata": {},
          "output_type": "execute_result"
        }
      ],
      "source": [
        "correlated_feature_columns"
      ]
    },
    {
      "cell_type": "code",
      "execution_count": null,
      "metadata": {
        "colab": {
          "base_uri": "https://localhost:8080/",
          "height": 424
        },
        "id": "d4UO5tVRLiw0",
        "outputId": "304daaf1-341c-4e20-f3e4-a2f1837640c8"
      },
      "outputs": [
        {
          "data": {
            "text/html": [
              "\n",
              "  <div id=\"df-dc68ec8e-a493-475b-9379-01c6e9902715\">\n",
              "    <div class=\"colab-df-container\">\n",
              "      <div>\n",
              "<style scoped>\n",
              "    .dataframe tbody tr th:only-of-type {\n",
              "        vertical-align: middle;\n",
              "    }\n",
              "\n",
              "    .dataframe tbody tr th {\n",
              "        vertical-align: top;\n",
              "    }\n",
              "\n",
              "    .dataframe thead th {\n",
              "        text-align: right;\n",
              "    }\n",
              "</style>\n",
              "<table border=\"1\" class=\"dataframe\">\n",
              "  <thead>\n",
              "    <tr style=\"text-align: right;\">\n",
              "      <th></th>\n",
              "      <th>DYRK1A_N</th>\n",
              "      <th>BDNF_N</th>\n",
              "      <th>NR1_N</th>\n",
              "      <th>NR2A_N</th>\n",
              "      <th>pAKT_N</th>\n",
              "      <th>pBRAF_N</th>\n",
              "      <th>pCAMKII_N</th>\n",
              "      <th>pCREB_N</th>\n",
              "      <th>pELK_N</th>\n",
              "      <th>pJNK_N</th>\n",
              "      <th>...</th>\n",
              "      <th>P3525_N</th>\n",
              "      <th>pCASP9_N</th>\n",
              "      <th>PSD95_N</th>\n",
              "      <th>SNCA_N</th>\n",
              "      <th>Ubiquitin_N</th>\n",
              "      <th>pGSK3B_Tyr216_N</th>\n",
              "      <th>SHH_N</th>\n",
              "      <th>pCFOS_N</th>\n",
              "      <th>SYP_N</th>\n",
              "      <th>CaNA_N</th>\n",
              "    </tr>\n",
              "  </thead>\n",
              "  <tbody>\n",
              "    <tr>\n",
              "      <th>0</th>\n",
              "      <td>0.141964</td>\n",
              "      <td>0.778929</td>\n",
              "      <td>0.598198</td>\n",
              "      <td>0.627323</td>\n",
              "      <td>0.418953</td>\n",
              "      <td>0.448666</td>\n",
              "      <td>0.179985</td>\n",
              "      <td>0.617322</td>\n",
              "      <td>0.232553</td>\n",
              "      <td>0.576167</td>\n",
              "      <td>...</td>\n",
              "      <td>0.169702</td>\n",
              "      <td>0.432843</td>\n",
              "      <td>0.483783</td>\n",
              "      <td>0.046679</td>\n",
              "      <td>0.256699</td>\n",
              "      <td>0.405228</td>\n",
              "      <td>0.133965</td>\n",
              "      <td>0.257612</td>\n",
              "      <td>0.336299</td>\n",
              "      <td>0.705738</td>\n",
              "    </tr>\n",
              "    <tr>\n",
              "      <th>1</th>\n",
              "      <td>0.146642</td>\n",
              "      <td>0.718187</td>\n",
              "      <td>0.586752</td>\n",
              "      <td>0.581701</td>\n",
              "      <td>0.399583</td>\n",
              "      <td>0.429899</td>\n",
              "      <td>0.165355</td>\n",
              "      <td>0.590173</td>\n",
              "      <td>0.205362</td>\n",
              "      <td>0.559556</td>\n",
              "      <td>...</td>\n",
              "      <td>0.212421</td>\n",
              "      <td>0.472327</td>\n",
              "      <td>0.477640</td>\n",
              "      <td>0.056774</td>\n",
              "      <td>0.226088</td>\n",
              "      <td>0.433471</td>\n",
              "      <td>0.193010</td>\n",
              "      <td>0.229167</td>\n",
              "      <td>0.365208</td>\n",
              "      <td>0.749771</td>\n",
              "    </tr>\n",
              "    <tr>\n",
              "      <th>2</th>\n",
              "      <td>0.144325</td>\n",
              "      <td>0.739766</td>\n",
              "      <td>0.543079</td>\n",
              "      <td>0.572284</td>\n",
              "      <td>0.392514</td>\n",
              "      <td>0.441381</td>\n",
              "      <td>0.163775</td>\n",
              "      <td>0.607102</td>\n",
              "      <td>0.199194</td>\n",
              "      <td>0.541938</td>\n",
              "      <td>...</td>\n",
              "      <td>0.202733</td>\n",
              "      <td>0.467603</td>\n",
              "      <td>0.484953</td>\n",
              "      <td>0.046425</td>\n",
              "      <td>0.214719</td>\n",
              "      <td>0.429387</td>\n",
              "      <td>0.158667</td>\n",
              "      <td>0.242637</td>\n",
              "      <td>0.353621</td>\n",
              "      <td>0.868229</td>\n",
              "    </tr>\n",
              "    <tr>\n",
              "      <th>3</th>\n",
              "      <td>0.115730</td>\n",
              "      <td>0.542794</td>\n",
              "      <td>0.449063</td>\n",
              "      <td>0.476206</td>\n",
              "      <td>0.429874</td>\n",
              "      <td>0.444307</td>\n",
              "      <td>0.140281</td>\n",
              "      <td>0.486945</td>\n",
              "      <td>0.205135</td>\n",
              "      <td>0.554293</td>\n",
              "      <td>...</td>\n",
              "      <td>0.184790</td>\n",
              "      <td>0.364359</td>\n",
              "      <td>0.449304</td>\n",
              "      <td>0.124345</td>\n",
              "      <td>0.208943</td>\n",
              "      <td>0.407971</td>\n",
              "      <td>0.150629</td>\n",
              "      <td>0.278314</td>\n",
              "      <td>0.265619</td>\n",
              "      <td>0.721879</td>\n",
              "    </tr>\n",
              "    <tr>\n",
              "      <th>4</th>\n",
              "      <td>0.112675</td>\n",
              "      <td>0.543375</td>\n",
              "      <td>0.405882</td>\n",
              "      <td>0.437206</td>\n",
              "      <td>0.403540</td>\n",
              "      <td>0.433100</td>\n",
              "      <td>0.137002</td>\n",
              "      <td>0.410194</td>\n",
              "      <td>0.189152</td>\n",
              "      <td>0.532161</td>\n",
              "      <td>...</td>\n",
              "      <td>0.187625</td>\n",
              "      <td>0.393332</td>\n",
              "      <td>0.480334</td>\n",
              "      <td>0.121953</td>\n",
              "      <td>0.215528</td>\n",
              "      <td>0.480342</td>\n",
              "      <td>0.219591</td>\n",
              "      <td>0.274295</td>\n",
              "      <td>0.350381</td>\n",
              "      <td>0.812053</td>\n",
              "    </tr>\n",
              "    <tr>\n",
              "      <th>...</th>\n",
              "      <td>...</td>\n",
              "      <td>...</td>\n",
              "      <td>...</td>\n",
              "      <td>...</td>\n",
              "      <td>...</td>\n",
              "      <td>...</td>\n",
              "      <td>...</td>\n",
              "      <td>...</td>\n",
              "      <td>...</td>\n",
              "      <td>...</td>\n",
              "      <td>...</td>\n",
              "      <td>...</td>\n",
              "      <td>...</td>\n",
              "      <td>...</td>\n",
              "      <td>...</td>\n",
              "      <td>...</td>\n",
              "      <td>...</td>\n",
              "      <td>...</td>\n",
              "      <td>...</td>\n",
              "      <td>...</td>\n",
              "      <td>...</td>\n",
              "    </tr>\n",
              "    <tr>\n",
              "      <th>757</th>\n",
              "      <td>0.095294</td>\n",
              "      <td>0.403975</td>\n",
              "      <td>0.294157</td>\n",
              "      <td>0.227277</td>\n",
              "      <td>0.461224</td>\n",
              "      <td>0.539931</td>\n",
              "      <td>0.329707</td>\n",
              "      <td>0.563483</td>\n",
              "      <td>0.138965</td>\n",
              "      <td>0.602155</td>\n",
              "      <td>...</td>\n",
              "      <td>0.439698</td>\n",
              "      <td>0.444118</td>\n",
              "      <td>0.616606</td>\n",
              "      <td>0.320227</td>\n",
              "      <td>0.336327</td>\n",
              "      <td>0.676031</td>\n",
              "      <td>0.273383</td>\n",
              "      <td>0.308771</td>\n",
              "      <td>0.364462</td>\n",
              "      <td>0.575377</td>\n",
              "    </tr>\n",
              "    <tr>\n",
              "      <th>758</th>\n",
              "      <td>0.098521</td>\n",
              "      <td>0.421390</td>\n",
              "      <td>0.328257</td>\n",
              "      <td>0.241792</td>\n",
              "      <td>0.466656</td>\n",
              "      <td>0.501075</td>\n",
              "      <td>0.361182</td>\n",
              "      <td>0.615645</td>\n",
              "      <td>0.144513</td>\n",
              "      <td>0.629199</td>\n",
              "      <td>...</td>\n",
              "      <td>0.458422</td>\n",
              "      <td>0.464179</td>\n",
              "      <td>0.639116</td>\n",
              "      <td>0.357769</td>\n",
              "      <td>0.351952</td>\n",
              "      <td>0.742991</td>\n",
              "      <td>0.240613</td>\n",
              "      <td>0.261914</td>\n",
              "      <td>0.371858</td>\n",
              "      <td>0.602682</td>\n",
              "    </tr>\n",
              "    <tr>\n",
              "      <th>759</th>\n",
              "      <td>0.090184</td>\n",
              "      <td>0.410514</td>\n",
              "      <td>0.280479</td>\n",
              "      <td>0.191231</td>\n",
              "      <td>0.528828</td>\n",
              "      <td>0.548111</td>\n",
              "      <td>0.293411</td>\n",
              "      <td>0.571988</td>\n",
              "      <td>0.144203</td>\n",
              "      <td>0.685304</td>\n",
              "      <td>...</td>\n",
              "      <td>0.428177</td>\n",
              "      <td>0.375593</td>\n",
              "      <td>0.538972</td>\n",
              "      <td>0.346172</td>\n",
              "      <td>0.387964</td>\n",
              "      <td>0.592151</td>\n",
              "      <td>0.248596</td>\n",
              "      <td>0.302178</td>\n",
              "      <td>0.327695</td>\n",
              "      <td>0.548842</td>\n",
              "    </tr>\n",
              "    <tr>\n",
              "      <th>760</th>\n",
              "      <td>0.083124</td>\n",
              "      <td>0.342682</td>\n",
              "      <td>0.251851</td>\n",
              "      <td>0.147856</td>\n",
              "      <td>0.490315</td>\n",
              "      <td>0.499328</td>\n",
              "      <td>0.282986</td>\n",
              "      <td>0.541237</td>\n",
              "      <td>0.131677</td>\n",
              "      <td>0.620211</td>\n",
              "      <td>...</td>\n",
              "      <td>0.506575</td>\n",
              "      <td>0.412586</td>\n",
              "      <td>0.602270</td>\n",
              "      <td>0.357600</td>\n",
              "      <td>0.403414</td>\n",
              "      <td>0.667230</td>\n",
              "      <td>0.177844</td>\n",
              "      <td>0.344728</td>\n",
              "      <td>0.401777</td>\n",
              "      <td>0.619962</td>\n",
              "    </tr>\n",
              "    <tr>\n",
              "      <th>761</th>\n",
              "      <td>0.083117</td>\n",
              "      <td>0.354387</td>\n",
              "      <td>0.276558</td>\n",
              "      <td>0.173129</td>\n",
              "      <td>0.499026</td>\n",
              "      <td>0.532664</td>\n",
              "      <td>0.304719</td>\n",
              "      <td>0.588951</td>\n",
              "      <td>0.139232</td>\n",
              "      <td>0.677923</td>\n",
              "      <td>...</td>\n",
              "      <td>0.500026</td>\n",
              "      <td>0.485195</td>\n",
              "      <td>0.650455</td>\n",
              "      <td>0.358582</td>\n",
              "      <td>0.465741</td>\n",
              "      <td>0.723986</td>\n",
              "      <td>0.322001</td>\n",
              "      <td>0.272824</td>\n",
              "      <td>0.330568</td>\n",
              "      <td>0.604953</td>\n",
              "    </tr>\n",
              "  </tbody>\n",
              "</table>\n",
              "<p>762 rows × 67 columns</p>\n",
              "</div>\n",
              "      <button class=\"colab-df-convert\" onclick=\"convertToInteractive('df-dc68ec8e-a493-475b-9379-01c6e9902715')\"\n",
              "              title=\"Convert this dataframe to an interactive table.\"\n",
              "              style=\"display:none;\">\n",
              "        \n",
              "  <svg xmlns=\"http://www.w3.org/2000/svg\" height=\"24px\"viewBox=\"0 0 24 24\"\n",
              "       width=\"24px\">\n",
              "    <path d=\"M0 0h24v24H0V0z\" fill=\"none\"/>\n",
              "    <path d=\"M18.56 5.44l.94 2.06.94-2.06 2.06-.94-2.06-.94-.94-2.06-.94 2.06-2.06.94zm-11 1L8.5 8.5l.94-2.06 2.06-.94-2.06-.94L8.5 2.5l-.94 2.06-2.06.94zm10 10l.94 2.06.94-2.06 2.06-.94-2.06-.94-.94-2.06-.94 2.06-2.06.94z\"/><path d=\"M17.41 7.96l-1.37-1.37c-.4-.4-.92-.59-1.43-.59-.52 0-1.04.2-1.43.59L10.3 9.45l-7.72 7.72c-.78.78-.78 2.05 0 2.83L4 21.41c.39.39.9.59 1.41.59.51 0 1.02-.2 1.41-.59l7.78-7.78 2.81-2.81c.8-.78.8-2.07 0-2.86zM5.41 20L4 18.59l7.72-7.72 1.47 1.35L5.41 20z\"/>\n",
              "  </svg>\n",
              "      </button>\n",
              "      \n",
              "  <style>\n",
              "    .colab-df-container {\n",
              "      display:flex;\n",
              "      flex-wrap:wrap;\n",
              "      gap: 12px;\n",
              "    }\n",
              "\n",
              "    .colab-df-convert {\n",
              "      background-color: #E8F0FE;\n",
              "      border: none;\n",
              "      border-radius: 50%;\n",
              "      cursor: pointer;\n",
              "      display: none;\n",
              "      fill: #1967D2;\n",
              "      height: 32px;\n",
              "      padding: 0 0 0 0;\n",
              "      width: 32px;\n",
              "    }\n",
              "\n",
              "    .colab-df-convert:hover {\n",
              "      background-color: #E2EBFA;\n",
              "      box-shadow: 0px 1px 2px rgba(60, 64, 67, 0.3), 0px 1px 3px 1px rgba(60, 64, 67, 0.15);\n",
              "      fill: #174EA6;\n",
              "    }\n",
              "\n",
              "    [theme=dark] .colab-df-convert {\n",
              "      background-color: #3B4455;\n",
              "      fill: #D2E3FC;\n",
              "    }\n",
              "\n",
              "    [theme=dark] .colab-df-convert:hover {\n",
              "      background-color: #434B5C;\n",
              "      box-shadow: 0px 1px 3px 1px rgba(0, 0, 0, 0.15);\n",
              "      filter: drop-shadow(0px 1px 2px rgba(0, 0, 0, 0.3));\n",
              "      fill: #FFFFFF;\n",
              "    }\n",
              "  </style>\n",
              "\n",
              "      <script>\n",
              "        const buttonEl =\n",
              "          document.querySelector('#df-dc68ec8e-a493-475b-9379-01c6e9902715 button.colab-df-convert');\n",
              "        buttonEl.style.display =\n",
              "          google.colab.kernel.accessAllowed ? 'block' : 'none';\n",
              "\n",
              "        async function convertToInteractive(key) {\n",
              "          const element = document.querySelector('#df-dc68ec8e-a493-475b-9379-01c6e9902715');\n",
              "          const dataTable =\n",
              "            await google.colab.kernel.invokeFunction('convertToInteractive',\n",
              "                                                     [key], {});\n",
              "          if (!dataTable) return;\n",
              "\n",
              "          const docLinkHtml = 'Like what you see? Visit the ' +\n",
              "            '<a target=\"_blank\" href=https://colab.research.google.com/notebooks/data_table.ipynb>data table notebook</a>'\n",
              "            + ' to learn more about interactive tables.';\n",
              "          element.innerHTML = '';\n",
              "          dataTable['output_type'] = 'display_data';\n",
              "          await google.colab.output.renderOutput(dataTable, element);\n",
              "          const docLink = document.createElement('div');\n",
              "          docLink.innerHTML = docLinkHtml;\n",
              "          element.appendChild(docLink);\n",
              "        }\n",
              "      </script>\n",
              "    </div>\n",
              "  </div>\n",
              "  "
            ],
            "text/plain": [
              "     DYRK1A_N    BDNF_N     NR1_N    NR2A_N    pAKT_N   pBRAF_N  pCAMKII_N  \\\n",
              "0    0.141964  0.778929  0.598198  0.627323  0.418953  0.448666   0.179985   \n",
              "1    0.146642  0.718187  0.586752  0.581701  0.399583  0.429899   0.165355   \n",
              "2    0.144325  0.739766  0.543079  0.572284  0.392514  0.441381   0.163775   \n",
              "3    0.115730  0.542794  0.449063  0.476206  0.429874  0.444307   0.140281   \n",
              "4    0.112675  0.543375  0.405882  0.437206  0.403540  0.433100   0.137002   \n",
              "..        ...       ...       ...       ...       ...       ...        ...   \n",
              "757  0.095294  0.403975  0.294157  0.227277  0.461224  0.539931   0.329707   \n",
              "758  0.098521  0.421390  0.328257  0.241792  0.466656  0.501075   0.361182   \n",
              "759  0.090184  0.410514  0.280479  0.191231  0.528828  0.548111   0.293411   \n",
              "760  0.083124  0.342682  0.251851  0.147856  0.490315  0.499328   0.282986   \n",
              "761  0.083117  0.354387  0.276558  0.173129  0.499026  0.532664   0.304719   \n",
              "\n",
              "      pCREB_N    pELK_N    pJNK_N  ...   P3525_N  pCASP9_N   PSD95_N  \\\n",
              "0    0.617322  0.232553  0.576167  ...  0.169702  0.432843  0.483783   \n",
              "1    0.590173  0.205362  0.559556  ...  0.212421  0.472327  0.477640   \n",
              "2    0.607102  0.199194  0.541938  ...  0.202733  0.467603  0.484953   \n",
              "3    0.486945  0.205135  0.554293  ...  0.184790  0.364359  0.449304   \n",
              "4    0.410194  0.189152  0.532161  ...  0.187625  0.393332  0.480334   \n",
              "..        ...       ...       ...  ...       ...       ...       ...   \n",
              "757  0.563483  0.138965  0.602155  ...  0.439698  0.444118  0.616606   \n",
              "758  0.615645  0.144513  0.629199  ...  0.458422  0.464179  0.639116   \n",
              "759  0.571988  0.144203  0.685304  ...  0.428177  0.375593  0.538972   \n",
              "760  0.541237  0.131677  0.620211  ...  0.506575  0.412586  0.602270   \n",
              "761  0.588951  0.139232  0.677923  ...  0.500026  0.485195  0.650455   \n",
              "\n",
              "       SNCA_N  Ubiquitin_N  pGSK3B_Tyr216_N     SHH_N   pCFOS_N     SYP_N  \\\n",
              "0    0.046679     0.256699         0.405228  0.133965  0.257612  0.336299   \n",
              "1    0.056774     0.226088         0.433471  0.193010  0.229167  0.365208   \n",
              "2    0.046425     0.214719         0.429387  0.158667  0.242637  0.353621   \n",
              "3    0.124345     0.208943         0.407971  0.150629  0.278314  0.265619   \n",
              "4    0.121953     0.215528         0.480342  0.219591  0.274295  0.350381   \n",
              "..        ...          ...              ...       ...       ...       ...   \n",
              "757  0.320227     0.336327         0.676031  0.273383  0.308771  0.364462   \n",
              "758  0.357769     0.351952         0.742991  0.240613  0.261914  0.371858   \n",
              "759  0.346172     0.387964         0.592151  0.248596  0.302178  0.327695   \n",
              "760  0.357600     0.403414         0.667230  0.177844  0.344728  0.401777   \n",
              "761  0.358582     0.465741         0.723986  0.322001  0.272824  0.330568   \n",
              "\n",
              "       CaNA_N  \n",
              "0    0.705738  \n",
              "1    0.749771  \n",
              "2    0.868229  \n",
              "3    0.721879  \n",
              "4    0.812053  \n",
              "..        ...  \n",
              "757  0.575377  \n",
              "758  0.602682  \n",
              "759  0.548842  \n",
              "760  0.619962  \n",
              "761  0.604953  \n",
              "\n",
              "[762 rows x 67 columns]"
            ]
          },
          "execution_count": 390,
          "metadata": {},
          "output_type": "execute_result"
        }
      ],
      "source": [
        "training_features"
      ]
    },
    {
      "cell_type": "code",
      "execution_count": null,
      "metadata": {
        "colab": {
          "base_uri": "https://localhost:8080/"
        },
        "id": "nTy94R8Lm_NR",
        "outputId": "af91e56e-dcd5-467f-e8e0-7ccd2e1b4a35"
      },
      "outputs": [
        {
          "data": {
            "text/plain": [
              "(762, 67)"
            ]
          },
          "execution_count": 391,
          "metadata": {},
          "output_type": "execute_result"
        }
      ],
      "source": [
        "training_features.shape"
      ]
    },
    {
      "cell_type": "markdown",
      "metadata": {
        "id": "5uCDU0BUYRtN"
      },
      "source": [
        "Question 5 :  Classification 1 : Binary Classification"
      ]
    },
    {
      "cell_type": "code",
      "execution_count": null,
      "metadata": {
        "id": "NYwawIP__spZ"
      },
      "outputs": [],
      "source": [
        "training_label = Data['Genotype']\n",
        "label = LabelEncoder()                         ## LabelEncoder() has been used to convert categorical values into numerical values, ML algorithms can not perform with categorical values\n",
        "y_train = label.fit_transform(training_label)   ## fit and transform the categorical label "
      ]
    },
    {
      "cell_type": "markdown",
      "metadata": {
        "id": "nk4SxKkRgH6A"
      },
      "source": [
        "Linear SVM"
      ]
    },
    {
      "cell_type": "code",
      "execution_count": null,
      "metadata": {
        "id": "YWXzOgqvZHiu"
      },
      "outputs": [],
      "source": [
        "# This function takes training features and labels as inputs and returns cross-validation results, best_parameter and best cross-validation score\n",
        "def Linear_SVM(x,y):\n",
        "  parameters = { 'C' : [0.1 ,1 ,10 , 100] , 'kernel' : ['linear'] }     ## Linear kearnel has been used, so only hyperparameter is C (regularization value)\n",
        "  SVM_linear_clf = GridSearchCV(SVC(), param_grid = parameters, cv = 5)  ## GridSearchCV has been used to get the different hyperparameter tuned results with 5 cross-validation\n",
        "  SVM_linear_clf.fit( x, y )                                             ## fit the training features and labels using best hyperparameter from GridSearchCV\n",
        "  return  pd.DataFrame(SVM_linear_clf.cv_results_) , SVM_linear_clf.best_params_ ,  SVM_linear_clf.best_score_ "
      ]
    },
    {
      "cell_type": "code",
      "execution_count": null,
      "metadata": {
        "id": "l8eCVGncZI4-"
      },
      "outputs": [],
      "source": [
        "Linear_SVM_result , best_parameter_linear_SVM , best_score_linear_SVM = Linear_SVM(training_features, y_train)"
      ]
    },
    {
      "cell_type": "code",
      "execution_count": null,
      "metadata": {
        "colab": {
          "base_uri": "https://localhost:8080/",
          "height": 412
        },
        "id": "f0hebD7Rfi1N",
        "outputId": "683599a2-8596-4386-ddfc-4dbbe4107541"
      },
      "outputs": [
        {
          "data": {
            "text/html": [
              "\n",
              "  <div id=\"df-4964b6a6-2edc-4c69-a1e0-7c4a7e56f111\">\n",
              "    <div class=\"colab-df-container\">\n",
              "      <div>\n",
              "<style scoped>\n",
              "    .dataframe tbody tr th:only-of-type {\n",
              "        vertical-align: middle;\n",
              "    }\n",
              "\n",
              "    .dataframe tbody tr th {\n",
              "        vertical-align: top;\n",
              "    }\n",
              "\n",
              "    .dataframe thead th {\n",
              "        text-align: right;\n",
              "    }\n",
              "</style>\n",
              "<table border=\"1\" class=\"dataframe\">\n",
              "  <thead>\n",
              "    <tr style=\"text-align: right;\">\n",
              "      <th></th>\n",
              "      <th>mean_fit_time</th>\n",
              "      <th>std_fit_time</th>\n",
              "      <th>mean_score_time</th>\n",
              "      <th>std_score_time</th>\n",
              "      <th>param_C</th>\n",
              "      <th>param_kernel</th>\n",
              "      <th>params</th>\n",
              "      <th>split0_test_score</th>\n",
              "      <th>split1_test_score</th>\n",
              "      <th>split2_test_score</th>\n",
              "      <th>split3_test_score</th>\n",
              "      <th>split4_test_score</th>\n",
              "      <th>mean_test_score</th>\n",
              "      <th>std_test_score</th>\n",
              "      <th>rank_test_score</th>\n",
              "    </tr>\n",
              "  </thead>\n",
              "  <tbody>\n",
              "    <tr>\n",
              "      <th>0</th>\n",
              "      <td>0.018042</td>\n",
              "      <td>0.004151</td>\n",
              "      <td>0.005649</td>\n",
              "      <td>0.001097</td>\n",
              "      <td>0.1</td>\n",
              "      <td>linear</td>\n",
              "      <td>{'C': 0.1, 'kernel': 'linear'}</td>\n",
              "      <td>0.725490</td>\n",
              "      <td>0.738562</td>\n",
              "      <td>0.723684</td>\n",
              "      <td>0.684211</td>\n",
              "      <td>0.835526</td>\n",
              "      <td>0.741495</td>\n",
              "      <td>0.050409</td>\n",
              "      <td>3</td>\n",
              "    </tr>\n",
              "    <tr>\n",
              "      <th>1</th>\n",
              "      <td>0.012303</td>\n",
              "      <td>0.000977</td>\n",
              "      <td>0.003917</td>\n",
              "      <td>0.000039</td>\n",
              "      <td>1</td>\n",
              "      <td>linear</td>\n",
              "      <td>{'C': 1, 'kernel': 'linear'}</td>\n",
              "      <td>0.830065</td>\n",
              "      <td>0.803922</td>\n",
              "      <td>0.743421</td>\n",
              "      <td>0.690789</td>\n",
              "      <td>0.888158</td>\n",
              "      <td>0.791271</td>\n",
              "      <td>0.068466</td>\n",
              "      <td>1</td>\n",
              "    </tr>\n",
              "    <tr>\n",
              "      <th>2</th>\n",
              "      <td>0.011657</td>\n",
              "      <td>0.000896</td>\n",
              "      <td>0.003071</td>\n",
              "      <td>0.000069</td>\n",
              "      <td>10</td>\n",
              "      <td>linear</td>\n",
              "      <td>{'C': 10, 'kernel': 'linear'}</td>\n",
              "      <td>0.810458</td>\n",
              "      <td>0.836601</td>\n",
              "      <td>0.684211</td>\n",
              "      <td>0.657895</td>\n",
              "      <td>0.868421</td>\n",
              "      <td>0.771517</td>\n",
              "      <td>0.084469</td>\n",
              "      <td>2</td>\n",
              "    </tr>\n",
              "    <tr>\n",
              "      <th>3</th>\n",
              "      <td>0.016619</td>\n",
              "      <td>0.001832</td>\n",
              "      <td>0.002933</td>\n",
              "      <td>0.000117</td>\n",
              "      <td>100</td>\n",
              "      <td>linear</td>\n",
              "      <td>{'C': 100, 'kernel': 'linear'}</td>\n",
              "      <td>0.784314</td>\n",
              "      <td>0.816993</td>\n",
              "      <td>0.598684</td>\n",
              "      <td>0.572368</td>\n",
              "      <td>0.730263</td>\n",
              "      <td>0.700525</td>\n",
              "      <td>0.098250</td>\n",
              "      <td>4</td>\n",
              "    </tr>\n",
              "  </tbody>\n",
              "</table>\n",
              "</div>\n",
              "      <button class=\"colab-df-convert\" onclick=\"convertToInteractive('df-4964b6a6-2edc-4c69-a1e0-7c4a7e56f111')\"\n",
              "              title=\"Convert this dataframe to an interactive table.\"\n",
              "              style=\"display:none;\">\n",
              "        \n",
              "  <svg xmlns=\"http://www.w3.org/2000/svg\" height=\"24px\"viewBox=\"0 0 24 24\"\n",
              "       width=\"24px\">\n",
              "    <path d=\"M0 0h24v24H0V0z\" fill=\"none\"/>\n",
              "    <path d=\"M18.56 5.44l.94 2.06.94-2.06 2.06-.94-2.06-.94-.94-2.06-.94 2.06-2.06.94zm-11 1L8.5 8.5l.94-2.06 2.06-.94-2.06-.94L8.5 2.5l-.94 2.06-2.06.94zm10 10l.94 2.06.94-2.06 2.06-.94-2.06-.94-.94-2.06-.94 2.06-2.06.94z\"/><path d=\"M17.41 7.96l-1.37-1.37c-.4-.4-.92-.59-1.43-.59-.52 0-1.04.2-1.43.59L10.3 9.45l-7.72 7.72c-.78.78-.78 2.05 0 2.83L4 21.41c.39.39.9.59 1.41.59.51 0 1.02-.2 1.41-.59l7.78-7.78 2.81-2.81c.8-.78.8-2.07 0-2.86zM5.41 20L4 18.59l7.72-7.72 1.47 1.35L5.41 20z\"/>\n",
              "  </svg>\n",
              "      </button>\n",
              "      \n",
              "  <style>\n",
              "    .colab-df-container {\n",
              "      display:flex;\n",
              "      flex-wrap:wrap;\n",
              "      gap: 12px;\n",
              "    }\n",
              "\n",
              "    .colab-df-convert {\n",
              "      background-color: #E8F0FE;\n",
              "      border: none;\n",
              "      border-radius: 50%;\n",
              "      cursor: pointer;\n",
              "      display: none;\n",
              "      fill: #1967D2;\n",
              "      height: 32px;\n",
              "      padding: 0 0 0 0;\n",
              "      width: 32px;\n",
              "    }\n",
              "\n",
              "    .colab-df-convert:hover {\n",
              "      background-color: #E2EBFA;\n",
              "      box-shadow: 0px 1px 2px rgba(60, 64, 67, 0.3), 0px 1px 3px 1px rgba(60, 64, 67, 0.15);\n",
              "      fill: #174EA6;\n",
              "    }\n",
              "\n",
              "    [theme=dark] .colab-df-convert {\n",
              "      background-color: #3B4455;\n",
              "      fill: #D2E3FC;\n",
              "    }\n",
              "\n",
              "    [theme=dark] .colab-df-convert:hover {\n",
              "      background-color: #434B5C;\n",
              "      box-shadow: 0px 1px 3px 1px rgba(0, 0, 0, 0.15);\n",
              "      filter: drop-shadow(0px 1px 2px rgba(0, 0, 0, 0.3));\n",
              "      fill: #FFFFFF;\n",
              "    }\n",
              "  </style>\n",
              "\n",
              "      <script>\n",
              "        const buttonEl =\n",
              "          document.querySelector('#df-4964b6a6-2edc-4c69-a1e0-7c4a7e56f111 button.colab-df-convert');\n",
              "        buttonEl.style.display =\n",
              "          google.colab.kernel.accessAllowed ? 'block' : 'none';\n",
              "\n",
              "        async function convertToInteractive(key) {\n",
              "          const element = document.querySelector('#df-4964b6a6-2edc-4c69-a1e0-7c4a7e56f111');\n",
              "          const dataTable =\n",
              "            await google.colab.kernel.invokeFunction('convertToInteractive',\n",
              "                                                     [key], {});\n",
              "          if (!dataTable) return;\n",
              "\n",
              "          const docLinkHtml = 'Like what you see? Visit the ' +\n",
              "            '<a target=\"_blank\" href=https://colab.research.google.com/notebooks/data_table.ipynb>data table notebook</a>'\n",
              "            + ' to learn more about interactive tables.';\n",
              "          element.innerHTML = '';\n",
              "          dataTable['output_type'] = 'display_data';\n",
              "          await google.colab.output.renderOutput(dataTable, element);\n",
              "          const docLink = document.createElement('div');\n",
              "          docLink.innerHTML = docLinkHtml;\n",
              "          element.appendChild(docLink);\n",
              "        }\n",
              "      </script>\n",
              "    </div>\n",
              "  </div>\n",
              "  "
            ],
            "text/plain": [
              "   mean_fit_time  std_fit_time  mean_score_time  std_score_time param_C  \\\n",
              "0       0.018042      0.004151         0.005649        0.001097     0.1   \n",
              "1       0.012303      0.000977         0.003917        0.000039       1   \n",
              "2       0.011657      0.000896         0.003071        0.000069      10   \n",
              "3       0.016619      0.001832         0.002933        0.000117     100   \n",
              "\n",
              "  param_kernel                          params  split0_test_score  \\\n",
              "0       linear  {'C': 0.1, 'kernel': 'linear'}           0.725490   \n",
              "1       linear    {'C': 1, 'kernel': 'linear'}           0.830065   \n",
              "2       linear   {'C': 10, 'kernel': 'linear'}           0.810458   \n",
              "3       linear  {'C': 100, 'kernel': 'linear'}           0.784314   \n",
              "\n",
              "   split1_test_score  split2_test_score  split3_test_score  split4_test_score  \\\n",
              "0           0.738562           0.723684           0.684211           0.835526   \n",
              "1           0.803922           0.743421           0.690789           0.888158   \n",
              "2           0.836601           0.684211           0.657895           0.868421   \n",
              "3           0.816993           0.598684           0.572368           0.730263   \n",
              "\n",
              "   mean_test_score  std_test_score  rank_test_score  \n",
              "0         0.741495        0.050409                3  \n",
              "1         0.791271        0.068466                1  \n",
              "2         0.771517        0.084469                2  \n",
              "3         0.700525        0.098250                4  "
            ]
          },
          "execution_count": 33,
          "metadata": {},
          "output_type": "execute_result"
        }
      ],
      "source": [
        "Linear_SVM_result"
      ]
    },
    {
      "cell_type": "code",
      "execution_count": null,
      "metadata": {
        "colab": {
          "base_uri": "https://localhost:8080/"
        },
        "id": "1yJMiSujfzCN",
        "outputId": "70a9108a-4f8a-434f-ac33-4ed529d097a6"
      },
      "outputs": [
        {
          "name": "stdout",
          "output_type": "stream",
          "text": [
            "best hyperparameter using Linear SVM is :  {'C': 1, 'kernel': 'linear'}\n"
          ]
        }
      ],
      "source": [
        "print('best hyperparameter using Linear SVM is : ' , best_parameter_linear_SVM)"
      ]
    },
    {
      "cell_type": "code",
      "execution_count": null,
      "metadata": {
        "colab": {
          "base_uri": "https://localhost:8080/"
        },
        "id": "OFtmnyJ0iowv",
        "outputId": "52f03bb3-a2aa-40f7-d6ff-bac2cd5f88a2"
      },
      "outputs": [
        {
          "name": "stdout",
          "output_type": "stream",
          "text": [
            "best cross-validation score using Linear SVM is :  0.7912710698314414\n"
          ]
        }
      ],
      "source": [
        "print('best cross-validation score using Linear SVM is : ' , best_score_linear_SVM)"
      ]
    },
    {
      "cell_type": "code",
      "execution_count": null,
      "metadata": {
        "id": "UMUoXIQ6gA6f"
      },
      "outputs": [],
      "source": [
        "Linear_SVM = SVC( C = 1 , kernel = 'linear' )  ## now using best hypermeter obtained from GridSearchCV to fit the training features and training Labels\n",
        "Linear_SVM.fit( training_features , y_train)\n",
        "y_predicted_Linear_SVM = Linear_SVM.predict(training_features)    ## predict the Training features"
      ]
    },
    {
      "cell_type": "code",
      "execution_count": null,
      "metadata": {
        "colab": {
          "base_uri": "https://localhost:8080/"
        },
        "id": "nAZcPzNgGMVC",
        "outputId": "9a9ef9ae-e888-4e7c-a5f2-d20131abfc8f"
      },
      "outputs": [
        {
          "name": "stdout",
          "output_type": "stream",
          "text": [
            "              precision    recall  f1-score   support\n",
            "\n",
            "           0       0.97      0.99      0.98       435\n",
            "           1       0.99      0.96      0.98       327\n",
            "\n",
            "    accuracy                           0.98       762\n",
            "   macro avg       0.98      0.98      0.98       762\n",
            "weighted avg       0.98      0.98      0.98       762\n",
            "\n"
          ]
        }
      ],
      "source": [
        "print(classification_report(y_train , y_predicted_Linear_SVM ))      ## It gives the classification report (accuracy , precision , recall , f1-score values)"
      ]
    },
    {
      "cell_type": "code",
      "execution_count": null,
      "metadata": {
        "colab": {
          "base_uri": "https://localhost:8080/",
          "height": 312
        },
        "id": "m38BTMAMGMdS",
        "outputId": "c6b1c400-2a00-45fd-c23b-340f5b8a0456"
      },
      "outputs": [
        {
          "data": {
            "text/plain": [
              "[Text(0, 0.5, 'Control'), Text(0, 1.5, 'Ts65Dn')]"
            ]
          },
          "execution_count": 38,
          "metadata": {},
          "output_type": "execute_result"
        },
        {
          "data": {
            "image/png": "[encoded data removed]",
            "text/plain": [
              "<Figure size 432x288 with 2 Axes>"
            ]
          },
          "metadata": {
            "needs_background": "light"
          },
          "output_type": "display_data"
        }
      ],
      "source": [
        "cm_Linear_SVM = confusion_matrix(y_train , y_predicted_Linear_SVM)  ## it results the confusion matrix using Linear SVM\n",
        "ax=plt.subplot()\n",
        "sns.heatmap(cm_Linear_SVM , annot=True)\n",
        "ax.set_xlabel('Predicted labels')\n",
        "ax.set_ylabel('True labels') \n",
        "ax.set_title('Training Confusion Matrix')\n",
        "ax.xaxis.set_ticklabels(['Control', 'Ts65Dn'])\n",
        "ax.yaxis.set_ticklabels(['Control', 'Ts65Dn'])"
      ]
    },
    {
      "cell_type": "markdown",
      "metadata": {
        "id": "uNUKf34QbHaT"
      },
      "source": [
        "Same process has been followed up for other classifiers also, but with changing classifiers , hyperparameters are changing accordingly"
      ]
    },
    {
      "cell_type": "markdown",
      "metadata": {
        "id": "XdNesWyPgMvW"
      },
      "source": [
        "RBF Kernel SVM"
      ]
    },
    {
      "cell_type": "code",
      "execution_count": null,
      "metadata": {
        "id": "Y5kcy1fTgD8O"
      },
      "outputs": [],
      "source": [
        "def RBF_SVM(x,y):\n",
        "  parameters = { 'C' : [0.1 ,1 ,10 , 100] , 'gamma' : [ 0.0001, 0.001, 0.01, 0.1, 1, 10 ], 'kernel' : ['rbf'] }   ## RBF kearnel has been used with SVM, so hyperparameters are C (regularization) and gamma (kernel_width)\n",
        "  SVM_RBF_clf = GridSearchCV(SVC(), param_grid = parameters, cv = 5)\n",
        "  SVM_RBF_clf.fit( x, y )\n",
        "  return pd.DataFrame(SVM_RBF_clf.cv_results_) , SVM_RBF_clf.best_params_ , SVM_RBF_clf.best_score_ "
      ]
    },
    {
      "cell_type": "code",
      "execution_count": null,
      "metadata": {
        "id": "qyUObGZqgeEe"
      },
      "outputs": [],
      "source": [
        "RBF_SVM_result , best_parameter_RBF_SVM , best_score_RBF_SVM  = RBF_SVM(training_features, y_train)"
      ]
    },
    {
      "cell_type": "code",
      "execution_count": null,
      "metadata": {
        "colab": {
          "base_uri": "https://localhost:8080/",
          "height": 1000
        },
        "id": "0-DDZj8ihebj",
        "outputId": "be5494a4-8941-4de4-a135-e7b47ff6177e"
      },
      "outputs": [
        {
          "data": {
            "text/html": [
              "\n",
              "  <div id=\"df-2a0a2e8f-8643-4ed1-8c0f-147799f0cf05\">\n",
              "    <div class=\"colab-df-container\">\n",
              "      <div>\n",
              "<style scoped>\n",
              "    .dataframe tbody tr th:only-of-type {\n",
              "        vertical-align: middle;\n",
              "    }\n",
              "\n",
              "    .dataframe tbody tr th {\n",
              "        vertical-align: top;\n",
              "    }\n",
              "\n",
              "    .dataframe thead th {\n",
              "        text-align: right;\n",
              "    }\n",
              "</style>\n",
              "<table border=\"1\" class=\"dataframe\">\n",
              "  <thead>\n",
              "    <tr style=\"text-align: right;\">\n",
              "      <th></th>\n",
              "      <th>mean_fit_time</th>\n",
              "      <th>std_fit_time</th>\n",
              "      <th>mean_score_time</th>\n",
              "      <th>std_score_time</th>\n",
              "      <th>param_C</th>\n",
              "      <th>param_gamma</th>\n",
              "      <th>param_kernel</th>\n",
              "      <th>params</th>\n",
              "      <th>split0_test_score</th>\n",
              "      <th>split1_test_score</th>\n",
              "      <th>split2_test_score</th>\n",
              "      <th>split3_test_score</th>\n",
              "      <th>split4_test_score</th>\n",
              "      <th>mean_test_score</th>\n",
              "      <th>std_test_score</th>\n",
              "      <th>rank_test_score</th>\n",
              "    </tr>\n",
              "  </thead>\n",
              "  <tbody>\n",
              "    <tr>\n",
              "      <th>0</th>\n",
              "      <td>0.037352</td>\n",
              "      <td>0.004652</td>\n",
              "      <td>0.017966</td>\n",
              "      <td>0.001711</td>\n",
              "      <td>0.1</td>\n",
              "      <td>0.0001</td>\n",
              "      <td>rbf</td>\n",
              "      <td>{'C': 0.1, 'gamma': 0.0001, 'kernel': 'rbf'}</td>\n",
              "      <td>0.568627</td>\n",
              "      <td>0.568627</td>\n",
              "      <td>0.572368</td>\n",
              "      <td>0.572368</td>\n",
              "      <td>0.572368</td>\n",
              "      <td>0.570872</td>\n",
              "      <td>0.001833</td>\n",
              "      <td>18</td>\n",
              "    </tr>\n",
              "    <tr>\n",
              "      <th>1</th>\n",
              "      <td>0.036409</td>\n",
              "      <td>0.002227</td>\n",
              "      <td>0.016985</td>\n",
              "      <td>0.000219</td>\n",
              "      <td>0.1</td>\n",
              "      <td>0.001</td>\n",
              "      <td>rbf</td>\n",
              "      <td>{'C': 0.1, 'gamma': 0.001, 'kernel': 'rbf'}</td>\n",
              "      <td>0.568627</td>\n",
              "      <td>0.568627</td>\n",
              "      <td>0.572368</td>\n",
              "      <td>0.572368</td>\n",
              "      <td>0.572368</td>\n",
              "      <td>0.570872</td>\n",
              "      <td>0.001833</td>\n",
              "      <td>18</td>\n",
              "    </tr>\n",
              "    <tr>\n",
              "      <th>2</th>\n",
              "      <td>0.035103</td>\n",
              "      <td>0.001525</td>\n",
              "      <td>0.017330</td>\n",
              "      <td>0.000356</td>\n",
              "      <td>0.1</td>\n",
              "      <td>0.01</td>\n",
              "      <td>rbf</td>\n",
              "      <td>{'C': 0.1, 'gamma': 0.01, 'kernel': 'rbf'}</td>\n",
              "      <td>0.568627</td>\n",
              "      <td>0.568627</td>\n",
              "      <td>0.572368</td>\n",
              "      <td>0.572368</td>\n",
              "      <td>0.572368</td>\n",
              "      <td>0.570872</td>\n",
              "      <td>0.001833</td>\n",
              "      <td>18</td>\n",
              "    </tr>\n",
              "    <tr>\n",
              "      <th>3</th>\n",
              "      <td>0.026188</td>\n",
              "      <td>0.003051</td>\n",
              "      <td>0.010352</td>\n",
              "      <td>0.000878</td>\n",
              "      <td>0.1</td>\n",
              "      <td>0.1</td>\n",
              "      <td>rbf</td>\n",
              "      <td>{'C': 0.1, 'gamma': 0.1, 'kernel': 'rbf'}</td>\n",
              "      <td>0.568627</td>\n",
              "      <td>0.568627</td>\n",
              "      <td>0.572368</td>\n",
              "      <td>0.710526</td>\n",
              "      <td>0.572368</td>\n",
              "      <td>0.598504</td>\n",
              "      <td>0.056036</td>\n",
              "      <td>10</td>\n",
              "    </tr>\n",
              "    <tr>\n",
              "      <th>4</th>\n",
              "      <td>0.025678</td>\n",
              "      <td>0.003672</td>\n",
              "      <td>0.011544</td>\n",
              "      <td>0.002471</td>\n",
              "      <td>0.1</td>\n",
              "      <td>1</td>\n",
              "      <td>rbf</td>\n",
              "      <td>{'C': 0.1, 'gamma': 1, 'kernel': 'rbf'}</td>\n",
              "      <td>0.588235</td>\n",
              "      <td>0.601307</td>\n",
              "      <td>0.532895</td>\n",
              "      <td>0.493421</td>\n",
              "      <td>0.730263</td>\n",
              "      <td>0.589224</td>\n",
              "      <td>0.080486</td>\n",
              "      <td>14</td>\n",
              "    </tr>\n",
              "    <tr>\n",
              "      <th>5</th>\n",
              "      <td>0.028379</td>\n",
              "      <td>0.000727</td>\n",
              "      <td>0.010796</td>\n",
              "      <td>0.000039</td>\n",
              "      <td>0.1</td>\n",
              "      <td>10</td>\n",
              "      <td>rbf</td>\n",
              "      <td>{'C': 0.1, 'gamma': 10, 'kernel': 'rbf'}</td>\n",
              "      <td>0.568627</td>\n",
              "      <td>0.568627</td>\n",
              "      <td>0.572368</td>\n",
              "      <td>0.572368</td>\n",
              "      <td>0.572368</td>\n",
              "      <td>0.570872</td>\n",
              "      <td>0.001833</td>\n",
              "      <td>18</td>\n",
              "    </tr>\n",
              "    <tr>\n",
              "      <th>6</th>\n",
              "      <td>0.026774</td>\n",
              "      <td>0.002788</td>\n",
              "      <td>0.011172</td>\n",
              "      <td>0.002408</td>\n",
              "      <td>1</td>\n",
              "      <td>0.0001</td>\n",
              "      <td>rbf</td>\n",
              "      <td>{'C': 1, 'gamma': 0.0001, 'kernel': 'rbf'}</td>\n",
              "      <td>0.568627</td>\n",
              "      <td>0.568627</td>\n",
              "      <td>0.572368</td>\n",
              "      <td>0.572368</td>\n",
              "      <td>0.572368</td>\n",
              "      <td>0.570872</td>\n",
              "      <td>0.001833</td>\n",
              "      <td>18</td>\n",
              "    </tr>\n",
              "    <tr>\n",
              "      <th>7</th>\n",
              "      <td>0.024086</td>\n",
              "      <td>0.000455</td>\n",
              "      <td>0.010812</td>\n",
              "      <td>0.002230</td>\n",
              "      <td>1</td>\n",
              "      <td>0.001</td>\n",
              "      <td>rbf</td>\n",
              "      <td>{'C': 1, 'gamma': 0.001, 'kernel': 'rbf'}</td>\n",
              "      <td>0.568627</td>\n",
              "      <td>0.568627</td>\n",
              "      <td>0.572368</td>\n",
              "      <td>0.572368</td>\n",
              "      <td>0.572368</td>\n",
              "      <td>0.570872</td>\n",
              "      <td>0.001833</td>\n",
              "      <td>18</td>\n",
              "    </tr>\n",
              "    <tr>\n",
              "      <th>8</th>\n",
              "      <td>0.023751</td>\n",
              "      <td>0.000675</td>\n",
              "      <td>0.009604</td>\n",
              "      <td>0.000058</td>\n",
              "      <td>1</td>\n",
              "      <td>0.01</td>\n",
              "      <td>rbf</td>\n",
              "      <td>{'C': 1, 'gamma': 0.01, 'kernel': 'rbf'}</td>\n",
              "      <td>0.568627</td>\n",
              "      <td>0.594771</td>\n",
              "      <td>0.526316</td>\n",
              "      <td>0.592105</td>\n",
              "      <td>0.598684</td>\n",
              "      <td>0.576101</td>\n",
              "      <td>0.027015</td>\n",
              "      <td>17</td>\n",
              "    </tr>\n",
              "    <tr>\n",
              "      <th>9</th>\n",
              "      <td>0.018348</td>\n",
              "      <td>0.001240</td>\n",
              "      <td>0.007414</td>\n",
              "      <td>0.000227</td>\n",
              "      <td>1</td>\n",
              "      <td>0.1</td>\n",
              "      <td>rbf</td>\n",
              "      <td>{'C': 1, 'gamma': 0.1, 'kernel': 'rbf'}</td>\n",
              "      <td>0.777778</td>\n",
              "      <td>0.771242</td>\n",
              "      <td>0.756579</td>\n",
              "      <td>0.677632</td>\n",
              "      <td>0.848684</td>\n",
              "      <td>0.766383</td>\n",
              "      <td>0.054589</td>\n",
              "      <td>5</td>\n",
              "    </tr>\n",
              "    <tr>\n",
              "      <th>10</th>\n",
              "      <td>0.016530</td>\n",
              "      <td>0.000765</td>\n",
              "      <td>0.006182</td>\n",
              "      <td>0.000308</td>\n",
              "      <td>1</td>\n",
              "      <td>1</td>\n",
              "      <td>rbf</td>\n",
              "      <td>{'C': 1, 'gamma': 1, 'kernel': 'rbf'}</td>\n",
              "      <td>0.816993</td>\n",
              "      <td>0.633987</td>\n",
              "      <td>0.618421</td>\n",
              "      <td>0.710526</td>\n",
              "      <td>0.802632</td>\n",
              "      <td>0.716512</td>\n",
              "      <td>0.082439</td>\n",
              "      <td>9</td>\n",
              "    </tr>\n",
              "    <tr>\n",
              "      <th>11</th>\n",
              "      <td>0.032723</td>\n",
              "      <td>0.002670</td>\n",
              "      <td>0.011997</td>\n",
              "      <td>0.002145</td>\n",
              "      <td>1</td>\n",
              "      <td>10</td>\n",
              "      <td>rbf</td>\n",
              "      <td>{'C': 1, 'gamma': 10, 'kernel': 'rbf'}</td>\n",
              "      <td>0.581699</td>\n",
              "      <td>0.581699</td>\n",
              "      <td>0.585526</td>\n",
              "      <td>0.618421</td>\n",
              "      <td>0.578947</td>\n",
              "      <td>0.589259</td>\n",
              "      <td>0.014731</td>\n",
              "      <td>11</td>\n",
              "    </tr>\n",
              "    <tr>\n",
              "      <th>12</th>\n",
              "      <td>0.024822</td>\n",
              "      <td>0.003228</td>\n",
              "      <td>0.009729</td>\n",
              "      <td>0.000074</td>\n",
              "      <td>10</td>\n",
              "      <td>0.0001</td>\n",
              "      <td>rbf</td>\n",
              "      <td>{'C': 10, 'gamma': 0.0001, 'kernel': 'rbf'}</td>\n",
              "      <td>0.568627</td>\n",
              "      <td>0.568627</td>\n",
              "      <td>0.572368</td>\n",
              "      <td>0.572368</td>\n",
              "      <td>0.572368</td>\n",
              "      <td>0.570872</td>\n",
              "      <td>0.001833</td>\n",
              "      <td>18</td>\n",
              "    </tr>\n",
              "    <tr>\n",
              "      <th>13</th>\n",
              "      <td>0.024652</td>\n",
              "      <td>0.000995</td>\n",
              "      <td>0.012669</td>\n",
              "      <td>0.002490</td>\n",
              "      <td>10</td>\n",
              "      <td>0.001</td>\n",
              "      <td>rbf</td>\n",
              "      <td>{'C': 10, 'gamma': 0.001, 'kernel': 'rbf'}</td>\n",
              "      <td>0.568627</td>\n",
              "      <td>0.627451</td>\n",
              "      <td>0.526316</td>\n",
              "      <td>0.592105</td>\n",
              "      <td>0.605263</td>\n",
              "      <td>0.583953</td>\n",
              "      <td>0.034553</td>\n",
              "      <td>15</td>\n",
              "    </tr>\n",
              "    <tr>\n",
              "      <th>14</th>\n",
              "      <td>0.018139</td>\n",
              "      <td>0.000868</td>\n",
              "      <td>0.010873</td>\n",
              "      <td>0.000705</td>\n",
              "      <td>10</td>\n",
              "      <td>0.01</td>\n",
              "      <td>rbf</td>\n",
              "      <td>{'C': 10, 'gamma': 0.01, 'kernel': 'rbf'}</td>\n",
              "      <td>0.816993</td>\n",
              "      <td>0.777778</td>\n",
              "      <td>0.756579</td>\n",
              "      <td>0.677632</td>\n",
              "      <td>0.881579</td>\n",
              "      <td>0.782112</td>\n",
              "      <td>0.067375</td>\n",
              "      <td>3</td>\n",
              "    </tr>\n",
              "    <tr>\n",
              "      <th>15</th>\n",
              "      <td>0.011728</td>\n",
              "      <td>0.000560</td>\n",
              "      <td>0.005973</td>\n",
              "      <td>0.000435</td>\n",
              "      <td>10</td>\n",
              "      <td>0.1</td>\n",
              "      <td>rbf</td>\n",
              "      <td>{'C': 10, 'gamma': 0.1, 'kernel': 'rbf'}</td>\n",
              "      <td>0.947712</td>\n",
              "      <td>0.797386</td>\n",
              "      <td>0.677632</td>\n",
              "      <td>0.684211</td>\n",
              "      <td>0.888158</td>\n",
              "      <td>0.799020</td>\n",
              "      <td>0.107679</td>\n",
              "      <td>2</td>\n",
              "    </tr>\n",
              "    <tr>\n",
              "      <th>16</th>\n",
              "      <td>0.015592</td>\n",
              "      <td>0.000976</td>\n",
              "      <td>0.007510</td>\n",
              "      <td>0.001291</td>\n",
              "      <td>10</td>\n",
              "      <td>1</td>\n",
              "      <td>rbf</td>\n",
              "      <td>{'C': 10, 'gamma': 1, 'kernel': 'rbf'}</td>\n",
              "      <td>0.816993</td>\n",
              "      <td>0.633987</td>\n",
              "      <td>0.618421</td>\n",
              "      <td>0.717105</td>\n",
              "      <td>0.802632</td>\n",
              "      <td>0.717828</td>\n",
              "      <td>0.082386</td>\n",
              "      <td>7</td>\n",
              "    </tr>\n",
              "    <tr>\n",
              "      <th>17</th>\n",
              "      <td>0.033052</td>\n",
              "      <td>0.003107</td>\n",
              "      <td>0.011868</td>\n",
              "      <td>0.001057</td>\n",
              "      <td>10</td>\n",
              "      <td>10</td>\n",
              "      <td>rbf</td>\n",
              "      <td>{'C': 10, 'gamma': 10, 'kernel': 'rbf'}</td>\n",
              "      <td>0.581699</td>\n",
              "      <td>0.581699</td>\n",
              "      <td>0.585526</td>\n",
              "      <td>0.618421</td>\n",
              "      <td>0.578947</td>\n",
              "      <td>0.589259</td>\n",
              "      <td>0.014731</td>\n",
              "      <td>11</td>\n",
              "    </tr>\n",
              "    <tr>\n",
              "      <th>18</th>\n",
              "      <td>0.026212</td>\n",
              "      <td>0.002637</td>\n",
              "      <td>0.017060</td>\n",
              "      <td>0.006391</td>\n",
              "      <td>100</td>\n",
              "      <td>0.0001</td>\n",
              "      <td>rbf</td>\n",
              "      <td>{'C': 100, 'gamma': 0.0001, 'kernel': 'rbf'}</td>\n",
              "      <td>0.568627</td>\n",
              "      <td>0.627451</td>\n",
              "      <td>0.526316</td>\n",
              "      <td>0.592105</td>\n",
              "      <td>0.605263</td>\n",
              "      <td>0.583953</td>\n",
              "      <td>0.034553</td>\n",
              "      <td>15</td>\n",
              "    </tr>\n",
              "    <tr>\n",
              "      <th>19</th>\n",
              "      <td>0.017869</td>\n",
              "      <td>0.000662</td>\n",
              "      <td>0.010547</td>\n",
              "      <td>0.000243</td>\n",
              "      <td>100</td>\n",
              "      <td>0.001</td>\n",
              "      <td>rbf</td>\n",
              "      <td>{'C': 100, 'gamma': 0.001, 'kernel': 'rbf'}</td>\n",
              "      <td>0.790850</td>\n",
              "      <td>0.777778</td>\n",
              "      <td>0.763158</td>\n",
              "      <td>0.690789</td>\n",
              "      <td>0.881579</td>\n",
              "      <td>0.780831</td>\n",
              "      <td>0.061122</td>\n",
              "      <td>4</td>\n",
              "    </tr>\n",
              "    <tr>\n",
              "      <th>20</th>\n",
              "      <td>0.012646</td>\n",
              "      <td>0.000705</td>\n",
              "      <td>0.006497</td>\n",
              "      <td>0.000645</td>\n",
              "      <td>100</td>\n",
              "      <td>0.01</td>\n",
              "      <td>rbf</td>\n",
              "      <td>{'C': 100, 'gamma': 0.01, 'kernel': 'rbf'}</td>\n",
              "      <td>0.888889</td>\n",
              "      <td>0.816993</td>\n",
              "      <td>0.710526</td>\n",
              "      <td>0.730263</td>\n",
              "      <td>0.921053</td>\n",
              "      <td>0.813545</td>\n",
              "      <td>0.083421</td>\n",
              "      <td>1</td>\n",
              "    </tr>\n",
              "    <tr>\n",
              "      <th>21</th>\n",
              "      <td>0.011117</td>\n",
              "      <td>0.000897</td>\n",
              "      <td>0.004918</td>\n",
              "      <td>0.001391</td>\n",
              "      <td>100</td>\n",
              "      <td>0.1</td>\n",
              "      <td>rbf</td>\n",
              "      <td>{'C': 100, 'gamma': 0.1, 'kernel': 'rbf'}</td>\n",
              "      <td>0.908497</td>\n",
              "      <td>0.771242</td>\n",
              "      <td>0.671053</td>\n",
              "      <td>0.657895</td>\n",
              "      <td>0.822368</td>\n",
              "      <td>0.766211</td>\n",
              "      <td>0.094034</td>\n",
              "      <td>6</td>\n",
              "    </tr>\n",
              "    <tr>\n",
              "      <th>22</th>\n",
              "      <td>0.018784</td>\n",
              "      <td>0.004834</td>\n",
              "      <td>0.006859</td>\n",
              "      <td>0.001513</td>\n",
              "      <td>100</td>\n",
              "      <td>1</td>\n",
              "      <td>rbf</td>\n",
              "      <td>{'C': 100, 'gamma': 1, 'kernel': 'rbf'}</td>\n",
              "      <td>0.816993</td>\n",
              "      <td>0.633987</td>\n",
              "      <td>0.618421</td>\n",
              "      <td>0.717105</td>\n",
              "      <td>0.802632</td>\n",
              "      <td>0.717828</td>\n",
              "      <td>0.082386</td>\n",
              "      <td>7</td>\n",
              "    </tr>\n",
              "    <tr>\n",
              "      <th>23</th>\n",
              "      <td>0.030420</td>\n",
              "      <td>0.000229</td>\n",
              "      <td>0.011342</td>\n",
              "      <td>0.000197</td>\n",
              "      <td>100</td>\n",
              "      <td>10</td>\n",
              "      <td>rbf</td>\n",
              "      <td>{'C': 100, 'gamma': 10, 'kernel': 'rbf'}</td>\n",
              "      <td>0.581699</td>\n",
              "      <td>0.581699</td>\n",
              "      <td>0.585526</td>\n",
              "      <td>0.618421</td>\n",
              "      <td>0.578947</td>\n",
              "      <td>0.589259</td>\n",
              "      <td>0.014731</td>\n",
              "      <td>11</td>\n",
              "    </tr>\n",
              "  </tbody>\n",
              "</table>\n",
              "</div>\n",
              "      <button class=\"colab-df-convert\" onclick=\"convertToInteractive('df-2a0a2e8f-8643-4ed1-8c0f-147799f0cf05')\"\n",
              "              title=\"Convert this dataframe to an interactive table.\"\n",
              "              style=\"display:none;\">\n",
              "        \n",
              "  <svg xmlns=\"http://www.w3.org/2000/svg\" height=\"24px\"viewBox=\"0 0 24 24\"\n",
              "       width=\"24px\">\n",
              "    <path d=\"M0 0h24v24H0V0z\" fill=\"none\"/>\n",
              "    <path d=\"M18.56 5.44l.94 2.06.94-2.06 2.06-.94-2.06-.94-.94-2.06-.94 2.06-2.06.94zm-11 1L8.5 8.5l.94-2.06 2.06-.94-2.06-.94L8.5 2.5l-.94 2.06-2.06.94zm10 10l.94 2.06.94-2.06 2.06-.94-2.06-.94-.94-2.06-.94 2.06-2.06.94z\"/><path d=\"M17.41 7.96l-1.37-1.37c-.4-.4-.92-.59-1.43-.59-.52 0-1.04.2-1.43.59L10.3 9.45l-7.72 7.72c-.78.78-.78 2.05 0 2.83L4 21.41c.39.39.9.59 1.41.59.51 0 1.02-.2 1.41-.59l7.78-7.78 2.81-2.81c.8-.78.8-2.07 0-2.86zM5.41 20L4 18.59l7.72-7.72 1.47 1.35L5.41 20z\"/>\n",
              "  </svg>\n",
              "      </button>\n",
              "      \n",
              "  <style>\n",
              "    .colab-df-container {\n",
              "      display:flex;\n",
              "      flex-wrap:wrap;\n",
              "      gap: 12px;\n",
              "    }\n",
              "\n",
              "    .colab-df-convert {\n",
              "      background-color: #E8F0FE;\n",
              "      border: none;\n",
              "      border-radius: 50%;\n",
              "      cursor: pointer;\n",
              "      display: none;\n",
              "      fill: #1967D2;\n",
              "      height: 32px;\n",
              "      padding: 0 0 0 0;\n",
              "      width: 32px;\n",
              "    }\n",
              "\n",
              "    .colab-df-convert:hover {\n",
              "      background-color: #E2EBFA;\n",
              "      box-shadow: 0px 1px 2px rgba(60, 64, 67, 0.3), 0px 1px 3px 1px rgba(60, 64, 67, 0.15);\n",
              "      fill: #174EA6;\n",
              "    }\n",
              "\n",
              "    [theme=dark] .colab-df-convert {\n",
              "      background-color: #3B4455;\n",
              "      fill: #D2E3FC;\n",
              "    }\n",
              "\n",
              "    [theme=dark] .colab-df-convert:hover {\n",
              "      background-color: #434B5C;\n",
              "      box-shadow: 0px 1px 3px 1px rgba(0, 0, 0, 0.15);\n",
              "      filter: drop-shadow(0px 1px 2px rgba(0, 0, 0, 0.3));\n",
              "      fill: #FFFFFF;\n",
              "    }\n",
              "  </style>\n",
              "\n",
              "      <script>\n",
              "        const buttonEl =\n",
              "          document.querySelector('#df-2a0a2e8f-8643-4ed1-8c0f-147799f0cf05 button.colab-df-convert');\n",
              "        buttonEl.style.display =\n",
              "          google.colab.kernel.accessAllowed ? 'block' : 'none';\n",
              "\n",
              "        async function convertToInteractive(key) {\n",
              "          const element = document.querySelector('#df-2a0a2e8f-8643-4ed1-8c0f-147799f0cf05');\n",
              "          const dataTable =\n",
              "            await google.colab.kernel.invokeFunction('convertToInteractive',\n",
              "                                                     [key], {});\n",
              "          if (!dataTable) return;\n",
              "\n",
              "          const docLinkHtml = 'Like what you see? Visit the ' +\n",
              "            '<a target=\"_blank\" href=https://colab.research.google.com/notebooks/data_table.ipynb>data table notebook</a>'\n",
              "            + ' to learn more about interactive tables.';\n",
              "          element.innerHTML = '';\n",
              "          dataTable['output_type'] = 'display_data';\n",
              "          await google.colab.output.renderOutput(dataTable, element);\n",
              "          const docLink = document.createElement('div');\n",
              "          docLink.innerHTML = docLinkHtml;\n",
              "          element.appendChild(docLink);\n",
              "        }\n",
              "      </script>\n",
              "    </div>\n",
              "  </div>\n",
              "  "
            ],
            "text/plain": [
              "    mean_fit_time  std_fit_time  mean_score_time  std_score_time param_C  \\\n",
              "0        0.037352      0.004652         0.017966        0.001711     0.1   \n",
              "1        0.036409      0.002227         0.016985        0.000219     0.1   \n",
              "2        0.035103      0.001525         0.017330        0.000356     0.1   \n",
              "3        0.026188      0.003051         0.010352        0.000878     0.1   \n",
              "4        0.025678      0.003672         0.011544        0.002471     0.1   \n",
              "5        0.028379      0.000727         0.010796        0.000039     0.1   \n",
              "6        0.026774      0.002788         0.011172        0.002408       1   \n",
              "7        0.024086      0.000455         0.010812        0.002230       1   \n",
              "8        0.023751      0.000675         0.009604        0.000058       1   \n",
              "9        0.018348      0.001240         0.007414        0.000227       1   \n",
              "10       0.016530      0.000765         0.006182        0.000308       1   \n",
              "11       0.032723      0.002670         0.011997        0.002145       1   \n",
              "12       0.024822      0.003228         0.009729        0.000074      10   \n",
              "13       0.024652      0.000995         0.012669        0.002490      10   \n",
              "14       0.018139      0.000868         0.010873        0.000705      10   \n",
              "15       0.011728      0.000560         0.005973        0.000435      10   \n",
              "16       0.015592      0.000976         0.007510        0.001291      10   \n",
              "17       0.033052      0.003107         0.011868        0.001057      10   \n",
              "18       0.026212      0.002637         0.017060        0.006391     100   \n",
              "19       0.017869      0.000662         0.010547        0.000243     100   \n",
              "20       0.012646      0.000705         0.006497        0.000645     100   \n",
              "21       0.011117      0.000897         0.004918        0.001391     100   \n",
              "22       0.018784      0.004834         0.006859        0.001513     100   \n",
              "23       0.030420      0.000229         0.011342        0.000197     100   \n",
              "\n",
              "   param_gamma param_kernel                                        params  \\\n",
              "0       0.0001          rbf  {'C': 0.1, 'gamma': 0.0001, 'kernel': 'rbf'}   \n",
              "1        0.001          rbf   {'C': 0.1, 'gamma': 0.001, 'kernel': 'rbf'}   \n",
              "2         0.01          rbf    {'C': 0.1, 'gamma': 0.01, 'kernel': 'rbf'}   \n",
              "3          0.1          rbf     {'C': 0.1, 'gamma': 0.1, 'kernel': 'rbf'}   \n",
              "4            1          rbf       {'C': 0.1, 'gamma': 1, 'kernel': 'rbf'}   \n",
              "5           10          rbf      {'C': 0.1, 'gamma': 10, 'kernel': 'rbf'}   \n",
              "6       0.0001          rbf    {'C': 1, 'gamma': 0.0001, 'kernel': 'rbf'}   \n",
              "7        0.001          rbf     {'C': 1, 'gamma': 0.001, 'kernel': 'rbf'}   \n",
              "8         0.01          rbf      {'C': 1, 'gamma': 0.01, 'kernel': 'rbf'}   \n",
              "9          0.1          rbf       {'C': 1, 'gamma': 0.1, 'kernel': 'rbf'}   \n",
              "10           1          rbf         {'C': 1, 'gamma': 1, 'kernel': 'rbf'}   \n",
              "11          10          rbf        {'C': 1, 'gamma': 10, 'kernel': 'rbf'}   \n",
              "12      0.0001          rbf   {'C': 10, 'gamma': 0.0001, 'kernel': 'rbf'}   \n",
              "13       0.001          rbf    {'C': 10, 'gamma': 0.001, 'kernel': 'rbf'}   \n",
              "14        0.01          rbf     {'C': 10, 'gamma': 0.01, 'kernel': 'rbf'}   \n",
              "15         0.1          rbf      {'C': 10, 'gamma': 0.1, 'kernel': 'rbf'}   \n",
              "16           1          rbf        {'C': 10, 'gamma': 1, 'kernel': 'rbf'}   \n",
              "17          10          rbf       {'C': 10, 'gamma': 10, 'kernel': 'rbf'}   \n",
              "18      0.0001          rbf  {'C': 100, 'gamma': 0.0001, 'kernel': 'rbf'}   \n",
              "19       0.001          rbf   {'C': 100, 'gamma': 0.001, 'kernel': 'rbf'}   \n",
              "20        0.01          rbf    {'C': 100, 'gamma': 0.01, 'kernel': 'rbf'}   \n",
              "21         0.1          rbf     {'C': 100, 'gamma': 0.1, 'kernel': 'rbf'}   \n",
              "22           1          rbf       {'C': 100, 'gamma': 1, 'kernel': 'rbf'}   \n",
              "23          10          rbf      {'C': 100, 'gamma': 10, 'kernel': 'rbf'}   \n",
              "\n",
              "    split0_test_score  split1_test_score  split2_test_score  \\\n",
              "0            0.568627           0.568627           0.572368   \n",
              "1            0.568627           0.568627           0.572368   \n",
              "2            0.568627           0.568627           0.572368   \n",
              "3            0.568627           0.568627           0.572368   \n",
              "4            0.588235           0.601307           0.532895   \n",
              "5            0.568627           0.568627           0.572368   \n",
              "6            0.568627           0.568627           0.572368   \n",
              "7            0.568627           0.568627           0.572368   \n",
              "8            0.568627           0.594771           0.526316   \n",
              "9            0.777778           0.771242           0.756579   \n",
              "10           0.816993           0.633987           0.618421   \n",
              "11           0.581699           0.581699           0.585526   \n",
              "12           0.568627           0.568627           0.572368   \n",
              "13           0.568627           0.627451           0.526316   \n",
              "14           0.816993           0.777778           0.756579   \n",
              "15           0.947712           0.797386           0.677632   \n",
              "16           0.816993           0.633987           0.618421   \n",
              "17           0.581699           0.581699           0.585526   \n",
              "18           0.568627           0.627451           0.526316   \n",
              "19           0.790850           0.777778           0.763158   \n",
              "20           0.888889           0.816993           0.710526   \n",
              "21           0.908497           0.771242           0.671053   \n",
              "22           0.816993           0.633987           0.618421   \n",
              "23           0.581699           0.581699           0.585526   \n",
              "\n",
              "    split3_test_score  split4_test_score  mean_test_score  std_test_score  \\\n",
              "0            0.572368           0.572368         0.570872        0.001833   \n",
              "1            0.572368           0.572368         0.570872        0.001833   \n",
              "2            0.572368           0.572368         0.570872        0.001833   \n",
              "3            0.710526           0.572368         0.598504        0.056036   \n",
              "4            0.493421           0.730263         0.589224        0.080486   \n",
              "5            0.572368           0.572368         0.570872        0.001833   \n",
              "6            0.572368           0.572368         0.570872        0.001833   \n",
              "7            0.572368           0.572368         0.570872        0.001833   \n",
              "8            0.592105           0.598684         0.576101        0.027015   \n",
              "9            0.677632           0.848684         0.766383        0.054589   \n",
              "10           0.710526           0.802632         0.716512        0.082439   \n",
              "11           0.618421           0.578947         0.589259        0.014731   \n",
              "12           0.572368           0.572368         0.570872        0.001833   \n",
              "13           0.592105           0.605263         0.583953        0.034553   \n",
              "14           0.677632           0.881579         0.782112        0.067375   \n",
              "15           0.684211           0.888158         0.799020        0.107679   \n",
              "16           0.717105           0.802632         0.717828        0.082386   \n",
              "17           0.618421           0.578947         0.589259        0.014731   \n",
              "18           0.592105           0.605263         0.583953        0.034553   \n",
              "19           0.690789           0.881579         0.780831        0.061122   \n",
              "20           0.730263           0.921053         0.813545        0.083421   \n",
              "21           0.657895           0.822368         0.766211        0.094034   \n",
              "22           0.717105           0.802632         0.717828        0.082386   \n",
              "23           0.618421           0.578947         0.589259        0.014731   \n",
              "\n",
              "    rank_test_score  \n",
              "0                18  \n",
              "1                18  \n",
              "2                18  \n",
              "3                10  \n",
              "4                14  \n",
              "5                18  \n",
              "6                18  \n",
              "7                18  \n",
              "8                17  \n",
              "9                 5  \n",
              "10                9  \n",
              "11               11  \n",
              "12               18  \n",
              "13               15  \n",
              "14                3  \n",
              "15                2  \n",
              "16                7  \n",
              "17               11  \n",
              "18               15  \n",
              "19                4  \n",
              "20                1  \n",
              "21                6  \n",
              "22                7  \n",
              "23               11  "
            ]
          },
          "execution_count": 41,
          "metadata": {},
          "output_type": "execute_result"
        }
      ],
      "source": [
        "RBF_SVM_result"
      ]
    },
    {
      "cell_type": "code",
      "execution_count": null,
      "metadata": {
        "colab": {
          "base_uri": "https://localhost:8080/"
        },
        "id": "pkoB7gB7hleS",
        "outputId": "3b8ee6e2-94d5-4ecd-dfd0-edfff6f74017"
      },
      "outputs": [
        {
          "name": "stdout",
          "output_type": "stream",
          "text": [
            "best hyperparameter using SVM with RBF kernel are :  {'C': 100, 'gamma': 0.01, 'kernel': 'rbf'}\n"
          ]
        }
      ],
      "source": [
        "print('best hyperparameter using SVM with RBF kernel are : ' , best_parameter_RBF_SVM)"
      ]
    },
    {
      "cell_type": "code",
      "execution_count": null,
      "metadata": {
        "colab": {
          "base_uri": "https://localhost:8080/"
        },
        "id": "hTOzw1xNEPVo",
        "outputId": "4763390e-cde4-4899-bbdf-f6cde8df6f7b"
      },
      "outputs": [
        {
          "name": "stdout",
          "output_type": "stream",
          "text": [
            "best cross-validation score using SVM with RBF kerrnel is :  0.8135448916408669\n"
          ]
        }
      ],
      "source": [
        "print('best cross-validation score using SVM with RBF kerrnel is : ' , best_score_RBF_SVM)"
      ]
    },
    {
      "cell_type": "code",
      "execution_count": null,
      "metadata": {
        "id": "_hRYODg-jF3f"
      },
      "outputs": [],
      "source": [
        "RBF_SVM = SVC(C = 100, gamma = 0.01, kernel = 'rbf')\n",
        "RBF_SVM.fit(training_features, y_train)                ## best hyperparameters are using to fit the training features and labels with RBF SVM\n",
        "y_predicted_RBF_SVM = RBF_SVM.predict( training_features)"
      ]
    },
    {
      "cell_type": "code",
      "execution_count": null,
      "metadata": {
        "colab": {
          "base_uri": "https://localhost:8080/"
        },
        "id": "fjzgR2SIK9bj",
        "outputId": "0f3b702e-272b-4611-c672-d647d265a3d1"
      },
      "outputs": [
        {
          "name": "stdout",
          "output_type": "stream",
          "text": [
            "              precision    recall  f1-score   support\n",
            "\n",
            "           0       0.98      0.99      0.98       435\n",
            "           1       0.99      0.97      0.98       327\n",
            "\n",
            "    accuracy                           0.98       762\n",
            "   macro avg       0.98      0.98      0.98       762\n",
            "weighted avg       0.98      0.98      0.98       762\n",
            "\n"
          ]
        }
      ],
      "source": [
        "print(classification_report(y_train , y_predicted_RBF_SVM ))"
      ]
    },
    {
      "cell_type": "code",
      "execution_count": null,
      "metadata": {
        "colab": {
          "base_uri": "https://localhost:8080/",
          "height": 312
        },
        "id": "aX-VJpPMLCFL",
        "outputId": "45d01102-cdcb-4fdf-e8f7-8b7e976dfe7f"
      },
      "outputs": [
        {
          "data": {
            "text/plain": [
              "[Text(0, 0.5, 'Control'), Text(0, 1.5, 'Ts65Dn')]"
            ]
          },
          "execution_count": 46,
          "metadata": {},
          "output_type": "execute_result"
        },
        {
          "data": {
            "image/png": "[encoded data removed]",
            "text/plain": [
              "<Figure size 432x288 with 2 Axes>"
            ]
          },
          "metadata": {
            "needs_background": "light"
          },
          "output_type": "display_data"
        }
      ],
      "source": [
        "cm_RBF_SVM = confusion_matrix(y_train , y_predicted_RBF_SVM)\n",
        "ax=plt.subplot()\n",
        "sns.heatmap(cm_RBF_SVM , annot=True)\n",
        "ax.set_xlabel('Predicted labels')\n",
        "ax.set_ylabel('True labels') \n",
        "ax.set_title('Training Confusion Matrix')\n",
        "ax.xaxis.set_ticklabels(['Control', 'Ts65Dn'])\n",
        "ax.yaxis.set_ticklabels(['Control', 'Ts65Dn'])"
      ]
    },
    {
      "cell_type": "markdown",
      "metadata": {
        "id": "xphkGx8mtOV-"
      },
      "source": [
        "Neural Network with one hidden layrer"
      ]
    },
    {
      "cell_type": "code",
      "execution_count": null,
      "metadata": {
        "id": "lWeXwqgQhjcb"
      },
      "outputs": [],
      "source": [
        "def Neural_Network(x,y):\n",
        "  parameters = { 'hidden_layer_sizes' : [(32, ) , (64, ) , (128 , )] , 'alpha' : [ 0.0001, 0.001, 0.01, 0.1 ] , 'solver' : ['lbfgs'] , 'activation' : ['relu'] , 'max_iter' : [1000] }\n",
        "  ## hyperparameters are hidden layer's neurons numbers, alpha(weight_decay) value, lbfgs solver, relu activation in the hidden layer and maximum iteration as 1000\n",
        "  NN_clf = GridSearchCV(MLPClassifier(early_stopping= True), param_grid = parameters, cv = 5)\n",
        "  NN_clf.fit( x, y )\n",
        "  return pd.DataFrame(NN_clf.cv_results_) , NN_clf.best_params_ , NN_clf.best_score_"
      ]
    },
    {
      "cell_type": "code",
      "execution_count": null,
      "metadata": {
        "colab": {
          "base_uri": "https://localhost:8080/"
        },
        "id": "exTOVZm_wf32",
        "outputId": "2a474542-6c51-4a6c-c640-3dedfef7cdd5"
      },
      "outputs": [
        {
          "name": "stderr",
          "output_type": "stream",
          "text": [
            "/usr/local/lib/python3.9/dist-packages/sklearn/neural_network/_multilayer_perceptron.py:541: ConvergenceWarning: lbfgs failed to converge (status=1):\n",
            "STOP: TOTAL NO. of ITERATIONS REACHED LIMIT.\n",
            "\n",
            "Increase the number of iterations (max_iter) or scale the data as shown in:\n",
            "    https://scikit-learn.org/stable/modules/preprocessing.html\n",
            "  self.n_iter_ = _check_optimize_result(\"lbfgs\", opt_res, self.max_iter)\n"
          ]
        }
      ],
      "source": [
        "NN_result , best_paramater_NN , best_score_NN = Neural_Network(training_features, y_train)"
      ]
    },
    {
      "cell_type": "code",
      "execution_count": null,
      "metadata": {
        "colab": {
          "base_uri": "https://localhost:8080/",
          "height": 1000
        },
        "id": "dKawHIhQ0Nin",
        "outputId": "a13376db-22fe-4f24-9d53-f4aa90bbd5dc"
      },
      "outputs": [
        {
          "data": {
            "text/html": [
              "\n",
              "  <div id=\"df-07c87988-6b54-475b-a7c5-d8e1b7733dd6\">\n",
              "    <div class=\"colab-df-container\">\n",
              "      <div>\n",
              "<style scoped>\n",
              "    .dataframe tbody tr th:only-of-type {\n",
              "        vertical-align: middle;\n",
              "    }\n",
              "\n",
              "    .dataframe tbody tr th {\n",
              "        vertical-align: top;\n",
              "    }\n",
              "\n",
              "    .dataframe thead th {\n",
              "        text-align: right;\n",
              "    }\n",
              "</style>\n",
              "<table border=\"1\" class=\"dataframe\">\n",
              "  <thead>\n",
              "    <tr style=\"text-align: right;\">\n",
              "      <th></th>\n",
              "      <th>mean_fit_time</th>\n",
              "      <th>std_fit_time</th>\n",
              "      <th>mean_score_time</th>\n",
              "      <th>std_score_time</th>\n",
              "      <th>param_activation</th>\n",
              "      <th>param_alpha</th>\n",
              "      <th>param_hidden_layer_sizes</th>\n",
              "      <th>param_max_iter</th>\n",
              "      <th>param_solver</th>\n",
              "      <th>params</th>\n",
              "      <th>split0_test_score</th>\n",
              "      <th>split1_test_score</th>\n",
              "      <th>split2_test_score</th>\n",
              "      <th>split3_test_score</th>\n",
              "      <th>split4_test_score</th>\n",
              "      <th>mean_test_score</th>\n",
              "      <th>std_test_score</th>\n",
              "      <th>rank_test_score</th>\n",
              "    </tr>\n",
              "  </thead>\n",
              "  <tbody>\n",
              "    <tr>\n",
              "      <th>0</th>\n",
              "      <td>0.170933</td>\n",
              "      <td>0.043534</td>\n",
              "      <td>0.007188</td>\n",
              "      <td>0.007184</td>\n",
              "      <td>relu</td>\n",
              "      <td>0.0001</td>\n",
              "      <td>(32,)</td>\n",
              "      <td>1000</td>\n",
              "      <td>lbfgs</td>\n",
              "      <td>{'activation': 'relu', 'alpha': 0.0001, 'hidde...</td>\n",
              "      <td>0.712418</td>\n",
              "      <td>0.803922</td>\n",
              "      <td>0.572368</td>\n",
              "      <td>0.539474</td>\n",
              "      <td>0.848684</td>\n",
              "      <td>0.695373</td>\n",
              "      <td>0.122485</td>\n",
              "      <td>10</td>\n",
              "    </tr>\n",
              "    <tr>\n",
              "      <th>1</th>\n",
              "      <td>0.261650</td>\n",
              "      <td>0.015620</td>\n",
              "      <td>0.003606</td>\n",
              "      <td>0.000051</td>\n",
              "      <td>relu</td>\n",
              "      <td>0.0001</td>\n",
              "      <td>(64,)</td>\n",
              "      <td>1000</td>\n",
              "      <td>lbfgs</td>\n",
              "      <td>{'activation': 'relu', 'alpha': 0.0001, 'hidde...</td>\n",
              "      <td>0.810458</td>\n",
              "      <td>0.810458</td>\n",
              "      <td>0.625000</td>\n",
              "      <td>0.585526</td>\n",
              "      <td>0.868421</td>\n",
              "      <td>0.739972</td>\n",
              "      <td>0.112701</td>\n",
              "      <td>5</td>\n",
              "    </tr>\n",
              "    <tr>\n",
              "      <th>2</th>\n",
              "      <td>0.465408</td>\n",
              "      <td>0.037686</td>\n",
              "      <td>0.003853</td>\n",
              "      <td>0.000124</td>\n",
              "      <td>relu</td>\n",
              "      <td>0.0001</td>\n",
              "      <td>(128,)</td>\n",
              "      <td>1000</td>\n",
              "      <td>lbfgs</td>\n",
              "      <td>{'activation': 'relu', 'alpha': 0.0001, 'hidde...</td>\n",
              "      <td>0.732026</td>\n",
              "      <td>0.843137</td>\n",
              "      <td>0.657895</td>\n",
              "      <td>0.552632</td>\n",
              "      <td>0.875000</td>\n",
              "      <td>0.732138</td>\n",
              "      <td>0.118714</td>\n",
              "      <td>7</td>\n",
              "    </tr>\n",
              "    <tr>\n",
              "      <th>3</th>\n",
              "      <td>0.259155</td>\n",
              "      <td>0.070073</td>\n",
              "      <td>0.004762</td>\n",
              "      <td>0.002279</td>\n",
              "      <td>relu</td>\n",
              "      <td>0.001</td>\n",
              "      <td>(32,)</td>\n",
              "      <td>1000</td>\n",
              "      <td>lbfgs</td>\n",
              "      <td>{'activation': 'relu', 'alpha': 0.001, 'hidden...</td>\n",
              "      <td>0.732026</td>\n",
              "      <td>0.771242</td>\n",
              "      <td>0.585526</td>\n",
              "      <td>0.565789</td>\n",
              "      <td>0.855263</td>\n",
              "      <td>0.701969</td>\n",
              "      <td>0.110729</td>\n",
              "      <td>9</td>\n",
              "    </tr>\n",
              "    <tr>\n",
              "      <th>4</th>\n",
              "      <td>0.839018</td>\n",
              "      <td>0.234783</td>\n",
              "      <td>0.009229</td>\n",
              "      <td>0.001935</td>\n",
              "      <td>relu</td>\n",
              "      <td>0.001</td>\n",
              "      <td>(64,)</td>\n",
              "      <td>1000</td>\n",
              "      <td>lbfgs</td>\n",
              "      <td>{'activation': 'relu', 'alpha': 0.001, 'hidden...</td>\n",
              "      <td>0.712418</td>\n",
              "      <td>0.790850</td>\n",
              "      <td>0.644737</td>\n",
              "      <td>0.526316</td>\n",
              "      <td>0.769737</td>\n",
              "      <td>0.688811</td>\n",
              "      <td>0.095776</td>\n",
              "      <td>11</td>\n",
              "    </tr>\n",
              "    <tr>\n",
              "      <th>5</th>\n",
              "      <td>0.665272</td>\n",
              "      <td>0.320923</td>\n",
              "      <td>0.003692</td>\n",
              "      <td>0.000079</td>\n",
              "      <td>relu</td>\n",
              "      <td>0.001</td>\n",
              "      <td>(128,)</td>\n",
              "      <td>1000</td>\n",
              "      <td>lbfgs</td>\n",
              "      <td>{'activation': 'relu', 'alpha': 0.001, 'hidden...</td>\n",
              "      <td>0.732026</td>\n",
              "      <td>0.816993</td>\n",
              "      <td>0.671053</td>\n",
              "      <td>0.578947</td>\n",
              "      <td>0.828947</td>\n",
              "      <td>0.725593</td>\n",
              "      <td>0.093335</td>\n",
              "      <td>8</td>\n",
              "    </tr>\n",
              "    <tr>\n",
              "      <th>6</th>\n",
              "      <td>0.322754</td>\n",
              "      <td>0.035727</td>\n",
              "      <td>0.003467</td>\n",
              "      <td>0.000028</td>\n",
              "      <td>relu</td>\n",
              "      <td>0.01</td>\n",
              "      <td>(32,)</td>\n",
              "      <td>1000</td>\n",
              "      <td>lbfgs</td>\n",
              "      <td>{'activation': 'relu', 'alpha': 0.01, 'hidden_...</td>\n",
              "      <td>0.816993</td>\n",
              "      <td>0.797386</td>\n",
              "      <td>0.625000</td>\n",
              "      <td>0.638158</td>\n",
              "      <td>0.815789</td>\n",
              "      <td>0.738665</td>\n",
              "      <td>0.087810</td>\n",
              "      <td>6</td>\n",
              "    </tr>\n",
              "    <tr>\n",
              "      <th>7</th>\n",
              "      <td>0.566749</td>\n",
              "      <td>0.143200</td>\n",
              "      <td>0.003642</td>\n",
              "      <td>0.000210</td>\n",
              "      <td>relu</td>\n",
              "      <td>0.01</td>\n",
              "      <td>(64,)</td>\n",
              "      <td>1000</td>\n",
              "      <td>lbfgs</td>\n",
              "      <td>{'activation': 'relu', 'alpha': 0.01, 'hidden_...</td>\n",
              "      <td>0.784314</td>\n",
              "      <td>0.816993</td>\n",
              "      <td>0.467105</td>\n",
              "      <td>0.611842</td>\n",
              "      <td>0.750000</td>\n",
              "      <td>0.686051</td>\n",
              "      <td>0.129873</td>\n",
              "      <td>12</td>\n",
              "    </tr>\n",
              "    <tr>\n",
              "      <th>8</th>\n",
              "      <td>1.128252</td>\n",
              "      <td>0.441004</td>\n",
              "      <td>0.006826</td>\n",
              "      <td>0.003777</td>\n",
              "      <td>relu</td>\n",
              "      <td>0.01</td>\n",
              "      <td>(128,)</td>\n",
              "      <td>1000</td>\n",
              "      <td>lbfgs</td>\n",
              "      <td>{'activation': 'relu', 'alpha': 0.01, 'hidden_...</td>\n",
              "      <td>0.816993</td>\n",
              "      <td>0.816993</td>\n",
              "      <td>0.644737</td>\n",
              "      <td>0.638158</td>\n",
              "      <td>0.809211</td>\n",
              "      <td>0.745218</td>\n",
              "      <td>0.084802</td>\n",
              "      <td>4</td>\n",
              "    </tr>\n",
              "    <tr>\n",
              "      <th>9</th>\n",
              "      <td>1.475959</td>\n",
              "      <td>0.849840</td>\n",
              "      <td>0.003609</td>\n",
              "      <td>0.000115</td>\n",
              "      <td>relu</td>\n",
              "      <td>0.1</td>\n",
              "      <td>(32,)</td>\n",
              "      <td>1000</td>\n",
              "      <td>lbfgs</td>\n",
              "      <td>{'activation': 'relu', 'alpha': 0.1, 'hidden_l...</td>\n",
              "      <td>0.862745</td>\n",
              "      <td>0.843137</td>\n",
              "      <td>0.644737</td>\n",
              "      <td>0.664474</td>\n",
              "      <td>0.809211</td>\n",
              "      <td>0.764861</td>\n",
              "      <td>0.091851</td>\n",
              "      <td>3</td>\n",
              "    </tr>\n",
              "    <tr>\n",
              "      <th>10</th>\n",
              "      <td>2.542727</td>\n",
              "      <td>1.199440</td>\n",
              "      <td>0.004313</td>\n",
              "      <td>0.001310</td>\n",
              "      <td>relu</td>\n",
              "      <td>0.1</td>\n",
              "      <td>(64,)</td>\n",
              "      <td>1000</td>\n",
              "      <td>lbfgs</td>\n",
              "      <td>{'activation': 'relu', 'alpha': 0.1, 'hidden_l...</td>\n",
              "      <td>0.823529</td>\n",
              "      <td>0.849673</td>\n",
              "      <td>0.684211</td>\n",
              "      <td>0.697368</td>\n",
              "      <td>0.828947</td>\n",
              "      <td>0.776746</td>\n",
              "      <td>0.070846</td>\n",
              "      <td>2</td>\n",
              "    </tr>\n",
              "    <tr>\n",
              "      <th>11</th>\n",
              "      <td>3.478300</td>\n",
              "      <td>2.308643</td>\n",
              "      <td>0.005729</td>\n",
              "      <td>0.001966</td>\n",
              "      <td>relu</td>\n",
              "      <td>0.1</td>\n",
              "      <td>(128,)</td>\n",
              "      <td>1000</td>\n",
              "      <td>lbfgs</td>\n",
              "      <td>{'activation': 'relu', 'alpha': 0.1, 'hidden_l...</td>\n",
              "      <td>0.862745</td>\n",
              "      <td>0.836601</td>\n",
              "      <td>0.671053</td>\n",
              "      <td>0.657895</td>\n",
              "      <td>0.861842</td>\n",
              "      <td>0.778027</td>\n",
              "      <td>0.093283</td>\n",
              "      <td>1</td>\n",
              "    </tr>\n",
              "  </tbody>\n",
              "</table>\n",
              "</div>\n",
              "      <button class=\"colab-df-convert\" onclick=\"convertToInteractive('df-07c87988-6b54-475b-a7c5-d8e1b7733dd6')\"\n",
              "              title=\"Convert this dataframe to an interactive table.\"\n",
              "              style=\"display:none;\">\n",
              "        \n",
              "  <svg xmlns=\"http://www.w3.org/2000/svg\" height=\"24px\"viewBox=\"0 0 24 24\"\n",
              "       width=\"24px\">\n",
              "    <path d=\"M0 0h24v24H0V0z\" fill=\"none\"/>\n",
              "    <path d=\"M18.56 5.44l.94 2.06.94-2.06 2.06-.94-2.06-.94-.94-2.06-.94 2.06-2.06.94zm-11 1L8.5 8.5l.94-2.06 2.06-.94-2.06-.94L8.5 2.5l-.94 2.06-2.06.94zm10 10l.94 2.06.94-2.06 2.06-.94-2.06-.94-.94-2.06-.94 2.06-2.06.94z\"/><path d=\"M17.41 7.96l-1.37-1.37c-.4-.4-.92-.59-1.43-.59-.52 0-1.04.2-1.43.59L10.3 9.45l-7.72 7.72c-.78.78-.78 2.05 0 2.83L4 21.41c.39.39.9.59 1.41.59.51 0 1.02-.2 1.41-.59l7.78-7.78 2.81-2.81c.8-.78.8-2.07 0-2.86zM5.41 20L4 18.59l7.72-7.72 1.47 1.35L5.41 20z\"/>\n",
              "  </svg>\n",
              "      </button>\n",
              "      \n",
              "  <style>\n",
              "    .colab-df-container {\n",
              "      display:flex;\n",
              "      flex-wrap:wrap;\n",
              "      gap: 12px;\n",
              "    }\n",
              "\n",
              "    .colab-df-convert {\n",
              "      background-color: #E8F0FE;\n",
              "      border: none;\n",
              "      border-radius: 50%;\n",
              "      cursor: pointer;\n",
              "      display: none;\n",
              "      fill: #1967D2;\n",
              "      height: 32px;\n",
              "      padding: 0 0 0 0;\n",
              "      width: 32px;\n",
              "    }\n",
              "\n",
              "    .colab-df-convert:hover {\n",
              "      background-color: #E2EBFA;\n",
              "      box-shadow: 0px 1px 2px rgba(60, 64, 67, 0.3), 0px 1px 3px 1px rgba(60, 64, 67, 0.15);\n",
              "      fill: #174EA6;\n",
              "    }\n",
              "\n",
              "    [theme=dark] .colab-df-convert {\n",
              "      background-color: #3B4455;\n",
              "      fill: #D2E3FC;\n",
              "    }\n",
              "\n",
              "    [theme=dark] .colab-df-convert:hover {\n",
              "      background-color: #434B5C;\n",
              "      box-shadow: 0px 1px 3px 1px rgba(0, 0, 0, 0.15);\n",
              "      filter: drop-shadow(0px 1px 2px rgba(0, 0, 0, 0.3));\n",
              "      fill: #FFFFFF;\n",
              "    }\n",
              "  </style>\n",
              "\n",
              "      <script>\n",
              "        const buttonEl =\n",
              "          document.querySelector('#df-07c87988-6b54-475b-a7c5-d8e1b7733dd6 button.colab-df-convert');\n",
              "        buttonEl.style.display =\n",
              "          google.colab.kernel.accessAllowed ? 'block' : 'none';\n",
              "\n",
              "        async function convertToInteractive(key) {\n",
              "          const element = document.querySelector('#df-07c87988-6b54-475b-a7c5-d8e1b7733dd6');\n",
              "          const dataTable =\n",
              "            await google.colab.kernel.invokeFunction('convertToInteractive',\n",
              "                                                     [key], {});\n",
              "          if (!dataTable) return;\n",
              "\n",
              "          const docLinkHtml = 'Like what you see? Visit the ' +\n",
              "            '<a target=\"_blank\" href=https://colab.research.google.com/notebooks/data_table.ipynb>data table notebook</a>'\n",
              "            + ' to learn more about interactive tables.';\n",
              "          element.innerHTML = '';\n",
              "          dataTable['output_type'] = 'display_data';\n",
              "          await google.colab.output.renderOutput(dataTable, element);\n",
              "          const docLink = document.createElement('div');\n",
              "          docLink.innerHTML = docLinkHtml;\n",
              "          element.appendChild(docLink);\n",
              "        }\n",
              "      </script>\n",
              "    </div>\n",
              "  </div>\n",
              "  "
            ],
            "text/plain": [
              "    mean_fit_time  std_fit_time  mean_score_time  std_score_time  \\\n",
              "0        0.170933      0.043534         0.007188        0.007184   \n",
              "1        0.261650      0.015620         0.003606        0.000051   \n",
              "2        0.465408      0.037686         0.003853        0.000124   \n",
              "3        0.259155      0.070073         0.004762        0.002279   \n",
              "4        0.839018      0.234783         0.009229        0.001935   \n",
              "5        0.665272      0.320923         0.003692        0.000079   \n",
              "6        0.322754      0.035727         0.003467        0.000028   \n",
              "7        0.566749      0.143200         0.003642        0.000210   \n",
              "8        1.128252      0.441004         0.006826        0.003777   \n",
              "9        1.475959      0.849840         0.003609        0.000115   \n",
              "10       2.542727      1.199440         0.004313        0.001310   \n",
              "11       3.478300      2.308643         0.005729        0.001966   \n",
              "\n",
              "   param_activation param_alpha param_hidden_layer_sizes param_max_iter  \\\n",
              "0              relu      0.0001                    (32,)           1000   \n",
              "1              relu      0.0001                    (64,)           1000   \n",
              "2              relu      0.0001                   (128,)           1000   \n",
              "3              relu       0.001                    (32,)           1000   \n",
              "4              relu       0.001                    (64,)           1000   \n",
              "5              relu       0.001                   (128,)           1000   \n",
              "6              relu        0.01                    (32,)           1000   \n",
              "7              relu        0.01                    (64,)           1000   \n",
              "8              relu        0.01                   (128,)           1000   \n",
              "9              relu         0.1                    (32,)           1000   \n",
              "10             relu         0.1                    (64,)           1000   \n",
              "11             relu         0.1                   (128,)           1000   \n",
              "\n",
              "   param_solver                                             params  \\\n",
              "0         lbfgs  {'activation': 'relu', 'alpha': 0.0001, 'hidde...   \n",
              "1         lbfgs  {'activation': 'relu', 'alpha': 0.0001, 'hidde...   \n",
              "2         lbfgs  {'activation': 'relu', 'alpha': 0.0001, 'hidde...   \n",
              "3         lbfgs  {'activation': 'relu', 'alpha': 0.001, 'hidden...   \n",
              "4         lbfgs  {'activation': 'relu', 'alpha': 0.001, 'hidden...   \n",
              "5         lbfgs  {'activation': 'relu', 'alpha': 0.001, 'hidden...   \n",
              "6         lbfgs  {'activation': 'relu', 'alpha': 0.01, 'hidden_...   \n",
              "7         lbfgs  {'activation': 'relu', 'alpha': 0.01, 'hidden_...   \n",
              "8         lbfgs  {'activation': 'relu', 'alpha': 0.01, 'hidden_...   \n",
              "9         lbfgs  {'activation': 'relu', 'alpha': 0.1, 'hidden_l...   \n",
              "10        lbfgs  {'activation': 'relu', 'alpha': 0.1, 'hidden_l...   \n",
              "11        lbfgs  {'activation': 'relu', 'alpha': 0.1, 'hidden_l...   \n",
              "\n",
              "    split0_test_score  split1_test_score  split2_test_score  \\\n",
              "0            0.712418           0.803922           0.572368   \n",
              "1            0.810458           0.810458           0.625000   \n",
              "2            0.732026           0.843137           0.657895   \n",
              "3            0.732026           0.771242           0.585526   \n",
              "4            0.712418           0.790850           0.644737   \n",
              "5            0.732026           0.816993           0.671053   \n",
              "6            0.816993           0.797386           0.625000   \n",
              "7            0.784314           0.816993           0.467105   \n",
              "8            0.816993           0.816993           0.644737   \n",
              "9            0.862745           0.843137           0.644737   \n",
              "10           0.823529           0.849673           0.684211   \n",
              "11           0.862745           0.836601           0.671053   \n",
              "\n",
              "    split3_test_score  split4_test_score  mean_test_score  std_test_score  \\\n",
              "0            0.539474           0.848684         0.695373        0.122485   \n",
              "1            0.585526           0.868421         0.739972        0.112701   \n",
              "2            0.552632           0.875000         0.732138        0.118714   \n",
              "3            0.565789           0.855263         0.701969        0.110729   \n",
              "4            0.526316           0.769737         0.688811        0.095776   \n",
              "5            0.578947           0.828947         0.725593        0.093335   \n",
              "6            0.638158           0.815789         0.738665        0.087810   \n",
              "7            0.611842           0.750000         0.686051        0.129873   \n",
              "8            0.638158           0.809211         0.745218        0.084802   \n",
              "9            0.664474           0.809211         0.764861        0.091851   \n",
              "10           0.697368           0.828947         0.776746        0.070846   \n",
              "11           0.657895           0.861842         0.778027        0.093283   \n",
              "\n",
              "    rank_test_score  \n",
              "0                10  \n",
              "1                 5  \n",
              "2                 7  \n",
              "3                 9  \n",
              "4                11  \n",
              "5                 8  \n",
              "6                 6  \n",
              "7                12  \n",
              "8                 4  \n",
              "9                 3  \n",
              "10                2  \n",
              "11                1  "
            ]
          },
          "execution_count": 49,
          "metadata": {},
          "output_type": "execute_result"
        }
      ],
      "source": [
        "NN_result"
      ]
    },
    {
      "cell_type": "code",
      "execution_count": null,
      "metadata": {
        "colab": {
          "base_uri": "https://localhost:8080/"
        },
        "id": "q5QB0qYe0Qsf",
        "outputId": "695e7b6c-8f55-4df2-905b-ef76fb6b14fb"
      },
      "outputs": [
        {
          "name": "stdout",
          "output_type": "stream",
          "text": [
            "best hyper parameter using Neural Network is :  {'activation': 'relu', 'alpha': 0.1, 'hidden_layer_sizes': (128,), 'max_iter': 1000, 'solver': 'lbfgs'}\n"
          ]
        }
      ],
      "source": [
        "print('best hyper parameter using Neural Network is : ' , best_paramater_NN)"
      ]
    },
    {
      "cell_type": "code",
      "execution_count": null,
      "metadata": {
        "colab": {
          "base_uri": "https://localhost:8080/"
        },
        "id": "-V12sq3I4C3v",
        "outputId": "f965c59a-30c8-4de9-c221-ec3f496e7096"
      },
      "outputs": [
        {
          "name": "stdout",
          "output_type": "stream",
          "text": [
            "best cross-validation score using the Neural Network is :  0.7780271757825938\n"
          ]
        }
      ],
      "source": [
        "print('best cross-validation score using the Neural Network is : ' , best_score_NN)"
      ]
    },
    {
      "cell_type": "code",
      "execution_count": null,
      "metadata": {
        "id": "-P1Se9hTEyRH"
      },
      "outputs": [],
      "source": [
        "NN = MLPClassifier(activation = 'relu', alpha = 0.1, hidden_layer_sizes = (128, ), max_iter = 1000, solver = 'lbfgs', early_stopping= True)  ##  neural network is with best hyperparameter and then it is used to fit on the training features and labels  \n",
        "NN.fit(training_features, y_train)\n",
        "y_predicted_NN = NN.predict(training_features)"
      ]
    },
    {
      "cell_type": "code",
      "execution_count": null,
      "metadata": {
        "colab": {
          "base_uri": "https://localhost:8080/"
        },
        "id": "TaAKkJlJLwwm",
        "outputId": "4c61dc63-75d7-49d5-d28f-a4fa1439c059"
      },
      "outputs": [
        {
          "name": "stdout",
          "output_type": "stream",
          "text": [
            "              precision    recall  f1-score   support\n",
            "\n",
            "           0       1.00      1.00      1.00       435\n",
            "           1       1.00      1.00      1.00       327\n",
            "\n",
            "    accuracy                           1.00       762\n",
            "   macro avg       1.00      1.00      1.00       762\n",
            "weighted avg       1.00      1.00      1.00       762\n",
            "\n"
          ]
        }
      ],
      "source": [
        "print(classification_report(y_train , y_predicted_NN ))"
      ]
    },
    {
      "cell_type": "code",
      "execution_count": null,
      "metadata": {
        "colab": {
          "base_uri": "https://localhost:8080/",
          "height": 312
        },
        "id": "LlP8SYi5L6wt",
        "outputId": "efd68b20-eb2d-4761-a68d-70e20ead95a4"
      },
      "outputs": [
        {
          "data": {
            "text/plain": [
              "[Text(0, 0.5, 'Control'), Text(0, 1.5, 'Ts65Dn')]"
            ]
          },
          "execution_count": 54,
          "metadata": {},
          "output_type": "execute_result"
        },
        {
          "data": {
            "image/png": "[encoded data removed]",
            "text/plain": [
              "<Figure size 432x288 with 2 Axes>"
            ]
          },
          "metadata": {
            "needs_background": "light"
          },
          "output_type": "display_data"
        }
      ],
      "source": [
        "cm_NN = confusion_matrix(y_train , y_predicted_NN)\n",
        "ax=plt.subplot()\n",
        "sns.heatmap(cm_NN , annot=True)\n",
        "ax.set_xlabel('Predicted labels')\n",
        "ax.set_ylabel('True labels') \n",
        "ax.set_title('Training Confusion Matrix')\n",
        "ax.xaxis.set_ticklabels(['Control', 'Ts65Dn'])\n",
        "ax.yaxis.set_ticklabels(['Control', 'Ts65Dn'])"
      ]
    },
    {
      "cell_type": "markdown",
      "metadata": {
        "id": "WUtBgZ5T5APc"
      },
      "source": [
        "Random Forest"
      ]
    },
    {
      "cell_type": "code",
      "execution_count": null,
      "metadata": {
        "id": "a3ROqgc94HyQ"
      },
      "outputs": [],
      "source": [
        "def Random_Forest(x,y):\n",
        "  parameters = { 'max_depth' : [3, 5, 7, 9] , 'max_features' : [ 'sqrt', 'log2', None ]  }   ## hyperparameters for Random Forest are maximum tree depth (max_depth) and max number of variables per node (max_features)\n",
        "  RF_clf = GridSearchCV(RandomForestClassifier(), param_grid = parameters, cv = 5)\n",
        "  RF_clf.fit( x, y )\n",
        "  return pd.DataFrame(RF_clf.cv_results_) , RF_clf.best_params_ , RF_clf.best_score_ "
      ]
    },
    {
      "cell_type": "code",
      "execution_count": null,
      "metadata": {
        "id": "rJu_c--w9zYf"
      },
      "outputs": [],
      "source": [
        "RF_result , best_parameter_RF , best_score_RF = Random_Forest(training_features, y_train)"
      ]
    },
    {
      "cell_type": "code",
      "execution_count": null,
      "metadata": {
        "colab": {
          "base_uri": "https://localhost:8080/",
          "height": 1000
        },
        "id": "1_pPw9Ow-BaN",
        "outputId": "e6ea343d-5e8c-42a6-e8a1-ed25b1203065"
      },
      "outputs": [
        {
          "data": {
            "text/html": [
              "\n",
              "  <div id=\"df-d54f5225-7026-45d7-b354-4ee1048d769b\">\n",
              "    <div class=\"colab-df-container\">\n",
              "      <div>\n",
              "<style scoped>\n",
              "    .dataframe tbody tr th:only-of-type {\n",
              "        vertical-align: middle;\n",
              "    }\n",
              "\n",
              "    .dataframe tbody tr th {\n",
              "        vertical-align: top;\n",
              "    }\n",
              "\n",
              "    .dataframe thead th {\n",
              "        text-align: right;\n",
              "    }\n",
              "</style>\n",
              "<table border=\"1\" class=\"dataframe\">\n",
              "  <thead>\n",
              "    <tr style=\"text-align: right;\">\n",
              "      <th></th>\n",
              "      <th>mean_fit_time</th>\n",
              "      <th>std_fit_time</th>\n",
              "      <th>mean_score_time</th>\n",
              "      <th>std_score_time</th>\n",
              "      <th>param_max_depth</th>\n",
              "      <th>param_max_features</th>\n",
              "      <th>params</th>\n",
              "      <th>split0_test_score</th>\n",
              "      <th>split1_test_score</th>\n",
              "      <th>split2_test_score</th>\n",
              "      <th>split3_test_score</th>\n",
              "      <th>split4_test_score</th>\n",
              "      <th>mean_test_score</th>\n",
              "      <th>std_test_score</th>\n",
              "      <th>rank_test_score</th>\n",
              "    </tr>\n",
              "  </thead>\n",
              "  <tbody>\n",
              "    <tr>\n",
              "      <th>0</th>\n",
              "      <td>0.419634</td>\n",
              "      <td>0.072639</td>\n",
              "      <td>0.016303</td>\n",
              "      <td>0.002235</td>\n",
              "      <td>3</td>\n",
              "      <td>sqrt</td>\n",
              "      <td>{'max_depth': 3, 'max_features': 'sqrt'}</td>\n",
              "      <td>0.699346</td>\n",
              "      <td>0.660131</td>\n",
              "      <td>0.651316</td>\n",
              "      <td>0.539474</td>\n",
              "      <td>0.782895</td>\n",
              "      <td>0.666632</td>\n",
              "      <td>0.078782</td>\n",
              "      <td>7</td>\n",
              "    </tr>\n",
              "    <tr>\n",
              "      <th>1</th>\n",
              "      <td>0.310315</td>\n",
              "      <td>0.014216</td>\n",
              "      <td>0.015763</td>\n",
              "      <td>0.001287</td>\n",
              "      <td>3</td>\n",
              "      <td>log2</td>\n",
              "      <td>{'max_depth': 3, 'max_features': 'log2'}</td>\n",
              "      <td>0.581699</td>\n",
              "      <td>0.686275</td>\n",
              "      <td>0.552632</td>\n",
              "      <td>0.565789</td>\n",
              "      <td>0.782895</td>\n",
              "      <td>0.633858</td>\n",
              "      <td>0.088217</td>\n",
              "      <td>12</td>\n",
              "    </tr>\n",
              "    <tr>\n",
              "      <th>2</th>\n",
              "      <td>1.317387</td>\n",
              "      <td>0.103811</td>\n",
              "      <td>0.019092</td>\n",
              "      <td>0.002852</td>\n",
              "      <td>3</td>\n",
              "      <td>None</td>\n",
              "      <td>{'max_depth': 3, 'max_features': None}</td>\n",
              "      <td>0.614379</td>\n",
              "      <td>0.758170</td>\n",
              "      <td>0.809211</td>\n",
              "      <td>0.631579</td>\n",
              "      <td>0.717105</td>\n",
              "      <td>0.706089</td>\n",
              "      <td>0.074068</td>\n",
              "      <td>1</td>\n",
              "    </tr>\n",
              "    <tr>\n",
              "      <th>3</th>\n",
              "      <td>0.565811</td>\n",
              "      <td>0.011308</td>\n",
              "      <td>0.025446</td>\n",
              "      <td>0.002746</td>\n",
              "      <td>5</td>\n",
              "      <td>sqrt</td>\n",
              "      <td>{'max_depth': 5, 'max_features': 'sqrt'}</td>\n",
              "      <td>0.633987</td>\n",
              "      <td>0.601307</td>\n",
              "      <td>0.697368</td>\n",
              "      <td>0.611842</td>\n",
              "      <td>0.815789</td>\n",
              "      <td>0.672059</td>\n",
              "      <td>0.079222</td>\n",
              "      <td>5</td>\n",
              "    </tr>\n",
              "    <tr>\n",
              "      <th>4</th>\n",
              "      <td>0.404031</td>\n",
              "      <td>0.057933</td>\n",
              "      <td>0.016634</td>\n",
              "      <td>0.002934</td>\n",
              "      <td>5</td>\n",
              "      <td>log2</td>\n",
              "      <td>{'max_depth': 5, 'max_features': 'log2'}</td>\n",
              "      <td>0.627451</td>\n",
              "      <td>0.568627</td>\n",
              "      <td>0.625000</td>\n",
              "      <td>0.618421</td>\n",
              "      <td>0.743421</td>\n",
              "      <td>0.636584</td>\n",
              "      <td>0.057584</td>\n",
              "      <td>10</td>\n",
              "    </tr>\n",
              "    <tr>\n",
              "      <th>5</th>\n",
              "      <td>1.638372</td>\n",
              "      <td>0.037775</td>\n",
              "      <td>0.014790</td>\n",
              "      <td>0.001584</td>\n",
              "      <td>5</td>\n",
              "      <td>None</td>\n",
              "      <td>{'max_depth': 5, 'max_features': None}</td>\n",
              "      <td>0.594771</td>\n",
              "      <td>0.764706</td>\n",
              "      <td>0.763158</td>\n",
              "      <td>0.598684</td>\n",
              "      <td>0.677632</td>\n",
              "      <td>0.679790</td>\n",
              "      <td>0.074796</td>\n",
              "      <td>4</td>\n",
              "    </tr>\n",
              "    <tr>\n",
              "      <th>6</th>\n",
              "      <td>0.540972</td>\n",
              "      <td>0.006913</td>\n",
              "      <td>0.021293</td>\n",
              "      <td>0.001287</td>\n",
              "      <td>7</td>\n",
              "      <td>sqrt</td>\n",
              "      <td>{'max_depth': 7, 'max_features': 'sqrt'}</td>\n",
              "      <td>0.725490</td>\n",
              "      <td>0.601307</td>\n",
              "      <td>0.671053</td>\n",
              "      <td>0.592105</td>\n",
              "      <td>0.743421</td>\n",
              "      <td>0.666675</td>\n",
              "      <td>0.061971</td>\n",
              "      <td>6</td>\n",
              "    </tr>\n",
              "    <tr>\n",
              "      <th>7</th>\n",
              "      <td>0.407171</td>\n",
              "      <td>0.067801</td>\n",
              "      <td>0.017158</td>\n",
              "      <td>0.003630</td>\n",
              "      <td>7</td>\n",
              "      <td>log2</td>\n",
              "      <td>{'max_depth': 7, 'max_features': 'log2'}</td>\n",
              "      <td>0.653595</td>\n",
              "      <td>0.660131</td>\n",
              "      <td>0.644737</td>\n",
              "      <td>0.565789</td>\n",
              "      <td>0.802632</td>\n",
              "      <td>0.665377</td>\n",
              "      <td>0.076614</td>\n",
              "      <td>8</td>\n",
              "    </tr>\n",
              "    <tr>\n",
              "      <th>8</th>\n",
              "      <td>1.861396</td>\n",
              "      <td>0.019860</td>\n",
              "      <td>0.015998</td>\n",
              "      <td>0.003091</td>\n",
              "      <td>7</td>\n",
              "      <td>None</td>\n",
              "      <td>{'max_depth': 7, 'max_features': None}</td>\n",
              "      <td>0.633987</td>\n",
              "      <td>0.686275</td>\n",
              "      <td>0.756579</td>\n",
              "      <td>0.605263</td>\n",
              "      <td>0.723684</td>\n",
              "      <td>0.681158</td>\n",
              "      <td>0.055692</td>\n",
              "      <td>3</td>\n",
              "    </tr>\n",
              "    <tr>\n",
              "      <th>9</th>\n",
              "      <td>0.563566</td>\n",
              "      <td>0.018458</td>\n",
              "      <td>0.020219</td>\n",
              "      <td>0.001624</td>\n",
              "      <td>9</td>\n",
              "      <td>sqrt</td>\n",
              "      <td>{'max_depth': 9, 'max_features': 'sqrt'}</td>\n",
              "      <td>0.699346</td>\n",
              "      <td>0.607843</td>\n",
              "      <td>0.697368</td>\n",
              "      <td>0.526316</td>\n",
              "      <td>0.769737</td>\n",
              "      <td>0.660122</td>\n",
              "      <td>0.084355</td>\n",
              "      <td>9</td>\n",
              "    </tr>\n",
              "    <tr>\n",
              "      <th>10</th>\n",
              "      <td>0.404327</td>\n",
              "      <td>0.074452</td>\n",
              "      <td>0.017459</td>\n",
              "      <td>0.004931</td>\n",
              "      <td>9</td>\n",
              "      <td>log2</td>\n",
              "      <td>{'max_depth': 9, 'max_features': 'log2'}</td>\n",
              "      <td>0.712418</td>\n",
              "      <td>0.620915</td>\n",
              "      <td>0.644737</td>\n",
              "      <td>0.519737</td>\n",
              "      <td>0.684211</td>\n",
              "      <td>0.636404</td>\n",
              "      <td>0.066309</td>\n",
              "      <td>11</td>\n",
              "    </tr>\n",
              "    <tr>\n",
              "      <th>11</th>\n",
              "      <td>2.125015</td>\n",
              "      <td>0.205803</td>\n",
              "      <td>0.015354</td>\n",
              "      <td>0.002670</td>\n",
              "      <td>9</td>\n",
              "      <td>None</td>\n",
              "      <td>{'max_depth': 9, 'max_features': None}</td>\n",
              "      <td>0.627451</td>\n",
              "      <td>0.712418</td>\n",
              "      <td>0.743421</td>\n",
              "      <td>0.605263</td>\n",
              "      <td>0.730263</td>\n",
              "      <td>0.683763</td>\n",
              "      <td>0.056348</td>\n",
              "      <td>2</td>\n",
              "    </tr>\n",
              "  </tbody>\n",
              "</table>\n",
              "</div>\n",
              "      <button class=\"colab-df-convert\" onclick=\"convertToInteractive('df-d54f5225-7026-45d7-b354-4ee1048d769b')\"\n",
              "              title=\"Convert this dataframe to an interactive table.\"\n",
              "              style=\"display:none;\">\n",
              "        \n",
              "  <svg xmlns=\"http://www.w3.org/2000/svg\" height=\"24px\"viewBox=\"0 0 24 24\"\n",
              "       width=\"24px\">\n",
              "    <path d=\"M0 0h24v24H0V0z\" fill=\"none\"/>\n",
              "    <path d=\"M18.56 5.44l.94 2.06.94-2.06 2.06-.94-2.06-.94-.94-2.06-.94 2.06-2.06.94zm-11 1L8.5 8.5l.94-2.06 2.06-.94-2.06-.94L8.5 2.5l-.94 2.06-2.06.94zm10 10l.94 2.06.94-2.06 2.06-.94-2.06-.94-.94-2.06-.94 2.06-2.06.94z\"/><path d=\"M17.41 7.96l-1.37-1.37c-.4-.4-.92-.59-1.43-.59-.52 0-1.04.2-1.43.59L10.3 9.45l-7.72 7.72c-.78.78-.78 2.05 0 2.83L4 21.41c.39.39.9.59 1.41.59.51 0 1.02-.2 1.41-.59l7.78-7.78 2.81-2.81c.8-.78.8-2.07 0-2.86zM5.41 20L4 18.59l7.72-7.72 1.47 1.35L5.41 20z\"/>\n",
              "  </svg>\n",
              "      </button>\n",
              "      \n",
              "  <style>\n",
              "    .colab-df-container {\n",
              "      display:flex;\n",
              "      flex-wrap:wrap;\n",
              "      gap: 12px;\n",
              "    }\n",
              "\n",
              "    .colab-df-convert {\n",
              "      background-color: #E8F0FE;\n",
              "      border: none;\n",
              "      border-radius: 50%;\n",
              "      cursor: pointer;\n",
              "      display: none;\n",
              "      fill: #1967D2;\n",
              "      height: 32px;\n",
              "      padding: 0 0 0 0;\n",
              "      width: 32px;\n",
              "    }\n",
              "\n",
              "    .colab-df-convert:hover {\n",
              "      background-color: #E2EBFA;\n",
              "      box-shadow: 0px 1px 2px rgba(60, 64, 67, 0.3), 0px 1px 3px 1px rgba(60, 64, 67, 0.15);\n",
              "      fill: #174EA6;\n",
              "    }\n",
              "\n",
              "    [theme=dark] .colab-df-convert {\n",
              "      background-color: #3B4455;\n",
              "      fill: #D2E3FC;\n",
              "    }\n",
              "\n",
              "    [theme=dark] .colab-df-convert:hover {\n",
              "      background-color: #434B5C;\n",
              "      box-shadow: 0px 1px 3px 1px rgba(0, 0, 0, 0.15);\n",
              "      filter: drop-shadow(0px 1px 2px rgba(0, 0, 0, 0.3));\n",
              "      fill: #FFFFFF;\n",
              "    }\n",
              "  </style>\n",
              "\n",
              "      <script>\n",
              "        const buttonEl =\n",
              "          document.querySelector('#df-d54f5225-7026-45d7-b354-4ee1048d769b button.colab-df-convert');\n",
              "        buttonEl.style.display =\n",
              "          google.colab.kernel.accessAllowed ? 'block' : 'none';\n",
              "\n",
              "        async function convertToInteractive(key) {\n",
              "          const element = document.querySelector('#df-d54f5225-7026-45d7-b354-4ee1048d769b');\n",
              "          const dataTable =\n",
              "            await google.colab.kernel.invokeFunction('convertToInteractive',\n",
              "                                                     [key], {});\n",
              "          if (!dataTable) return;\n",
              "\n",
              "          const docLinkHtml = 'Like what you see? Visit the ' +\n",
              "            '<a target=\"_blank\" href=https://colab.research.google.com/notebooks/data_table.ipynb>data table notebook</a>'\n",
              "            + ' to learn more about interactive tables.';\n",
              "          element.innerHTML = '';\n",
              "          dataTable['output_type'] = 'display_data';\n",
              "          await google.colab.output.renderOutput(dataTable, element);\n",
              "          const docLink = document.createElement('div');\n",
              "          docLink.innerHTML = docLinkHtml;\n",
              "          element.appendChild(docLink);\n",
              "        }\n",
              "      </script>\n",
              "    </div>\n",
              "  </div>\n",
              "  "
            ],
            "text/plain": [
              "    mean_fit_time  std_fit_time  mean_score_time  std_score_time  \\\n",
              "0        0.419634      0.072639         0.016303        0.002235   \n",
              "1        0.310315      0.014216         0.015763        0.001287   \n",
              "2        1.317387      0.103811         0.019092        0.002852   \n",
              "3        0.565811      0.011308         0.025446        0.002746   \n",
              "4        0.404031      0.057933         0.016634        0.002934   \n",
              "5        1.638372      0.037775         0.014790        0.001584   \n",
              "6        0.540972      0.006913         0.021293        0.001287   \n",
              "7        0.407171      0.067801         0.017158        0.003630   \n",
              "8        1.861396      0.019860         0.015998        0.003091   \n",
              "9        0.563566      0.018458         0.020219        0.001624   \n",
              "10       0.404327      0.074452         0.017459        0.004931   \n",
              "11       2.125015      0.205803         0.015354        0.002670   \n",
              "\n",
              "   param_max_depth param_max_features  \\\n",
              "0                3               sqrt   \n",
              "1                3               log2   \n",
              "2                3               None   \n",
              "3                5               sqrt   \n",
              "4                5               log2   \n",
              "5                5               None   \n",
              "6                7               sqrt   \n",
              "7                7               log2   \n",
              "8                7               None   \n",
              "9                9               sqrt   \n",
              "10               9               log2   \n",
              "11               9               None   \n",
              "\n",
              "                                      params  split0_test_score  \\\n",
              "0   {'max_depth': 3, 'max_features': 'sqrt'}           0.699346   \n",
              "1   {'max_depth': 3, 'max_features': 'log2'}           0.581699   \n",
              "2     {'max_depth': 3, 'max_features': None}           0.614379   \n",
              "3   {'max_depth': 5, 'max_features': 'sqrt'}           0.633987   \n",
              "4   {'max_depth': 5, 'max_features': 'log2'}           0.627451   \n",
              "5     {'max_depth': 5, 'max_features': None}           0.594771   \n",
              "6   {'max_depth': 7, 'max_features': 'sqrt'}           0.725490   \n",
              "7   {'max_depth': 7, 'max_features': 'log2'}           0.653595   \n",
              "8     {'max_depth': 7, 'max_features': None}           0.633987   \n",
              "9   {'max_depth': 9, 'max_features': 'sqrt'}           0.699346   \n",
              "10  {'max_depth': 9, 'max_features': 'log2'}           0.712418   \n",
              "11    {'max_depth': 9, 'max_features': None}           0.627451   \n",
              "\n",
              "    split1_test_score  split2_test_score  split3_test_score  \\\n",
              "0            0.660131           0.651316           0.539474   \n",
              "1            0.686275           0.552632           0.565789   \n",
              "2            0.758170           0.809211           0.631579   \n",
              "3            0.601307           0.697368           0.611842   \n",
              "4            0.568627           0.625000           0.618421   \n",
              "5            0.764706           0.763158           0.598684   \n",
              "6            0.601307           0.671053           0.592105   \n",
              "7            0.660131           0.644737           0.565789   \n",
              "8            0.686275           0.756579           0.605263   \n",
              "9            0.607843           0.697368           0.526316   \n",
              "10           0.620915           0.644737           0.519737   \n",
              "11           0.712418           0.743421           0.605263   \n",
              "\n",
              "    split4_test_score  mean_test_score  std_test_score  rank_test_score  \n",
              "0            0.782895         0.666632        0.078782                7  \n",
              "1            0.782895         0.633858        0.088217               12  \n",
              "2            0.717105         0.706089        0.074068                1  \n",
              "3            0.815789         0.672059        0.079222                5  \n",
              "4            0.743421         0.636584        0.057584               10  \n",
              "5            0.677632         0.679790        0.074796                4  \n",
              "6            0.743421         0.666675        0.061971                6  \n",
              "7            0.802632         0.665377        0.076614                8  \n",
              "8            0.723684         0.681158        0.055692                3  \n",
              "9            0.769737         0.660122        0.084355                9  \n",
              "10           0.684211         0.636404        0.066309               11  \n",
              "11           0.730263         0.683763        0.056348                2  "
            ]
          },
          "execution_count": 57,
          "metadata": {},
          "output_type": "execute_result"
        }
      ],
      "source": [
        "RF_result"
      ]
    },
    {
      "cell_type": "code",
      "execution_count": null,
      "metadata": {
        "colab": {
          "base_uri": "https://localhost:8080/"
        },
        "id": "H_aaqJbo-hsX",
        "outputId": "4f2ed511-1d72-4864-a44b-020d24b41057"
      },
      "outputs": [
        {
          "name": "stdout",
          "output_type": "stream",
          "text": [
            "best hyperparameters for Random Forest are :  {'max_depth': 3, 'max_features': None}\n"
          ]
        }
      ],
      "source": [
        "print('best hyperparameters for Random Forest are : ' , best_parameter_RF)"
      ]
    },
    {
      "cell_type": "code",
      "execution_count": null,
      "metadata": {
        "colab": {
          "base_uri": "https://localhost:8080/"
        },
        "id": "IHk6oixI-Qzv",
        "outputId": "e8aa3d56-238a-4b0c-cc0e-5acd5e55c5ff"
      },
      "outputs": [
        {
          "name": "stdout",
          "output_type": "stream",
          "text": [
            "best cross-validation score for Random Forest is :  0.7060887512899896\n"
          ]
        }
      ],
      "source": [
        "print('best cross-validation score for Random Forest is : ' , best_score_RF)"
      ]
    },
    {
      "cell_type": "code",
      "execution_count": null,
      "metadata": {
        "id": "et047X3iGnWY"
      },
      "outputs": [],
      "source": [
        "RF = RandomForestClassifier( max_depth = 3, max_features = None)\n",
        "RF.fit(training_features, y_train)     ## using best hyperparameter to fit on the training features and training labels\n",
        "y_predicted_RF = RF.predict(training_features)"
      ]
    },
    {
      "cell_type": "code",
      "execution_count": null,
      "metadata": {
        "colab": {
          "base_uri": "https://localhost:8080/"
        },
        "id": "P2CcqdZyM7im",
        "outputId": "edf7b6b9-3999-4356-d7c3-4700264111c8"
      },
      "outputs": [
        {
          "name": "stdout",
          "output_type": "stream",
          "text": [
            "              precision    recall  f1-score   support\n",
            "\n",
            "           0       0.88      0.97      0.92       435\n",
            "           1       0.95      0.83      0.88       327\n",
            "\n",
            "    accuracy                           0.91       762\n",
            "   macro avg       0.91      0.90      0.90       762\n",
            "weighted avg       0.91      0.91      0.91       762\n",
            "\n"
          ]
        }
      ],
      "source": [
        "print(classification_report(y_train , y_predicted_RF ))"
      ]
    },
    {
      "cell_type": "code",
      "execution_count": null,
      "metadata": {
        "colab": {
          "base_uri": "https://localhost:8080/",
          "height": 312
        },
        "id": "0IJttMBaND2D",
        "outputId": "4a6f419c-0d8e-42cf-a1d4-5f44151b1952"
      },
      "outputs": [
        {
          "data": {
            "text/plain": [
              "[Text(0, 0.5, 'Control'), Text(0, 1.5, 'Ts65Dn')]"
            ]
          },
          "execution_count": 62,
          "metadata": {},
          "output_type": "execute_result"
        },
        {
          "data": {
            "image/png": "[encoded data removed]",
            "text/plain": [
              "<Figure size 432x288 with 2 Axes>"
            ]
          },
          "metadata": {
            "needs_background": "light"
          },
          "output_type": "display_data"
        }
      ],
      "source": [
        "cm_RF = confusion_matrix(y_train , y_predicted_RF)\n",
        "ax=plt.subplot()\n",
        "sns.heatmap(cm_RF , annot=True)\n",
        "ax.set_xlabel('Predicted labels')\n",
        "ax.set_ylabel('True labels') \n",
        "ax.set_title('Training Confusion Matrix')\n",
        "ax.xaxis.set_ticklabels(['Control', 'Ts65Dn'])\n",
        "ax.yaxis.set_ticklabels(['Control', 'Ts65Dn'])"
      ]
    },
    {
      "cell_type": "markdown",
      "metadata": {
        "id": "SFrDOiQG_pbh"
      },
      "source": [
        "Multiclass Classification"
      ]
    },
    {
      "cell_type": "code",
      "execution_count": null,
      "metadata": {
        "id": "1G0hSav7-mMo"
      },
      "outputs": [],
      "source": [
        "training_label_multiclass = Data['Treatment_Behavior']\n",
        "y_train_multiclass = label.fit_transform(training_label_multiclass)   ## convert categorical values into numerical values"
      ]
    },
    {
      "cell_type": "markdown",
      "metadata": {
        "id": "CWLV8wboAa7o"
      },
      "source": [
        "Linear SVM for multiclass classification"
      ]
    },
    {
      "cell_type": "code",
      "execution_count": null,
      "metadata": {
        "id": "7VOs87IZAPB3"
      },
      "outputs": [],
      "source": [
        "Linear_SVM_result_multiclass , best_parameter_linear_SVM_multiclass , best_score_linear_SVM_multiclass = Linear_SVM(training_features, y_train_multiclass)"
      ]
    },
    {
      "cell_type": "code",
      "execution_count": null,
      "metadata": {
        "colab": {
          "base_uri": "https://localhost:8080/",
          "height": 412
        },
        "id": "BwuQxYY0ARY3",
        "outputId": "97ec287e-5ba7-4387-d40d-5418af09cef6"
      },
      "outputs": [
        {
          "data": {
            "text/html": [
              "\n",
              "  <div id=\"df-06223890-5d1b-4342-834d-4cb1be707d12\">\n",
              "    <div class=\"colab-df-container\">\n",
              "      <div>\n",
              "<style scoped>\n",
              "    .dataframe tbody tr th:only-of-type {\n",
              "        vertical-align: middle;\n",
              "    }\n",
              "\n",
              "    .dataframe tbody tr th {\n",
              "        vertical-align: top;\n",
              "    }\n",
              "\n",
              "    .dataframe thead th {\n",
              "        text-align: right;\n",
              "    }\n",
              "</style>\n",
              "<table border=\"1\" class=\"dataframe\">\n",
              "  <thead>\n",
              "    <tr style=\"text-align: right;\">\n",
              "      <th></th>\n",
              "      <th>mean_fit_time</th>\n",
              "      <th>std_fit_time</th>\n",
              "      <th>mean_score_time</th>\n",
              "      <th>std_score_time</th>\n",
              "      <th>param_C</th>\n",
              "      <th>param_kernel</th>\n",
              "      <th>params</th>\n",
              "      <th>split0_test_score</th>\n",
              "      <th>split1_test_score</th>\n",
              "      <th>split2_test_score</th>\n",
              "      <th>split3_test_score</th>\n",
              "      <th>split4_test_score</th>\n",
              "      <th>mean_test_score</th>\n",
              "      <th>std_test_score</th>\n",
              "      <th>rank_test_score</th>\n",
              "    </tr>\n",
              "  </thead>\n",
              "  <tbody>\n",
              "    <tr>\n",
              "      <th>0</th>\n",
              "      <td>0.017458</td>\n",
              "      <td>0.002526</td>\n",
              "      <td>0.005837</td>\n",
              "      <td>0.000166</td>\n",
              "      <td>0.1</td>\n",
              "      <td>linear</td>\n",
              "      <td>{'C': 0.1, 'kernel': 'linear'}</td>\n",
              "      <td>0.607843</td>\n",
              "      <td>0.816993</td>\n",
              "      <td>0.703947</td>\n",
              "      <td>0.625000</td>\n",
              "      <td>0.500000</td>\n",
              "      <td>0.650757</td>\n",
              "      <td>0.105543</td>\n",
              "      <td>4</td>\n",
              "    </tr>\n",
              "    <tr>\n",
              "      <th>1</th>\n",
              "      <td>0.010541</td>\n",
              "      <td>0.000304</td>\n",
              "      <td>0.003948</td>\n",
              "      <td>0.000116</td>\n",
              "      <td>1</td>\n",
              "      <td>linear</td>\n",
              "      <td>{'C': 1, 'kernel': 'linear'}</td>\n",
              "      <td>0.660131</td>\n",
              "      <td>0.882353</td>\n",
              "      <td>0.835526</td>\n",
              "      <td>0.723684</td>\n",
              "      <td>0.618421</td>\n",
              "      <td>0.744023</td>\n",
              "      <td>0.100733</td>\n",
              "      <td>3</td>\n",
              "    </tr>\n",
              "    <tr>\n",
              "      <th>2</th>\n",
              "      <td>0.010409</td>\n",
              "      <td>0.001005</td>\n",
              "      <td>0.003283</td>\n",
              "      <td>0.000022</td>\n",
              "      <td>10</td>\n",
              "      <td>linear</td>\n",
              "      <td>{'C': 10, 'kernel': 'linear'}</td>\n",
              "      <td>0.647059</td>\n",
              "      <td>0.849673</td>\n",
              "      <td>0.835526</td>\n",
              "      <td>0.835526</td>\n",
              "      <td>0.664474</td>\n",
              "      <td>0.766452</td>\n",
              "      <td>0.090689</td>\n",
              "      <td>1</td>\n",
              "    </tr>\n",
              "    <tr>\n",
              "      <th>3</th>\n",
              "      <td>0.009981</td>\n",
              "      <td>0.000390</td>\n",
              "      <td>0.003096</td>\n",
              "      <td>0.000076</td>\n",
              "      <td>100</td>\n",
              "      <td>linear</td>\n",
              "      <td>{'C': 100, 'kernel': 'linear'}</td>\n",
              "      <td>0.647059</td>\n",
              "      <td>0.830065</td>\n",
              "      <td>0.828947</td>\n",
              "      <td>0.769737</td>\n",
              "      <td>0.671053</td>\n",
              "      <td>0.749372</td>\n",
              "      <td>0.077279</td>\n",
              "      <td>2</td>\n",
              "    </tr>\n",
              "  </tbody>\n",
              "</table>\n",
              "</div>\n",
              "      <button class=\"colab-df-convert\" onclick=\"convertToInteractive('df-06223890-5d1b-4342-834d-4cb1be707d12')\"\n",
              "              title=\"Convert this dataframe to an interactive table.\"\n",
              "              style=\"display:none;\">\n",
              "        \n",
              "  <svg xmlns=\"http://www.w3.org/2000/svg\" height=\"24px\"viewBox=\"0 0 24 24\"\n",
              "       width=\"24px\">\n",
              "    <path d=\"M0 0h24v24H0V0z\" fill=\"none\"/>\n",
              "    <path d=\"M18.56 5.44l.94 2.06.94-2.06 2.06-.94-2.06-.94-.94-2.06-.94 2.06-2.06.94zm-11 1L8.5 8.5l.94-2.06 2.06-.94-2.06-.94L8.5 2.5l-.94 2.06-2.06.94zm10 10l.94 2.06.94-2.06 2.06-.94-2.06-.94-.94-2.06-.94 2.06-2.06.94z\"/><path d=\"M17.41 7.96l-1.37-1.37c-.4-.4-.92-.59-1.43-.59-.52 0-1.04.2-1.43.59L10.3 9.45l-7.72 7.72c-.78.78-.78 2.05 0 2.83L4 21.41c.39.39.9.59 1.41.59.51 0 1.02-.2 1.41-.59l7.78-7.78 2.81-2.81c.8-.78.8-2.07 0-2.86zM5.41 20L4 18.59l7.72-7.72 1.47 1.35L5.41 20z\"/>\n",
              "  </svg>\n",
              "      </button>\n",
              "      \n",
              "  <style>\n",
              "    .colab-df-container {\n",
              "      display:flex;\n",
              "      flex-wrap:wrap;\n",
              "      gap: 12px;\n",
              "    }\n",
              "\n",
              "    .colab-df-convert {\n",
              "      background-color: #E8F0FE;\n",
              "      border: none;\n",
              "      border-radius: 50%;\n",
              "      cursor: pointer;\n",
              "      display: none;\n",
              "      fill: #1967D2;\n",
              "      height: 32px;\n",
              "      padding: 0 0 0 0;\n",
              "      width: 32px;\n",
              "    }\n",
              "\n",
              "    .colab-df-convert:hover {\n",
              "      background-color: #E2EBFA;\n",
              "      box-shadow: 0px 1px 2px rgba(60, 64, 67, 0.3), 0px 1px 3px 1px rgba(60, 64, 67, 0.15);\n",
              "      fill: #174EA6;\n",
              "    }\n",
              "\n",
              "    [theme=dark] .colab-df-convert {\n",
              "      background-color: #3B4455;\n",
              "      fill: #D2E3FC;\n",
              "    }\n",
              "\n",
              "    [theme=dark] .colab-df-convert:hover {\n",
              "      background-color: #434B5C;\n",
              "      box-shadow: 0px 1px 3px 1px rgba(0, 0, 0, 0.15);\n",
              "      filter: drop-shadow(0px 1px 2px rgba(0, 0, 0, 0.3));\n",
              "      fill: #FFFFFF;\n",
              "    }\n",
              "  </style>\n",
              "\n",
              "      <script>\n",
              "        const buttonEl =\n",
              "          document.querySelector('#df-06223890-5d1b-4342-834d-4cb1be707d12 button.colab-df-convert');\n",
              "        buttonEl.style.display =\n",
              "          google.colab.kernel.accessAllowed ? 'block' : 'none';\n",
              "\n",
              "        async function convertToInteractive(key) {\n",
              "          const element = document.querySelector('#df-06223890-5d1b-4342-834d-4cb1be707d12');\n",
              "          const dataTable =\n",
              "            await google.colab.kernel.invokeFunction('convertToInteractive',\n",
              "                                                     [key], {});\n",
              "          if (!dataTable) return;\n",
              "\n",
              "          const docLinkHtml = 'Like what you see? Visit the ' +\n",
              "            '<a target=\"_blank\" href=https://colab.research.google.com/notebooks/data_table.ipynb>data table notebook</a>'\n",
              "            + ' to learn more about interactive tables.';\n",
              "          element.innerHTML = '';\n",
              "          dataTable['output_type'] = 'display_data';\n",
              "          await google.colab.output.renderOutput(dataTable, element);\n",
              "          const docLink = document.createElement('div');\n",
              "          docLink.innerHTML = docLinkHtml;\n",
              "          element.appendChild(docLink);\n",
              "        }\n",
              "      </script>\n",
              "    </div>\n",
              "  </div>\n",
              "  "
            ],
            "text/plain": [
              "   mean_fit_time  std_fit_time  mean_score_time  std_score_time param_C  \\\n",
              "0       0.017458      0.002526         0.005837        0.000166     0.1   \n",
              "1       0.010541      0.000304         0.003948        0.000116       1   \n",
              "2       0.010409      0.001005         0.003283        0.000022      10   \n",
              "3       0.009981      0.000390         0.003096        0.000076     100   \n",
              "\n",
              "  param_kernel                          params  split0_test_score  \\\n",
              "0       linear  {'C': 0.1, 'kernel': 'linear'}           0.607843   \n",
              "1       linear    {'C': 1, 'kernel': 'linear'}           0.660131   \n",
              "2       linear   {'C': 10, 'kernel': 'linear'}           0.647059   \n",
              "3       linear  {'C': 100, 'kernel': 'linear'}           0.647059   \n",
              "\n",
              "   split1_test_score  split2_test_score  split3_test_score  split4_test_score  \\\n",
              "0           0.816993           0.703947           0.625000           0.500000   \n",
              "1           0.882353           0.835526           0.723684           0.618421   \n",
              "2           0.849673           0.835526           0.835526           0.664474   \n",
              "3           0.830065           0.828947           0.769737           0.671053   \n",
              "\n",
              "   mean_test_score  std_test_score  rank_test_score  \n",
              "0         0.650757        0.105543                4  \n",
              "1         0.744023        0.100733                3  \n",
              "2         0.766452        0.090689                1  \n",
              "3         0.749372        0.077279                2  "
            ]
          },
          "execution_count": 68,
          "metadata": {},
          "output_type": "execute_result"
        }
      ],
      "source": [
        "Linear_SVM_result_multiclass"
      ]
    },
    {
      "cell_type": "code",
      "execution_count": null,
      "metadata": {
        "colab": {
          "base_uri": "https://localhost:8080/"
        },
        "id": "mEDhUfSwA0q4",
        "outputId": "70789dca-94cf-42e6-efff-eb32f5cabf5a"
      },
      "outputs": [
        {
          "name": "stdout",
          "output_type": "stream",
          "text": [
            "best hyperparameter for Linear SVM with multiclass classification are :  {'C': 10, 'kernel': 'linear'}\n"
          ]
        }
      ],
      "source": [
        "print('best hyperparameter for Linear SVM with multiclass classification are : ' , best_parameter_linear_SVM_multiclass)"
      ]
    },
    {
      "cell_type": "code",
      "execution_count": 405,
      "metadata": {
        "colab": {
          "base_uri": "https://localhost:8080/"
        },
        "id": "W02mRTn2A7sX",
        "outputId": "06eeab27-da06-4805-c39c-68691292a022"
      },
      "outputs": [
        {
          "name": "stdout",
          "output_type": "stream",
          "text": [
            "best cross_validation accuracy score for Linear SVM with multiclass classification are :  0.7664516683866529\n"
          ]
        }
      ],
      "source": [
        "print('best cross_validation accuracy score for Linear SVM with multiclass classification are : ' , best_score_linear_SVM_multiclass)"
      ]
    },
    {
      "cell_type": "code",
      "execution_count": null,
      "metadata": {
        "id": "DKcEKSaTJ98w"
      },
      "outputs": [],
      "source": [
        "Linear_SVM_multiclass = SVC( C = 10, kernel = 'linear')\n",
        "Linear_SVM_multiclass.fit( training_features, y_train_multiclass)   ## fit on the training features and labels with best hyperparameter value\n",
        "y_predicted_Linear_SVM_multiclass = Linear_SVM_multiclass.predict(training_features)"
      ]
    },
    {
      "cell_type": "code",
      "execution_count": null,
      "metadata": {
        "colab": {
          "base_uri": "https://localhost:8080/"
        },
        "id": "B2RDyNPLNlTM",
        "outputId": "fd5b1033-a9e4-4cc0-df33-a78a533958b7"
      },
      "outputs": [
        {
          "name": "stdout",
          "output_type": "stream",
          "text": [
            "              precision    recall  f1-score   support\n",
            "\n",
            "           0       1.00      1.00      1.00       225\n",
            "           1       1.00      1.00      1.00       225\n",
            "           2       1.00      1.00      1.00       180\n",
            "           3       1.00      1.00      1.00       132\n",
            "\n",
            "    accuracy                           1.00       762\n",
            "   macro avg       1.00      1.00      1.00       762\n",
            "weighted avg       1.00      1.00      1.00       762\n",
            "\n"
          ]
        }
      ],
      "source": [
        "print(classification_report(y_train_multiclass , y_predicted_Linear_SVM_multiclass ))"
      ]
    },
    {
      "cell_type": "code",
      "execution_count": null,
      "metadata": {
        "colab": {
          "base_uri": "https://localhost:8080/",
          "height": 583
        },
        "id": "Hye6i2cZNw7W",
        "outputId": "94b24a80-1600-4fc8-c541-58a7540ca24b"
      },
      "outputs": [
        {
          "data": {
            "text/plain": [
              "[Text(0, 0.5, 'Memantine_C/S'),\n",
              " Text(0, 1.5, 'Memantine_S/C'),\n",
              " Text(0, 2.5, 'Saline_C/S'),\n",
              " Text(0, 3.5, 'Saline_S/C')]"
            ]
          },
          "execution_count": 73,
          "metadata": {},
          "output_type": "execute_result"
        },
        {
          "data": {
            "image/png": "[encoded data removed]",
            "text/plain": [
              "<Figure size 576x576 with 2 Axes>"
            ]
          },
          "metadata": {
            "needs_background": "light"
          },
          "output_type": "display_data"
        }
      ],
      "source": [
        "plt.figure(figsize = (8,8))\n",
        "cm_Linear_SVM = confusion_matrix(y_train_multiclass , y_predicted_Linear_SVM_multiclass)\n",
        "ax=plt.subplot()\n",
        "sns.heatmap(cm_Linear_SVM , annot=True)\n",
        "ax.set_xlabel('Predicted labels')\n",
        "ax.set_ylabel('True labels') \n",
        "ax.set_title('Training Confusion Matrix')\n",
        "ax.xaxis.set_ticklabels(['Memantine_C/S', 'Memantine_S/C' , 'Saline_C/S' , 'Saline_S/C'])\n",
        "ax.yaxis.set_ticklabels(['Memantine_C/S', 'Memantine_S/C' , 'Saline_C/S' , 'Saline_S/C'])"
      ]
    },
    {
      "cell_type": "markdown",
      "metadata": {
        "id": "D-4hHtfhBCEZ"
      },
      "source": [
        "RBF kernel SVM for multiclass classification"
      ]
    },
    {
      "cell_type": "code",
      "execution_count": null,
      "metadata": {
        "id": "xKfIJwi-A_dH"
      },
      "outputs": [],
      "source": [
        "RBF_SVM_result_multiclass , best_parameter_RBF_SVM_multiclass , best_score_RBF_SVM_multiclass = RBF_SVM(training_features, y_train_multiclass)"
      ]
    },
    {
      "cell_type": "code",
      "execution_count": null,
      "metadata": {
        "colab": {
          "base_uri": "https://localhost:8080/",
          "height": 1000
        },
        "id": "eUj3E2_XBT1X",
        "outputId": "0b10a7e0-1939-439e-cec6-f3314a95d207"
      },
      "outputs": [
        {
          "data": {
            "text/html": [
              "\n",
              "  <div id=\"df-fa307bec-edcc-4f42-b0ec-e743040ce1e3\">\n",
              "    <div class=\"colab-df-container\">\n",
              "      <div>\n",
              "<style scoped>\n",
              "    .dataframe tbody tr th:only-of-type {\n",
              "        vertical-align: middle;\n",
              "    }\n",
              "\n",
              "    .dataframe tbody tr th {\n",
              "        vertical-align: top;\n",
              "    }\n",
              "\n",
              "    .dataframe thead th {\n",
              "        text-align: right;\n",
              "    }\n",
              "</style>\n",
              "<table border=\"1\" class=\"dataframe\">\n",
              "  <thead>\n",
              "    <tr style=\"text-align: right;\">\n",
              "      <th></th>\n",
              "      <th>mean_fit_time</th>\n",
              "      <th>std_fit_time</th>\n",
              "      <th>mean_score_time</th>\n",
              "      <th>std_score_time</th>\n",
              "      <th>param_C</th>\n",
              "      <th>param_gamma</th>\n",
              "      <th>param_kernel</th>\n",
              "      <th>params</th>\n",
              "      <th>split0_test_score</th>\n",
              "      <th>split1_test_score</th>\n",
              "      <th>split2_test_score</th>\n",
              "      <th>split3_test_score</th>\n",
              "      <th>split4_test_score</th>\n",
              "      <th>mean_test_score</th>\n",
              "      <th>std_test_score</th>\n",
              "      <th>rank_test_score</th>\n",
              "    </tr>\n",
              "  </thead>\n",
              "  <tbody>\n",
              "    <tr>\n",
              "      <th>0</th>\n",
              "      <td>0.037845</td>\n",
              "      <td>0.004287</td>\n",
              "      <td>0.011594</td>\n",
              "      <td>0.000278</td>\n",
              "      <td>0.1</td>\n",
              "      <td>0.0001</td>\n",
              "      <td>rbf</td>\n",
              "      <td>{'C': 0.1, 'gamma': 0.0001, 'kernel': 'rbf'}</td>\n",
              "      <td>0.535948</td>\n",
              "      <td>0.542484</td>\n",
              "      <td>0.592105</td>\n",
              "      <td>0.552632</td>\n",
              "      <td>0.585526</td>\n",
              "      <td>0.561739</td>\n",
              "      <td>0.022834</td>\n",
              "      <td>15</td>\n",
              "    </tr>\n",
              "    <tr>\n",
              "      <th>1</th>\n",
              "      <td>0.035290</td>\n",
              "      <td>0.001449</td>\n",
              "      <td>0.012295</td>\n",
              "      <td>0.001342</td>\n",
              "      <td>0.1</td>\n",
              "      <td>0.001</td>\n",
              "      <td>rbf</td>\n",
              "      <td>{'C': 0.1, 'gamma': 0.001, 'kernel': 'rbf'}</td>\n",
              "      <td>0.535948</td>\n",
              "      <td>0.542484</td>\n",
              "      <td>0.592105</td>\n",
              "      <td>0.552632</td>\n",
              "      <td>0.585526</td>\n",
              "      <td>0.561739</td>\n",
              "      <td>0.022834</td>\n",
              "      <td>15</td>\n",
              "    </tr>\n",
              "    <tr>\n",
              "      <th>2</th>\n",
              "      <td>0.040251</td>\n",
              "      <td>0.006650</td>\n",
              "      <td>0.013429</td>\n",
              "      <td>0.003340</td>\n",
              "      <td>0.1</td>\n",
              "      <td>0.01</td>\n",
              "      <td>rbf</td>\n",
              "      <td>{'C': 0.1, 'gamma': 0.01, 'kernel': 'rbf'}</td>\n",
              "      <td>0.535948</td>\n",
              "      <td>0.542484</td>\n",
              "      <td>0.592105</td>\n",
              "      <td>0.552632</td>\n",
              "      <td>0.585526</td>\n",
              "      <td>0.561739</td>\n",
              "      <td>0.022834</td>\n",
              "      <td>15</td>\n",
              "    </tr>\n",
              "    <tr>\n",
              "      <th>3</th>\n",
              "      <td>0.054822</td>\n",
              "      <td>0.002999</td>\n",
              "      <td>0.020431</td>\n",
              "      <td>0.000740</td>\n",
              "      <td>0.1</td>\n",
              "      <td>0.1</td>\n",
              "      <td>rbf</td>\n",
              "      <td>{'C': 0.1, 'gamma': 0.1, 'kernel': 'rbf'}</td>\n",
              "      <td>0.588235</td>\n",
              "      <td>0.562092</td>\n",
              "      <td>0.592105</td>\n",
              "      <td>0.585526</td>\n",
              "      <td>0.592105</td>\n",
              "      <td>0.584013</td>\n",
              "      <td>0.011240</td>\n",
              "      <td>14</td>\n",
              "    </tr>\n",
              "    <tr>\n",
              "      <th>4</th>\n",
              "      <td>0.045326</td>\n",
              "      <td>0.004037</td>\n",
              "      <td>0.018366</td>\n",
              "      <td>0.000338</td>\n",
              "      <td>0.1</td>\n",
              "      <td>1</td>\n",
              "      <td>rbf</td>\n",
              "      <td>{'C': 0.1, 'gamma': 1, 'kernel': 'rbf'}</td>\n",
              "      <td>0.581699</td>\n",
              "      <td>0.666667</td>\n",
              "      <td>0.631579</td>\n",
              "      <td>0.611842</td>\n",
              "      <td>0.460526</td>\n",
              "      <td>0.590463</td>\n",
              "      <td>0.070590</td>\n",
              "      <td>10</td>\n",
              "    </tr>\n",
              "    <tr>\n",
              "      <th>5</th>\n",
              "      <td>0.060806</td>\n",
              "      <td>0.001739</td>\n",
              "      <td>0.020197</td>\n",
              "      <td>0.001439</td>\n",
              "      <td>0.1</td>\n",
              "      <td>10</td>\n",
              "      <td>rbf</td>\n",
              "      <td>{'C': 0.1, 'gamma': 10, 'kernel': 'rbf'}</td>\n",
              "      <td>0.346405</td>\n",
              "      <td>0.372549</td>\n",
              "      <td>0.348684</td>\n",
              "      <td>0.322368</td>\n",
              "      <td>0.500000</td>\n",
              "      <td>0.378001</td>\n",
              "      <td>0.063034</td>\n",
              "      <td>24</td>\n",
              "    </tr>\n",
              "    <tr>\n",
              "      <th>6</th>\n",
              "      <td>0.050428</td>\n",
              "      <td>0.002070</td>\n",
              "      <td>0.019928</td>\n",
              "      <td>0.001021</td>\n",
              "      <td>1</td>\n",
              "      <td>0.0001</td>\n",
              "      <td>rbf</td>\n",
              "      <td>{'C': 1, 'gamma': 0.0001, 'kernel': 'rbf'}</td>\n",
              "      <td>0.535948</td>\n",
              "      <td>0.542484</td>\n",
              "      <td>0.592105</td>\n",
              "      <td>0.552632</td>\n",
              "      <td>0.585526</td>\n",
              "      <td>0.561739</td>\n",
              "      <td>0.022834</td>\n",
              "      <td>15</td>\n",
              "    </tr>\n",
              "    <tr>\n",
              "      <th>7</th>\n",
              "      <td>0.050883</td>\n",
              "      <td>0.001975</td>\n",
              "      <td>0.019851</td>\n",
              "      <td>0.000914</td>\n",
              "      <td>1</td>\n",
              "      <td>0.001</td>\n",
              "      <td>rbf</td>\n",
              "      <td>{'C': 1, 'gamma': 0.001, 'kernel': 'rbf'}</td>\n",
              "      <td>0.535948</td>\n",
              "      <td>0.542484</td>\n",
              "      <td>0.592105</td>\n",
              "      <td>0.552632</td>\n",
              "      <td>0.585526</td>\n",
              "      <td>0.561739</td>\n",
              "      <td>0.022834</td>\n",
              "      <td>15</td>\n",
              "    </tr>\n",
              "    <tr>\n",
              "      <th>8</th>\n",
              "      <td>0.044696</td>\n",
              "      <td>0.001683</td>\n",
              "      <td>0.018511</td>\n",
              "      <td>0.000493</td>\n",
              "      <td>1</td>\n",
              "      <td>0.01</td>\n",
              "      <td>rbf</td>\n",
              "      <td>{'C': 1, 'gamma': 0.01, 'kernel': 'rbf'}</td>\n",
              "      <td>0.588235</td>\n",
              "      <td>0.575163</td>\n",
              "      <td>0.592105</td>\n",
              "      <td>0.592105</td>\n",
              "      <td>0.592105</td>\n",
              "      <td>0.587943</td>\n",
              "      <td>0.006563</td>\n",
              "      <td>11</td>\n",
              "    </tr>\n",
              "    <tr>\n",
              "      <th>9</th>\n",
              "      <td>0.027257</td>\n",
              "      <td>0.001740</td>\n",
              "      <td>0.014701</td>\n",
              "      <td>0.000359</td>\n",
              "      <td>1</td>\n",
              "      <td>0.1</td>\n",
              "      <td>rbf</td>\n",
              "      <td>{'C': 1, 'gamma': 0.1, 'kernel': 'rbf'}</td>\n",
              "      <td>0.640523</td>\n",
              "      <td>0.843137</td>\n",
              "      <td>0.815789</td>\n",
              "      <td>0.690789</td>\n",
              "      <td>0.519737</td>\n",
              "      <td>0.701995</td>\n",
              "      <td>0.118315</td>\n",
              "      <td>7</td>\n",
              "    </tr>\n",
              "    <tr>\n",
              "      <th>10</th>\n",
              "      <td>0.031473</td>\n",
              "      <td>0.004002</td>\n",
              "      <td>0.012689</td>\n",
              "      <td>0.000853</td>\n",
              "      <td>1</td>\n",
              "      <td>1</td>\n",
              "      <td>rbf</td>\n",
              "      <td>{'C': 1, 'gamma': 1, 'kernel': 'rbf'}</td>\n",
              "      <td>0.732026</td>\n",
              "      <td>0.764706</td>\n",
              "      <td>0.835526</td>\n",
              "      <td>0.697368</td>\n",
              "      <td>0.598684</td>\n",
              "      <td>0.725662</td>\n",
              "      <td>0.078178</td>\n",
              "      <td>6</td>\n",
              "    </tr>\n",
              "    <tr>\n",
              "      <th>11</th>\n",
              "      <td>0.068549</td>\n",
              "      <td>0.001314</td>\n",
              "      <td>0.019681</td>\n",
              "      <td>0.001263</td>\n",
              "      <td>1</td>\n",
              "      <td>10</td>\n",
              "      <td>rbf</td>\n",
              "      <td>{'C': 1, 'gamma': 10, 'kernel': 'rbf'}</td>\n",
              "      <td>0.307190</td>\n",
              "      <td>0.333333</td>\n",
              "      <td>0.631579</td>\n",
              "      <td>0.486842</td>\n",
              "      <td>0.309211</td>\n",
              "      <td>0.413631</td>\n",
              "      <td>0.127705</td>\n",
              "      <td>21</td>\n",
              "    </tr>\n",
              "    <tr>\n",
              "      <th>12</th>\n",
              "      <td>0.050518</td>\n",
              "      <td>0.002502</td>\n",
              "      <td>0.019295</td>\n",
              "      <td>0.000226</td>\n",
              "      <td>10</td>\n",
              "      <td>0.0001</td>\n",
              "      <td>rbf</td>\n",
              "      <td>{'C': 10, 'gamma': 0.0001, 'kernel': 'rbf'}</td>\n",
              "      <td>0.535948</td>\n",
              "      <td>0.542484</td>\n",
              "      <td>0.592105</td>\n",
              "      <td>0.552632</td>\n",
              "      <td>0.585526</td>\n",
              "      <td>0.561739</td>\n",
              "      <td>0.022834</td>\n",
              "      <td>15</td>\n",
              "    </tr>\n",
              "    <tr>\n",
              "      <th>13</th>\n",
              "      <td>0.044688</td>\n",
              "      <td>0.003402</td>\n",
              "      <td>0.019216</td>\n",
              "      <td>0.001812</td>\n",
              "      <td>10</td>\n",
              "      <td>0.001</td>\n",
              "      <td>rbf</td>\n",
              "      <td>{'C': 10, 'gamma': 0.001, 'kernel': 'rbf'}</td>\n",
              "      <td>0.588235</td>\n",
              "      <td>0.575163</td>\n",
              "      <td>0.592105</td>\n",
              "      <td>0.592105</td>\n",
              "      <td>0.592105</td>\n",
              "      <td>0.587943</td>\n",
              "      <td>0.006563</td>\n",
              "      <td>11</td>\n",
              "    </tr>\n",
              "    <tr>\n",
              "      <th>14</th>\n",
              "      <td>0.024529</td>\n",
              "      <td>0.000880</td>\n",
              "      <td>0.014438</td>\n",
              "      <td>0.000536</td>\n",
              "      <td>10</td>\n",
              "      <td>0.01</td>\n",
              "      <td>rbf</td>\n",
              "      <td>{'C': 10, 'gamma': 0.01, 'kernel': 'rbf'}</td>\n",
              "      <td>0.640523</td>\n",
              "      <td>0.856209</td>\n",
              "      <td>0.776316</td>\n",
              "      <td>0.657895</td>\n",
              "      <td>0.532895</td>\n",
              "      <td>0.692767</td>\n",
              "      <td>0.112426</td>\n",
              "      <td>9</td>\n",
              "    </tr>\n",
              "    <tr>\n",
              "      <th>15</th>\n",
              "      <td>0.017866</td>\n",
              "      <td>0.000709</td>\n",
              "      <td>0.008971</td>\n",
              "      <td>0.000419</td>\n",
              "      <td>10</td>\n",
              "      <td>0.1</td>\n",
              "      <td>rbf</td>\n",
              "      <td>{'C': 10, 'gamma': 0.1, 'kernel': 'rbf'}</td>\n",
              "      <td>0.692810</td>\n",
              "      <td>0.810458</td>\n",
              "      <td>0.828947</td>\n",
              "      <td>0.723684</td>\n",
              "      <td>0.618421</td>\n",
              "      <td>0.734864</td>\n",
              "      <td>0.077484</td>\n",
              "      <td>2</td>\n",
              "    </tr>\n",
              "    <tr>\n",
              "      <th>16</th>\n",
              "      <td>0.030455</td>\n",
              "      <td>0.002031</td>\n",
              "      <td>0.012508</td>\n",
              "      <td>0.000474</td>\n",
              "      <td>10</td>\n",
              "      <td>1</td>\n",
              "      <td>rbf</td>\n",
              "      <td>{'C': 10, 'gamma': 1, 'kernel': 'rbf'}</td>\n",
              "      <td>0.732026</td>\n",
              "      <td>0.764706</td>\n",
              "      <td>0.842105</td>\n",
              "      <td>0.697368</td>\n",
              "      <td>0.618421</td>\n",
              "      <td>0.730925</td>\n",
              "      <td>0.073874</td>\n",
              "      <td>3</td>\n",
              "    </tr>\n",
              "    <tr>\n",
              "      <th>17</th>\n",
              "      <td>0.070290</td>\n",
              "      <td>0.007369</td>\n",
              "      <td>0.018001</td>\n",
              "      <td>0.003127</td>\n",
              "      <td>10</td>\n",
              "      <td>10</td>\n",
              "      <td>rbf</td>\n",
              "      <td>{'C': 10, 'gamma': 10, 'kernel': 'rbf'}</td>\n",
              "      <td>0.307190</td>\n",
              "      <td>0.333333</td>\n",
              "      <td>0.631579</td>\n",
              "      <td>0.486842</td>\n",
              "      <td>0.309211</td>\n",
              "      <td>0.413631</td>\n",
              "      <td>0.127705</td>\n",
              "      <td>21</td>\n",
              "    </tr>\n",
              "    <tr>\n",
              "      <th>18</th>\n",
              "      <td>0.029640</td>\n",
              "      <td>0.000561</td>\n",
              "      <td>0.010575</td>\n",
              "      <td>0.000277</td>\n",
              "      <td>100</td>\n",
              "      <td>0.0001</td>\n",
              "      <td>rbf</td>\n",
              "      <td>{'C': 100, 'gamma': 0.0001, 'kernel': 'rbf'}</td>\n",
              "      <td>0.588235</td>\n",
              "      <td>0.575163</td>\n",
              "      <td>0.592105</td>\n",
              "      <td>0.592105</td>\n",
              "      <td>0.592105</td>\n",
              "      <td>0.587943</td>\n",
              "      <td>0.006563</td>\n",
              "      <td>11</td>\n",
              "    </tr>\n",
              "    <tr>\n",
              "      <th>19</th>\n",
              "      <td>0.016299</td>\n",
              "      <td>0.000459</td>\n",
              "      <td>0.008159</td>\n",
              "      <td>0.000210</td>\n",
              "      <td>100</td>\n",
              "      <td>0.001</td>\n",
              "      <td>rbf</td>\n",
              "      <td>{'C': 100, 'gamma': 0.001, 'kernel': 'rbf'}</td>\n",
              "      <td>0.633987</td>\n",
              "      <td>0.856209</td>\n",
              "      <td>0.776316</td>\n",
              "      <td>0.657895</td>\n",
              "      <td>0.559211</td>\n",
              "      <td>0.696723</td>\n",
              "      <td>0.105947</td>\n",
              "      <td>8</td>\n",
              "    </tr>\n",
              "    <tr>\n",
              "      <th>20</th>\n",
              "      <td>0.012507</td>\n",
              "      <td>0.001975</td>\n",
              "      <td>0.005919</td>\n",
              "      <td>0.001637</td>\n",
              "      <td>100</td>\n",
              "      <td>0.01</td>\n",
              "      <td>rbf</td>\n",
              "      <td>{'C': 100, 'gamma': 0.01, 'kernel': 'rbf'}</td>\n",
              "      <td>0.666667</td>\n",
              "      <td>0.856209</td>\n",
              "      <td>0.835526</td>\n",
              "      <td>0.769737</td>\n",
              "      <td>0.664474</td>\n",
              "      <td>0.758523</td>\n",
              "      <td>0.081093</td>\n",
              "      <td>1</td>\n",
              "    </tr>\n",
              "    <tr>\n",
              "      <th>21</th>\n",
              "      <td>0.012849</td>\n",
              "      <td>0.001951</td>\n",
              "      <td>0.004781</td>\n",
              "      <td>0.000198</td>\n",
              "      <td>100</td>\n",
              "      <td>0.1</td>\n",
              "      <td>rbf</td>\n",
              "      <td>{'C': 100, 'gamma': 0.1, 'kernel': 'rbf'}</td>\n",
              "      <td>0.686275</td>\n",
              "      <td>0.810458</td>\n",
              "      <td>0.828947</td>\n",
              "      <td>0.697368</td>\n",
              "      <td>0.625000</td>\n",
              "      <td>0.729610</td>\n",
              "      <td>0.077801</td>\n",
              "      <td>5</td>\n",
              "    </tr>\n",
              "    <tr>\n",
              "      <th>22</th>\n",
              "      <td>0.020379</td>\n",
              "      <td>0.001256</td>\n",
              "      <td>0.009024</td>\n",
              "      <td>0.002775</td>\n",
              "      <td>100</td>\n",
              "      <td>1</td>\n",
              "      <td>rbf</td>\n",
              "      <td>{'C': 100, 'gamma': 1, 'kernel': 'rbf'}</td>\n",
              "      <td>0.732026</td>\n",
              "      <td>0.764706</td>\n",
              "      <td>0.842105</td>\n",
              "      <td>0.697368</td>\n",
              "      <td>0.618421</td>\n",
              "      <td>0.730925</td>\n",
              "      <td>0.073874</td>\n",
              "      <td>3</td>\n",
              "    </tr>\n",
              "    <tr>\n",
              "      <th>23</th>\n",
              "      <td>0.050767</td>\n",
              "      <td>0.011048</td>\n",
              "      <td>0.011368</td>\n",
              "      <td>0.000422</td>\n",
              "      <td>100</td>\n",
              "      <td>10</td>\n",
              "      <td>rbf</td>\n",
              "      <td>{'C': 100, 'gamma': 10, 'kernel': 'rbf'}</td>\n",
              "      <td>0.307190</td>\n",
              "      <td>0.333333</td>\n",
              "      <td>0.631579</td>\n",
              "      <td>0.486842</td>\n",
              "      <td>0.309211</td>\n",
              "      <td>0.413631</td>\n",
              "      <td>0.127705</td>\n",
              "      <td>21</td>\n",
              "    </tr>\n",
              "  </tbody>\n",
              "</table>\n",
              "</div>\n",
              "      <button class=\"colab-df-convert\" onclick=\"convertToInteractive('df-fa307bec-edcc-4f42-b0ec-e743040ce1e3')\"\n",
              "              title=\"Convert this dataframe to an interactive table.\"\n",
              "              style=\"display:none;\">\n",
              "        \n",
              "  <svg xmlns=\"http://www.w3.org/2000/svg\" height=\"24px\"viewBox=\"0 0 24 24\"\n",
              "       width=\"24px\">\n",
              "    <path d=\"M0 0h24v24H0V0z\" fill=\"none\"/>\n",
              "    <path d=\"M18.56 5.44l.94 2.06.94-2.06 2.06-.94-2.06-.94-.94-2.06-.94 2.06-2.06.94zm-11 1L8.5 8.5l.94-2.06 2.06-.94-2.06-.94L8.5 2.5l-.94 2.06-2.06.94zm10 10l.94 2.06.94-2.06 2.06-.94-2.06-.94-.94-2.06-.94 2.06-2.06.94z\"/><path d=\"M17.41 7.96l-1.37-1.37c-.4-.4-.92-.59-1.43-.59-.52 0-1.04.2-1.43.59L10.3 9.45l-7.72 7.72c-.78.78-.78 2.05 0 2.83L4 21.41c.39.39.9.59 1.41.59.51 0 1.02-.2 1.41-.59l7.78-7.78 2.81-2.81c.8-.78.8-2.07 0-2.86zM5.41 20L4 18.59l7.72-7.72 1.47 1.35L5.41 20z\"/>\n",
              "  </svg>\n",
              "      </button>\n",
              "      \n",
              "  <style>\n",
              "    .colab-df-container {\n",
              "      display:flex;\n",
              "      flex-wrap:wrap;\n",
              "      gap: 12px;\n",
              "    }\n",
              "\n",
              "    .colab-df-convert {\n",
              "      background-color: #E8F0FE;\n",
              "      border: none;\n",
              "      border-radius: 50%;\n",
              "      cursor: pointer;\n",
              "      display: none;\n",
              "      fill: #1967D2;\n",
              "      height: 32px;\n",
              "      padding: 0 0 0 0;\n",
              "      width: 32px;\n",
              "    }\n",
              "\n",
              "    .colab-df-convert:hover {\n",
              "      background-color: #E2EBFA;\n",
              "      box-shadow: 0px 1px 2px rgba(60, 64, 67, 0.3), 0px 1px 3px 1px rgba(60, 64, 67, 0.15);\n",
              "      fill: #174EA6;\n",
              "    }\n",
              "\n",
              "    [theme=dark] .colab-df-convert {\n",
              "      background-color: #3B4455;\n",
              "      fill: #D2E3FC;\n",
              "    }\n",
              "\n",
              "    [theme=dark] .colab-df-convert:hover {\n",
              "      background-color: #434B5C;\n",
              "      box-shadow: 0px 1px 3px 1px rgba(0, 0, 0, 0.15);\n",
              "      filter: drop-shadow(0px 1px 2px rgba(0, 0, 0, 0.3));\n",
              "      fill: #FFFFFF;\n",
              "    }\n",
              "  </style>\n",
              "\n",
              "      <script>\n",
              "        const buttonEl =\n",
              "          document.querySelector('#df-fa307bec-edcc-4f42-b0ec-e743040ce1e3 button.colab-df-convert');\n",
              "        buttonEl.style.display =\n",
              "          google.colab.kernel.accessAllowed ? 'block' : 'none';\n",
              "\n",
              "        async function convertToInteractive(key) {\n",
              "          const element = document.querySelector('#df-fa307bec-edcc-4f42-b0ec-e743040ce1e3');\n",
              "          const dataTable =\n",
              "            await google.colab.kernel.invokeFunction('convertToInteractive',\n",
              "                                                     [key], {});\n",
              "          if (!dataTable) return;\n",
              "\n",
              "          const docLinkHtml = 'Like what you see? Visit the ' +\n",
              "            '<a target=\"_blank\" href=https://colab.research.google.com/notebooks/data_table.ipynb>data table notebook</a>'\n",
              "            + ' to learn more about interactive tables.';\n",
              "          element.innerHTML = '';\n",
              "          dataTable['output_type'] = 'display_data';\n",
              "          await google.colab.output.renderOutput(dataTable, element);\n",
              "          const docLink = document.createElement('div');\n",
              "          docLink.innerHTML = docLinkHtml;\n",
              "          element.appendChild(docLink);\n",
              "        }\n",
              "      </script>\n",
              "    </div>\n",
              "  </div>\n",
              "  "
            ],
            "text/plain": [
              "    mean_fit_time  std_fit_time  mean_score_time  std_score_time param_C  \\\n",
              "0        0.037845      0.004287         0.011594        0.000278     0.1   \n",
              "1        0.035290      0.001449         0.012295        0.001342     0.1   \n",
              "2        0.040251      0.006650         0.013429        0.003340     0.1   \n",
              "3        0.054822      0.002999         0.020431        0.000740     0.1   \n",
              "4        0.045326      0.004037         0.018366        0.000338     0.1   \n",
              "5        0.060806      0.001739         0.020197        0.001439     0.1   \n",
              "6        0.050428      0.002070         0.019928        0.001021       1   \n",
              "7        0.050883      0.001975         0.019851        0.000914       1   \n",
              "8        0.044696      0.001683         0.018511        0.000493       1   \n",
              "9        0.027257      0.001740         0.014701        0.000359       1   \n",
              "10       0.031473      0.004002         0.012689        0.000853       1   \n",
              "11       0.068549      0.001314         0.019681        0.001263       1   \n",
              "12       0.050518      0.002502         0.019295        0.000226      10   \n",
              "13       0.044688      0.003402         0.019216        0.001812      10   \n",
              "14       0.024529      0.000880         0.014438        0.000536      10   \n",
              "15       0.017866      0.000709         0.008971        0.000419      10   \n",
              "16       0.030455      0.002031         0.012508        0.000474      10   \n",
              "17       0.070290      0.007369         0.018001        0.003127      10   \n",
              "18       0.029640      0.000561         0.010575        0.000277     100   \n",
              "19       0.016299      0.000459         0.008159        0.000210     100   \n",
              "20       0.012507      0.001975         0.005919        0.001637     100   \n",
              "21       0.012849      0.001951         0.004781        0.000198     100   \n",
              "22       0.020379      0.001256         0.009024        0.002775     100   \n",
              "23       0.050767      0.011048         0.011368        0.000422     100   \n",
              "\n",
              "   param_gamma param_kernel                                        params  \\\n",
              "0       0.0001          rbf  {'C': 0.1, 'gamma': 0.0001, 'kernel': 'rbf'}   \n",
              "1        0.001          rbf   {'C': 0.1, 'gamma': 0.001, 'kernel': 'rbf'}   \n",
              "2         0.01          rbf    {'C': 0.1, 'gamma': 0.01, 'kernel': 'rbf'}   \n",
              "3          0.1          rbf     {'C': 0.1, 'gamma': 0.1, 'kernel': 'rbf'}   \n",
              "4            1          rbf       {'C': 0.1, 'gamma': 1, 'kernel': 'rbf'}   \n",
              "5           10          rbf      {'C': 0.1, 'gamma': 10, 'kernel': 'rbf'}   \n",
              "6       0.0001          rbf    {'C': 1, 'gamma': 0.0001, 'kernel': 'rbf'}   \n",
              "7        0.001          rbf     {'C': 1, 'gamma': 0.001, 'kernel': 'rbf'}   \n",
              "8         0.01          rbf      {'C': 1, 'gamma': 0.01, 'kernel': 'rbf'}   \n",
              "9          0.1          rbf       {'C': 1, 'gamma': 0.1, 'kernel': 'rbf'}   \n",
              "10           1          rbf         {'C': 1, 'gamma': 1, 'kernel': 'rbf'}   \n",
              "11          10          rbf        {'C': 1, 'gamma': 10, 'kernel': 'rbf'}   \n",
              "12      0.0001          rbf   {'C': 10, 'gamma': 0.0001, 'kernel': 'rbf'}   \n",
              "13       0.001          rbf    {'C': 10, 'gamma': 0.001, 'kernel': 'rbf'}   \n",
              "14        0.01          rbf     {'C': 10, 'gamma': 0.01, 'kernel': 'rbf'}   \n",
              "15         0.1          rbf      {'C': 10, 'gamma': 0.1, 'kernel': 'rbf'}   \n",
              "16           1          rbf        {'C': 10, 'gamma': 1, 'kernel': 'rbf'}   \n",
              "17          10          rbf       {'C': 10, 'gamma': 10, 'kernel': 'rbf'}   \n",
              "18      0.0001          rbf  {'C': 100, 'gamma': 0.0001, 'kernel': 'rbf'}   \n",
              "19       0.001          rbf   {'C': 100, 'gamma': 0.001, 'kernel': 'rbf'}   \n",
              "20        0.01          rbf    {'C': 100, 'gamma': 0.01, 'kernel': 'rbf'}   \n",
              "21         0.1          rbf     {'C': 100, 'gamma': 0.1, 'kernel': 'rbf'}   \n",
              "22           1          rbf       {'C': 100, 'gamma': 1, 'kernel': 'rbf'}   \n",
              "23          10          rbf      {'C': 100, 'gamma': 10, 'kernel': 'rbf'}   \n",
              "\n",
              "    split0_test_score  split1_test_score  split2_test_score  \\\n",
              "0            0.535948           0.542484           0.592105   \n",
              "1            0.535948           0.542484           0.592105   \n",
              "2            0.535948           0.542484           0.592105   \n",
              "3            0.588235           0.562092           0.592105   \n",
              "4            0.581699           0.666667           0.631579   \n",
              "5            0.346405           0.372549           0.348684   \n",
              "6            0.535948           0.542484           0.592105   \n",
              "7            0.535948           0.542484           0.592105   \n",
              "8            0.588235           0.575163           0.592105   \n",
              "9            0.640523           0.843137           0.815789   \n",
              "10           0.732026           0.764706           0.835526   \n",
              "11           0.307190           0.333333           0.631579   \n",
              "12           0.535948           0.542484           0.592105   \n",
              "13           0.588235           0.575163           0.592105   \n",
              "14           0.640523           0.856209           0.776316   \n",
              "15           0.692810           0.810458           0.828947   \n",
              "16           0.732026           0.764706           0.842105   \n",
              "17           0.307190           0.333333           0.631579   \n",
              "18           0.588235           0.575163           0.592105   \n",
              "19           0.633987           0.856209           0.776316   \n",
              "20           0.666667           0.856209           0.835526   \n",
              "21           0.686275           0.810458           0.828947   \n",
              "22           0.732026           0.764706           0.842105   \n",
              "23           0.307190           0.333333           0.631579   \n",
              "\n",
              "    split3_test_score  split4_test_score  mean_test_score  std_test_score  \\\n",
              "0            0.552632           0.585526         0.561739        0.022834   \n",
              "1            0.552632           0.585526         0.561739        0.022834   \n",
              "2            0.552632           0.585526         0.561739        0.022834   \n",
              "3            0.585526           0.592105         0.584013        0.011240   \n",
              "4            0.611842           0.460526         0.590463        0.070590   \n",
              "5            0.322368           0.500000         0.378001        0.063034   \n",
              "6            0.552632           0.585526         0.561739        0.022834   \n",
              "7            0.552632           0.585526         0.561739        0.022834   \n",
              "8            0.592105           0.592105         0.587943        0.006563   \n",
              "9            0.690789           0.519737         0.701995        0.118315   \n",
              "10           0.697368           0.598684         0.725662        0.078178   \n",
              "11           0.486842           0.309211         0.413631        0.127705   \n",
              "12           0.552632           0.585526         0.561739        0.022834   \n",
              "13           0.592105           0.592105         0.587943        0.006563   \n",
              "14           0.657895           0.532895         0.692767        0.112426   \n",
              "15           0.723684           0.618421         0.734864        0.077484   \n",
              "16           0.697368           0.618421         0.730925        0.073874   \n",
              "17           0.486842           0.309211         0.413631        0.127705   \n",
              "18           0.592105           0.592105         0.587943        0.006563   \n",
              "19           0.657895           0.559211         0.696723        0.105947   \n",
              "20           0.769737           0.664474         0.758523        0.081093   \n",
              "21           0.697368           0.625000         0.729610        0.077801   \n",
              "22           0.697368           0.618421         0.730925        0.073874   \n",
              "23           0.486842           0.309211         0.413631        0.127705   \n",
              "\n",
              "    rank_test_score  \n",
              "0                15  \n",
              "1                15  \n",
              "2                15  \n",
              "3                14  \n",
              "4                10  \n",
              "5                24  \n",
              "6                15  \n",
              "7                15  \n",
              "8                11  \n",
              "9                 7  \n",
              "10                6  \n",
              "11               21  \n",
              "12               15  \n",
              "13               11  \n",
              "14                9  \n",
              "15                2  \n",
              "16                3  \n",
              "17               21  \n",
              "18               11  \n",
              "19                8  \n",
              "20                1  \n",
              "21                5  \n",
              "22                3  \n",
              "23               21  "
            ]
          },
          "execution_count": 75,
          "metadata": {},
          "output_type": "execute_result"
        }
      ],
      "source": [
        "RBF_SVM_result_multiclass"
      ]
    },
    {
      "cell_type": "code",
      "execution_count": null,
      "metadata": {
        "colab": {
          "base_uri": "https://localhost:8080/"
        },
        "id": "vZFlNLPXBYFX",
        "outputId": "848feb24-60fc-4e98-88fc-76fb477bbf5a"
      },
      "outputs": [
        {
          "name": "stdout",
          "output_type": "stream",
          "text": [
            "best hyperparameters with RBF kernel for multiclass classification are :  {'C': 100, 'gamma': 0.01, 'kernel': 'rbf'}\n"
          ]
        }
      ],
      "source": [
        "print('best hyperparameters with RBF kernel for multiclass classification are : ' , best_parameter_RBF_SVM_multiclass)"
      ]
    },
    {
      "cell_type": "code",
      "execution_count": null,
      "metadata": {
        "colab": {
          "base_uri": "https://localhost:8080/"
        },
        "id": "hYqy2LzQBeQI",
        "outputId": "840a55d6-25af-41bf-abf7-c9ea7ef16a85"
      },
      "outputs": [
        {
          "name": "stdout",
          "output_type": "stream",
          "text": [
            "best cross-validation score with RBF kernel for multiclass classification are :  0.7585225318197454\n"
          ]
        }
      ],
      "source": [
        "print('best cross-validation score with RBF kernel for multiclass classification are : ' , best_score_RBF_SVM_multiclass)"
      ]
    },
    {
      "cell_type": "code",
      "execution_count": null,
      "metadata": {
        "id": "TAHsg4O1LZz8"
      },
      "outputs": [],
      "source": [
        "RBF_SVM_multiclass = SVC(C = 100, gamma = 0.01, kernel = 'rbf')\n",
        "RBF_SVM_multiclass.fit(training_features, y_train_multiclass)                   ## fit on the training features and labels with best hyperparameter value\n",
        "y_predicted_RBF_SVM_multiclass = RBF_SVM_multiclass.predict(training_features)"
      ]
    },
    {
      "cell_type": "code",
      "execution_count": null,
      "metadata": {
        "colab": {
          "base_uri": "https://localhost:8080/"
        },
        "id": "fZCIZlvkPH_N",
        "outputId": "62d4c972-c046-48a9-fdc6-beae25444165"
      },
      "outputs": [
        {
          "name": "stdout",
          "output_type": "stream",
          "text": [
            "              precision    recall  f1-score   support\n",
            "\n",
            "           0       1.00      1.00      1.00       225\n",
            "           1       1.00      1.00      1.00       225\n",
            "           2       1.00      1.00      1.00       180\n",
            "           3       1.00      1.00      1.00       132\n",
            "\n",
            "    accuracy                           1.00       762\n",
            "   macro avg       1.00      1.00      1.00       762\n",
            "weighted avg       1.00      1.00      1.00       762\n",
            "\n"
          ]
        }
      ],
      "source": [
        "print(classification_report(y_train_multiclass , y_predicted_RBF_SVM_multiclass ))"
      ]
    },
    {
      "cell_type": "code",
      "execution_count": null,
      "metadata": {
        "colab": {
          "base_uri": "https://localhost:8080/",
          "height": 583
        },
        "id": "NTBb6BrWPIE7",
        "outputId": "18f0e39e-de5f-41fc-87b8-eeaebb830339"
      },
      "outputs": [
        {
          "data": {
            "text/plain": [
              "[Text(0, 0.5, 'Memantine_C/S'),\n",
              " Text(0, 1.5, 'Memantine_S/C'),\n",
              " Text(0, 2.5, 'Saline_C/S'),\n",
              " Text(0, 3.5, 'Saline_S/C')]"
            ]
          },
          "execution_count": 80,
          "metadata": {},
          "output_type": "execute_result"
        },
        {
          "data": {
            "image/png": "[encoded data removed]",
            "text/plain": [
              "<Figure size 576x576 with 2 Axes>"
            ]
          },
          "metadata": {
            "needs_background": "light"
          },
          "output_type": "display_data"
        }
      ],
      "source": [
        "plt.figure(figsize = (8,8))\n",
        "cm_RBF_SVM = confusion_matrix(y_train_multiclass , y_predicted_RBF_SVM_multiclass)\n",
        "ax=plt.subplot()\n",
        "sns.heatmap(cm_RBF_SVM , annot=True)\n",
        "ax.set_xlabel('Predicted labels')\n",
        "ax.set_ylabel('True labels') \n",
        "ax.set_title('Training Confusion Matrix')\n",
        "ax.xaxis.set_ticklabels(['Memantine_C/S', 'Memantine_S/C' , 'Saline_C/S' , 'Saline_S/C'])\n",
        "ax.yaxis.set_ticklabels(['Memantine_C/S', 'Memantine_S/C' , 'Saline_C/S' , 'Saline_S/C'])"
      ]
    },
    {
      "cell_type": "markdown",
      "metadata": {
        "id": "8jjciDN3BmG3"
      },
      "source": [
        "\n",
        "\n",
        "\n",
        "\n",
        "Neural Network for multiclass classification"
      ]
    },
    {
      "cell_type": "code",
      "execution_count": null,
      "metadata": {
        "id": "nwLPiQHKBkhA"
      },
      "outputs": [],
      "source": [
        "NN_result_multiclass , best_paramater_NN_multiclass , best_score_NN_multiclass= Neural_Network(training_features, y_train_multiclass)"
      ]
    },
    {
      "cell_type": "code",
      "execution_count": null,
      "metadata": {
        "colab": {
          "base_uri": "https://localhost:8080/",
          "height": 1000
        },
        "id": "sYClhb5hB1Zw",
        "outputId": "1ab83bc4-566b-4f3c-8f12-42cf5e1cc152"
      },
      "outputs": [
        {
          "data": {
            "text/html": [
              "\n",
              "  <div id=\"df-47b46042-41ea-4e33-9a11-ec5bb9faf4b4\">\n",
              "    <div class=\"colab-df-container\">\n",
              "      <div>\n",
              "<style scoped>\n",
              "    .dataframe tbody tr th:only-of-type {\n",
              "        vertical-align: middle;\n",
              "    }\n",
              "\n",
              "    .dataframe tbody tr th {\n",
              "        vertical-align: top;\n",
              "    }\n",
              "\n",
              "    .dataframe thead th {\n",
              "        text-align: right;\n",
              "    }\n",
              "</style>\n",
              "<table border=\"1\" class=\"dataframe\">\n",
              "  <thead>\n",
              "    <tr style=\"text-align: right;\">\n",
              "      <th></th>\n",
              "      <th>mean_fit_time</th>\n",
              "      <th>std_fit_time</th>\n",
              "      <th>mean_score_time</th>\n",
              "      <th>std_score_time</th>\n",
              "      <th>param_activation</th>\n",
              "      <th>param_alpha</th>\n",
              "      <th>param_hidden_layer_sizes</th>\n",
              "      <th>param_max_iter</th>\n",
              "      <th>param_solver</th>\n",
              "      <th>params</th>\n",
              "      <th>split0_test_score</th>\n",
              "      <th>split1_test_score</th>\n",
              "      <th>split2_test_score</th>\n",
              "      <th>split3_test_score</th>\n",
              "      <th>split4_test_score</th>\n",
              "      <th>mean_test_score</th>\n",
              "      <th>std_test_score</th>\n",
              "      <th>rank_test_score</th>\n",
              "    </tr>\n",
              "  </thead>\n",
              "  <tbody>\n",
              "    <tr>\n",
              "      <th>0</th>\n",
              "      <td>0.187581</td>\n",
              "      <td>0.038812</td>\n",
              "      <td>0.003511</td>\n",
              "      <td>0.000076</td>\n",
              "      <td>relu</td>\n",
              "      <td>0.0001</td>\n",
              "      <td>(32,)</td>\n",
              "      <td>1000</td>\n",
              "      <td>lbfgs</td>\n",
              "      <td>{'activation': 'relu', 'alpha': 0.0001, 'hidde...</td>\n",
              "      <td>0.594771</td>\n",
              "      <td>0.764706</td>\n",
              "      <td>0.861842</td>\n",
              "      <td>0.684211</td>\n",
              "      <td>0.546053</td>\n",
              "      <td>0.690316</td>\n",
              "      <td>0.113959</td>\n",
              "      <td>12</td>\n",
              "    </tr>\n",
              "    <tr>\n",
              "      <th>1</th>\n",
              "      <td>0.317262</td>\n",
              "      <td>0.074472</td>\n",
              "      <td>0.003648</td>\n",
              "      <td>0.000183</td>\n",
              "      <td>relu</td>\n",
              "      <td>0.0001</td>\n",
              "      <td>(64,)</td>\n",
              "      <td>1000</td>\n",
              "      <td>lbfgs</td>\n",
              "      <td>{'activation': 'relu', 'alpha': 0.0001, 'hidde...</td>\n",
              "      <td>0.588235</td>\n",
              "      <td>0.823529</td>\n",
              "      <td>0.875000</td>\n",
              "      <td>0.776316</td>\n",
              "      <td>0.671053</td>\n",
              "      <td>0.746827</td>\n",
              "      <td>0.103994</td>\n",
              "      <td>5</td>\n",
              "    </tr>\n",
              "    <tr>\n",
              "      <th>2</th>\n",
              "      <td>0.429325</td>\n",
              "      <td>0.119355</td>\n",
              "      <td>0.003750</td>\n",
              "      <td>0.000089</td>\n",
              "      <td>relu</td>\n",
              "      <td>0.0001</td>\n",
              "      <td>(128,)</td>\n",
              "      <td>1000</td>\n",
              "      <td>lbfgs</td>\n",
              "      <td>{'activation': 'relu', 'alpha': 0.0001, 'hidde...</td>\n",
              "      <td>0.673203</td>\n",
              "      <td>0.790850</td>\n",
              "      <td>0.901316</td>\n",
              "      <td>0.802632</td>\n",
              "      <td>0.605263</td>\n",
              "      <td>0.754653</td>\n",
              "      <td>0.103994</td>\n",
              "      <td>2</td>\n",
              "    </tr>\n",
              "    <tr>\n",
              "      <th>3</th>\n",
              "      <td>0.267470</td>\n",
              "      <td>0.058850</td>\n",
              "      <td>0.003804</td>\n",
              "      <td>0.000441</td>\n",
              "      <td>relu</td>\n",
              "      <td>0.001</td>\n",
              "      <td>(32,)</td>\n",
              "      <td>1000</td>\n",
              "      <td>lbfgs</td>\n",
              "      <td>{'activation': 'relu', 'alpha': 0.001, 'hidden...</td>\n",
              "      <td>0.614379</td>\n",
              "      <td>0.751634</td>\n",
              "      <td>0.894737</td>\n",
              "      <td>0.684211</td>\n",
              "      <td>0.690789</td>\n",
              "      <td>0.727150</td>\n",
              "      <td>0.094412</td>\n",
              "      <td>10</td>\n",
              "    </tr>\n",
              "    <tr>\n",
              "      <th>4</th>\n",
              "      <td>0.490205</td>\n",
              "      <td>0.136730</td>\n",
              "      <td>0.005448</td>\n",
              "      <td>0.003389</td>\n",
              "      <td>relu</td>\n",
              "      <td>0.001</td>\n",
              "      <td>(64,)</td>\n",
              "      <td>1000</td>\n",
              "      <td>lbfgs</td>\n",
              "      <td>{'activation': 'relu', 'alpha': 0.001, 'hidden...</td>\n",
              "      <td>0.614379</td>\n",
              "      <td>0.803922</td>\n",
              "      <td>0.881579</td>\n",
              "      <td>0.730263</td>\n",
              "      <td>0.723684</td>\n",
              "      <td>0.750765</td>\n",
              "      <td>0.089099</td>\n",
              "      <td>3</td>\n",
              "    </tr>\n",
              "    <tr>\n",
              "      <th>5</th>\n",
              "      <td>1.133697</td>\n",
              "      <td>0.537522</td>\n",
              "      <td>0.006462</td>\n",
              "      <td>0.002181</td>\n",
              "      <td>relu</td>\n",
              "      <td>0.001</td>\n",
              "      <td>(128,)</td>\n",
              "      <td>1000</td>\n",
              "      <td>lbfgs</td>\n",
              "      <td>{'activation': 'relu', 'alpha': 0.001, 'hidden...</td>\n",
              "      <td>0.633987</td>\n",
              "      <td>0.771242</td>\n",
              "      <td>0.960526</td>\n",
              "      <td>0.769737</td>\n",
              "      <td>0.671053</td>\n",
              "      <td>0.761309</td>\n",
              "      <td>0.113326</td>\n",
              "      <td>1</td>\n",
              "    </tr>\n",
              "    <tr>\n",
              "      <th>6</th>\n",
              "      <td>0.360187</td>\n",
              "      <td>0.090998</td>\n",
              "      <td>0.003507</td>\n",
              "      <td>0.000009</td>\n",
              "      <td>relu</td>\n",
              "      <td>0.01</td>\n",
              "      <td>(32,)</td>\n",
              "      <td>1000</td>\n",
              "      <td>lbfgs</td>\n",
              "      <td>{'activation': 'relu', 'alpha': 0.01, 'hidden_...</td>\n",
              "      <td>0.673203</td>\n",
              "      <td>0.797386</td>\n",
              "      <td>0.848684</td>\n",
              "      <td>0.769737</td>\n",
              "      <td>0.664474</td>\n",
              "      <td>0.750697</td>\n",
              "      <td>0.071531</td>\n",
              "      <td>4</td>\n",
              "    </tr>\n",
              "    <tr>\n",
              "      <th>7</th>\n",
              "      <td>0.540947</td>\n",
              "      <td>0.068796</td>\n",
              "      <td>0.003855</td>\n",
              "      <td>0.000236</td>\n",
              "      <td>relu</td>\n",
              "      <td>0.01</td>\n",
              "      <td>(64,)</td>\n",
              "      <td>1000</td>\n",
              "      <td>lbfgs</td>\n",
              "      <td>{'activation': 'relu', 'alpha': 0.01, 'hidden_...</td>\n",
              "      <td>0.640523</td>\n",
              "      <td>0.830065</td>\n",
              "      <td>0.855263</td>\n",
              "      <td>0.730263</td>\n",
              "      <td>0.598684</td>\n",
              "      <td>0.730960</td>\n",
              "      <td>0.100945</td>\n",
              "      <td>9</td>\n",
              "    </tr>\n",
              "    <tr>\n",
              "      <th>8</th>\n",
              "      <td>0.784944</td>\n",
              "      <td>0.113069</td>\n",
              "      <td>0.003733</td>\n",
              "      <td>0.000048</td>\n",
              "      <td>relu</td>\n",
              "      <td>0.01</td>\n",
              "      <td>(128,)</td>\n",
              "      <td>1000</td>\n",
              "      <td>lbfgs</td>\n",
              "      <td>{'activation': 'relu', 'alpha': 0.01, 'hidden_...</td>\n",
              "      <td>0.653595</td>\n",
              "      <td>0.777778</td>\n",
              "      <td>0.861842</td>\n",
              "      <td>0.763158</td>\n",
              "      <td>0.625000</td>\n",
              "      <td>0.736275</td>\n",
              "      <td>0.086522</td>\n",
              "      <td>7</td>\n",
              "    </tr>\n",
              "    <tr>\n",
              "      <th>9</th>\n",
              "      <td>1.110212</td>\n",
              "      <td>0.437681</td>\n",
              "      <td>0.007310</td>\n",
              "      <td>0.002433</td>\n",
              "      <td>relu</td>\n",
              "      <td>0.1</td>\n",
              "      <td>(32,)</td>\n",
              "      <td>1000</td>\n",
              "      <td>lbfgs</td>\n",
              "      <td>{'activation': 'relu', 'alpha': 0.1, 'hidden_l...</td>\n",
              "      <td>0.653595</td>\n",
              "      <td>0.823529</td>\n",
              "      <td>0.848684</td>\n",
              "      <td>0.763158</td>\n",
              "      <td>0.605263</td>\n",
              "      <td>0.738846</td>\n",
              "      <td>0.094804</td>\n",
              "      <td>6</td>\n",
              "    </tr>\n",
              "    <tr>\n",
              "      <th>10</th>\n",
              "      <td>0.883037</td>\n",
              "      <td>0.225486</td>\n",
              "      <td>0.005403</td>\n",
              "      <td>0.002657</td>\n",
              "      <td>relu</td>\n",
              "      <td>0.1</td>\n",
              "      <td>(64,)</td>\n",
              "      <td>1000</td>\n",
              "      <td>lbfgs</td>\n",
              "      <td>{'activation': 'relu', 'alpha': 0.1, 'hidden_l...</td>\n",
              "      <td>0.647059</td>\n",
              "      <td>0.823529</td>\n",
              "      <td>0.802632</td>\n",
              "      <td>0.763158</td>\n",
              "      <td>0.638158</td>\n",
              "      <td>0.734907</td>\n",
              "      <td>0.077867</td>\n",
              "      <td>8</td>\n",
              "    </tr>\n",
              "    <tr>\n",
              "      <th>11</th>\n",
              "      <td>1.778581</td>\n",
              "      <td>0.566202</td>\n",
              "      <td>0.005761</td>\n",
              "      <td>0.002106</td>\n",
              "      <td>relu</td>\n",
              "      <td>0.1</td>\n",
              "      <td>(128,)</td>\n",
              "      <td>1000</td>\n",
              "      <td>lbfgs</td>\n",
              "      <td>{'activation': 'relu', 'alpha': 0.1, 'hidden_l...</td>\n",
              "      <td>0.653595</td>\n",
              "      <td>0.797386</td>\n",
              "      <td>0.809211</td>\n",
              "      <td>0.730263</td>\n",
              "      <td>0.618421</td>\n",
              "      <td>0.721775</td>\n",
              "      <td>0.075848</td>\n",
              "      <td>11</td>\n",
              "    </tr>\n",
              "  </tbody>\n",
              "</table>\n",
              "</div>\n",
              "      <button class=\"colab-df-convert\" onclick=\"convertToInteractive('df-47b46042-41ea-4e33-9a11-ec5bb9faf4b4')\"\n",
              "              title=\"Convert this dataframe to an interactive table.\"\n",
              "              style=\"display:none;\">\n",
              "        \n",
              "  <svg xmlns=\"http://www.w3.org/2000/svg\" height=\"24px\"viewBox=\"0 0 24 24\"\n",
              "       width=\"24px\">\n",
              "    <path d=\"M0 0h24v24H0V0z\" fill=\"none\"/>\n",
              "    <path d=\"M18.56 5.44l.94 2.06.94-2.06 2.06-.94-2.06-.94-.94-2.06-.94 2.06-2.06.94zm-11 1L8.5 8.5l.94-2.06 2.06-.94-2.06-.94L8.5 2.5l-.94 2.06-2.06.94zm10 10l.94 2.06.94-2.06 2.06-.94-2.06-.94-.94-2.06-.94 2.06-2.06.94z\"/><path d=\"M17.41 7.96l-1.37-1.37c-.4-.4-.92-.59-1.43-.59-.52 0-1.04.2-1.43.59L10.3 9.45l-7.72 7.72c-.78.78-.78 2.05 0 2.83L4 21.41c.39.39.9.59 1.41.59.51 0 1.02-.2 1.41-.59l7.78-7.78 2.81-2.81c.8-.78.8-2.07 0-2.86zM5.41 20L4 18.59l7.72-7.72 1.47 1.35L5.41 20z\"/>\n",
              "  </svg>\n",
              "      </button>\n",
              "      \n",
              "  <style>\n",
              "    .colab-df-container {\n",
              "      display:flex;\n",
              "      flex-wrap:wrap;\n",
              "      gap: 12px;\n",
              "    }\n",
              "\n",
              "    .colab-df-convert {\n",
              "      background-color: #E8F0FE;\n",
              "      border: none;\n",
              "      border-radius: 50%;\n",
              "      cursor: pointer;\n",
              "      display: none;\n",
              "      fill: #1967D2;\n",
              "      height: 32px;\n",
              "      padding: 0 0 0 0;\n",
              "      width: 32px;\n",
              "    }\n",
              "\n",
              "    .colab-df-convert:hover {\n",
              "      background-color: #E2EBFA;\n",
              "      box-shadow: 0px 1px 2px rgba(60, 64, 67, 0.3), 0px 1px 3px 1px rgba(60, 64, 67, 0.15);\n",
              "      fill: #174EA6;\n",
              "    }\n",
              "\n",
              "    [theme=dark] .colab-df-convert {\n",
              "      background-color: #3B4455;\n",
              "      fill: #D2E3FC;\n",
              "    }\n",
              "\n",
              "    [theme=dark] .colab-df-convert:hover {\n",
              "      background-color: #434B5C;\n",
              "      box-shadow: 0px 1px 3px 1px rgba(0, 0, 0, 0.15);\n",
              "      filter: drop-shadow(0px 1px 2px rgba(0, 0, 0, 0.3));\n",
              "      fill: #FFFFFF;\n",
              "    }\n",
              "  </style>\n",
              "\n",
              "      <script>\n",
              "        const buttonEl =\n",
              "          document.querySelector('#df-47b46042-41ea-4e33-9a11-ec5bb9faf4b4 button.colab-df-convert');\n",
              "        buttonEl.style.display =\n",
              "          google.colab.kernel.accessAllowed ? 'block' : 'none';\n",
              "\n",
              "        async function convertToInteractive(key) {\n",
              "          const element = document.querySelector('#df-47b46042-41ea-4e33-9a11-ec5bb9faf4b4');\n",
              "          const dataTable =\n",
              "            await google.colab.kernel.invokeFunction('convertToInteractive',\n",
              "                                                     [key], {});\n",
              "          if (!dataTable) return;\n",
              "\n",
              "          const docLinkHtml = 'Like what you see? Visit the ' +\n",
              "            '<a target=\"_blank\" href=https://colab.research.google.com/notebooks/data_table.ipynb>data table notebook</a>'\n",
              "            + ' to learn more about interactive tables.';\n",
              "          element.innerHTML = '';\n",
              "          dataTable['output_type'] = 'display_data';\n",
              "          await google.colab.output.renderOutput(dataTable, element);\n",
              "          const docLink = document.createElement('div');\n",
              "          docLink.innerHTML = docLinkHtml;\n",
              "          element.appendChild(docLink);\n",
              "        }\n",
              "      </script>\n",
              "    </div>\n",
              "  </div>\n",
              "  "
            ],
            "text/plain": [
              "    mean_fit_time  std_fit_time  mean_score_time  std_score_time  \\\n",
              "0        0.187581      0.038812         0.003511        0.000076   \n",
              "1        0.317262      0.074472         0.003648        0.000183   \n",
              "2        0.429325      0.119355         0.003750        0.000089   \n",
              "3        0.267470      0.058850         0.003804        0.000441   \n",
              "4        0.490205      0.136730         0.005448        0.003389   \n",
              "5        1.133697      0.537522         0.006462        0.002181   \n",
              "6        0.360187      0.090998         0.003507        0.000009   \n",
              "7        0.540947      0.068796         0.003855        0.000236   \n",
              "8        0.784944      0.113069         0.003733        0.000048   \n",
              "9        1.110212      0.437681         0.007310        0.002433   \n",
              "10       0.883037      0.225486         0.005403        0.002657   \n",
              "11       1.778581      0.566202         0.005761        0.002106   \n",
              "\n",
              "   param_activation param_alpha param_hidden_layer_sizes param_max_iter  \\\n",
              "0              relu      0.0001                    (32,)           1000   \n",
              "1              relu      0.0001                    (64,)           1000   \n",
              "2              relu      0.0001                   (128,)           1000   \n",
              "3              relu       0.001                    (32,)           1000   \n",
              "4              relu       0.001                    (64,)           1000   \n",
              "5              relu       0.001                   (128,)           1000   \n",
              "6              relu        0.01                    (32,)           1000   \n",
              "7              relu        0.01                    (64,)           1000   \n",
              "8              relu        0.01                   (128,)           1000   \n",
              "9              relu         0.1                    (32,)           1000   \n",
              "10             relu         0.1                    (64,)           1000   \n",
              "11             relu         0.1                   (128,)           1000   \n",
              "\n",
              "   param_solver                                             params  \\\n",
              "0         lbfgs  {'activation': 'relu', 'alpha': 0.0001, 'hidde...   \n",
              "1         lbfgs  {'activation': 'relu', 'alpha': 0.0001, 'hidde...   \n",
              "2         lbfgs  {'activation': 'relu', 'alpha': 0.0001, 'hidde...   \n",
              "3         lbfgs  {'activation': 'relu', 'alpha': 0.001, 'hidden...   \n",
              "4         lbfgs  {'activation': 'relu', 'alpha': 0.001, 'hidden...   \n",
              "5         lbfgs  {'activation': 'relu', 'alpha': 0.001, 'hidden...   \n",
              "6         lbfgs  {'activation': 'relu', 'alpha': 0.01, 'hidden_...   \n",
              "7         lbfgs  {'activation': 'relu', 'alpha': 0.01, 'hidden_...   \n",
              "8         lbfgs  {'activation': 'relu', 'alpha': 0.01, 'hidden_...   \n",
              "9         lbfgs  {'activation': 'relu', 'alpha': 0.1, 'hidden_l...   \n",
              "10        lbfgs  {'activation': 'relu', 'alpha': 0.1, 'hidden_l...   \n",
              "11        lbfgs  {'activation': 'relu', 'alpha': 0.1, 'hidden_l...   \n",
              "\n",
              "    split0_test_score  split1_test_score  split2_test_score  \\\n",
              "0            0.594771           0.764706           0.861842   \n",
              "1            0.588235           0.823529           0.875000   \n",
              "2            0.673203           0.790850           0.901316   \n",
              "3            0.614379           0.751634           0.894737   \n",
              "4            0.614379           0.803922           0.881579   \n",
              "5            0.633987           0.771242           0.960526   \n",
              "6            0.673203           0.797386           0.848684   \n",
              "7            0.640523           0.830065           0.855263   \n",
              "8            0.653595           0.777778           0.861842   \n",
              "9            0.653595           0.823529           0.848684   \n",
              "10           0.647059           0.823529           0.802632   \n",
              "11           0.653595           0.797386           0.809211   \n",
              "\n",
              "    split3_test_score  split4_test_score  mean_test_score  std_test_score  \\\n",
              "0            0.684211           0.546053         0.690316        0.113959   \n",
              "1            0.776316           0.671053         0.746827        0.103994   \n",
              "2            0.802632           0.605263         0.754653        0.103994   \n",
              "3            0.684211           0.690789         0.727150        0.094412   \n",
              "4            0.730263           0.723684         0.750765        0.089099   \n",
              "5            0.769737           0.671053         0.761309        0.113326   \n",
              "6            0.769737           0.664474         0.750697        0.071531   \n",
              "7            0.730263           0.598684         0.730960        0.100945   \n",
              "8            0.763158           0.625000         0.736275        0.086522   \n",
              "9            0.763158           0.605263         0.738846        0.094804   \n",
              "10           0.763158           0.638158         0.734907        0.077867   \n",
              "11           0.730263           0.618421         0.721775        0.075848   \n",
              "\n",
              "    rank_test_score  \n",
              "0                12  \n",
              "1                 5  \n",
              "2                 2  \n",
              "3                10  \n",
              "4                 3  \n",
              "5                 1  \n",
              "6                 4  \n",
              "7                 9  \n",
              "8                 7  \n",
              "9                 6  \n",
              "10                8  \n",
              "11               11  "
            ]
          },
          "execution_count": 82,
          "metadata": {},
          "output_type": "execute_result"
        }
      ],
      "source": [
        "NN_result_multiclass"
      ]
    },
    {
      "cell_type": "code",
      "execution_count": null,
      "metadata": {
        "colab": {
          "base_uri": "https://localhost:8080/"
        },
        "id": "5m6u7M1SB9xo",
        "outputId": "4ed7e88f-324a-4323-8bd9-030341b3fa86"
      },
      "outputs": [
        {
          "name": "stdout",
          "output_type": "stream",
          "text": [
            "best hyperparameters with Neural Network for multiclass classification are :  {'activation': 'relu', 'alpha': 0.001, 'hidden_layer_sizes': (128,), 'max_iter': 1000, 'solver': 'lbfgs'}\n"
          ]
        }
      ],
      "source": [
        "print('best hyperparameters with Neural Network for multiclass classification are : ' , best_paramater_NN_multiclass)"
      ]
    },
    {
      "cell_type": "code",
      "execution_count": null,
      "metadata": {
        "colab": {
          "base_uri": "https://localhost:8080/"
        },
        "id": "y_9T1I1zCBFZ",
        "outputId": "653d4e68-95c5-491b-bdb0-20d6a99eb96b"
      },
      "outputs": [
        {
          "name": "stdout",
          "output_type": "stream",
          "text": [
            "best cross-validation score with Neural Network for multiclass classification is :  0.7613089095287238\n"
          ]
        }
      ],
      "source": [
        "print('best cross-validation score with Neural Network for multiclass classification is : ' , best_score_NN_multiclass)"
      ]
    },
    {
      "cell_type": "code",
      "execution_count": null,
      "metadata": {
        "id": "v6QYgrK8Mfsa"
      },
      "outputs": [],
      "source": [
        "NN_multiclass = MLPClassifier(activation = 'relu', alpha = 0.001, hidden_layer_sizes = (128, ), max_iter = 1000, solver = 'lbfgs', early_stopping= True)\n",
        "NN_multiclass.fit(training_features, y_train_multiclass)                        ## fit on the training features and labels with best hyperparameter value\n",
        "y_predicted_NN_multiclass = NN_multiclass.predict(training_features)"
      ]
    },
    {
      "cell_type": "code",
      "execution_count": null,
      "metadata": {
        "colab": {
          "base_uri": "https://localhost:8080/"
        },
        "id": "UZaUV5WBPvSb",
        "outputId": "d03a2955-0fd3-44ac-83b0-7b29fcf83c71"
      },
      "outputs": [
        {
          "name": "stdout",
          "output_type": "stream",
          "text": [
            "              precision    recall  f1-score   support\n",
            "\n",
            "           0       1.00      1.00      1.00       225\n",
            "           1       1.00      1.00      1.00       225\n",
            "           2       1.00      1.00      1.00       180\n",
            "           3       1.00      1.00      1.00       132\n",
            "\n",
            "    accuracy                           1.00       762\n",
            "   macro avg       1.00      1.00      1.00       762\n",
            "weighted avg       1.00      1.00      1.00       762\n",
            "\n"
          ]
        }
      ],
      "source": [
        "print(classification_report(y_train_multiclass , y_predicted_NN_multiclass ))"
      ]
    },
    {
      "cell_type": "code",
      "execution_count": null,
      "metadata": {
        "colab": {
          "base_uri": "https://localhost:8080/",
          "height": 583
        },
        "id": "gq1bi-dYPvUp",
        "outputId": "965fc532-9326-4646-ab6b-ad0d3060f4aa"
      },
      "outputs": [
        {
          "data": {
            "text/plain": [
              "[Text(0, 0.5, 'Memantine_C/S'),\n",
              " Text(0, 1.5, 'Memantine_S/C'),\n",
              " Text(0, 2.5, 'Saline_C/S'),\n",
              " Text(0, 3.5, 'Saline_S/C')]"
            ]
          },
          "execution_count": 87,
          "metadata": {},
          "output_type": "execute_result"
        },
        {
          "data": {
            "image/png": "[encoded data removed]",
            "text/plain": [
              "<Figure size 576x576 with 2 Axes>"
            ]
          },
          "metadata": {
            "needs_background": "light"
          },
          "output_type": "display_data"
        }
      ],
      "source": [
        "plt.figure(figsize = (8,8))\n",
        "cm_NN_SVM = confusion_matrix(y_train_multiclass , y_predicted_NN_multiclass)\n",
        "ax=plt.subplot()\n",
        "sns.heatmap(cm_NN_SVM , annot=True)\n",
        "ax.set_xlabel('Predicted labels')\n",
        "ax.set_ylabel('True labels') \n",
        "ax.set_title('Training Confusion Matrix')\n",
        "ax.xaxis.set_ticklabels(['Memantine_C/S', 'Memantine_S/C' , 'Saline_C/S' , 'Saline_S/C'])\n",
        "ax.yaxis.set_ticklabels(['Memantine_C/S', 'Memantine_S/C' , 'Saline_C/S' , 'Saline_S/C'])"
      ]
    },
    {
      "cell_type": "markdown",
      "metadata": {
        "id": "JDq9EggACFqJ"
      },
      "source": [
        "RANDOM FOREST for multiclass classification"
      ]
    },
    {
      "cell_type": "code",
      "execution_count": null,
      "metadata": {
        "id": "ohZGpwu7CDYX"
      },
      "outputs": [],
      "source": [
        "RF_result_multiclass , best_paramater_RF_multiclass , best_score_RF_multiclass = Random_Forest(training_features, y_train_multiclass)"
      ]
    },
    {
      "cell_type": "code",
      "execution_count": null,
      "metadata": {
        "colab": {
          "base_uri": "https://localhost:8080/",
          "height": 1000
        },
        "id": "Y3YwWhxSCc2H",
        "outputId": "8b1edab7-8851-4a8b-99ff-95a4c1de9600"
      },
      "outputs": [
        {
          "data": {
            "text/html": [
              "\n",
              "  <div id=\"df-63d3b488-4ab7-48d4-a67b-657f5b45e0dd\">\n",
              "    <div class=\"colab-df-container\">\n",
              "      <div>\n",
              "<style scoped>\n",
              "    .dataframe tbody tr th:only-of-type {\n",
              "        vertical-align: middle;\n",
              "    }\n",
              "\n",
              "    .dataframe tbody tr th {\n",
              "        vertical-align: top;\n",
              "    }\n",
              "\n",
              "    .dataframe thead th {\n",
              "        text-align: right;\n",
              "    }\n",
              "</style>\n",
              "<table border=\"1\" class=\"dataframe\">\n",
              "  <thead>\n",
              "    <tr style=\"text-align: right;\">\n",
              "      <th></th>\n",
              "      <th>mean_fit_time</th>\n",
              "      <th>std_fit_time</th>\n",
              "      <th>mean_score_time</th>\n",
              "      <th>std_score_time</th>\n",
              "      <th>param_max_depth</th>\n",
              "      <th>param_max_features</th>\n",
              "      <th>params</th>\n",
              "      <th>split0_test_score</th>\n",
              "      <th>split1_test_score</th>\n",
              "      <th>split2_test_score</th>\n",
              "      <th>split3_test_score</th>\n",
              "      <th>split4_test_score</th>\n",
              "      <th>mean_test_score</th>\n",
              "      <th>std_test_score</th>\n",
              "      <th>rank_test_score</th>\n",
              "    </tr>\n",
              "  </thead>\n",
              "  <tbody>\n",
              "    <tr>\n",
              "      <th>0</th>\n",
              "      <td>0.284153</td>\n",
              "      <td>0.011936</td>\n",
              "      <td>0.014307</td>\n",
              "      <td>0.001075</td>\n",
              "      <td>3</td>\n",
              "      <td>sqrt</td>\n",
              "      <td>{'max_depth': 3, 'max_features': 'sqrt'}</td>\n",
              "      <td>0.503268</td>\n",
              "      <td>0.699346</td>\n",
              "      <td>0.763158</td>\n",
              "      <td>0.644737</td>\n",
              "      <td>0.493421</td>\n",
              "      <td>0.620786</td>\n",
              "      <td>0.106815</td>\n",
              "      <td>9</td>\n",
              "    </tr>\n",
              "    <tr>\n",
              "      <th>1</th>\n",
              "      <td>0.249125</td>\n",
              "      <td>0.005570</td>\n",
              "      <td>0.013643</td>\n",
              "      <td>0.000716</td>\n",
              "      <td>3</td>\n",
              "      <td>log2</td>\n",
              "      <td>{'max_depth': 3, 'max_features': 'log2'}</td>\n",
              "      <td>0.516340</td>\n",
              "      <td>0.679739</td>\n",
              "      <td>0.736842</td>\n",
              "      <td>0.671053</td>\n",
              "      <td>0.453947</td>\n",
              "      <td>0.611584</td>\n",
              "      <td>0.107510</td>\n",
              "      <td>11</td>\n",
              "    </tr>\n",
              "    <tr>\n",
              "      <th>2</th>\n",
              "      <td>1.322495</td>\n",
              "      <td>0.280854</td>\n",
              "      <td>0.016854</td>\n",
              "      <td>0.004608</td>\n",
              "      <td>3</td>\n",
              "      <td>None</td>\n",
              "      <td>{'max_depth': 3, 'max_features': None}</td>\n",
              "      <td>0.444444</td>\n",
              "      <td>0.653595</td>\n",
              "      <td>0.756579</td>\n",
              "      <td>0.585526</td>\n",
              "      <td>0.552632</td>\n",
              "      <td>0.598555</td>\n",
              "      <td>0.103952</td>\n",
              "      <td>12</td>\n",
              "    </tr>\n",
              "    <tr>\n",
              "      <th>3</th>\n",
              "      <td>0.500772</td>\n",
              "      <td>0.072418</td>\n",
              "      <td>0.026259</td>\n",
              "      <td>0.009582</td>\n",
              "      <td>5</td>\n",
              "      <td>sqrt</td>\n",
              "      <td>{'max_depth': 5, 'max_features': 'sqrt'}</td>\n",
              "      <td>0.549020</td>\n",
              "      <td>0.712418</td>\n",
              "      <td>0.809211</td>\n",
              "      <td>0.651316</td>\n",
              "      <td>0.447368</td>\n",
              "      <td>0.633867</td>\n",
              "      <td>0.125858</td>\n",
              "      <td>8</td>\n",
              "    </tr>\n",
              "    <tr>\n",
              "      <th>4</th>\n",
              "      <td>0.440368</td>\n",
              "      <td>0.067070</td>\n",
              "      <td>0.021204</td>\n",
              "      <td>0.004142</td>\n",
              "      <td>5</td>\n",
              "      <td>log2</td>\n",
              "      <td>{'max_depth': 5, 'max_features': 'log2'}</td>\n",
              "      <td>0.555556</td>\n",
              "      <td>0.718954</td>\n",
              "      <td>0.809211</td>\n",
              "      <td>0.638158</td>\n",
              "      <td>0.453947</td>\n",
              "      <td>0.635165</td>\n",
              "      <td>0.123692</td>\n",
              "      <td>7</td>\n",
              "    </tr>\n",
              "    <tr>\n",
              "      <th>5</th>\n",
              "      <td>1.571568</td>\n",
              "      <td>0.027616</td>\n",
              "      <td>0.018576</td>\n",
              "      <td>0.006198</td>\n",
              "      <td>5</td>\n",
              "      <td>None</td>\n",
              "      <td>{'max_depth': 5, 'max_features': None}</td>\n",
              "      <td>0.503268</td>\n",
              "      <td>0.666667</td>\n",
              "      <td>0.802632</td>\n",
              "      <td>0.565789</td>\n",
              "      <td>0.559211</td>\n",
              "      <td>0.619513</td>\n",
              "      <td>0.105633</td>\n",
              "      <td>10</td>\n",
              "    </tr>\n",
              "    <tr>\n",
              "      <th>6</th>\n",
              "      <td>0.389383</td>\n",
              "      <td>0.031536</td>\n",
              "      <td>0.017632</td>\n",
              "      <td>0.004553</td>\n",
              "      <td>7</td>\n",
              "      <td>sqrt</td>\n",
              "      <td>{'max_depth': 7, 'max_features': 'sqrt'}</td>\n",
              "      <td>0.594771</td>\n",
              "      <td>0.771242</td>\n",
              "      <td>0.822368</td>\n",
              "      <td>0.671053</td>\n",
              "      <td>0.447368</td>\n",
              "      <td>0.661361</td>\n",
              "      <td>0.132905</td>\n",
              "      <td>3</td>\n",
              "    </tr>\n",
              "    <tr>\n",
              "      <th>7</th>\n",
              "      <td>0.493217</td>\n",
              "      <td>0.012447</td>\n",
              "      <td>0.021008</td>\n",
              "      <td>0.002468</td>\n",
              "      <td>7</td>\n",
              "      <td>log2</td>\n",
              "      <td>{'max_depth': 7, 'max_features': 'log2'}</td>\n",
              "      <td>0.588235</td>\n",
              "      <td>0.705882</td>\n",
              "      <td>0.822368</td>\n",
              "      <td>0.644737</td>\n",
              "      <td>0.460526</td>\n",
              "      <td>0.644350</td>\n",
              "      <td>0.120347</td>\n",
              "      <td>4</td>\n",
              "    </tr>\n",
              "    <tr>\n",
              "      <th>8</th>\n",
              "      <td>1.795592</td>\n",
              "      <td>0.160025</td>\n",
              "      <td>0.013796</td>\n",
              "      <td>0.000106</td>\n",
              "      <td>7</td>\n",
              "      <td>None</td>\n",
              "      <td>{'max_depth': 7, 'max_features': None}</td>\n",
              "      <td>0.509804</td>\n",
              "      <td>0.660131</td>\n",
              "      <td>0.802632</td>\n",
              "      <td>0.631579</td>\n",
              "      <td>0.585526</td>\n",
              "      <td>0.637934</td>\n",
              "      <td>0.096770</td>\n",
              "      <td>5</td>\n",
              "    </tr>\n",
              "    <tr>\n",
              "      <th>9</th>\n",
              "      <td>0.380434</td>\n",
              "      <td>0.005105</td>\n",
              "      <td>0.015162</td>\n",
              "      <td>0.001934</td>\n",
              "      <td>9</td>\n",
              "      <td>sqrt</td>\n",
              "      <td>{'max_depth': 9, 'max_features': 'sqrt'}</td>\n",
              "      <td>0.581699</td>\n",
              "      <td>0.758170</td>\n",
              "      <td>0.802632</td>\n",
              "      <td>0.690789</td>\n",
              "      <td>0.480263</td>\n",
              "      <td>0.662711</td>\n",
              "      <td>0.117753</td>\n",
              "      <td>2</td>\n",
              "    </tr>\n",
              "    <tr>\n",
              "      <th>10</th>\n",
              "      <td>0.460176</td>\n",
              "      <td>0.072109</td>\n",
              "      <td>0.020523</td>\n",
              "      <td>0.003539</td>\n",
              "      <td>9</td>\n",
              "      <td>log2</td>\n",
              "      <td>{'max_depth': 9, 'max_features': 'log2'}</td>\n",
              "      <td>0.607843</td>\n",
              "      <td>0.732026</td>\n",
              "      <td>0.822368</td>\n",
              "      <td>0.677632</td>\n",
              "      <td>0.480263</td>\n",
              "      <td>0.664026</td>\n",
              "      <td>0.115591</td>\n",
              "      <td>1</td>\n",
              "    </tr>\n",
              "    <tr>\n",
              "      <th>11</th>\n",
              "      <td>1.861518</td>\n",
              "      <td>0.257685</td>\n",
              "      <td>0.014112</td>\n",
              "      <td>0.000495</td>\n",
              "      <td>9</td>\n",
              "      <td>None</td>\n",
              "      <td>{'max_depth': 9, 'max_features': None}</td>\n",
              "      <td>0.509804</td>\n",
              "      <td>0.686275</td>\n",
              "      <td>0.796053</td>\n",
              "      <td>0.618421</td>\n",
              "      <td>0.572368</td>\n",
              "      <td>0.636584</td>\n",
              "      <td>0.098414</td>\n",
              "      <td>6</td>\n",
              "    </tr>\n",
              "  </tbody>\n",
              "</table>\n",
              "</div>\n",
              "      <button class=\"colab-df-convert\" onclick=\"convertToInteractive('df-63d3b488-4ab7-48d4-a67b-657f5b45e0dd')\"\n",
              "              title=\"Convert this dataframe to an interactive table.\"\n",
              "              style=\"display:none;\">\n",
              "        \n",
              "  <svg xmlns=\"http://www.w3.org/2000/svg\" height=\"24px\"viewBox=\"0 0 24 24\"\n",
              "       width=\"24px\">\n",
              "    <path d=\"M0 0h24v24H0V0z\" fill=\"none\"/>\n",
              "    <path d=\"M18.56 5.44l.94 2.06.94-2.06 2.06-.94-2.06-.94-.94-2.06-.94 2.06-2.06.94zm-11 1L8.5 8.5l.94-2.06 2.06-.94-2.06-.94L8.5 2.5l-.94 2.06-2.06.94zm10 10l.94 2.06.94-2.06 2.06-.94-2.06-.94-.94-2.06-.94 2.06-2.06.94z\"/><path d=\"M17.41 7.96l-1.37-1.37c-.4-.4-.92-.59-1.43-.59-.52 0-1.04.2-1.43.59L10.3 9.45l-7.72 7.72c-.78.78-.78 2.05 0 2.83L4 21.41c.39.39.9.59 1.41.59.51 0 1.02-.2 1.41-.59l7.78-7.78 2.81-2.81c.8-.78.8-2.07 0-2.86zM5.41 20L4 18.59l7.72-7.72 1.47 1.35L5.41 20z\"/>\n",
              "  </svg>\n",
              "      </button>\n",
              "      \n",
              "  <style>\n",
              "    .colab-df-container {\n",
              "      display:flex;\n",
              "      flex-wrap:wrap;\n",
              "      gap: 12px;\n",
              "    }\n",
              "\n",
              "    .colab-df-convert {\n",
              "      background-color: #E8F0FE;\n",
              "      border: none;\n",
              "      border-radius: 50%;\n",
              "      cursor: pointer;\n",
              "      display: none;\n",
              "      fill: #1967D2;\n",
              "      height: 32px;\n",
              "      padding: 0 0 0 0;\n",
              "      width: 32px;\n",
              "    }\n",
              "\n",
              "    .colab-df-convert:hover {\n",
              "      background-color: #E2EBFA;\n",
              "      box-shadow: 0px 1px 2px rgba(60, 64, 67, 0.3), 0px 1px 3px 1px rgba(60, 64, 67, 0.15);\n",
              "      fill: #174EA6;\n",
              "    }\n",
              "\n",
              "    [theme=dark] .colab-df-convert {\n",
              "      background-color: #3B4455;\n",
              "      fill: #D2E3FC;\n",
              "    }\n",
              "\n",
              "    [theme=dark] .colab-df-convert:hover {\n",
              "      background-color: #434B5C;\n",
              "      box-shadow: 0px 1px 3px 1px rgba(0, 0, 0, 0.15);\n",
              "      filter: drop-shadow(0px 1px 2px rgba(0, 0, 0, 0.3));\n",
              "      fill: #FFFFFF;\n",
              "    }\n",
              "  </style>\n",
              "\n",
              "      <script>\n",
              "        const buttonEl =\n",
              "          document.querySelector('#df-63d3b488-4ab7-48d4-a67b-657f5b45e0dd button.colab-df-convert');\n",
              "        buttonEl.style.display =\n",
              "          google.colab.kernel.accessAllowed ? 'block' : 'none';\n",
              "\n",
              "        async function convertToInteractive(key) {\n",
              "          const element = document.querySelector('#df-63d3b488-4ab7-48d4-a67b-657f5b45e0dd');\n",
              "          const dataTable =\n",
              "            await google.colab.kernel.invokeFunction('convertToInteractive',\n",
              "                                                     [key], {});\n",
              "          if (!dataTable) return;\n",
              "\n",
              "          const docLinkHtml = 'Like what you see? Visit the ' +\n",
              "            '<a target=\"_blank\" href=https://colab.research.google.com/notebooks/data_table.ipynb>data table notebook</a>'\n",
              "            + ' to learn more about interactive tables.';\n",
              "          element.innerHTML = '';\n",
              "          dataTable['output_type'] = 'display_data';\n",
              "          await google.colab.output.renderOutput(dataTable, element);\n",
              "          const docLink = document.createElement('div');\n",
              "          docLink.innerHTML = docLinkHtml;\n",
              "          element.appendChild(docLink);\n",
              "        }\n",
              "      </script>\n",
              "    </div>\n",
              "  </div>\n",
              "  "
            ],
            "text/plain": [
              "    mean_fit_time  std_fit_time  mean_score_time  std_score_time  \\\n",
              "0        0.284153      0.011936         0.014307        0.001075   \n",
              "1        0.249125      0.005570         0.013643        0.000716   \n",
              "2        1.322495      0.280854         0.016854        0.004608   \n",
              "3        0.500772      0.072418         0.026259        0.009582   \n",
              "4        0.440368      0.067070         0.021204        0.004142   \n",
              "5        1.571568      0.027616         0.018576        0.006198   \n",
              "6        0.389383      0.031536         0.017632        0.004553   \n",
              "7        0.493217      0.012447         0.021008        0.002468   \n",
              "8        1.795592      0.160025         0.013796        0.000106   \n",
              "9        0.380434      0.005105         0.015162        0.001934   \n",
              "10       0.460176      0.072109         0.020523        0.003539   \n",
              "11       1.861518      0.257685         0.014112        0.000495   \n",
              "\n",
              "   param_max_depth param_max_features  \\\n",
              "0                3               sqrt   \n",
              "1                3               log2   \n",
              "2                3               None   \n",
              "3                5               sqrt   \n",
              "4                5               log2   \n",
              "5                5               None   \n",
              "6                7               sqrt   \n",
              "7                7               log2   \n",
              "8                7               None   \n",
              "9                9               sqrt   \n",
              "10               9               log2   \n",
              "11               9               None   \n",
              "\n",
              "                                      params  split0_test_score  \\\n",
              "0   {'max_depth': 3, 'max_features': 'sqrt'}           0.503268   \n",
              "1   {'max_depth': 3, 'max_features': 'log2'}           0.516340   \n",
              "2     {'max_depth': 3, 'max_features': None}           0.444444   \n",
              "3   {'max_depth': 5, 'max_features': 'sqrt'}           0.549020   \n",
              "4   {'max_depth': 5, 'max_features': 'log2'}           0.555556   \n",
              "5     {'max_depth': 5, 'max_features': None}           0.503268   \n",
              "6   {'max_depth': 7, 'max_features': 'sqrt'}           0.594771   \n",
              "7   {'max_depth': 7, 'max_features': 'log2'}           0.588235   \n",
              "8     {'max_depth': 7, 'max_features': None}           0.509804   \n",
              "9   {'max_depth': 9, 'max_features': 'sqrt'}           0.581699   \n",
              "10  {'max_depth': 9, 'max_features': 'log2'}           0.607843   \n",
              "11    {'max_depth': 9, 'max_features': None}           0.509804   \n",
              "\n",
              "    split1_test_score  split2_test_score  split3_test_score  \\\n",
              "0            0.699346           0.763158           0.644737   \n",
              "1            0.679739           0.736842           0.671053   \n",
              "2            0.653595           0.756579           0.585526   \n",
              "3            0.712418           0.809211           0.651316   \n",
              "4            0.718954           0.809211           0.638158   \n",
              "5            0.666667           0.802632           0.565789   \n",
              "6            0.771242           0.822368           0.671053   \n",
              "7            0.705882           0.822368           0.644737   \n",
              "8            0.660131           0.802632           0.631579   \n",
              "9            0.758170           0.802632           0.690789   \n",
              "10           0.732026           0.822368           0.677632   \n",
              "11           0.686275           0.796053           0.618421   \n",
              "\n",
              "    split4_test_score  mean_test_score  std_test_score  rank_test_score  \n",
              "0            0.493421         0.620786        0.106815                9  \n",
              "1            0.453947         0.611584        0.107510               11  \n",
              "2            0.552632         0.598555        0.103952               12  \n",
              "3            0.447368         0.633867        0.125858                8  \n",
              "4            0.453947         0.635165        0.123692                7  \n",
              "5            0.559211         0.619513        0.105633               10  \n",
              "6            0.447368         0.661361        0.132905                3  \n",
              "7            0.460526         0.644350        0.120347                4  \n",
              "8            0.585526         0.637934        0.096770                5  \n",
              "9            0.480263         0.662711        0.117753                2  \n",
              "10           0.480263         0.664026        0.115591                1  \n",
              "11           0.572368         0.636584        0.098414                6  "
            ]
          },
          "execution_count": 187,
          "metadata": {},
          "output_type": "execute_result"
        }
      ],
      "source": [
        "RF_result_multiclass"
      ]
    },
    {
      "cell_type": "code",
      "execution_count": null,
      "metadata": {
        "colab": {
          "base_uri": "https://localhost:8080/"
        },
        "id": "eCKidc-kCfV-",
        "outputId": "bf7ae5c2-e0ce-46aa-f530-ee299fa0851d"
      },
      "outputs": [
        {
          "name": "stdout",
          "output_type": "stream",
          "text": [
            "best hyperparameters with Random Forest for multiclass classification are :  {'max_depth': 9, 'max_features': 'log2'}\n"
          ]
        }
      ],
      "source": [
        "print('best hyperparameters with Random Forest for multiclass classification are : ' , best_paramater_RF_multiclass)"
      ]
    },
    {
      "cell_type": "code",
      "execution_count": null,
      "metadata": {
        "colab": {
          "base_uri": "https://localhost:8080/"
        },
        "id": "Kxg7oMixCikZ",
        "outputId": "b819ddb3-77de-4424-f9df-cc44a292440b"
      },
      "outputs": [
        {
          "name": "stdout",
          "output_type": "stream",
          "text": [
            "best cross-validation accuracy score with Neural Network for multiclass classification is :  0.6640264877880977\n"
          ]
        }
      ],
      "source": [
        "print('best cross-validation accuracy score with Neural Network for multiclass classification is : ' , best_score_RF_multiclass)"
      ]
    },
    {
      "cell_type": "code",
      "execution_count": null,
      "metadata": {
        "id": "1gFkZYZINtUv"
      },
      "outputs": [],
      "source": [
        "RF_multiclass = RandomForestClassifier(max_depth = 9, max_features = 'log2')\n",
        "RF_multiclass.fit(training_features, y_train_multiclass)         ## fit on the training features and labels with best hyperparameter value\n",
        "y_predicted_RF_multiclass = RF_multiclass.predict(training_features)"
      ]
    },
    {
      "cell_type": "code",
      "execution_count": null,
      "metadata": {
        "colab": {
          "base_uri": "https://localhost:8080/"
        },
        "id": "DNqooSkKCl1X",
        "outputId": "fc9e6345-4624-4dd7-da8f-99da76944662"
      },
      "outputs": [
        {
          "name": "stdout",
          "output_type": "stream",
          "text": [
            "              precision    recall  f1-score   support\n",
            "\n",
            "           0       1.00      1.00      1.00       225\n",
            "           1       1.00      1.00      1.00       225\n",
            "           2       1.00      1.00      1.00       180\n",
            "           3       1.00      1.00      1.00       132\n",
            "\n",
            "    accuracy                           1.00       762\n",
            "   macro avg       1.00      1.00      1.00       762\n",
            "weighted avg       1.00      1.00      1.00       762\n",
            "\n"
          ]
        }
      ],
      "source": [
        "print(classification_report(y_train_multiclass , y_predicted_RF_multiclass))"
      ]
    },
    {
      "cell_type": "code",
      "execution_count": null,
      "metadata": {
        "colab": {
          "base_uri": "https://localhost:8080/",
          "height": 583
        },
        "id": "evXJMpyeQMFN",
        "outputId": "6f40251f-eddb-45ab-f32b-286b42dfc23e"
      },
      "outputs": [
        {
          "data": {
            "text/plain": [
              "[Text(0, 0.5, 'Memantine_C/S'),\n",
              " Text(0, 1.5, 'Memantine_S/C'),\n",
              " Text(0, 2.5, 'Saline_C/S'),\n",
              " Text(0, 3.5, 'Saline_S/C')]"
            ]
          },
          "execution_count": 94,
          "metadata": {},
          "output_type": "execute_result"
        },
        {
          "data": {
            "image/png": "[encoded data removed]",
            "text/plain": [
              "<Figure size 576x576 with 2 Axes>"
            ]
          },
          "metadata": {
            "needs_background": "light"
          },
          "output_type": "display_data"
        }
      ],
      "source": [
        "plt.figure(figsize = (8,8))\n",
        "cm_RF_SVM = confusion_matrix(y_train_multiclass , y_predicted_RF_multiclass)\n",
        "ax=plt.subplot()\n",
        "sns.heatmap(cm_RF_SVM , annot=True)\n",
        "ax.set_xlabel('Predicted labels')\n",
        "ax.set_ylabel('True labels') \n",
        "ax.set_title('Training Confusion Matrix')\n",
        "ax.xaxis.set_ticklabels(['Memantine_C/S', 'Memantine_S/C' , 'Saline_C/S' , 'Saline_S/C'])\n",
        "ax.yaxis.set_ticklabels(['Memantine_C/S', 'Memantine_S/C' , 'Saline_C/S' , 'Saline_S/C'])"
      ]
    },
    {
      "cell_type": "markdown",
      "metadata": {
        "id": "WFfsnjwimRDp"
      },
      "source": [
        "Question 6 : Feature_Importance, Here Permutation feature importance has been used."
      ]
    },
    {
      "cell_type": "markdown",
      "metadata": {
        "id": "xSLBk7zGp--J"
      },
      "source": [
        "Linear_SVM_Binary_class_classification"
      ]
    },
    {
      "cell_type": "code",
      "execution_count": null,
      "metadata": {
        "id": "JLJ_umnlQ2uU"
      },
      "outputs": [],
      "source": [
        "result_Linear_SVM = permutation_importance( Linear_SVM , training_features, y_train, n_repeats=5, random_state=0) ## n_parameters is the number of times, the data will be shuffled and returns the importance score"
      ]
    },
    {
      "cell_type": "code",
      "execution_count": null,
      "metadata": {
        "colab": {
          "base_uri": "https://localhost:8080/"
        },
        "id": "QqyTGFqCnJjq",
        "outputId": "2c6dcc5e-3b28-47ee-feaf-29fc7f52e65a"
      },
      "outputs": [
        {
          "name": "stdout",
          "output_type": "stream",
          "text": [
            "Importance of different features are :  [0.00524934 0.00787402 0.02152231 0.00052493 0.01259843 0.00104987\n",
            " 0.01627297 0.00446194 0.00026247 0.         0.00708661 0.\n",
            " 0.00944882 0.00997375 0.01259843 0.00131234 0.         0.00104987\n",
            " 0.         0.0183727  0.03963255 0.         0.         0.00183727\n",
            " 0.0648294  0.00734908 0.23254593 0.00393701 0.00131234 0.02440945\n",
            " 0.00367454 0.0007874  0.0191601  0.02257218 0.00839895 0.01207349\n",
            " 0.0023622  0.03989501 0.00839895 0.01574803 0.00787402 0.0007874\n",
            " 0.02729659 0.         0.00026247 0.00498688 0.0023622  0.\n",
            " 0.00183727 0.         0.01732283 0.00446194 0.00131234 0.\n",
            " 0.06141732 0.         0.01338583 0.00209974 0.01968504 0.0023622\n",
            " 0.00629921 0.0175853  0.00656168 0.         0.00052493 0.02204724\n",
            " 0.00551181]\n"
          ]
        }
      ],
      "source": [
        "mean_importance_different_features_Linear_SVM = result_Linear_SVM.importances_mean\n",
        "print('Importance of different features are : ' , mean_importance_different_features_Linear_SVM)"
      ]
    },
    {
      "cell_type": "code",
      "execution_count": null,
      "metadata": {
        "colab": {
          "base_uri": "https://localhost:8080/",
          "height": 445
        },
        "id": "1_TKTXc0oVVW",
        "outputId": "244bc352-b1ef-4fe5-a2a2-2620966fe54e"
      },
      "outputs": [
        {
          "data": {
            "text/plain": [
              "<BarContainer object of 67 artists>"
            ]
          },
          "execution_count": 99,
          "metadata": {},
          "output_type": "execute_result"
        },
        {
          "data": {
            "image/png": "[encoded data removed]",
            "text/plain": [
              "<Figure size 720x504 with 1 Axes>"
            ]
          },
          "metadata": {
            "needs_background": "light"
          },
          "output_type": "display_data"
        }
      ],
      "source": [
        "fig = plt.figure(figsize =(10, 7))\n",
        "plt.bar(np.arange(0, len(mean_importance_different_features_Linear_SVM) , 1), mean_importance_different_features_Linear_SVM)  ## gives the bar plot of feature importance values along the number of features in X-axis for Linear SVM"
      ]
    },
    {
      "cell_type": "code",
      "execution_count": null,
      "metadata": {
        "colab": {
          "base_uri": "https://localhost:8080/"
        },
        "id": "J8dq2lzSz63i",
        "outputId": "c8875934-22e5-4acd-ed67-9476ba767c73"
      },
      "outputs": [
        {
          "name": "stdout",
          "output_type": "stream",
          "text": [
            "optimal features for Linear SVM are :  ['pAKT_N', 'pPKCAB_N', 'IL1B_N', 'NUMB_N', 'pCAMKII_N', 'ERBB4_N', 'Ubiquitin_N', 'ELK_N', 'DSCR1_N', 'pCASP9_N', 'NR1_N', 'SYP_N', 'AMPKA_N', 'MTOR_N', 'pPKCG_N', 'ERK_N', 'TIAM1_N', 'GluR3_N', 'TRKA_N', 'APP_N']\n"
          ]
        }
      ],
      "source": [
        "optimal_features_Linear_SVM = []         ## This will store the names of the most important features using permutation feature importance\n",
        "optimal_index1 = np.argsort(mean_importance_different_features_Linear_SVM)[-20 : ]     ## 20 most important features have been taken, RFECV also gives number of optimal features is 20 , this variable gives the index values of 20 most important features\n",
        "for i in range(len(optimal_index1)):\n",
        "  optimal_features_Linear_SVM.append(training_features.columns[optimal_index1[i]])\n",
        "print('optimal features for Linear SVM are : ' , optimal_features_Linear_SVM)"
      ]
    },
    {
      "cell_type": "markdown",
      "metadata": {
        "id": "5NmjyMKNqFi4"
      },
      "source": [
        "RBF SVM binary class classification"
      ]
    },
    {
      "cell_type": "code",
      "execution_count": null,
      "metadata": {
        "id": "j71n5coCQ21D"
      },
      "outputs": [],
      "source": [
        "result_RBF_SVM = permutation_importance( RBF_SVM , training_features, y_train, n_repeats=5, random_state=0)"
      ]
    },
    {
      "cell_type": "code",
      "execution_count": null,
      "metadata": {
        "colab": {
          "base_uri": "https://localhost:8080/"
        },
        "id": "IQQHhTYrqIqG",
        "outputId": "be306295-cdd1-4178-f09c-68145cc482ac"
      },
      "outputs": [
        {
          "name": "stdout",
          "output_type": "stream",
          "text": [
            "Importance of different features are :  [ 1.83727034e-03  5.24934383e-04  4.72440945e-03 -7.87401575e-04\n",
            "  2.88713911e-03 -1.04986877e-03  2.09973753e-03 -2.09973753e-03\n",
            " -5.24934383e-04  0.00000000e+00  2.09973753e-03 -1.57480315e-03\n",
            " -2.09973753e-03 -7.87401575e-04 -2.09973753e-03 -1.83727034e-03\n",
            "  0.00000000e+00  0.00000000e+00 -7.87401575e-04  6.56167979e-03\n",
            "  4.40944882e-02 -1.31233596e-03  0.00000000e+00  7.87401575e-04\n",
            "  5.24934383e-02 -1.83727034e-03  2.20209974e-01 -7.87401575e-04\n",
            "  0.00000000e+00  1.31233596e-02 -2.62467192e-04 -2.62467192e-04\n",
            "  6.03674541e-03  1.81102362e-02  1.04986877e-03  2.88713911e-03\n",
            " -7.87401575e-04  2.78215223e-02  7.87401575e-04  7.87401575e-04\n",
            "  2.62467192e-04 -7.87401575e-04  3.67454068e-03  0.00000000e+00\n",
            " -5.24934383e-04 -2.36220472e-03 -4.44089210e-17  0.00000000e+00\n",
            " -1.57480315e-03 -7.87401575e-04  2.62467192e-03 -1.83727034e-03\n",
            " -1.57480315e-03  0.00000000e+00  5.19685039e-02 -5.24934383e-04\n",
            "  1.83727034e-03  1.04986877e-03  1.04986877e-02  0.00000000e+00\n",
            " -2.62467192e-04  5.51181102e-03 -5.24934383e-04 -1.31233596e-03\n",
            " -5.24934383e-04  6.56167979e-03  1.31233596e-03]\n"
          ]
        }
      ],
      "source": [
        "mean_importance_different_features_RBF_SVM = result_RBF_SVM.importances_mean\n",
        "print('Importance of different features are : ' , mean_importance_different_features_RBF_SVM)"
      ]
    },
    {
      "cell_type": "code",
      "execution_count": null,
      "metadata": {
        "colab": {
          "base_uri": "https://localhost:8080/",
          "height": 445
        },
        "id": "soamRA4WqI1k",
        "outputId": "8afb049a-6439-4828-ab3e-1a8d90d1472b"
      },
      "outputs": [
        {
          "data": {
            "text/plain": [
              "<BarContainer object of 67 artists>"
            ]
          },
          "execution_count": 103,
          "metadata": {},
          "output_type": "execute_result"
        },
        {
          "data": {
            "image/png": "[encoded data removed]",
            "text/plain": [
              "<Figure size 720x504 with 1 Axes>"
            ]
          },
          "metadata": {
            "needs_background": "light"
          },
          "output_type": "display_data"
        }
      ],
      "source": [
        "fig = plt.figure(figsize =(10, 7))\n",
        "plt.bar(np.arange(0, len(mean_importance_different_features_RBF_SVM) , 1), mean_importance_different_features_RBF_SVM) ## gives the bar plot of feature importance values along the number of features in X-axis for RBF SVM"
      ]
    },
    {
      "cell_type": "code",
      "execution_count": null,
      "metadata": {
        "colab": {
          "base_uri": "https://localhost:8080/"
        },
        "id": "6xkpaTUKqJVp",
        "outputId": "7e75fbce-cb06-42fe-eb91-cc624c9a61bf"
      },
      "outputs": [
        {
          "name": "stdout",
          "output_type": "stream",
          "text": [
            "optimal features for RBF SVM are :  ['TIAM1_N', 'ERK_N', 'GluR3_N', 'TRKA_N', 'APP_N']\n"
          ]
        }
      ],
      "source": [
        "optimal_features_RBF_SVM = []\n",
        "optimal_index2 = np.argsort(mean_importance_different_features_RBF_SVM)[-5 : ]      ## 5 most important features have been taken,  this variable gives the index values of 5 most important features\n",
        "for i in range(len(optimal_index2)):\n",
        "  optimal_features_RBF_SVM.append(training_features.columns[optimal_index2[i]])\n",
        "print('optimal features for RBF SVM are : ' , optimal_features_RBF_SVM)"
      ]
    },
    {
      "cell_type": "markdown",
      "metadata": {
        "id": "At7IgkrAqu77"
      },
      "source": [
        "Neural Network Binary class classification"
      ]
    },
    {
      "cell_type": "code",
      "execution_count": null,
      "metadata": {
        "id": "DgEMP8BWQ27D"
      },
      "outputs": [],
      "source": [
        "result_NN = permutation_importance( NN , training_features, y_train, n_repeats=5, random_state=0)"
      ]
    },
    {
      "cell_type": "code",
      "execution_count": null,
      "metadata": {
        "colab": {
          "base_uri": "https://localhost:8080/"
        },
        "id": "zAkDKbv1tsMJ",
        "outputId": "7ca923f7-5111-4028-9607-091cddf72caf"
      },
      "outputs": [
        {
          "name": "stdout",
          "output_type": "stream",
          "text": [
            "Importance of different features are :  [0.0015748  0.00026247 0.0007874  0.         0.0023622  0.\n",
            " 0.00183727 0.00052493 0.         0.         0.00262467 0.\n",
            " 0.         0.         0.00209974 0.         0.         0.\n",
            " 0.         0.00131234 0.01574803 0.         0.         0.\n",
            " 0.02992126 0.00052493 0.13149606 0.         0.         0.01732283\n",
            " 0.         0.         0.00787402 0.0015748  0.         0.0007874\n",
            " 0.00026247 0.02545932 0.         0.         0.0023622  0.\n",
            " 0.00131234 0.         0.         0.00131234 0.00052493 0.\n",
            " 0.         0.         0.00104987 0.00026247 0.         0.\n",
            " 0.02887139 0.         0.00551181 0.         0.0191601  0.00052493\n",
            " 0.00026247 0.00026247 0.         0.         0.         0.01417323\n",
            " 0.00682415]\n"
          ]
        }
      ],
      "source": [
        "mean_importance_different_features_NN = result_NN.importances_mean\n",
        "print('Importance of different features are : ' , mean_importance_different_features_NN)"
      ]
    },
    {
      "cell_type": "code",
      "execution_count": null,
      "metadata": {
        "colab": {
          "base_uri": "https://localhost:8080/",
          "height": 445
        },
        "id": "U96FZ_ROtsdV",
        "outputId": "f1d8509a-c86e-4175-9249-df2b29a8ffad"
      },
      "outputs": [
        {
          "data": {
            "text/plain": [
              "<BarContainer object of 67 artists>"
            ]
          },
          "execution_count": 107,
          "metadata": {},
          "output_type": "execute_result"
        },
        {
          "data": {
            "image/png": "[encoded data removed]",
            "text/plain": [
              "<Figure size 720x504 with 1 Axes>"
            ]
          },
          "metadata": {
            "needs_background": "light"
          },
          "output_type": "display_data"
        }
      ],
      "source": [
        "fig = plt.figure(figsize =(10, 7))\n",
        "plt.bar(np.arange(0, len(mean_importance_different_features_NN) , 1), mean_importance_different_features_NN)  ## gives the bar plot of feature importance values along the number of features in X-axis for Neural Network"
      ]
    },
    {
      "cell_type": "code",
      "execution_count": null,
      "metadata": {
        "colab": {
          "base_uri": "https://localhost:8080/"
        },
        "id": "YI-7Div2tstI",
        "outputId": "f6e0c810-4e4f-4019-cdec-820f52e4d1b0"
      },
      "outputs": [
        {
          "name": "stdout",
          "output_type": "stream",
          "text": [
            "optimal features for NN are :  ['pCASP9_N', 'TIAM1_N', 'GluR3_N', 'TRKA_N', 'APP_N']\n"
          ]
        }
      ],
      "source": [
        "optimal_features_NN = []\n",
        "optimal_index3 = np.argsort(mean_importance_different_features_NN)[-5 : ]       ## 5 most important features have been taken,  this variable gives the index values of 5 most important features\n",
        "for i in range(len(optimal_index3)):\n",
        "  optimal_features_NN.append(training_features.columns[optimal_index3[i]])\n",
        "print('optimal features for NN are : ' , optimal_features_NN)"
      ]
    },
    {
      "cell_type": "markdown",
      "metadata": {
        "id": "sK3KLYrTrKQP"
      },
      "source": [
        "Random Forest Binary Class classification"
      ]
    },
    {
      "cell_type": "code",
      "execution_count": null,
      "metadata": {
        "id": "E5D5zAsjQ3BD"
      },
      "outputs": [],
      "source": [
        "result_RF = permutation_importance( RF , training_features, y_train, n_repeats=5, random_state=0)"
      ]
    },
    {
      "cell_type": "code",
      "execution_count": null,
      "metadata": {
        "colab": {
          "base_uri": "https://localhost:8080/"
        },
        "id": "Pahb9iegufau",
        "outputId": "0373cd70-2fa6-4d55-c354-dce2bfcced82"
      },
      "outputs": [
        {
          "name": "stdout",
          "output_type": "stream",
          "text": [
            "Importance of different features are :  [ 5.24934383e-04 -1.57480315e-03 -5.24934383e-04  2.36220472e-03\n",
            " -2.62467192e-04  0.00000000e+00  1.04986877e-03  0.00000000e+00\n",
            "  0.00000000e+00  1.04986877e-03  0.00000000e+00  2.62467192e-04\n",
            "  0.00000000e+00  1.31233596e-03  0.00000000e+00  0.00000000e+00\n",
            "  0.00000000e+00  1.04986877e-03  2.62467192e-03  5.24934383e-03\n",
            " -2.36220472e-03  1.04986877e-03  7.87401575e-04  0.00000000e+00\n",
            "  7.87401575e-04  7.87401575e-04  2.92650919e-01  7.87401575e-04\n",
            "  3.14960630e-03  2.62467192e-03  0.00000000e+00  7.87401575e-04\n",
            " -1.04986877e-03  5.27559055e-02  1.65354331e-02  1.15485564e-02\n",
            "  0.00000000e+00  2.62467192e-04  0.00000000e+00  4.46194226e-03\n",
            "  0.00000000e+00  1.31233596e-03  1.39107612e-02  1.31233596e-03\n",
            "  3.93700787e-03  3.14960630e-03  4.72440945e-03  7.87401575e-04\n",
            "  3.67454068e-03  0.00000000e+00  0.00000000e+00  0.00000000e+00\n",
            "  2.62467192e-03  2.36220472e-03  1.41732283e-02  0.00000000e+00\n",
            "  0.00000000e+00  1.31233596e-03  3.14960630e-03  0.00000000e+00\n",
            "  0.00000000e+00  0.00000000e+00  0.00000000e+00  0.00000000e+00\n",
            "  0.00000000e+00  0.00000000e+00  0.00000000e+00]\n"
          ]
        }
      ],
      "source": [
        "mean_importance_different_features_RF = result_RF.importances_mean\n",
        "print('Importance of different features are : ' , mean_importance_different_features_RF)"
      ]
    },
    {
      "cell_type": "code",
      "execution_count": null,
      "metadata": {
        "colab": {
          "base_uri": "https://localhost:8080/",
          "height": 445
        },
        "id": "XYnwJ8eoufrk",
        "outputId": "75d0fa10-b9b4-4373-831f-99c2a07bd830"
      },
      "outputs": [
        {
          "data": {
            "text/plain": [
              "<BarContainer object of 67 artists>"
            ]
          },
          "execution_count": 111,
          "metadata": {},
          "output_type": "execute_result"
        },
        {
          "data": {
            "image/png": "[encoded data removed]",
            "text/plain": [
              "<Figure size 720x504 with 1 Axes>"
            ]
          },
          "metadata": {
            "needs_background": "light"
          },
          "output_type": "display_data"
        }
      ],
      "source": [
        "fig = plt.figure(figsize =(10, 7))\n",
        "plt.bar(np.arange(0, len(mean_importance_different_features_RF) , 1), mean_importance_different_features_RF)  ## gives the bar plot of feature importance values along the number of features in X-axis for Random Forest"
      ]
    },
    {
      "cell_type": "code",
      "execution_count": null,
      "metadata": {
        "colab": {
          "base_uri": "https://localhost:8080/"
        },
        "id": "be_PPcVAuf9W",
        "outputId": "87825d76-502e-4801-b560-324a1fd9bd94"
      },
      "outputs": [
        {
          "name": "stdout",
          "output_type": "stream",
          "text": [
            "optimal features for Random Forest are :  ['APP_N']\n"
          ]
        }
      ],
      "source": [
        "optimal_features_RF = []\n",
        "optimal_index4 = np.argsort(mean_importance_different_features_RF)[-1 : ]    ##  most important feature has been taken, RFECV also gives number of optimal feature is 1 , this variable gives the index values of most important feature\n",
        "for i in range(len(optimal_index4)):\n",
        "  optimal_features_RF.append(training_features.columns[optimal_index4[i]])\n",
        "print('optimal features for Random Forest are : ' , optimal_features_RF)"
      ]
    },
    {
      "cell_type": "markdown",
      "metadata": {
        "id": "cmy0XdPSrvRy"
      },
      "source": [
        "Linear SVM multiclass classification"
      ]
    },
    {
      "cell_type": "code",
      "execution_count": null,
      "metadata": {
        "id": "TdBP1MEmqqE8"
      },
      "outputs": [],
      "source": [
        "result_Linear_SVM_multiclass = permutation_importance( Linear_SVM_multiclass , training_features, y_train_multiclass, n_repeats=5, random_state=0)"
      ]
    },
    {
      "cell_type": "code",
      "execution_count": null,
      "metadata": {
        "colab": {
          "base_uri": "https://localhost:8080/"
        },
        "id": "Lc_5s5EvwzME",
        "outputId": "e1f39950-2dfd-40c8-b756-bc69d6e98d43"
      },
      "outputs": [
        {
          "name": "stdout",
          "output_type": "stream",
          "text": [
            "Importance of different features are :  [0.00603675 0.00209974 0.00682415 0.03858268 0.0007874  0.00682415\n",
            " 0.10918635 0.00761155 0.00262467 0.00104987 0.0023622  0.\n",
            " 0.00419948 0.00262467 0.06325459 0.0007874  0.00708661 0.02808399\n",
            " 0.00131234 0.00393701 0.03700787 0.01286089 0.         0.00446194\n",
            " 0.02125984 0.00629921 0.03385827 0.01364829 0.02650919 0.00209974\n",
            " 0.00209974 0.00288714 0.00997375 0.00026247 0.         0.01889764\n",
            " 0.00393701 0.0023622  0.00131234 0.00603675 0.00734908 0.0007874\n",
            " 0.00839895 0.00577428 0.03044619 0.         0.0015748  0.00052493\n",
            " 0.00288714 0.         0.00104987 0.03490814 0.00052493 0.0023622\n",
            " 0.00183727 0.00052493 0.02204724 0.0007874  0.02257218 0.\n",
            " 0.0023622  0.03490814 0.04461942 0.00052493 0.00026247 0.00104987\n",
            " 0.03884514]\n"
          ]
        }
      ],
      "source": [
        "mean_importance_different_features_Linear_SVM_multiclass = result_Linear_SVM_multiclass.importances_mean\n",
        "print('Importance of different features are : ' , mean_importance_different_features_Linear_SVM_multiclass)"
      ]
    },
    {
      "cell_type": "code",
      "execution_count": null,
      "metadata": {
        "colab": {
          "base_uri": "https://localhost:8080/",
          "height": 445
        },
        "id": "JD4U1nkMwzXz",
        "outputId": "11b445b4-960a-497e-d552-f15c38678b35"
      },
      "outputs": [
        {
          "data": {
            "text/plain": [
              "<BarContainer object of 67 artists>"
            ]
          },
          "execution_count": 115,
          "metadata": {},
          "output_type": "execute_result"
        },
        {
          "data": {
            "image/png": "[encoded data removed]",
            "text/plain": [
              "<Figure size 720x504 with 1 Axes>"
            ]
          },
          "metadata": {
            "needs_background": "light"
          },
          "output_type": "display_data"
        }
      ],
      "source": [
        "fig = plt.figure(figsize =(10, 7))\n",
        "plt.bar(np.arange(0, len(mean_importance_different_features_Linear_SVM_multiclass) , 1), mean_importance_different_features_Linear_SVM_multiclass)  ## gives the bar plot of feature importance values along the number of features in X-axis for Linear SVM"
      ]
    },
    {
      "cell_type": "code",
      "execution_count": null,
      "metadata": {
        "colab": {
          "base_uri": "https://localhost:8080/"
        },
        "id": "O085e4Vxwzjc",
        "outputId": "591e86f2-844c-4d56-c584-bef31095d2a2"
      },
      "outputs": [
        {
          "name": "stdout",
          "output_type": "stream",
          "text": [
            "optimal features for Linear_SVM_multiclass are :  ['RAPTOR_N', 'ELK_N', 'pNR2A_N', 'MEK_N', 'CDK5_N', 'DYRK1A_N', 'NUMB_N', 'RSK_N', 'NR1_N', 'pBRAF_N', 'AKT_N', 'P70S6_N', 'pCREB_N', 'pPKCG_N', 'DSCR1_N', 'GSK3B_N', 'Bcatenin_N', 'pNUMB_N', 'TRKA_N', 'IL1B_N', 'pCASP9_N', 'SOD1_N', 'CAMKII_N', 'S6_N', 'APP_N', 'Ubiquitin_N', 'nNOS_N', 'ERK_N', 'NR2A_N', 'CaNA_N', 'pGSK3B_Tyr216_N', 'pPKCAB_N', 'pCAMKII_N']\n"
          ]
        }
      ],
      "source": [
        "optimal_features_Linear_SVM_multiclass = []\n",
        "optimal_index5 = np.argsort(mean_importance_different_features_Linear_SVM_multiclass)[-33 : ]   ##  most important 33 features have been taken, RFECV also gives number of optimal feature is 33 , this variable gives the index values of 33 most important features\n",
        "for i in range(len(optimal_index5)):\n",
        "  optimal_features_Linear_SVM_multiclass.append(training_features.columns[optimal_index5[i]])\n",
        "print('optimal features for Linear_SVM_multiclass are : ' , optimal_features_Linear_SVM_multiclass)"
      ]
    },
    {
      "cell_type": "markdown",
      "metadata": {
        "id": "Q5raMFVZsZdI"
      },
      "source": [
        "SVM with RBF kernel for multiclass classification"
      ]
    },
    {
      "cell_type": "code",
      "execution_count": null,
      "metadata": {
        "id": "2MCA5Sq8q2iy"
      },
      "outputs": [],
      "source": [
        "result_RBF_SVM_multiclass = permutation_importance( RBF_SVM_multiclass , training_features, y_train_multiclass, n_repeats=5, random_state=0)"
      ]
    },
    {
      "cell_type": "code",
      "execution_count": null,
      "metadata": {
        "colab": {
          "base_uri": "https://localhost:8080/"
        },
        "id": "PXww4I3_xsi3",
        "outputId": "0e2eb290-2973-4733-c55e-394ffe90d840"
      },
      "outputs": [
        {
          "name": "stdout",
          "output_type": "stream",
          "text": [
            "Importance of different features are :  [0.0007874  0.00577428 0.00209974 0.01259843 0.         0.0007874\n",
            " 0.09737533 0.00524934 0.         0.00209974 0.00104987 0.\n",
            " 0.00314961 0.00183727 0.05406824 0.         0.00262467 0.02257218\n",
            " 0.         0.00314961 0.01233596 0.00183727 0.         0.00524934\n",
            " 0.01154856 0.00498688 0.02388451 0.00393701 0.02125984 0.00341207\n",
            " 0.00209974 0.00104987 0.00419948 0.         0.         0.0144357\n",
            " 0.00209974 0.00367454 0.00026247 0.00892388 0.00866142 0.\n",
            " 0.01076115 0.00446194 0.02152231 0.00183727 0.         0.\n",
            " 0.0023622  0.         0.00131234 0.02860892 0.00262467 0.00209974\n",
            " 0.00419948 0.         0.01732283 0.00026247 0.01784777 0.\n",
            " 0.00577428 0.03254593 0.02020997 0.00104987 0.         0.00026247\n",
            " 0.02309711]\n"
          ]
        }
      ],
      "source": [
        "mean_importance_different_features_RBF_SVM_multiclass = result_RBF_SVM_multiclass.importances_mean\n",
        "print('Importance of different features are : ' , mean_importance_different_features_RBF_SVM_multiclass)"
      ]
    },
    {
      "cell_type": "code",
      "execution_count": null,
      "metadata": {
        "colab": {
          "base_uri": "https://localhost:8080/",
          "height": 445
        },
        "id": "yv595ktvxsxO",
        "outputId": "be9dd36b-6c34-48cf-bfda-b5cd87187026"
      },
      "outputs": [
        {
          "data": {
            "text/plain": [
              "<BarContainer object of 67 artists>"
            ]
          },
          "execution_count": 119,
          "metadata": {},
          "output_type": "execute_result"
        },
        {
          "data": {
            "image/png": "[encoded data removed]",
            "text/plain": [
              "<Figure size 720x504 with 1 Axes>"
            ]
          },
          "metadata": {
            "needs_background": "light"
          },
          "output_type": "display_data"
        }
      ],
      "source": [
        "fig = plt.figure(figsize =(10, 7))\n",
        "plt.bar(np.arange(0, len(mean_importance_different_features_RBF_SVM_multiclass) , 1), mean_importance_different_features_RBF_SVM_multiclass)  ## gives the bar plot of feature importance values along the number of features in X-axis for RBF SVM"
      ]
    },
    {
      "cell_type": "code",
      "execution_count": null,
      "metadata": {
        "colab": {
          "base_uri": "https://localhost:8080/"
        },
        "id": "DrPLVkVvxtEe",
        "outputId": "ee561c87-4daa-4df2-af55-13d2e09a7c39"
      },
      "outputs": [
        {
          "name": "stdout",
          "output_type": "stream",
          "text": [
            "optimal features for RBF_SVM_multiclass are :  ['BDNF_N', 'P70S6_N', 'NUMB_N', 'pPKCG_N', 'TRKA_N', 'ERK_N', 'NR2A_N', 'pNUMB_N', 'IL1B_N', 'pCASP9_N', 'pGSK3B_Tyr216_N', 'SOD1_N', 'S6_N', 'CAMKII_N', 'CaNA_N', 'APP_N', 'nNOS_N', 'Ubiquitin_N', 'pPKCAB_N', 'pCAMKII_N']\n"
          ]
        }
      ],
      "source": [
        "optimal_features_RBF_SVM_multiclass = []\n",
        "optimal_index6 = np.argsort(mean_importance_different_features_RBF_SVM_multiclass)[-20 : ]  ##  most important 20 features have been taken, this variable gives the index values of 20 most important features\n",
        "for i in range(len(optimal_index6)):\n",
        "  optimal_features_RBF_SVM_multiclass.append(training_features.columns[optimal_index6[i]])\n",
        "print('optimal features for RBF_SVM_multiclass are : ' , optimal_features_RBF_SVM_multiclass)"
      ]
    },
    {
      "cell_type": "markdown",
      "metadata": {
        "id": "atZrePU6s_rN"
      },
      "source": [
        "Neural Network for multiclass classification"
      ]
    },
    {
      "cell_type": "code",
      "execution_count": null,
      "metadata": {
        "id": "kOGbnHWCq7IZ"
      },
      "outputs": [],
      "source": [
        "result_NN_multiclass = permutation_importance( NN_multiclass , training_features, y_train_multiclass, n_repeats=5, random_state=0)"
      ]
    },
    {
      "cell_type": "code",
      "execution_count": null,
      "metadata": {
        "colab": {
          "base_uri": "https://localhost:8080/"
        },
        "id": "dw8EzikkymTT",
        "outputId": "3ba7ec0b-c7b8-4add-f0a5-2f9ae386a519"
      },
      "outputs": [
        {
          "name": "stdout",
          "output_type": "stream",
          "text": [
            "Importance of different features are :  [0.00446194 0.02677165 0.00183727 0.01994751 0.         0.0007874\n",
            " 0.16902887 0.00787402 0.00262467 0.00866142 0.01049869 0.\n",
            " 0.00183727 0.00026247 0.1175853  0.0007874  0.00577428 0.0312336\n",
            " 0.         0.00026247 0.05223097 0.00918635 0.         0.00446194\n",
            " 0.01076115 0.00629921 0.04278215 0.00367454 0.03333333 0.\n",
            " 0.00367454 0.         0.00393701 0.00131234 0.         0.01942257\n",
            " 0.00209974 0.00577428 0.         0.00577428 0.00367454 0.00314961\n",
            " 0.00393701 0.00026247 0.05538058 0.         0.00104987 0.00026247\n",
            " 0.0015748  0.00183727 0.         0.03832021 0.00026247 0.01154856\n",
            " 0.00629921 0.         0.03228346 0.0023622  0.03674541 0.00131234\n",
            " 0.00524934 0.05538058 0.03595801 0.         0.         0.\n",
            " 0.14671916]\n"
          ]
        }
      ],
      "source": [
        "mean_importance_different_features_NN_multiclass = result_NN_multiclass.importances_mean\n",
        "print('Importance of different features are : ' , mean_importance_different_features_NN_multiclass)"
      ]
    },
    {
      "cell_type": "code",
      "execution_count": null,
      "metadata": {
        "colab": {
          "base_uri": "https://localhost:8080/",
          "height": 445
        },
        "id": "ilTO4RB6yx04",
        "outputId": "7286364f-bd47-479f-a493-80ff2a66ec4a"
      },
      "outputs": [
        {
          "data": {
            "text/plain": [
              "<BarContainer object of 67 artists>"
            ]
          },
          "execution_count": 123,
          "metadata": {},
          "output_type": "execute_result"
        },
        {
          "data": {
            "image/png": "[encoded data removed]",
            "text/plain": [
              "<Figure size 720x504 with 1 Axes>"
            ]
          },
          "metadata": {
            "needs_background": "light"
          },
          "output_type": "display_data"
        }
      ],
      "source": [
        "fig = plt.figure(figsize =(10, 7))\n",
        "plt.bar(np.arange(0, len(mean_importance_different_features_NN_multiclass) , 1), mean_importance_different_features_NN_multiclass)    ## gives the bar plot of feature importance values along the number of features in X-axis for Neural Network"
      ]
    },
    {
      "cell_type": "code",
      "execution_count": null,
      "metadata": {
        "colab": {
          "base_uri": "https://localhost:8080/"
        },
        "id": "emEokashyyEJ",
        "outputId": "fe1150cf-b4b1-4627-f608-8233daffc25b"
      },
      "outputs": [
        {
          "name": "stdout",
          "output_type": "stream",
          "text": [
            "optimal features for NN_multiclass are :  ['NUMB_N', 'RSK_N', 'GluR3_N', 'pCREB_N', 'pJNK_N', 'GSK3B_N', 'PKCA_N', 'TRKA_N', 'GFAP_N', 'pNUMB_N', 'NR2A_N', 'BDNF_N', 'CAMKII_N', 'IL1B_N', 'SOD1_N', 'pGSK3B_Tyr216_N', 'pCASP9_N', 'nNOS_N', 'APP_N', 'ERK_N', 'S6_N', 'Ubiquitin_N', 'pPKCAB_N', 'CaNA_N', 'pCAMKII_N']\n"
          ]
        }
      ],
      "source": [
        "optimal_features_NN_multiclass = []\n",
        "optimal_index7 = np.argsort(mean_importance_different_features_NN_multiclass)[-25 : ]       ##  most important 25 features have been taken, this variable gives the index values of 25 most important features\n",
        "for i in range(len(optimal_index7)):\n",
        "  optimal_features_NN_multiclass.append(training_features.columns[optimal_index7[i]])\n",
        "print('optimal features for NN_multiclass are : ' , optimal_features_NN_multiclass)"
      ]
    },
    {
      "cell_type": "markdown",
      "metadata": {
        "id": "JB0TuMZ1ta2i"
      },
      "source": [
        "Random Forest for multiclass classification"
      ]
    },
    {
      "cell_type": "code",
      "execution_count": null,
      "metadata": {
        "id": "LjqgTrvMrQMj"
      },
      "outputs": [],
      "source": [
        "result_RF_multiclass = permutation_importance( RF_multiclass , training_features, y_train_multiclass, n_repeats=5, random_state=0)"
      ]
    },
    {
      "cell_type": "code",
      "execution_count": null,
      "metadata": {
        "colab": {
          "base_uri": "https://localhost:8080/"
        },
        "id": "gk9T0CI-zUu2",
        "outputId": "6435807d-de67-4a71-a78e-680f40179606"
      },
      "outputs": [
        {
          "name": "stdout",
          "output_type": "stream",
          "text": [
            "Importance of different features are :  [0.         0.         0.         0.         0.         0.\n",
            " 0.         0.         0.         0.         0.         0.\n",
            " 0.         0.         0.         0.         0.         0.\n",
            " 0.         0.         0.         0.         0.         0.\n",
            " 0.         0.         0.         0.         0.00052493 0.\n",
            " 0.         0.         0.         0.         0.         0.\n",
            " 0.         0.         0.         0.         0.         0.\n",
            " 0.         0.         0.         0.         0.         0.\n",
            " 0.         0.         0.         0.         0.         0.\n",
            " 0.         0.         0.         0.         0.         0.\n",
            " 0.         0.         0.         0.         0.         0.\n",
            " 0.        ]\n"
          ]
        }
      ],
      "source": [
        "mean_importance_different_features_RF_multiclass = result_RF_multiclass.importances_mean\n",
        "print('Importance of different features are : ' , mean_importance_different_features_RF_multiclass)"
      ]
    },
    {
      "cell_type": "code",
      "execution_count": null,
      "metadata": {
        "colab": {
          "base_uri": "https://localhost:8080/",
          "height": 445
        },
        "id": "RTtkqRuHzU9d",
        "outputId": "550b1cd8-1f4e-4ce5-f916-a8ca2d9be4e8"
      },
      "outputs": [
        {
          "data": {
            "text/plain": [
              "<BarContainer object of 67 artists>"
            ]
          },
          "execution_count": 197,
          "metadata": {},
          "output_type": "execute_result"
        },
        {
          "data": {
            "image/png": "[encoded data removed]",
            "text/plain": [
              "<Figure size 720x504 with 1 Axes>"
            ]
          },
          "metadata": {
            "needs_background": "light"
          },
          "output_type": "display_data"
        }
      ],
      "source": [
        "fig = plt.figure(figsize =(10, 7))\n",
        "plt.bar(np.arange(0, len(mean_importance_different_features_RF_multiclass) , 1), mean_importance_different_features_RF_multiclass)        ## gives the bar plot of feature importance values along the number of features in X-axis for Random Forest"
      ]
    },
    {
      "cell_type": "code",
      "execution_count": null,
      "metadata": {
        "colab": {
          "base_uri": "https://localhost:8080/"
        },
        "id": "7DWVf4tXzVVB",
        "outputId": "80de704c-460f-4619-c7ca-edc146deae15"
      },
      "outputs": [
        {
          "name": "stdout",
          "output_type": "stream",
          "text": [
            "optimal features for RF_multiclass are :  ['CaNA_N']\n"
          ]
        }
      ],
      "source": [
        "optimal_features_RF_multiclass = []\n",
        "optimal_index8 = np.argsort(mean_importance_different_features_RF_multiclass)[-1 : ]          ##  most important feature has been taken, RFECV also gives number of optimal feature is 1 , this variable gives the index values of most important feature\n",
        "for i in range(len(optimal_index8)):\n",
        "  optimal_features_RF_multiclass.append(training_features.columns[optimal_index8[i]])     \n",
        "print('optimal features for RF_multiclass are : ' , optimal_features_RF_multiclass)"
      ]
    },
    {
      "cell_type": "markdown",
      "metadata": {
        "id": "7QVPj83erY3E"
      },
      "source": [
        "Question 7 : Feature Elimination using Recursive Feature Elimination"
      ]
    },
    {
      "cell_type": "markdown",
      "metadata": {
        "id": "SUtT2j3-FoGT"
      },
      "source": [
        "Linear_SVM Feature Selection"
      ]
    },
    {
      "cell_type": "code",
      "execution_count": null,
      "metadata": {
        "id": "xTyy0A0pxonL"
      },
      "outputs": [],
      "source": [
        "Linear_SVM_selector = RFECV(Linear_SVM, step=1, cv=5)     ## 5 cross-validation has been used and in one time only one feature will be eliminated\n",
        "Linear_SVM_selector = Linear_SVM_selector.fit(training_features , y_train)\n",
        "Linear_SVM_feature_ranking = list(Linear_SVM_selector.ranking_)"
      ]
    },
    {
      "cell_type": "code",
      "execution_count": null,
      "metadata": {
        "colab": {
          "base_uri": "https://localhost:8080/"
        },
        "id": "p_TEV0bwx6Hs",
        "outputId": "96d44db0-e43a-4db5-81de-d76a8154bcd5"
      },
      "outputs": [
        {
          "data": {
            "text/plain": [
              "array([ 8,  1,  1, 25,  5, 18, 13, 30, 26, 43, 21, 34,  2,  1,  3,  6, 44,\n",
              "       31, 47,  1,  1, 45, 42, 33,  1, 14,  1, 19, 27,  1, 12, 29,  1,  1,\n",
              "        1,  1, 24,  1, 11,  1,  1, 32,  1, 46, 39, 15,  7, 38, 28, 40,  1,\n",
              "       22, 20, 48,  1, 36,  4, 10,  1, 17, 23,  9, 16, 37, 41,  1, 35])"
            ]
          },
          "execution_count": 135,
          "metadata": {},
          "output_type": "execute_result"
        }
      ],
      "source": [
        "np.array(Linear_SVM_feature_ranking)                   ## gives the ranking of diffrent features"
      ]
    },
    {
      "cell_type": "code",
      "execution_count": null,
      "metadata": {
        "colab": {
          "base_uri": "https://localhost:8080/"
        },
        "id": "Y7wIlnwA00t4",
        "outputId": "10d264d6-a422-4414-8f3d-29c6df182de1"
      },
      "outputs": [
        {
          "name": "stdout",
          "output_type": "stream",
          "text": [
            "accuracy with eliminating 1-feature at each step :  [0.74014448 0.78596491 0.7873495  0.78860509 0.76488648 0.80565015\n",
            " 0.8253354  0.79394565 0.80439456 0.81620227 0.81094771 0.80699174\n",
            " 0.80438596 0.79782422 0.80175439 0.81358789 0.81095631 0.82148263\n",
            " 0.82935157 0.83067595 0.81754386 0.81886825 0.80573615 0.81362229\n",
            " 0.80704334 0.81360509 0.81622807 0.8122721  0.81623667 0.82146543\n",
            " 0.82145683 0.81884245 0.80964912 0.81358789 0.81881665 0.81093911\n",
            " 0.80569315 0.8004558  0.80306158 0.79782422 0.79126247 0.8004558\n",
            " 0.79782422 0.79519264 0.79912281 0.79256106 0.78993808 0.78993808\n",
            " 0.7873323  0.78994668 0.78601651 0.78338493 0.78600791 0.79126247\n",
            " 0.79126247 0.78865669 0.78995528 0.7873495  0.78603371 0.7873495\n",
            " 0.79128827 0.78997248 0.78997248 0.78865669 0.78996388 0.79127107\n",
            " 0.79127107]\n",
            "best cross-validation accuracy score with optimal number of features :  0.8306759545923633\n"
          ]
        }
      ],
      "source": [
        "print('accuracy with eliminating 1-feature at each step : ' , Linear_SVM_selector.cv_results_['mean_test_score'])\n",
        "print('best cross-validation accuracy score with optimal number of features : ' , max(Linear_SVM_selector.cv_results_['mean_test_score']))"
      ]
    },
    {
      "cell_type": "code",
      "execution_count": null,
      "metadata": {
        "colab": {
          "base_uri": "https://localhost:8080/"
        },
        "id": "-vY0YsMY00_o",
        "outputId": "54c19bd0-4d9c-4e2a-8bc8-fd202b47fc35"
      },
      "outputs": [
        {
          "name": "stdout",
          "output_type": "stream",
          "text": [
            "number of important features using RFECV are :  20\n",
            "optimal features using RFECV are :  ['BDNF_N', 'NR1_N', 'pNR2B_N', 'ELK_N', 'ERK_N', 'TRKA_N', 'APP_N', 'MTOR_N', 'DSCR1_N', 'AMPKA_N', 'NR2B_N', 'pNUMB_N', 'TIAM1_N', 'NUMB_N', 'P70S6_N', 'pPKCG_N', 'ERBB4_N', 'GluR3_N', 'pCASP9_N', 'SYP_N']\n"
          ]
        }
      ],
      "source": [
        "print('number of important features using RFECV are : ' , Linear_SVM_selector.n_features_)\n",
        "most_important_features_Linear_SVM = []\n",
        "for i in range(len(training_features.columns)):                ## i iterates through the number of training features\n",
        "  if Linear_SVM_selector.support_[i] :\n",
        "    most_important_features_Linear_SVM.append(training_features.columns[i])\n",
        "print('optimal features using RFECV are : ' , most_important_features_Linear_SVM)"
      ]
    },
    {
      "cell_type": "markdown",
      "metadata": {
        "id": "4ZB4qge0xYnI"
      },
      "source": [
        "This code block is written based on eliminating least 10 important features according to the feature ranking in each iteration and stores the cross-validation score after elinating 10 features in each iteration step "
      ]
    },
    {
      "cell_type": "code",
      "execution_count": null,
      "metadata": {
        "colab": {
          "base_uri": "https://localhost:8080/"
        },
        "id": "W8FOh6t3bWUW",
        "outputId": "9471513f-a5f9-4a47-8de5-90b35777cab6"
      },
      "outputs": [
        {
          "name": "stdout",
          "output_type": "stream",
          "text": [
            "How many times classifier will be trained on different number of features : 6\n",
            "How many features remove after each iteration : 10\n"
          ]
        }
      ],
      "source": [
        "number_of_iterations = int(input('How many times classifier will be trained on different number of features : '))\n",
        "number_of_features_removed_after_each_iteration = int(input('How many features remove after each iteration : '))\n",
        "accuracy_score_after_each_iteration = []\n",
        "removed_features_after_each_iteration = [ [] for _ in range( number_of_iterations)]\n",
        "important_features = [ [] for _ in range( number_of_iterations)]\n",
        "remaining_features_after_each_iteration = training_features\n",
        "for i in range(number_of_iterations):                                                                                               ## i iterates through the iteration number\n",
        "  removed_features_index = np.argsort(np.array(Linear_SVM_feature_ranking))[-number_of_features_removed_after_each_iteration : ]    ## gives the removed features index in each iteration\n",
        "  removed_features_rankings = [Linear_SVM_feature_ranking[k] for k in removed_features_index]                                       ## stores the removed features ranking after the iteration\n",
        "  for j in range(number_of_features_removed_after_each_iteration):                                                                  ## j iterates throught the number of removing features\n",
        "    removed_features_after_each_iteration[i].append(remaining_features_after_each_iteration.columns[removed_features_index[j]])\n",
        "    Linear_SVM_feature_ranking.remove(removed_features_rankings[j])\n",
        "  remaining_features_after_each_iteration = remaining_features_after_each_iteration.drop(removed_features_after_each_iteration[i] , axis = 1)      ## remove the 10 least important features from the dataframe\n",
        "  important_features[i].append(remaining_features_after_each_iteration.columns)                                                    ## this variable stores all the remaining features after a iteration\n",
        "  Linear_SVM_result1 , best_parameter_linear_SVM1 , best_score_linear_SVM1 = Linear_SVM(remaining_features_after_each_iteration, y_train)\n",
        "  accuracy_score_after_each_iteration.append(best_score_linear_SVM1)                                                               ## stores the best cross-validation accuracy score after eliminating 10 features in each iteration"
      ]
    },
    {
      "cell_type": "code",
      "execution_count": null,
      "metadata": {
        "colab": {
          "base_uri": "https://localhost:8080/"
        },
        "id": "65xZTXXKZNvI",
        "outputId": "be9209a3-1289-466f-b4df-a053d6c7cfca"
      },
      "outputs": [
        {
          "data": {
            "text/plain": [
              "[0.8201238390092879,\n",
              " 0.8490196078431372,\n",
              " 0.8687134502923977,\n",
              " 0.8883900928792569,\n",
              " 0.8622291021671826,\n",
              " 0.6563295493636051]"
            ]
          },
          "execution_count": 394,
          "metadata": {},
          "output_type": "execute_result"
        }
      ],
      "source": [
        "accuracy_score_after_each_iteration"
      ]
    },
    {
      "cell_type": "markdown",
      "metadata": {
        "id": "JzjzV6N6Zv0G"
      },
      "source": [
        "Random Forest Feature Selection"
      ]
    },
    {
      "cell_type": "code",
      "execution_count": null,
      "metadata": {
        "id": "GA-f3nMGsaT5"
      },
      "outputs": [],
      "source": [
        "RF_selector = RFECV(RF, step=1, cv=5 , importance_getter='auto')\n",
        "RF_selector = RF_selector.fit(training_features , y_train)   ## fit on training features and training labels with 5 cross-validation\n",
        "RF_feature_ranking = list(RF_selector.ranking_)"
      ]
    },
    {
      "cell_type": "code",
      "execution_count": null,
      "metadata": {
        "colab": {
          "base_uri": "https://localhost:8080/"
        },
        "id": "O0bU5uLqx6Nb",
        "outputId": "82337560-c8a2-4a0f-bba4-ba169eb19040"
      },
      "outputs": [
        {
          "data": {
            "text/plain": [
              "array([25, 20, 10, 29, 11, 41, 48, 42, 35, 33, 59, 61, 52, 54, 26, 51, 60,\n",
              "       19, 22,  7, 14, 23, 40, 62, 24, 57,  1, 49, 12,  5, 34, 17, 21,  2,\n",
              "        4,  8, 58, 39, 38, 32, 47, 30,  6, 67, 18, 13, 27, 46, 15, 43, 31,\n",
              "       56,  9, 16,  3, 45, 64, 50, 36, 53, 44, 55, 63, 37, 66, 28, 65])"
            ]
          },
          "execution_count": 139,
          "metadata": {},
          "output_type": "execute_result"
        }
      ],
      "source": [
        "np.array(RF_feature_ranking)                                ## shows the features ranking by using Random Forest"
      ]
    },
    {
      "cell_type": "code",
      "execution_count": null,
      "metadata": {
        "colab": {
          "base_uri": "https://localhost:8080/"
        },
        "id": "nQ7JIHu4Ceu3",
        "outputId": "bce39a2b-8cf1-42c7-a108-efbfd45862e7"
      },
      "outputs": [
        {
          "name": "stdout",
          "output_type": "stream",
          "text": [
            "accuracy with eliminating 1-feature at each step :  [0.72841417 0.71395769 0.68644651 0.674656   0.67726178 0.66682147\n",
            " 0.6747076  0.67210182 0.69167527 0.70612315 0.70214998 0.71786206\n",
            " 0.69821121 0.69430685 0.69299106 0.71528208 0.72571379 0.6877279\n",
            " 0.70208118 0.70606295 0.69816821 0.69029068 0.69426385 0.69297386\n",
            " 0.69298246 0.6877193  0.69296526 0.69562264 0.6995528  0.6995012\n",
            " 0.70216718 0.69691262 0.7126333  0.69556244 0.70471276 0.68114895\n",
            " 0.69821121 0.69296526 0.69559684 0.70087719 0.69164087 0.70739594\n",
            " 0.70342277 0.69557964 0.69431545 0.71394909 0.70344857 0.69294806\n",
            " 0.71129171 0.69427245 0.699527   0.71001032 0.70477296 0.69689542\n",
            " 0.70084279 0.68903509 0.69428965 0.71919505 0.70216718 0.69821121\n",
            " 0.70601995 0.70872893 0.70735294 0.71527348 0.69823701 0.69563123\n",
            " 0.71001032]\n",
            "best cross-validation accuracy score with optimal number of features :  0.7284141726866185\n"
          ]
        }
      ],
      "source": [
        "print('accuracy with eliminating 1-feature at each step : ' , RF_selector.cv_results_['mean_test_score'])\n",
        "print('best cross-validation accuracy score with optimal number of features : ' , max(RF_selector.cv_results_['mean_test_score']))"
      ]
    },
    {
      "cell_type": "code",
      "execution_count": null,
      "metadata": {
        "colab": {
          "base_uri": "https://localhost:8080/"
        },
        "id": "ksKL5perCe-h",
        "outputId": "416dc816-edb2-444f-8059-70088e53e6bc"
      },
      "outputs": [
        {
          "name": "stdout",
          "output_type": "stream",
          "text": [
            "number of important features using RFECV are :  1\n",
            "optimal features using RFECV are :  ['APP_N']\n"
          ]
        }
      ],
      "source": [
        "print('number of important features using RFECV are : ' , RF_selector.n_features_)\n",
        "most_important_features_RF = []\n",
        "for i in range(len(training_features.columns)):\n",
        "  if RF_selector.support_[i] :\n",
        "    most_important_features_RF.append(training_features.columns[i])\n",
        "print('optimal features using RFECV are : ' , most_important_features_RF)"
      ]
    },
    {
      "cell_type": "markdown",
      "metadata": {
        "id": "dSYm-YT-z4KJ"
      },
      "source": [
        "This code block is written based on eliminating least 10 important features according to the feature ranking in each iteration and stores the cross-validation score after elinating 10 features in each iteration step ...The same procedure has been followed up like Linear SVM"
      ]
    },
    {
      "cell_type": "code",
      "execution_count": null,
      "metadata": {
        "id": "iHSX3CAGx6Sj"
      },
      "outputs": [],
      "source": [
        "accuracy_score_after_each_iteration = []\n",
        "removed_features_after_each_iteration = [ [] for _ in range( number_of_iterations)]\n",
        "important_features = [ [] for _ in range( number_of_iterations)]\n",
        "remaining_features_after_each_iteration = training_features\n",
        "for i in range(number_of_iterations):\n",
        "  removed_features_index = np.argsort(np.array(RF_feature_ranking))[-number_of_features_removed_after_each_iteration : ]\n",
        "  removed_features_rankings = [RF_feature_ranking[k] for k in removed_features_index]\n",
        "  for j in range(number_of_features_removed_after_each_iteration):\n",
        "    removed_features_after_each_iteration[i].append(remaining_features_after_each_iteration.columns[removed_features_index[j]])\n",
        "    RF_feature_ranking.remove(removed_features_rankings[j])\n",
        "  remaining_features_after_each_iteration = remaining_features_after_each_iteration.drop(removed_features_after_each_iteration[i] , axis = 1)\n",
        "  important_features[i].append(remaining_features_after_each_iteration.columns)\n",
        "  RF_result1 , best_parameter_RF1 , best_score_RF1 = Random_Forest(remaining_features_after_each_iteration, y_train)\n",
        "  accuracy_score_after_each_iteration.append(best_score_RF1)"
      ]
    },
    {
      "cell_type": "code",
      "execution_count": null,
      "metadata": {
        "colab": {
          "base_uri": "https://localhost:8080/"
        },
        "id": "SlMHoZJ04C5_",
        "outputId": "ffb36e85-7b3a-431a-f254-1bea815289c7"
      },
      "outputs": [
        {
          "data": {
            "text/plain": [
              "[0.7112831097351221,\n",
              " 0.7048073615411077,\n",
              " 0.7204764361885105,\n",
              " 0.7440832473340213,\n",
              " 0.7782937736498108,\n",
              " 0.7952184382524939]"
            ]
          },
          "execution_count": 396,
          "metadata": {},
          "output_type": "execute_result"
        }
      ],
      "source": [
        "accuracy_score_after_each_iteration"
      ]
    },
    {
      "cell_type": "markdown",
      "metadata": {
        "id": "P2uWkOmvcnC4"
      },
      "source": [
        "Linear SVM multiclass feature selection"
      ]
    },
    {
      "cell_type": "code",
      "execution_count": null,
      "metadata": {
        "id": "oEmc-29Y4Ii_"
      },
      "outputs": [],
      "source": [
        "Linear_SVM_multiclass_selector = RFECV(Linear_SVM_multiclass, step=1, cv=5 , importance_getter='auto')\n",
        "Linear_SVM_multiclass_selector = Linear_SVM_multiclass_selector.fit(training_features , y_train_multiclass)  ## fit on training features and training labels with 5 cross-validation\n",
        "Linear_SVM_multiclass_feature_ranking = list(Linear_SVM_multiclass_selector.ranking_)"
      ]
    },
    {
      "cell_type": "code",
      "execution_count": null,
      "metadata": {
        "colab": {
          "base_uri": "https://localhost:8080/"
        },
        "id": "SuhU6pzl4PMa",
        "outputId": "a7cdbb3d-3e17-4d56-c090-167be47b259c"
      },
      "outputs": [
        {
          "data": {
            "text/plain": [
              "array([ 3, 15,  9,  1, 27,  4,  1, 10,  1,  1, 18, 32,  1,  8,  1, 28,  1,\n",
              "        1, 14, 21,  1,  1, 31, 12,  1,  1,  1,  1,  1,  1,  1,  7,  1, 30,\n",
              "       34,  1, 16,  1, 19,  1,  1, 22,  1, 11,  1, 20, 23,  6,  1, 17, 35,\n",
              "        1,  1,  1,  1, 25,  5,  1,  2, 29, 13,  1,  1, 24, 33, 26,  1])"
            ]
          },
          "execution_count": 144,
          "metadata": {},
          "output_type": "execute_result"
        }
      ],
      "source": [
        "np.array(Linear_SVM_multiclass_feature_ranking)     ## gives the feature ranking of diffrent features for Linear_SVM_multiclass model"
      ]
    },
    {
      "cell_type": "code",
      "execution_count": null,
      "metadata": {
        "colab": {
          "base_uri": "https://localhost:8080/"
        },
        "id": "2lHA2dyfFnbP",
        "outputId": "9e7bf7c4-3f02-44bb-97b7-2e7dab3cbc3a"
      },
      "outputs": [
        {
          "name": "stdout",
          "output_type": "stream",
          "text": [
            "accuracy with eliminating 1-feature at each step :  [0.549871   0.59052288 0.59443584 0.64420365 0.68894049 0.66125731\n",
            " 0.66648607 0.67174063 0.67699518 0.68097695 0.69673203 0.69672343\n",
            " 0.7256192  0.71906605 0.73089955 0.74797902 0.74011008 0.73480392\n",
            " 0.7374527  0.73356553 0.75326797 0.75589955 0.7624871  0.76776746\n",
            " 0.76122291 0.75989852 0.76381149 0.76908325 0.76117991 0.76641727\n",
            " 0.76774166 0.77431201 0.78089955 0.76903165 0.7756192  0.76508428\n",
            " 0.76900585 0.75590815 0.75986412 0.7625215  0.76382009 0.77170623\n",
            " 0.77170623 0.77169763 0.77036464 0.76644307 0.76511008 0.77037324\n",
            " 0.76642587 0.76642587 0.7624871  0.76511868 0.77038184 0.75985552\n",
            " 0.76380289 0.76380289 0.76771586 0.75724974 0.75855693 0.76513588\n",
            " 0.76513588 0.76775026 0.76775886 0.76645167 0.76382869 0.76514448\n",
            " 0.76645167]\n",
            "best cross-validation accuracy score with optimal number of features :  0.7808995528035776\n"
          ]
        }
      ],
      "source": [
        "print('accuracy with eliminating 1-feature at each step : ' , Linear_SVM_multiclass_selector.cv_results_['mean_test_score'])\n",
        "print('best cross-validation accuracy score with optimal number of features : ' , max(Linear_SVM_multiclass_selector.cv_results_['mean_test_score']))"
      ]
    },
    {
      "cell_type": "code",
      "execution_count": null,
      "metadata": {
        "colab": {
          "base_uri": "https://localhost:8080/"
        },
        "id": "yv9EY4qbFnqc",
        "outputId": "f0fafdcd-271b-43ec-d5f9-4690d8b1c28a"
      },
      "outputs": [
        {
          "name": "stdout",
          "output_type": "stream",
          "text": [
            "number of important features using RFECV are :  33\n",
            "optimal features using RFECV are :  ['NR2A_N', 'pCAMKII_N', 'pELK_N', 'pJNK_N', 'pNR2A_N', 'pPKCAB_N', 'AKT_N', 'CAMKII_N', 'ERK_N', 'GSK3B_N', 'TRKA_N', 'RSK_N', 'APP_N', 'Bcatenin_N', 'SOD1_N', 'MTOR_N', 'P38_N', 'DSCR1_N', 'pNUMB_N', 'TIAM1_N', 'NUMB_N', 'P70S6_N', 'pPKCG_N', 'S6_N', 'BAX_N', 'nNOS_N', 'Tau_N', 'GFAP_N', 'GluR3_N', 'P3525_N', 'Ubiquitin_N', 'pGSK3B_Tyr216_N', 'CaNA_N']\n"
          ]
        }
      ],
      "source": [
        "print('number of important features using RFECV are : ' , Linear_SVM_multiclass_selector.n_features_)\n",
        "most_important_features_Linear_SVM_multiclass = []\n",
        "for i in range(len(training_features.columns)):\n",
        "  if Linear_SVM_multiclass_selector.support_[i] :\n",
        "    most_important_features_Linear_SVM_multiclass.append(training_features.columns[i])\n",
        "print('optimal features using RFECV are : ' , most_important_features_Linear_SVM_multiclass)"
      ]
    },
    {
      "cell_type": "markdown",
      "metadata": {
        "id": "0oTd0bmz9Gn-"
      },
      "source": [
        "This code block is written based on eliminating least 10 important features according to the feature ranking in each iteration and stores the cross-validation score after elinating 10 features in each iteration step ...The same procedure has been followed up like Linear SVM"
      ]
    },
    {
      "cell_type": "code",
      "execution_count": null,
      "metadata": {
        "id": "AoW6mCkkeyyq"
      },
      "outputs": [],
      "source": [
        "accuracy_score_after_each_iteration = []\n",
        "removed_features_after_each_iteration = [ [] for _ in range( number_of_iterations)]\n",
        "important_features = [ [] for _ in range( number_of_iterations)]\n",
        "remaining_features_after_each_iteration = training_features\n",
        "for i in range(number_of_iterations):\n",
        "  removed_features_index = np.argsort(np.array(Linear_SVM_multiclass_feature_ranking))[-number_of_features_removed_after_each_iteration : ]\n",
        "  removed_features_rankings = [Linear_SVM_multiclass_feature_ranking[k] for k in removed_features_index]\n",
        "  for j in range(number_of_features_removed_after_each_iteration):\n",
        "    removed_features_after_each_iteration[i].append(remaining_features_after_each_iteration.columns[removed_features_index[j]])\n",
        "    Linear_SVM_multiclass_feature_ranking.remove(removed_features_rankings[j])\n",
        "  remaining_features_after_each_iteration = remaining_features_after_each_iteration.drop(removed_features_after_each_iteration[i] , axis = 1)\n",
        "  important_features[i].append(remaining_features_after_each_iteration.columns)\n",
        "  Linear_SVM_multiclass_result1 , best_parameter_linear_SVM1_multiclass , best_score_linear_SVM1_multiclass = Linear_SVM(remaining_features_after_each_iteration, y_train_multiclass)\n",
        "  accuracy_score_after_each_iteration.append(best_score_linear_SVM1_multiclass)"
      ]
    },
    {
      "cell_type": "code",
      "execution_count": null,
      "metadata": {
        "colab": {
          "base_uri": "https://localhost:8080/"
        },
        "id": "nPSY-huIfsz_",
        "outputId": "b24a1d92-0fd4-4312-bc74-b2ac6719a217"
      },
      "outputs": [
        {
          "data": {
            "text/plain": [
              "[0.7873925008599931,\n",
              " 0.8044805641554869,\n",
              " 0.8294805641554868,\n",
              " 0.8241830065359478,\n",
              " 0.7308393532851738,\n",
              " 0.39754901960784317]"
            ]
          },
          "execution_count": 399,
          "metadata": {},
          "output_type": "execute_result"
        }
      ],
      "source": [
        "accuracy_score_after_each_iteration"
      ]
    },
    {
      "cell_type": "markdown",
      "metadata": {
        "id": "Yh34-WAwghkJ"
      },
      "source": [
        "Random Forest multiclass feature selection"
      ]
    },
    {
      "cell_type": "code",
      "execution_count": null,
      "metadata": {
        "id": "WcjkWzywgmTC"
      },
      "outputs": [],
      "source": [
        "RF_multiclass_selector = RFECV(RF_multiclass, step=1, cv=5 )\n",
        "RF_multiclass_selector = RF_multiclass_selector.fit(training_features , y_train_multiclass)        ## fit on training features and training labels with 5 cross-validation\n",
        "RF_multiclass_feature_ranking = list(RF_multiclass_selector.ranking_)"
      ]
    },
    {
      "cell_type": "code",
      "execution_count": null,
      "metadata": {
        "colab": {
          "base_uri": "https://localhost:8080/"
        },
        "id": "UvftR-0qg-ag",
        "outputId": "29ed4d04-e751-48f9-d32f-c96ee8759edf"
      },
      "outputs": [
        {
          "data": {
            "text/plain": [
              "array([ 1, 27, 24, 30,  1, 13,  1, 22,  1,  1,  7,  3,  5, 31,  1,  2,  8,\n",
              "       17, 35,  1, 32,  1, 23, 20, 33, 29, 12, 26,  1, 15,  1,  1,  1, 25,\n",
              "       11,  1, 16, 21,  1,  1,  4,  1,  1,  1,  1, 28,  1,  1,  1,  1, 19,\n",
              "        1,  1,  1,  1, 14,  1,  6, 10,  1,  1,  1,  9, 18, 34,  1,  1])"
            ]
          },
          "execution_count": 148,
          "metadata": {},
          "output_type": "execute_result"
        }
      ],
      "source": [
        "np.array(RF_multiclass_feature_ranking)                                ## gives the feature ranking of diffrent features for RF_multiclass model"
      ]
    },
    {
      "cell_type": "code",
      "execution_count": null,
      "metadata": {
        "colab": {
          "base_uri": "https://localhost:8080/"
        },
        "id": "I0IrY3npGaFH",
        "outputId": "462f3d4c-ba05-4522-94fb-ff29edc704d7"
      },
      "outputs": [
        {
          "name": "stdout",
          "output_type": "stream",
          "text": [
            "accuracy with eliminating 1-feature at each step :  [0.4999656  0.60621775 0.54863261 0.55651015 0.59449604 0.60633815\n",
            " 0.63907809 0.65486756 0.6378397  0.64559684 0.64036808 0.64693842\n",
            " 0.63905229 0.63252494 0.62071723 0.62994496 0.63906089 0.62859477\n",
            " 0.6495786  0.64957    0.64432405 0.66800826 0.65485036 0.65482456\n",
            " 0.65478156 0.67187822 0.65480736 0.66793086 0.65345717 0.66532508\n",
            " 0.66135191 0.67197282 0.69283626 0.66792226 0.66400069 0.6745098\n",
            " 0.6627021  0.65883213 0.66140351 0.67979016 0.67192122 0.67850017\n",
            " 0.65614895 0.67584279 0.6627107  0.65085999 0.67977296 0.65873753\n",
            " 0.66928965 0.66660647 0.66400929 0.66400929 0.6496044  0.67192982\n",
            " 0.67192982 0.66407809 0.67978156 0.65747334 0.66928105 0.65749054\n",
            " 0.65225318 0.67064843 0.67062264 0.66140351 0.64564843 0.65091159\n",
            " 0.66797386]\n",
            "best cross-validation accuracy score with optimal number of features :  0.6928362573099415\n"
          ]
        }
      ],
      "source": [
        "print('accuracy with eliminating 1-feature at each step : ' , RF_multiclass_selector.cv_results_['mean_test_score'])\n",
        "print('best cross-validation accuracy score with optimal number of features : ' , max(RF_multiclass_selector.cv_results_['mean_test_score']))"
      ]
    },
    {
      "cell_type": "code",
      "execution_count": null,
      "metadata": {
        "colab": {
          "base_uri": "https://localhost:8080/"
        },
        "id": "-fQCDEsIGaeV",
        "outputId": "71534d7e-2cea-43bd-9612-d14202145a11"
      },
      "outputs": [
        {
          "name": "stdout",
          "output_type": "stream",
          "text": [
            "number of important features using RFECV are :  33\n",
            "optimal features using RFECV are :  ['DYRK1A_N', 'pAKT_N', 'pCAMKII_N', 'pELK_N', 'pJNK_N', 'pPKCAB_N', 'ELK_N', 'GSK3B_N', 'SOD1_N', 'P38_N', 'pMTOR_N', 'DSCR1_N', 'pNUMB_N', 'pP70S6_N', 'NUMB_N', 'pGSK3B_N', 'pPKCG_N', 'CDK5_N', 'S6_N', 'AcetylH3K9_N', 'RRP1_N', 'BAX_N', 'ARC_N', 'nNOS_N', 'Tau_N', 'GFAP_N', 'GluR3_N', 'IL1B_N', 'PSD95_N', 'SNCA_N', 'Ubiquitin_N', 'SYP_N', 'CaNA_N']\n"
          ]
        }
      ],
      "source": [
        "print('number of important features using RFECV are : ' , RF_multiclass_selector.n_features_)\n",
        "most_important_features_RF_multiclass = []\n",
        "for i in range(len(training_features.columns)):\n",
        "  if RF_multiclass_selector.support_[i] :\n",
        "    most_important_features_RF_multiclass.append(training_features.columns[i])\n",
        "print('optimal features using RFECV are : ' , most_important_features_RF_multiclass)"
      ]
    },
    {
      "cell_type": "markdown",
      "metadata": {
        "id": "Z4fcbG8R9vDo"
      },
      "source": [
        "This code block is written based on eliminating least 10 important features according to the feature ranking in each iteration and stores the cross-validation score after elinating 10 features in each iteration step ..."
      ]
    },
    {
      "cell_type": "code",
      "execution_count": null,
      "metadata": {
        "id": "jkQjRBcqhIx9"
      },
      "outputs": [],
      "source": [
        "accuracy_score_after_each_iteration = []\n",
        "removed_features_after_each_iteration = [ [] for _ in range( number_of_iterations)]\n",
        "important_features = [ [] for _ in range( number_of_iterations)]\n",
        "remaining_features_after_each_iteration = training_features\n",
        "for i in range(number_of_iterations):\n",
        "  removed_features_index = np.argsort(np.array(RF_multiclass_feature_ranking))[-number_of_features_removed_after_each_iteration : ]\n",
        "  removed_features_rankings = [RF_multiclass_feature_ranking[k] for k in removed_features_index]\n",
        "  for j in range(number_of_features_removed_after_each_iteration):\n",
        "    removed_features_after_each_iteration[i].append(remaining_features_after_each_iteration.columns[removed_features_index[j]])\n",
        "    RF_multiclass_feature_ranking.remove(removed_features_rankings[j])\n",
        "  remaining_features_after_each_iteration = remaining_features_after_each_iteration.drop(removed_features_after_each_iteration[i] , axis = 1)\n",
        "  important_features[i].append(remaining_features_after_each_iteration.columns)\n",
        "  RF1_multiclass_result1 , best_parameter_RF1_multiclass , best_score_RF1_multiclass = Random_Forest(remaining_features_after_each_iteration, y_train_multiclass)\n",
        "  accuracy_score_after_each_iteration.append(best_score_RF1_multiclass)"
      ]
    },
    {
      "cell_type": "code",
      "execution_count": null,
      "metadata": {
        "colab": {
          "base_uri": "https://localhost:8080/"
        },
        "id": "2Y-jK-Mhh2Bh",
        "outputId": "060f948a-13d3-480a-f6b8-ec742de52d38"
      },
      "outputs": [
        {
          "data": {
            "text/plain": [
              "[0.671861025111799,\n",
              " 0.6810887512899896,\n",
              " 0.6942552459580323,\n",
              " 0.6942380460956312,\n",
              " 0.6483402132782937,\n",
              " 0.5619367045063639]"
            ]
          },
          "execution_count": 401,
          "metadata": {},
          "output_type": "execute_result"
        }
      ],
      "source": [
        "accuracy_score_after_each_iteration"
      ]
    },
    {
      "cell_type": "markdown",
      "metadata": {
        "id": "OB4fHF7AID-N"
      },
      "source": [
        "Question : Use the best model (tuning with the best hyperparameter) and fit on optimal (most important) features, then predict on the test dataset"
      ]
    },
    {
      "cell_type": "code",
      "execution_count": null,
      "metadata": {
        "id": "kiTaDfcKiBJO"
      },
      "outputs": [],
      "source": [
        "Test_Data = pd.read_csv('https://www.ee.iitb.ac.in/~asethi/Dump/MouseTest.csv' )        ## Load the test dataset using pandas read_csv command"
      ]
    },
    {
      "cell_type": "code",
      "execution_count": null,
      "metadata": {
        "colab": {
          "base_uri": "https://localhost:8080/",
          "height": 424
        },
        "id": "mdUMeKrtIeny",
        "outputId": "3f377518-f0c6-4435-87af-c54446ed3bea"
      },
      "outputs": [
        {
          "data": {
            "text/html": [
              "\n",
              "  <div id=\"df-2d95eaaf-85cf-4f45-9078-995e36b4a9bc\">\n",
              "    <div class=\"colab-df-container\">\n",
              "      <div>\n",
              "<style scoped>\n",
              "    .dataframe tbody tr th:only-of-type {\n",
              "        vertical-align: middle;\n",
              "    }\n",
              "\n",
              "    .dataframe tbody tr th {\n",
              "        vertical-align: top;\n",
              "    }\n",
              "\n",
              "    .dataframe thead th {\n",
              "        text-align: right;\n",
              "    }\n",
              "</style>\n",
              "<table border=\"1\" class=\"dataframe\">\n",
              "  <thead>\n",
              "    <tr style=\"text-align: right;\">\n",
              "      <th></th>\n",
              "      <th>DYRK1A_N</th>\n",
              "      <th>ITSN1_N</th>\n",
              "      <th>BDNF_N</th>\n",
              "      <th>NR1_N</th>\n",
              "      <th>NR2A_N</th>\n",
              "      <th>pAKT_N</th>\n",
              "      <th>pBRAF_N</th>\n",
              "      <th>pCAMKII_N</th>\n",
              "      <th>pCREB_N</th>\n",
              "      <th>pELK_N</th>\n",
              "      <th>...</th>\n",
              "      <th>BCL2_N</th>\n",
              "      <th>pS6_N</th>\n",
              "      <th>pCFOS_N</th>\n",
              "      <th>SYP_N</th>\n",
              "      <th>H3AcK18_N</th>\n",
              "      <th>EGR1_N</th>\n",
              "      <th>H3MeK4_N</th>\n",
              "      <th>CaNA_N</th>\n",
              "      <th>Genotype</th>\n",
              "      <th>Treatment_Behavior</th>\n",
              "    </tr>\n",
              "  </thead>\n",
              "  <tbody>\n",
              "    <tr>\n",
              "      <th>0</th>\n",
              "      <td>0.627582</td>\n",
              "      <td>0.954187</td>\n",
              "      <td>0.446958</td>\n",
              "      <td>2.930717</td>\n",
              "      <td>5.915039</td>\n",
              "      <td>0.197897</td>\n",
              "      <td>0.185599</td>\n",
              "      <td>1.765115</td>\n",
              "      <td>0.232257</td>\n",
              "      <td>1.808111</td>\n",
              "      <td>...</td>\n",
              "      <td>0.120835</td>\n",
              "      <td>0.148773</td>\n",
              "      <td>0.120885</td>\n",
              "      <td>0.541241</td>\n",
              "      <td>0.121674</td>\n",
              "      <td>0.158103</td>\n",
              "      <td>NaN</td>\n",
              "      <td>1.649983</td>\n",
              "      <td>Control</td>\n",
              "      <td>Memantine_C/S</td>\n",
              "    </tr>\n",
              "    <tr>\n",
              "      <th>1</th>\n",
              "      <td>0.651253</td>\n",
              "      <td>0.962021</td>\n",
              "      <td>0.464964</td>\n",
              "      <td>2.992689</td>\n",
              "      <td>5.975028</td>\n",
              "      <td>0.202810</td>\n",
              "      <td>0.188473</td>\n",
              "      <td>1.807824</td>\n",
              "      <td>0.259020</td>\n",
              "      <td>1.960691</td>\n",
              "      <td>...</td>\n",
              "      <td>0.130462</td>\n",
              "      <td>0.147660</td>\n",
              "      <td>0.128960</td>\n",
              "      <td>0.525966</td>\n",
              "      <td>0.126780</td>\n",
              "      <td>0.163405</td>\n",
              "      <td>NaN</td>\n",
              "      <td>1.638988</td>\n",
              "      <td>Control</td>\n",
              "      <td>Memantine_C/S</td>\n",
              "    </tr>\n",
              "    <tr>\n",
              "      <th>2</th>\n",
              "      <td>0.644346</td>\n",
              "      <td>0.967179</td>\n",
              "      <td>0.470056</td>\n",
              "      <td>3.073847</td>\n",
              "      <td>5.927379</td>\n",
              "      <td>0.205131</td>\n",
              "      <td>0.182590</td>\n",
              "      <td>1.783552</td>\n",
              "      <td>0.258795</td>\n",
              "      <td>2.147883</td>\n",
              "      <td>...</td>\n",
              "      <td>0.118851</td>\n",
              "      <td>0.143169</td>\n",
              "      <td>0.129154</td>\n",
              "      <td>0.508214</td>\n",
              "      <td>0.122796</td>\n",
              "      <td>0.160293</td>\n",
              "      <td>NaN</td>\n",
              "      <td>1.564925</td>\n",
              "      <td>Control</td>\n",
              "      <td>Memantine_C/S</td>\n",
              "    </tr>\n",
              "    <tr>\n",
              "      <th>3</th>\n",
              "      <td>0.568229</td>\n",
              "      <td>0.812018</td>\n",
              "      <td>0.393465</td>\n",
              "      <td>2.606780</td>\n",
              "      <td>5.808102</td>\n",
              "      <td>0.218211</td>\n",
              "      <td>0.179905</td>\n",
              "      <td>2.312324</td>\n",
              "      <td>0.209154</td>\n",
              "      <td>1.733692</td>\n",
              "      <td>...</td>\n",
              "      <td>0.116218</td>\n",
              "      <td>0.140063</td>\n",
              "      <td>0.127661</td>\n",
              "      <td>0.561721</td>\n",
              "      <td>0.123122</td>\n",
              "      <td>0.156108</td>\n",
              "      <td>NaN</td>\n",
              "      <td>1.682222</td>\n",
              "      <td>Control</td>\n",
              "      <td>Memantine_C/S</td>\n",
              "    </tr>\n",
              "    <tr>\n",
              "      <th>4</th>\n",
              "      <td>0.587038</td>\n",
              "      <td>0.863728</td>\n",
              "      <td>0.411203</td>\n",
              "      <td>2.757975</td>\n",
              "      <td>6.006657</td>\n",
              "      <td>0.223688</td>\n",
              "      <td>0.189400</td>\n",
              "      <td>2.375283</td>\n",
              "      <td>0.218538</td>\n",
              "      <td>1.843255</td>\n",
              "      <td>...</td>\n",
              "      <td>0.142739</td>\n",
              "      <td>0.140775</td>\n",
              "      <td>0.121389</td>\n",
              "      <td>0.534845</td>\n",
              "      <td>0.133996</td>\n",
              "      <td>0.180373</td>\n",
              "      <td>NaN</td>\n",
              "      <td>1.660352</td>\n",
              "      <td>Control</td>\n",
              "      <td>Memantine_C/S</td>\n",
              "    </tr>\n",
              "    <tr>\n",
              "      <th>...</th>\n",
              "      <td>...</td>\n",
              "      <td>...</td>\n",
              "      <td>...</td>\n",
              "      <td>...</td>\n",
              "      <td>...</td>\n",
              "      <td>...</td>\n",
              "      <td>...</td>\n",
              "      <td>...</td>\n",
              "      <td>...</td>\n",
              "      <td>...</td>\n",
              "      <td>...</td>\n",
              "      <td>...</td>\n",
              "      <td>...</td>\n",
              "      <td>...</td>\n",
              "      <td>...</td>\n",
              "      <td>...</td>\n",
              "      <td>...</td>\n",
              "      <td>...</td>\n",
              "      <td>...</td>\n",
              "      <td>...</td>\n",
              "      <td>...</td>\n",
              "    </tr>\n",
              "    <tr>\n",
              "      <th>220</th>\n",
              "      <td>0.226900</td>\n",
              "      <td>0.395432</td>\n",
              "      <td>0.248694</td>\n",
              "      <td>1.460666</td>\n",
              "      <td>1.860128</td>\n",
              "      <td>0.188536</td>\n",
              "      <td>0.148977</td>\n",
              "      <td>2.178982</td>\n",
              "      <td>0.165398</td>\n",
              "      <td>0.770115</td>\n",
              "      <td>...</td>\n",
              "      <td>0.157209</td>\n",
              "      <td>0.122747</td>\n",
              "      <td>0.134559</td>\n",
              "      <td>0.400268</td>\n",
              "      <td>0.228568</td>\n",
              "      <td>0.233317</td>\n",
              "      <td>0.283853</td>\n",
              "      <td>1.160740</td>\n",
              "      <td>Ts65Dn</td>\n",
              "      <td>Saline_S/C</td>\n",
              "    </tr>\n",
              "    <tr>\n",
              "      <th>221</th>\n",
              "      <td>0.261107</td>\n",
              "      <td>0.443780</td>\n",
              "      <td>0.276658</td>\n",
              "      <td>1.674129</td>\n",
              "      <td>2.256494</td>\n",
              "      <td>0.218216</td>\n",
              "      <td>0.176008</td>\n",
              "      <td>2.475735</td>\n",
              "      <td>0.184040</td>\n",
              "      <td>0.913363</td>\n",
              "      <td>...</td>\n",
              "      <td>0.151454</td>\n",
              "      <td>0.119881</td>\n",
              "      <td>0.131988</td>\n",
              "      <td>0.407596</td>\n",
              "      <td>0.228843</td>\n",
              "      <td>0.226944</td>\n",
              "      <td>0.249970</td>\n",
              "      <td>1.139347</td>\n",
              "      <td>Ts65Dn</td>\n",
              "      <td>Saline_S/C</td>\n",
              "    </tr>\n",
              "    <tr>\n",
              "      <th>222</th>\n",
              "      <td>0.216134</td>\n",
              "      <td>0.364058</td>\n",
              "      <td>0.241693</td>\n",
              "      <td>1.330831</td>\n",
              "      <td>1.737540</td>\n",
              "      <td>0.197125</td>\n",
              "      <td>0.151597</td>\n",
              "      <td>1.919489</td>\n",
              "      <td>0.162780</td>\n",
              "      <td>0.720767</td>\n",
              "      <td>...</td>\n",
              "      <td>0.171437</td>\n",
              "      <td>0.118758</td>\n",
              "      <td>0.146772</td>\n",
              "      <td>0.431334</td>\n",
              "      <td>0.255633</td>\n",
              "      <td>0.257004</td>\n",
              "      <td>0.304811</td>\n",
              "      <td>1.142205</td>\n",
              "      <td>Ts65Dn</td>\n",
              "      <td>Saline_S/C</td>\n",
              "    </tr>\n",
              "    <tr>\n",
              "      <th>223</th>\n",
              "      <td>0.212369</td>\n",
              "      <td>0.369960</td>\n",
              "      <td>0.239036</td>\n",
              "      <td>1.346827</td>\n",
              "      <td>1.814940</td>\n",
              "      <td>0.194538</td>\n",
              "      <td>0.143454</td>\n",
              "      <td>1.908112</td>\n",
              "      <td>0.155823</td>\n",
              "      <td>0.772530</td>\n",
              "      <td>...</td>\n",
              "      <td>0.177576</td>\n",
              "      <td>0.121366</td>\n",
              "      <td>0.152825</td>\n",
              "      <td>0.395408</td>\n",
              "      <td>0.245564</td>\n",
              "      <td>0.255852</td>\n",
              "      <td>0.308484</td>\n",
              "      <td>1.112718</td>\n",
              "      <td>Ts65Dn</td>\n",
              "      <td>Saline_S/C</td>\n",
              "    </tr>\n",
              "    <tr>\n",
              "      <th>224</th>\n",
              "      <td>0.257290</td>\n",
              "      <td>0.432628</td>\n",
              "      <td>0.289689</td>\n",
              "      <td>1.589289</td>\n",
              "      <td>2.125977</td>\n",
              "      <td>0.232704</td>\n",
              "      <td>0.177244</td>\n",
              "      <td>2.308557</td>\n",
              "      <td>0.181056</td>\n",
              "      <td>0.894797</td>\n",
              "      <td>...</td>\n",
              "      <td>0.172697</td>\n",
              "      <td>0.123290</td>\n",
              "      <td>0.163880</td>\n",
              "      <td>0.402706</td>\n",
              "      <td>0.245363</td>\n",
              "      <td>0.278048</td>\n",
              "      <td>0.326087</td>\n",
              "      <td>1.171785</td>\n",
              "      <td>Ts65Dn</td>\n",
              "      <td>Saline_S/C</td>\n",
              "    </tr>\n",
              "  </tbody>\n",
              "</table>\n",
              "<p>225 rows × 79 columns</p>\n",
              "</div>\n",
              "      <button class=\"colab-df-convert\" onclick=\"convertToInteractive('df-2d95eaaf-85cf-4f45-9078-995e36b4a9bc')\"\n",
              "              title=\"Convert this dataframe to an interactive table.\"\n",
              "              style=\"display:none;\">\n",
              "        \n",
              "  <svg xmlns=\"http://www.w3.org/2000/svg\" height=\"24px\"viewBox=\"0 0 24 24\"\n",
              "       width=\"24px\">\n",
              "    <path d=\"M0 0h24v24H0V0z\" fill=\"none\"/>\n",
              "    <path d=\"M18.56 5.44l.94 2.06.94-2.06 2.06-.94-2.06-.94-.94-2.06-.94 2.06-2.06.94zm-11 1L8.5 8.5l.94-2.06 2.06-.94-2.06-.94L8.5 2.5l-.94 2.06-2.06.94zm10 10l.94 2.06.94-2.06 2.06-.94-2.06-.94-.94-2.06-.94 2.06-2.06.94z\"/><path d=\"M17.41 7.96l-1.37-1.37c-.4-.4-.92-.59-1.43-.59-.52 0-1.04.2-1.43.59L10.3 9.45l-7.72 7.72c-.78.78-.78 2.05 0 2.83L4 21.41c.39.39.9.59 1.41.59.51 0 1.02-.2 1.41-.59l7.78-7.78 2.81-2.81c.8-.78.8-2.07 0-2.86zM5.41 20L4 18.59l7.72-7.72 1.47 1.35L5.41 20z\"/>\n",
              "  </svg>\n",
              "      </button>\n",
              "      \n",
              "  <style>\n",
              "    .colab-df-container {\n",
              "      display:flex;\n",
              "      flex-wrap:wrap;\n",
              "      gap: 12px;\n",
              "    }\n",
              "\n",
              "    .colab-df-convert {\n",
              "      background-color: #E8F0FE;\n",
              "      border: none;\n",
              "      border-radius: 50%;\n",
              "      cursor: pointer;\n",
              "      display: none;\n",
              "      fill: #1967D2;\n",
              "      height: 32px;\n",
              "      padding: 0 0 0 0;\n",
              "      width: 32px;\n",
              "    }\n",
              "\n",
              "    .colab-df-convert:hover {\n",
              "      background-color: #E2EBFA;\n",
              "      box-shadow: 0px 1px 2px rgba(60, 64, 67, 0.3), 0px 1px 3px 1px rgba(60, 64, 67, 0.15);\n",
              "      fill: #174EA6;\n",
              "    }\n",
              "\n",
              "    [theme=dark] .colab-df-convert {\n",
              "      background-color: #3B4455;\n",
              "      fill: #D2E3FC;\n",
              "    }\n",
              "\n",
              "    [theme=dark] .colab-df-convert:hover {\n",
              "      background-color: #434B5C;\n",
              "      box-shadow: 0px 1px 3px 1px rgba(0, 0, 0, 0.15);\n",
              "      filter: drop-shadow(0px 1px 2px rgba(0, 0, 0, 0.3));\n",
              "      fill: #FFFFFF;\n",
              "    }\n",
              "  </style>\n",
              "\n",
              "      <script>\n",
              "        const buttonEl =\n",
              "          document.querySelector('#df-2d95eaaf-85cf-4f45-9078-995e36b4a9bc button.colab-df-convert');\n",
              "        buttonEl.style.display =\n",
              "          google.colab.kernel.accessAllowed ? 'block' : 'none';\n",
              "\n",
              "        async function convertToInteractive(key) {\n",
              "          const element = document.querySelector('#df-2d95eaaf-85cf-4f45-9078-995e36b4a9bc');\n",
              "          const dataTable =\n",
              "            await google.colab.kernel.invokeFunction('convertToInteractive',\n",
              "                                                     [key], {});\n",
              "          if (!dataTable) return;\n",
              "\n",
              "          const docLinkHtml = 'Like what you see? Visit the ' +\n",
              "            '<a target=\"_blank\" href=https://colab.research.google.com/notebooks/data_table.ipynb>data table notebook</a>'\n",
              "            + ' to learn more about interactive tables.';\n",
              "          element.innerHTML = '';\n",
              "          dataTable['output_type'] = 'display_data';\n",
              "          await google.colab.output.renderOutput(dataTable, element);\n",
              "          const docLink = document.createElement('div');\n",
              "          docLink.innerHTML = docLinkHtml;\n",
              "          element.appendChild(docLink);\n",
              "        }\n",
              "      </script>\n",
              "    </div>\n",
              "  </div>\n",
              "  "
            ],
            "text/plain": [
              "     DYRK1A_N   ITSN1_N    BDNF_N     NR1_N    NR2A_N    pAKT_N   pBRAF_N  \\\n",
              "0    0.627582  0.954187  0.446958  2.930717  5.915039  0.197897  0.185599   \n",
              "1    0.651253  0.962021  0.464964  2.992689  5.975028  0.202810  0.188473   \n",
              "2    0.644346  0.967179  0.470056  3.073847  5.927379  0.205131  0.182590   \n",
              "3    0.568229  0.812018  0.393465  2.606780  5.808102  0.218211  0.179905   \n",
              "4    0.587038  0.863728  0.411203  2.757975  6.006657  0.223688  0.189400   \n",
              "..        ...       ...       ...       ...       ...       ...       ...   \n",
              "220  0.226900  0.395432  0.248694  1.460666  1.860128  0.188536  0.148977   \n",
              "221  0.261107  0.443780  0.276658  1.674129  2.256494  0.218216  0.176008   \n",
              "222  0.216134  0.364058  0.241693  1.330831  1.737540  0.197125  0.151597   \n",
              "223  0.212369  0.369960  0.239036  1.346827  1.814940  0.194538  0.143454   \n",
              "224  0.257290  0.432628  0.289689  1.589289  2.125977  0.232704  0.177244   \n",
              "\n",
              "     pCAMKII_N   pCREB_N    pELK_N  ...    BCL2_N     pS6_N   pCFOS_N  \\\n",
              "0     1.765115  0.232257  1.808111  ...  0.120835  0.148773  0.120885   \n",
              "1     1.807824  0.259020  1.960691  ...  0.130462  0.147660  0.128960   \n",
              "2     1.783552  0.258795  2.147883  ...  0.118851  0.143169  0.129154   \n",
              "3     2.312324  0.209154  1.733692  ...  0.116218  0.140063  0.127661   \n",
              "4     2.375283  0.218538  1.843255  ...  0.142739  0.140775  0.121389   \n",
              "..         ...       ...       ...  ...       ...       ...       ...   \n",
              "220   2.178982  0.165398  0.770115  ...  0.157209  0.122747  0.134559   \n",
              "221   2.475735  0.184040  0.913363  ...  0.151454  0.119881  0.131988   \n",
              "222   1.919489  0.162780  0.720767  ...  0.171437  0.118758  0.146772   \n",
              "223   1.908112  0.155823  0.772530  ...  0.177576  0.121366  0.152825   \n",
              "224   2.308557  0.181056  0.894797  ...  0.172697  0.123290  0.163880   \n",
              "\n",
              "        SYP_N  H3AcK18_N    EGR1_N  H3MeK4_N    CaNA_N  Genotype  \\\n",
              "0    0.541241   0.121674  0.158103       NaN  1.649983   Control   \n",
              "1    0.525966   0.126780  0.163405       NaN  1.638988   Control   \n",
              "2    0.508214   0.122796  0.160293       NaN  1.564925   Control   \n",
              "3    0.561721   0.123122  0.156108       NaN  1.682222   Control   \n",
              "4    0.534845   0.133996  0.180373       NaN  1.660352   Control   \n",
              "..        ...        ...       ...       ...       ...       ...   \n",
              "220  0.400268   0.228568  0.233317  0.283853  1.160740    Ts65Dn   \n",
              "221  0.407596   0.228843  0.226944  0.249970  1.139347    Ts65Dn   \n",
              "222  0.431334   0.255633  0.257004  0.304811  1.142205    Ts65Dn   \n",
              "223  0.395408   0.245564  0.255852  0.308484  1.112718    Ts65Dn   \n",
              "224  0.402706   0.245363  0.278048  0.326087  1.171785    Ts65Dn   \n",
              "\n",
              "     Treatment_Behavior  \n",
              "0         Memantine_C/S  \n",
              "1         Memantine_C/S  \n",
              "2         Memantine_C/S  \n",
              "3         Memantine_C/S  \n",
              "4         Memantine_C/S  \n",
              "..                  ...  \n",
              "220          Saline_S/C  \n",
              "221          Saline_S/C  \n",
              "222          Saline_S/C  \n",
              "223          Saline_S/C  \n",
              "224          Saline_S/C  \n",
              "\n",
              "[225 rows x 79 columns]"
            ]
          },
          "execution_count": 161,
          "metadata": {},
          "output_type": "execute_result"
        }
      ],
      "source": [
        "Test_Data           ## shape of the test dataset is (225 , 79)"
      ]
    },
    {
      "cell_type": "code",
      "execution_count": null,
      "metadata": {
        "id": "DbLrH8Y7IhKv"
      },
      "outputs": [],
      "source": [
        "Test_features_data = Test_Data.drop(['Genotype' , 'Treatment_Behavior'] , axis = 1)     ## drop the binary and multiclass labels from the test dataset"
      ]
    },
    {
      "cell_type": "markdown",
      "metadata": {
        "id": "p5xiWzdcJd2H"
      },
      "source": [
        "Remove null value column from test_data "
      ]
    },
    {
      "cell_type": "code",
      "execution_count": null,
      "metadata": {
        "id": "FZGDBu-HIx1J"
      },
      "outputs": [],
      "source": [
        "Test_feature_matrix = Test_features_data.drop(dropped_columns, axis = 1)"
      ]
    },
    {
      "cell_type": "markdown",
      "metadata": {
        "id": "8BsAqqHbKYli"
      },
      "source": [
        "Filling nan values using multivariate feature imputation"
      ]
    },
    {
      "cell_type": "code",
      "execution_count": null,
      "metadata": {
        "id": "DxfqMunFJ03z"
      },
      "outputs": [],
      "source": [
        "Test_features = imputer.transform( Test_feature_matrix )"
      ]
    },
    {
      "cell_type": "code",
      "execution_count": null,
      "metadata": {
        "id": "bxZagnyRJ4nG"
      },
      "outputs": [],
      "source": [
        "Test_features = pd.DataFrame(Test_features , columns = Test_feature_matrix.columns)"
      ]
    },
    {
      "cell_type": "markdown",
      "metadata": {
        "id": "ck_8mSLjLHg6"
      },
      "source": [
        "Normalization of test_features"
      ]
    },
    {
      "cell_type": "code",
      "execution_count": null,
      "metadata": {
        "id": "SiH0YePWKszf"
      },
      "outputs": [],
      "source": [
        "Test_normalized_features = Scaler.transform(Test_features)                 ## Transform the test features using defined MinMaxScaler()"
      ]
    },
    {
      "cell_type": "code",
      "execution_count": null,
      "metadata": {
        "id": "HVXBh_QvK9Zn"
      },
      "outputs": [],
      "source": [
        "Test_normalized_features = pd.DataFrame(Test_normalized_features , columns = Test_features.columns)"
      ]
    },
    {
      "cell_type": "code",
      "execution_count": null,
      "metadata": {
        "colab": {
          "base_uri": "https://localhost:8080/",
          "height": 424
        },
        "id": "zhbKeqCaMYCk",
        "outputId": "066fdf30-4e2d-46ba-ed5d-b61cedfa9199"
      },
      "outputs": [
        {
          "data": {
            "text/html": [
              "\n",
              "  <div id=\"df-d9664869-d0c7-4fac-9fe3-b0842fef6feb\">\n",
              "    <div class=\"colab-df-container\">\n",
              "      <div>\n",
              "<style scoped>\n",
              "    .dataframe tbody tr th:only-of-type {\n",
              "        vertical-align: middle;\n",
              "    }\n",
              "\n",
              "    .dataframe tbody tr th {\n",
              "        vertical-align: top;\n",
              "    }\n",
              "\n",
              "    .dataframe thead th {\n",
              "        text-align: right;\n",
              "    }\n",
              "</style>\n",
              "<table border=\"1\" class=\"dataframe\">\n",
              "  <thead>\n",
              "    <tr style=\"text-align: right;\">\n",
              "      <th></th>\n",
              "      <th>DYRK1A_N</th>\n",
              "      <th>ITSN1_N</th>\n",
              "      <th>BDNF_N</th>\n",
              "      <th>NR1_N</th>\n",
              "      <th>NR2A_N</th>\n",
              "      <th>pAKT_N</th>\n",
              "      <th>pBRAF_N</th>\n",
              "      <th>pCAMKII_N</th>\n",
              "      <th>pCREB_N</th>\n",
              "      <th>pELK_N</th>\n",
              "      <th>...</th>\n",
              "      <th>pCASP9_N</th>\n",
              "      <th>PSD95_N</th>\n",
              "      <th>SNCA_N</th>\n",
              "      <th>Ubiquitin_N</th>\n",
              "      <th>pGSK3B_Tyr216_N</th>\n",
              "      <th>SHH_N</th>\n",
              "      <th>pS6_N</th>\n",
              "      <th>pCFOS_N</th>\n",
              "      <th>SYP_N</th>\n",
              "      <th>CaNA_N</th>\n",
              "    </tr>\n",
              "  </thead>\n",
              "  <tbody>\n",
              "    <tr>\n",
              "      <th>0</th>\n",
              "      <td>0.194799</td>\n",
              "      <td>0.295095</td>\n",
              "      <td>0.834319</td>\n",
              "      <td>0.647025</td>\n",
              "      <td>0.616092</td>\n",
              "      <td>0.362589</td>\n",
              "      <td>0.480416</td>\n",
              "      <td>0.070860</td>\n",
              "      <td>0.617493</td>\n",
              "      <td>0.242611</td>\n",
              "      <td>...</td>\n",
              "      <td>0.539866</td>\n",
              "      <td>0.607310</td>\n",
              "      <td>0.317293</td>\n",
              "      <td>0.374565</td>\n",
              "      <td>0.408652</td>\n",
              "      <td>0.249530</td>\n",
              "      <td>0.890982</td>\n",
              "      <td>0.346394</td>\n",
              "      <td>0.564144</td>\n",
              "      <td>0.689105</td>\n",
              "    </tr>\n",
              "    <tr>\n",
              "      <th>1</th>\n",
              "      <td>0.204891</td>\n",
              "      <td>0.298444</td>\n",
              "      <td>0.893743</td>\n",
              "      <td>0.673478</td>\n",
              "      <td>0.625062</td>\n",
              "      <td>0.375819</td>\n",
              "      <td>0.491776</td>\n",
              "      <td>0.078518</td>\n",
              "      <td>0.755851</td>\n",
              "      <td>0.269454</td>\n",
              "      <td>...</td>\n",
              "      <td>0.525495</td>\n",
              "      <td>0.603954</td>\n",
              "      <td>0.409024</td>\n",
              "      <td>0.275144</td>\n",
              "      <td>0.416120</td>\n",
              "      <td>0.304750</td>\n",
              "      <td>0.878814</td>\n",
              "      <td>0.403531</td>\n",
              "      <td>0.533654</td>\n",
              "      <td>0.681981</td>\n",
              "    </tr>\n",
              "    <tr>\n",
              "      <th>2</th>\n",
              "      <td>0.201946</td>\n",
              "      <td>0.300650</td>\n",
              "      <td>0.910547</td>\n",
              "      <td>0.708120</td>\n",
              "      <td>0.617937</td>\n",
              "      <td>0.382066</td>\n",
              "      <td>0.468524</td>\n",
              "      <td>0.074166</td>\n",
              "      <td>0.754685</td>\n",
              "      <td>0.302385</td>\n",
              "      <td>...</td>\n",
              "      <td>0.472954</td>\n",
              "      <td>0.533625</td>\n",
              "      <td>0.433994</td>\n",
              "      <td>0.272760</td>\n",
              "      <td>0.365096</td>\n",
              "      <td>0.331229</td>\n",
              "      <td>0.829725</td>\n",
              "      <td>0.404897</td>\n",
              "      <td>0.498218</td>\n",
              "      <td>0.633991</td>\n",
              "    </tr>\n",
              "    <tr>\n",
              "      <th>3</th>\n",
              "      <td>0.169497</td>\n",
              "      <td>0.234302</td>\n",
              "      <td>0.657772</td>\n",
              "      <td>0.508752</td>\n",
              "      <td>0.600102</td>\n",
              "      <td>0.417285</td>\n",
              "      <td>0.457911</td>\n",
              "      <td>0.168973</td>\n",
              "      <td>0.498060</td>\n",
              "      <td>0.229519</td>\n",
              "      <td>...</td>\n",
              "      <td>0.460561</td>\n",
              "      <td>0.598817</td>\n",
              "      <td>0.314295</td>\n",
              "      <td>0.471325</td>\n",
              "      <td>0.425405</td>\n",
              "      <td>0.227673</td>\n",
              "      <td>0.795776</td>\n",
              "      <td>0.394337</td>\n",
              "      <td>0.605025</td>\n",
              "      <td>0.709995</td>\n",
              "    </tr>\n",
              "    <tr>\n",
              "      <th>4</th>\n",
              "      <td>0.177516</td>\n",
              "      <td>0.256413</td>\n",
              "      <td>0.716315</td>\n",
              "      <td>0.573290</td>\n",
              "      <td>0.629791</td>\n",
              "      <td>0.432032</td>\n",
              "      <td>0.495437</td>\n",
              "      <td>0.180261</td>\n",
              "      <td>0.546571</td>\n",
              "      <td>0.248794</td>\n",
              "      <td>...</td>\n",
              "      <td>0.447698</td>\n",
              "      <td>0.601765</td>\n",
              "      <td>0.425844</td>\n",
              "      <td>0.354508</td>\n",
              "      <td>0.441160</td>\n",
              "      <td>0.259662</td>\n",
              "      <td>0.803567</td>\n",
              "      <td>0.349961</td>\n",
              "      <td>0.551378</td>\n",
              "      <td>0.695824</td>\n",
              "    </tr>\n",
              "    <tr>\n",
              "      <th>...</th>\n",
              "      <td>...</td>\n",
              "      <td>...</td>\n",
              "      <td>...</td>\n",
              "      <td>...</td>\n",
              "      <td>...</td>\n",
              "      <td>...</td>\n",
              "      <td>...</td>\n",
              "      <td>...</td>\n",
              "      <td>...</td>\n",
              "      <td>...</td>\n",
              "      <td>...</td>\n",
              "      <td>...</td>\n",
              "      <td>...</td>\n",
              "      <td>...</td>\n",
              "      <td>...</td>\n",
              "      <td>...</td>\n",
              "      <td>...</td>\n",
              "      <td>...</td>\n",
              "      <td>...</td>\n",
              "      <td>...</td>\n",
              "      <td>...</td>\n",
              "    </tr>\n",
              "    <tr>\n",
              "      <th>220</th>\n",
              "      <td>0.023986</td>\n",
              "      <td>0.056165</td>\n",
              "      <td>0.179981</td>\n",
              "      <td>0.019529</td>\n",
              "      <td>0.009781</td>\n",
              "      <td>0.337382</td>\n",
              "      <td>0.335680</td>\n",
              "      <td>0.145065</td>\n",
              "      <td>0.271853</td>\n",
              "      <td>0.060004</td>\n",
              "      <td>...</td>\n",
              "      <td>0.312873</td>\n",
              "      <td>0.478673</td>\n",
              "      <td>0.445465</td>\n",
              "      <td>0.353629</td>\n",
              "      <td>0.439838</td>\n",
              "      <td>0.590909</td>\n",
              "      <td>0.606523</td>\n",
              "      <td>0.443143</td>\n",
              "      <td>0.282740</td>\n",
              "      <td>0.372097</td>\n",
              "    </tr>\n",
              "    <tr>\n",
              "      <th>221</th>\n",
              "      <td>0.038569</td>\n",
              "      <td>0.076839</td>\n",
              "      <td>0.272270</td>\n",
              "      <td>0.110646</td>\n",
              "      <td>0.069047</td>\n",
              "      <td>0.417300</td>\n",
              "      <td>0.442512</td>\n",
              "      <td>0.198271</td>\n",
              "      <td>0.368225</td>\n",
              "      <td>0.085205</td>\n",
              "      <td>...</td>\n",
              "      <td>0.314502</td>\n",
              "      <td>0.426393</td>\n",
              "      <td>0.412390</td>\n",
              "      <td>0.325651</td>\n",
              "      <td>0.415284</td>\n",
              "      <td>0.565266</td>\n",
              "      <td>0.575199</td>\n",
              "      <td>0.424952</td>\n",
              "      <td>0.297369</td>\n",
              "      <td>0.358235</td>\n",
              "    </tr>\n",
              "    <tr>\n",
              "      <th>222</th>\n",
              "      <td>0.019397</td>\n",
              "      <td>0.042749</td>\n",
              "      <td>0.156877</td>\n",
              "      <td>-0.035891</td>\n",
              "      <td>-0.008549</td>\n",
              "      <td>0.360509</td>\n",
              "      <td>0.346035</td>\n",
              "      <td>0.098539</td>\n",
              "      <td>0.258318</td>\n",
              "      <td>0.051323</td>\n",
              "      <td>...</td>\n",
              "      <td>0.271321</td>\n",
              "      <td>0.426708</td>\n",
              "      <td>0.478221</td>\n",
              "      <td>0.369783</td>\n",
              "      <td>0.418661</td>\n",
              "      <td>0.649621</td>\n",
              "      <td>0.562918</td>\n",
              "      <td>0.529550</td>\n",
              "      <td>0.344752</td>\n",
              "      <td>0.360086</td>\n",
              "    </tr>\n",
              "    <tr>\n",
              "      <th>223</th>\n",
              "      <td>0.017792</td>\n",
              "      <td>0.045273</td>\n",
              "      <td>0.148107</td>\n",
              "      <td>-0.029063</td>\n",
              "      <td>0.003024</td>\n",
              "      <td>0.353545</td>\n",
              "      <td>0.313850</td>\n",
              "      <td>0.096499</td>\n",
              "      <td>0.222356</td>\n",
              "      <td>0.060429</td>\n",
              "      <td>...</td>\n",
              "      <td>0.283542</td>\n",
              "      <td>0.399702</td>\n",
              "      <td>0.503032</td>\n",
              "      <td>0.354793</td>\n",
              "      <td>0.415153</td>\n",
              "      <td>0.597591</td>\n",
              "      <td>0.591424</td>\n",
              "      <td>0.572377</td>\n",
              "      <td>0.273038</td>\n",
              "      <td>0.340980</td>\n",
              "    </tr>\n",
              "    <tr>\n",
              "      <th>224</th>\n",
              "      <td>0.036942</td>\n",
              "      <td>0.072071</td>\n",
              "      <td>0.315279</td>\n",
              "      <td>0.074433</td>\n",
              "      <td>0.049532</td>\n",
              "      <td>0.456311</td>\n",
              "      <td>0.447396</td>\n",
              "      <td>0.168297</td>\n",
              "      <td>0.352800</td>\n",
              "      <td>0.081939</td>\n",
              "      <td>...</td>\n",
              "      <td>0.309810</td>\n",
              "      <td>0.410595</td>\n",
              "      <td>0.520052</td>\n",
              "      <td>0.352712</td>\n",
              "      <td>0.416625</td>\n",
              "      <td>0.692437</td>\n",
              "      <td>0.612453</td>\n",
              "      <td>0.650585</td>\n",
              "      <td>0.287607</td>\n",
              "      <td>0.379253</td>\n",
              "    </tr>\n",
              "  </tbody>\n",
              "</table>\n",
              "<p>225 rows × 72 columns</p>\n",
              "</div>\n",
              "      <button class=\"colab-df-convert\" onclick=\"convertToInteractive('df-d9664869-d0c7-4fac-9fe3-b0842fef6feb')\"\n",
              "              title=\"Convert this dataframe to an interactive table.\"\n",
              "              style=\"display:none;\">\n",
              "        \n",
              "  <svg xmlns=\"http://www.w3.org/2000/svg\" height=\"24px\"viewBox=\"0 0 24 24\"\n",
              "       width=\"24px\">\n",
              "    <path d=\"M0 0h24v24H0V0z\" fill=\"none\"/>\n",
              "    <path d=\"M18.56 5.44l.94 2.06.94-2.06 2.06-.94-2.06-.94-.94-2.06-.94 2.06-2.06.94zm-11 1L8.5 8.5l.94-2.06 2.06-.94-2.06-.94L8.5 2.5l-.94 2.06-2.06.94zm10 10l.94 2.06.94-2.06 2.06-.94-2.06-.94-.94-2.06-.94 2.06-2.06.94z\"/><path d=\"M17.41 7.96l-1.37-1.37c-.4-.4-.92-.59-1.43-.59-.52 0-1.04.2-1.43.59L10.3 9.45l-7.72 7.72c-.78.78-.78 2.05 0 2.83L4 21.41c.39.39.9.59 1.41.59.51 0 1.02-.2 1.41-.59l7.78-7.78 2.81-2.81c.8-.78.8-2.07 0-2.86zM5.41 20L4 18.59l7.72-7.72 1.47 1.35L5.41 20z\"/>\n",
              "  </svg>\n",
              "      </button>\n",
              "      \n",
              "  <style>\n",
              "    .colab-df-container {\n",
              "      display:flex;\n",
              "      flex-wrap:wrap;\n",
              "      gap: 12px;\n",
              "    }\n",
              "\n",
              "    .colab-df-convert {\n",
              "      background-color: #E8F0FE;\n",
              "      border: none;\n",
              "      border-radius: 50%;\n",
              "      cursor: pointer;\n",
              "      display: none;\n",
              "      fill: #1967D2;\n",
              "      height: 32px;\n",
              "      padding: 0 0 0 0;\n",
              "      width: 32px;\n",
              "    }\n",
              "\n",
              "    .colab-df-convert:hover {\n",
              "      background-color: #E2EBFA;\n",
              "      box-shadow: 0px 1px 2px rgba(60, 64, 67, 0.3), 0px 1px 3px 1px rgba(60, 64, 67, 0.15);\n",
              "      fill: #174EA6;\n",
              "    }\n",
              "\n",
              "    [theme=dark] .colab-df-convert {\n",
              "      background-color: #3B4455;\n",
              "      fill: #D2E3FC;\n",
              "    }\n",
              "\n",
              "    [theme=dark] .colab-df-convert:hover {\n",
              "      background-color: #434B5C;\n",
              "      box-shadow: 0px 1px 3px 1px rgba(0, 0, 0, 0.15);\n",
              "      filter: drop-shadow(0px 1px 2px rgba(0, 0, 0, 0.3));\n",
              "      fill: #FFFFFF;\n",
              "    }\n",
              "  </style>\n",
              "\n",
              "      <script>\n",
              "        const buttonEl =\n",
              "          document.querySelector('#df-d9664869-d0c7-4fac-9fe3-b0842fef6feb button.colab-df-convert');\n",
              "        buttonEl.style.display =\n",
              "          google.colab.kernel.accessAllowed ? 'block' : 'none';\n",
              "\n",
              "        async function convertToInteractive(key) {\n",
              "          const element = document.querySelector('#df-d9664869-d0c7-4fac-9fe3-b0842fef6feb');\n",
              "          const dataTable =\n",
              "            await google.colab.kernel.invokeFunction('convertToInteractive',\n",
              "                                                     [key], {});\n",
              "          if (!dataTable) return;\n",
              "\n",
              "          const docLinkHtml = 'Like what you see? Visit the ' +\n",
              "            '<a target=\"_blank\" href=https://colab.research.google.com/notebooks/data_table.ipynb>data table notebook</a>'\n",
              "            + ' to learn more about interactive tables.';\n",
              "          element.innerHTML = '';\n",
              "          dataTable['output_type'] = 'display_data';\n",
              "          await google.colab.output.renderOutput(dataTable, element);\n",
              "          const docLink = document.createElement('div');\n",
              "          docLink.innerHTML = docLinkHtml;\n",
              "          element.appendChild(docLink);\n",
              "        }\n",
              "      </script>\n",
              "    </div>\n",
              "  </div>\n",
              "  "
            ],
            "text/plain": [
              "     DYRK1A_N   ITSN1_N    BDNF_N     NR1_N    NR2A_N    pAKT_N   pBRAF_N  \\\n",
              "0    0.194799  0.295095  0.834319  0.647025  0.616092  0.362589  0.480416   \n",
              "1    0.204891  0.298444  0.893743  0.673478  0.625062  0.375819  0.491776   \n",
              "2    0.201946  0.300650  0.910547  0.708120  0.617937  0.382066  0.468524   \n",
              "3    0.169497  0.234302  0.657772  0.508752  0.600102  0.417285  0.457911   \n",
              "4    0.177516  0.256413  0.716315  0.573290  0.629791  0.432032  0.495437   \n",
              "..        ...       ...       ...       ...       ...       ...       ...   \n",
              "220  0.023986  0.056165  0.179981  0.019529  0.009781  0.337382  0.335680   \n",
              "221  0.038569  0.076839  0.272270  0.110646  0.069047  0.417300  0.442512   \n",
              "222  0.019397  0.042749  0.156877 -0.035891 -0.008549  0.360509  0.346035   \n",
              "223  0.017792  0.045273  0.148107 -0.029063  0.003024  0.353545  0.313850   \n",
              "224  0.036942  0.072071  0.315279  0.074433  0.049532  0.456311  0.447396   \n",
              "\n",
              "     pCAMKII_N   pCREB_N    pELK_N  ...  pCASP9_N   PSD95_N    SNCA_N  \\\n",
              "0     0.070860  0.617493  0.242611  ...  0.539866  0.607310  0.317293   \n",
              "1     0.078518  0.755851  0.269454  ...  0.525495  0.603954  0.409024   \n",
              "2     0.074166  0.754685  0.302385  ...  0.472954  0.533625  0.433994   \n",
              "3     0.168973  0.498060  0.229519  ...  0.460561  0.598817  0.314295   \n",
              "4     0.180261  0.546571  0.248794  ...  0.447698  0.601765  0.425844   \n",
              "..         ...       ...       ...  ...       ...       ...       ...   \n",
              "220   0.145065  0.271853  0.060004  ...  0.312873  0.478673  0.445465   \n",
              "221   0.198271  0.368225  0.085205  ...  0.314502  0.426393  0.412390   \n",
              "222   0.098539  0.258318  0.051323  ...  0.271321  0.426708  0.478221   \n",
              "223   0.096499  0.222356  0.060429  ...  0.283542  0.399702  0.503032   \n",
              "224   0.168297  0.352800  0.081939  ...  0.309810  0.410595  0.520052   \n",
              "\n",
              "     Ubiquitin_N  pGSK3B_Tyr216_N     SHH_N     pS6_N   pCFOS_N     SYP_N  \\\n",
              "0       0.374565         0.408652  0.249530  0.890982  0.346394  0.564144   \n",
              "1       0.275144         0.416120  0.304750  0.878814  0.403531  0.533654   \n",
              "2       0.272760         0.365096  0.331229  0.829725  0.404897  0.498218   \n",
              "3       0.471325         0.425405  0.227673  0.795776  0.394337  0.605025   \n",
              "4       0.354508         0.441160  0.259662  0.803567  0.349961  0.551378   \n",
              "..           ...              ...       ...       ...       ...       ...   \n",
              "220     0.353629         0.439838  0.590909  0.606523  0.443143  0.282740   \n",
              "221     0.325651         0.415284  0.565266  0.575199  0.424952  0.297369   \n",
              "222     0.369783         0.418661  0.649621  0.562918  0.529550  0.344752   \n",
              "223     0.354793         0.415153  0.597591  0.591424  0.572377  0.273038   \n",
              "224     0.352712         0.416625  0.692437  0.612453  0.650585  0.287607   \n",
              "\n",
              "       CaNA_N  \n",
              "0    0.689105  \n",
              "1    0.681981  \n",
              "2    0.633991  \n",
              "3    0.709995  \n",
              "4    0.695824  \n",
              "..        ...  \n",
              "220  0.372097  \n",
              "221  0.358235  \n",
              "222  0.360086  \n",
              "223  0.340980  \n",
              "224  0.379253  \n",
              "\n",
              "[225 rows x 72 columns]"
            ]
          },
          "execution_count": 169,
          "metadata": {},
          "output_type": "execute_result"
        }
      ],
      "source": [
        "Test_normalized_features"
      ]
    },
    {
      "cell_type": "markdown",
      "metadata": {
        "id": "1crPkGN1MkVA"
      },
      "source": [
        "Removed Correlated Columns"
      ]
    },
    {
      "cell_type": "code",
      "execution_count": null,
      "metadata": {
        "id": "hL3JX47GMafa"
      },
      "outputs": [],
      "source": [
        "Testing_features = Test_normalized_features.drop(list(correlated_feature_columns) , axis=1)                 ## drop the correlated columns in the training features from the test dataset"
      ]
    },
    {
      "cell_type": "code",
      "execution_count": null,
      "metadata": {
        "colab": {
          "base_uri": "https://localhost:8080/",
          "height": 424
        },
        "id": "OsUr6K2BNO-r",
        "outputId": "1c92271d-8d35-43cb-ecea-ab241a261b7c"
      },
      "outputs": [
        {
          "data": {
            "text/html": [
              "\n",
              "  <div id=\"df-fd2fbdd1-6c9d-45f5-935d-ae08722e1be9\">\n",
              "    <div class=\"colab-df-container\">\n",
              "      <div>\n",
              "<style scoped>\n",
              "    .dataframe tbody tr th:only-of-type {\n",
              "        vertical-align: middle;\n",
              "    }\n",
              "\n",
              "    .dataframe tbody tr th {\n",
              "        vertical-align: top;\n",
              "    }\n",
              "\n",
              "    .dataframe thead th {\n",
              "        text-align: right;\n",
              "    }\n",
              "</style>\n",
              "<table border=\"1\" class=\"dataframe\">\n",
              "  <thead>\n",
              "    <tr style=\"text-align: right;\">\n",
              "      <th></th>\n",
              "      <th>DYRK1A_N</th>\n",
              "      <th>BDNF_N</th>\n",
              "      <th>NR1_N</th>\n",
              "      <th>NR2A_N</th>\n",
              "      <th>pAKT_N</th>\n",
              "      <th>pBRAF_N</th>\n",
              "      <th>pCAMKII_N</th>\n",
              "      <th>pCREB_N</th>\n",
              "      <th>pELK_N</th>\n",
              "      <th>pJNK_N</th>\n",
              "      <th>...</th>\n",
              "      <th>P3525_N</th>\n",
              "      <th>pCASP9_N</th>\n",
              "      <th>PSD95_N</th>\n",
              "      <th>SNCA_N</th>\n",
              "      <th>Ubiquitin_N</th>\n",
              "      <th>pGSK3B_Tyr216_N</th>\n",
              "      <th>SHH_N</th>\n",
              "      <th>pCFOS_N</th>\n",
              "      <th>SYP_N</th>\n",
              "      <th>CaNA_N</th>\n",
              "    </tr>\n",
              "  </thead>\n",
              "  <tbody>\n",
              "    <tr>\n",
              "      <th>0</th>\n",
              "      <td>0.194799</td>\n",
              "      <td>0.834319</td>\n",
              "      <td>0.647025</td>\n",
              "      <td>0.616092</td>\n",
              "      <td>0.362589</td>\n",
              "      <td>0.480416</td>\n",
              "      <td>0.070860</td>\n",
              "      <td>0.617493</td>\n",
              "      <td>0.242611</td>\n",
              "      <td>0.671983</td>\n",
              "      <td>...</td>\n",
              "      <td>0.407240</td>\n",
              "      <td>0.539866</td>\n",
              "      <td>0.607310</td>\n",
              "      <td>0.317293</td>\n",
              "      <td>0.374565</td>\n",
              "      <td>0.408652</td>\n",
              "      <td>0.249530</td>\n",
              "      <td>0.346394</td>\n",
              "      <td>0.564144</td>\n",
              "      <td>0.689105</td>\n",
              "    </tr>\n",
              "    <tr>\n",
              "      <th>1</th>\n",
              "      <td>0.204891</td>\n",
              "      <td>0.893743</td>\n",
              "      <td>0.673478</td>\n",
              "      <td>0.625062</td>\n",
              "      <td>0.375819</td>\n",
              "      <td>0.491776</td>\n",
              "      <td>0.078518</td>\n",
              "      <td>0.755851</td>\n",
              "      <td>0.269454</td>\n",
              "      <td>0.683782</td>\n",
              "      <td>...</td>\n",
              "      <td>0.478113</td>\n",
              "      <td>0.525495</td>\n",
              "      <td>0.603954</td>\n",
              "      <td>0.409024</td>\n",
              "      <td>0.275144</td>\n",
              "      <td>0.416120</td>\n",
              "      <td>0.304750</td>\n",
              "      <td>0.403531</td>\n",
              "      <td>0.533654</td>\n",
              "      <td>0.681981</td>\n",
              "    </tr>\n",
              "    <tr>\n",
              "      <th>2</th>\n",
              "      <td>0.201946</td>\n",
              "      <td>0.910547</td>\n",
              "      <td>0.708120</td>\n",
              "      <td>0.617937</td>\n",
              "      <td>0.382066</td>\n",
              "      <td>0.468524</td>\n",
              "      <td>0.074166</td>\n",
              "      <td>0.754685</td>\n",
              "      <td>0.302385</td>\n",
              "      <td>0.701493</td>\n",
              "      <td>...</td>\n",
              "      <td>0.450953</td>\n",
              "      <td>0.472954</td>\n",
              "      <td>0.533625</td>\n",
              "      <td>0.433994</td>\n",
              "      <td>0.272760</td>\n",
              "      <td>0.365096</td>\n",
              "      <td>0.331229</td>\n",
              "      <td>0.404897</td>\n",
              "      <td>0.498218</td>\n",
              "      <td>0.633991</td>\n",
              "    </tr>\n",
              "    <tr>\n",
              "      <th>3</th>\n",
              "      <td>0.169497</td>\n",
              "      <td>0.657772</td>\n",
              "      <td>0.508752</td>\n",
              "      <td>0.600102</td>\n",
              "      <td>0.417285</td>\n",
              "      <td>0.457911</td>\n",
              "      <td>0.168973</td>\n",
              "      <td>0.498060</td>\n",
              "      <td>0.229519</td>\n",
              "      <td>0.646204</td>\n",
              "      <td>...</td>\n",
              "      <td>0.358471</td>\n",
              "      <td>0.460561</td>\n",
              "      <td>0.598817</td>\n",
              "      <td>0.314295</td>\n",
              "      <td>0.471325</td>\n",
              "      <td>0.425405</td>\n",
              "      <td>0.227673</td>\n",
              "      <td>0.394337</td>\n",
              "      <td>0.605025</td>\n",
              "      <td>0.709995</td>\n",
              "    </tr>\n",
              "    <tr>\n",
              "      <th>4</th>\n",
              "      <td>0.177516</td>\n",
              "      <td>0.716315</td>\n",
              "      <td>0.573290</td>\n",
              "      <td>0.629791</td>\n",
              "      <td>0.432032</td>\n",
              "      <td>0.495437</td>\n",
              "      <td>0.180261</td>\n",
              "      <td>0.546571</td>\n",
              "      <td>0.248794</td>\n",
              "      <td>0.671674</td>\n",
              "      <td>...</td>\n",
              "      <td>0.450383</td>\n",
              "      <td>0.447698</td>\n",
              "      <td>0.601765</td>\n",
              "      <td>0.425844</td>\n",
              "      <td>0.354508</td>\n",
              "      <td>0.441160</td>\n",
              "      <td>0.259662</td>\n",
              "      <td>0.349961</td>\n",
              "      <td>0.551378</td>\n",
              "      <td>0.695824</td>\n",
              "    </tr>\n",
              "    <tr>\n",
              "      <th>...</th>\n",
              "      <td>...</td>\n",
              "      <td>...</td>\n",
              "      <td>...</td>\n",
              "      <td>...</td>\n",
              "      <td>...</td>\n",
              "      <td>...</td>\n",
              "      <td>...</td>\n",
              "      <td>...</td>\n",
              "      <td>...</td>\n",
              "      <td>...</td>\n",
              "      <td>...</td>\n",
              "      <td>...</td>\n",
              "      <td>...</td>\n",
              "      <td>...</td>\n",
              "      <td>...</td>\n",
              "      <td>...</td>\n",
              "      <td>...</td>\n",
              "      <td>...</td>\n",
              "      <td>...</td>\n",
              "      <td>...</td>\n",
              "      <td>...</td>\n",
              "    </tr>\n",
              "    <tr>\n",
              "      <th>220</th>\n",
              "      <td>0.023986</td>\n",
              "      <td>0.179981</td>\n",
              "      <td>0.019529</td>\n",
              "      <td>0.009781</td>\n",
              "      <td>0.337382</td>\n",
              "      <td>0.335680</td>\n",
              "      <td>0.145065</td>\n",
              "      <td>0.271853</td>\n",
              "      <td>0.060004</td>\n",
              "      <td>0.413315</td>\n",
              "      <td>...</td>\n",
              "      <td>0.420784</td>\n",
              "      <td>0.312873</td>\n",
              "      <td>0.478673</td>\n",
              "      <td>0.445465</td>\n",
              "      <td>0.353629</td>\n",
              "      <td>0.439838</td>\n",
              "      <td>0.590909</td>\n",
              "      <td>0.443143</td>\n",
              "      <td>0.282740</td>\n",
              "      <td>0.372097</td>\n",
              "    </tr>\n",
              "    <tr>\n",
              "      <th>221</th>\n",
              "      <td>0.038569</td>\n",
              "      <td>0.272270</td>\n",
              "      <td>0.110646</td>\n",
              "      <td>0.069047</td>\n",
              "      <td>0.417300</td>\n",
              "      <td>0.442512</td>\n",
              "      <td>0.198271</td>\n",
              "      <td>0.368225</td>\n",
              "      <td>0.085205</td>\n",
              "      <td>0.480547</td>\n",
              "      <td>...</td>\n",
              "      <td>0.371376</td>\n",
              "      <td>0.314502</td>\n",
              "      <td>0.426393</td>\n",
              "      <td>0.412390</td>\n",
              "      <td>0.325651</td>\n",
              "      <td>0.415284</td>\n",
              "      <td>0.565266</td>\n",
              "      <td>0.424952</td>\n",
              "      <td>0.297369</td>\n",
              "      <td>0.358235</td>\n",
              "    </tr>\n",
              "    <tr>\n",
              "      <th>222</th>\n",
              "      <td>0.019397</td>\n",
              "      <td>0.156877</td>\n",
              "      <td>-0.035891</td>\n",
              "      <td>-0.008549</td>\n",
              "      <td>0.360509</td>\n",
              "      <td>0.346035</td>\n",
              "      <td>0.098539</td>\n",
              "      <td>0.258318</td>\n",
              "      <td>0.051323</td>\n",
              "      <td>0.389045</td>\n",
              "      <td>...</td>\n",
              "      <td>0.450096</td>\n",
              "      <td>0.271321</td>\n",
              "      <td>0.426708</td>\n",
              "      <td>0.478221</td>\n",
              "      <td>0.369783</td>\n",
              "      <td>0.418661</td>\n",
              "      <td>0.649621</td>\n",
              "      <td>0.529550</td>\n",
              "      <td>0.344752</td>\n",
              "      <td>0.360086</td>\n",
              "    </tr>\n",
              "    <tr>\n",
              "      <th>223</th>\n",
              "      <td>0.017792</td>\n",
              "      <td>0.148107</td>\n",
              "      <td>-0.029063</td>\n",
              "      <td>0.003024</td>\n",
              "      <td>0.353545</td>\n",
              "      <td>0.313850</td>\n",
              "      <td>0.096499</td>\n",
              "      <td>0.222356</td>\n",
              "      <td>0.060429</td>\n",
              "      <td>0.386072</td>\n",
              "      <td>...</td>\n",
              "      <td>0.466111</td>\n",
              "      <td>0.283542</td>\n",
              "      <td>0.399702</td>\n",
              "      <td>0.503032</td>\n",
              "      <td>0.354793</td>\n",
              "      <td>0.415153</td>\n",
              "      <td>0.597591</td>\n",
              "      <td>0.572377</td>\n",
              "      <td>0.273038</td>\n",
              "      <td>0.340980</td>\n",
              "    </tr>\n",
              "    <tr>\n",
              "      <th>224</th>\n",
              "      <td>0.036942</td>\n",
              "      <td>0.315279</td>\n",
              "      <td>0.074433</td>\n",
              "      <td>0.049532</td>\n",
              "      <td>0.456311</td>\n",
              "      <td>0.447396</td>\n",
              "      <td>0.168297</td>\n",
              "      <td>0.352800</td>\n",
              "      <td>0.081939</td>\n",
              "      <td>0.476587</td>\n",
              "      <td>...</td>\n",
              "      <td>0.539433</td>\n",
              "      <td>0.309810</td>\n",
              "      <td>0.410595</td>\n",
              "      <td>0.520052</td>\n",
              "      <td>0.352712</td>\n",
              "      <td>0.416625</td>\n",
              "      <td>0.692437</td>\n",
              "      <td>0.650585</td>\n",
              "      <td>0.287607</td>\n",
              "      <td>0.379253</td>\n",
              "    </tr>\n",
              "  </tbody>\n",
              "</table>\n",
              "<p>225 rows × 67 columns</p>\n",
              "</div>\n",
              "      <button class=\"colab-df-convert\" onclick=\"convertToInteractive('df-fd2fbdd1-6c9d-45f5-935d-ae08722e1be9')\"\n",
              "              title=\"Convert this dataframe to an interactive table.\"\n",
              "              style=\"display:none;\">\n",
              "        \n",
              "  <svg xmlns=\"http://www.w3.org/2000/svg\" height=\"24px\"viewBox=\"0 0 24 24\"\n",
              "       width=\"24px\">\n",
              "    <path d=\"M0 0h24v24H0V0z\" fill=\"none\"/>\n",
              "    <path d=\"M18.56 5.44l.94 2.06.94-2.06 2.06-.94-2.06-.94-.94-2.06-.94 2.06-2.06.94zm-11 1L8.5 8.5l.94-2.06 2.06-.94-2.06-.94L8.5 2.5l-.94 2.06-2.06.94zm10 10l.94 2.06.94-2.06 2.06-.94-2.06-.94-.94-2.06-.94 2.06-2.06.94z\"/><path d=\"M17.41 7.96l-1.37-1.37c-.4-.4-.92-.59-1.43-.59-.52 0-1.04.2-1.43.59L10.3 9.45l-7.72 7.72c-.78.78-.78 2.05 0 2.83L4 21.41c.39.39.9.59 1.41.59.51 0 1.02-.2 1.41-.59l7.78-7.78 2.81-2.81c.8-.78.8-2.07 0-2.86zM5.41 20L4 18.59l7.72-7.72 1.47 1.35L5.41 20z\"/>\n",
              "  </svg>\n",
              "      </button>\n",
              "      \n",
              "  <style>\n",
              "    .colab-df-container {\n",
              "      display:flex;\n",
              "      flex-wrap:wrap;\n",
              "      gap: 12px;\n",
              "    }\n",
              "\n",
              "    .colab-df-convert {\n",
              "      background-color: #E8F0FE;\n",
              "      border: none;\n",
              "      border-radius: 50%;\n",
              "      cursor: pointer;\n",
              "      display: none;\n",
              "      fill: #1967D2;\n",
              "      height: 32px;\n",
              "      padding: 0 0 0 0;\n",
              "      width: 32px;\n",
              "    }\n",
              "\n",
              "    .colab-df-convert:hover {\n",
              "      background-color: #E2EBFA;\n",
              "      box-shadow: 0px 1px 2px rgba(60, 64, 67, 0.3), 0px 1px 3px 1px rgba(60, 64, 67, 0.15);\n",
              "      fill: #174EA6;\n",
              "    }\n",
              "\n",
              "    [theme=dark] .colab-df-convert {\n",
              "      background-color: #3B4455;\n",
              "      fill: #D2E3FC;\n",
              "    }\n",
              "\n",
              "    [theme=dark] .colab-df-convert:hover {\n",
              "      background-color: #434B5C;\n",
              "      box-shadow: 0px 1px 3px 1px rgba(0, 0, 0, 0.15);\n",
              "      filter: drop-shadow(0px 1px 2px rgba(0, 0, 0, 0.3));\n",
              "      fill: #FFFFFF;\n",
              "    }\n",
              "  </style>\n",
              "\n",
              "      <script>\n",
              "        const buttonEl =\n",
              "          document.querySelector('#df-fd2fbdd1-6c9d-45f5-935d-ae08722e1be9 button.colab-df-convert');\n",
              "        buttonEl.style.display =\n",
              "          google.colab.kernel.accessAllowed ? 'block' : 'none';\n",
              "\n",
              "        async function convertToInteractive(key) {\n",
              "          const element = document.querySelector('#df-fd2fbdd1-6c9d-45f5-935d-ae08722e1be9');\n",
              "          const dataTable =\n",
              "            await google.colab.kernel.invokeFunction('convertToInteractive',\n",
              "                                                     [key], {});\n",
              "          if (!dataTable) return;\n",
              "\n",
              "          const docLinkHtml = 'Like what you see? Visit the ' +\n",
              "            '<a target=\"_blank\" href=https://colab.research.google.com/notebooks/data_table.ipynb>data table notebook</a>'\n",
              "            + ' to learn more about interactive tables.';\n",
              "          element.innerHTML = '';\n",
              "          dataTable['output_type'] = 'display_data';\n",
              "          await google.colab.output.renderOutput(dataTable, element);\n",
              "          const docLink = document.createElement('div');\n",
              "          docLink.innerHTML = docLinkHtml;\n",
              "          element.appendChild(docLink);\n",
              "        }\n",
              "      </script>\n",
              "    </div>\n",
              "  </div>\n",
              "  "
            ],
            "text/plain": [
              "     DYRK1A_N    BDNF_N     NR1_N    NR2A_N    pAKT_N   pBRAF_N  pCAMKII_N  \\\n",
              "0    0.194799  0.834319  0.647025  0.616092  0.362589  0.480416   0.070860   \n",
              "1    0.204891  0.893743  0.673478  0.625062  0.375819  0.491776   0.078518   \n",
              "2    0.201946  0.910547  0.708120  0.617937  0.382066  0.468524   0.074166   \n",
              "3    0.169497  0.657772  0.508752  0.600102  0.417285  0.457911   0.168973   \n",
              "4    0.177516  0.716315  0.573290  0.629791  0.432032  0.495437   0.180261   \n",
              "..        ...       ...       ...       ...       ...       ...        ...   \n",
              "220  0.023986  0.179981  0.019529  0.009781  0.337382  0.335680   0.145065   \n",
              "221  0.038569  0.272270  0.110646  0.069047  0.417300  0.442512   0.198271   \n",
              "222  0.019397  0.156877 -0.035891 -0.008549  0.360509  0.346035   0.098539   \n",
              "223  0.017792  0.148107 -0.029063  0.003024  0.353545  0.313850   0.096499   \n",
              "224  0.036942  0.315279  0.074433  0.049532  0.456311  0.447396   0.168297   \n",
              "\n",
              "      pCREB_N    pELK_N    pJNK_N  ...   P3525_N  pCASP9_N   PSD95_N  \\\n",
              "0    0.617493  0.242611  0.671983  ...  0.407240  0.539866  0.607310   \n",
              "1    0.755851  0.269454  0.683782  ...  0.478113  0.525495  0.603954   \n",
              "2    0.754685  0.302385  0.701493  ...  0.450953  0.472954  0.533625   \n",
              "3    0.498060  0.229519  0.646204  ...  0.358471  0.460561  0.598817   \n",
              "4    0.546571  0.248794  0.671674  ...  0.450383  0.447698  0.601765   \n",
              "..        ...       ...       ...  ...       ...       ...       ...   \n",
              "220  0.271853  0.060004  0.413315  ...  0.420784  0.312873  0.478673   \n",
              "221  0.368225  0.085205  0.480547  ...  0.371376  0.314502  0.426393   \n",
              "222  0.258318  0.051323  0.389045  ...  0.450096  0.271321  0.426708   \n",
              "223  0.222356  0.060429  0.386072  ...  0.466111  0.283542  0.399702   \n",
              "224  0.352800  0.081939  0.476587  ...  0.539433  0.309810  0.410595   \n",
              "\n",
              "       SNCA_N  Ubiquitin_N  pGSK3B_Tyr216_N     SHH_N   pCFOS_N     SYP_N  \\\n",
              "0    0.317293     0.374565         0.408652  0.249530  0.346394  0.564144   \n",
              "1    0.409024     0.275144         0.416120  0.304750  0.403531  0.533654   \n",
              "2    0.433994     0.272760         0.365096  0.331229  0.404897  0.498218   \n",
              "3    0.314295     0.471325         0.425405  0.227673  0.394337  0.605025   \n",
              "4    0.425844     0.354508         0.441160  0.259662  0.349961  0.551378   \n",
              "..        ...          ...              ...       ...       ...       ...   \n",
              "220  0.445465     0.353629         0.439838  0.590909  0.443143  0.282740   \n",
              "221  0.412390     0.325651         0.415284  0.565266  0.424952  0.297369   \n",
              "222  0.478221     0.369783         0.418661  0.649621  0.529550  0.344752   \n",
              "223  0.503032     0.354793         0.415153  0.597591  0.572377  0.273038   \n",
              "224  0.520052     0.352712         0.416625  0.692437  0.650585  0.287607   \n",
              "\n",
              "       CaNA_N  \n",
              "0    0.689105  \n",
              "1    0.681981  \n",
              "2    0.633991  \n",
              "3    0.709995  \n",
              "4    0.695824  \n",
              "..        ...  \n",
              "220  0.372097  \n",
              "221  0.358235  \n",
              "222  0.360086  \n",
              "223  0.340980  \n",
              "224  0.379253  \n",
              "\n",
              "[225 rows x 67 columns]"
            ]
          },
          "execution_count": 171,
          "metadata": {},
          "output_type": "execute_result"
        }
      ],
      "source": [
        "Testing_features"
      ]
    },
    {
      "cell_type": "markdown",
      "metadata": {
        "id": "FxSmvo3DCJm_"
      },
      "source": [
        "There is not any training feature column is present, whose variance is zero"
      ]
    },
    {
      "cell_type": "markdown",
      "metadata": {
        "id": "uy_Br4c4OGP9"
      },
      "source": [
        "Binary Classification"
      ]
    },
    {
      "cell_type": "code",
      "execution_count": null,
      "metadata": {
        "id": "HJEJ9Rs6NREf"
      },
      "outputs": [],
      "source": [
        "testing_label = Test_Data['Genotype']\n",
        "label = LabelEncoder()\n",
        "y_test = label.fit_transform(testing_label)   ## Encoded into numerical values"
      ]
    },
    {
      "cell_type": "markdown",
      "metadata": {
        "id": "HkwJu3ylPumD"
      },
      "source": [
        "Linear SVM"
      ]
    },
    {
      "cell_type": "code",
      "execution_count": null,
      "metadata": {
        "id": "Soash11YOBFx"
      },
      "outputs": [],
      "source": [
        "optimal_Linear_SVM_testing_features = Testing_features[most_important_features_Linear_SVM]    ## it gives the dataframe of testing features which only consists the most important features obtained using RFECV"
      ]
    },
    {
      "cell_type": "code",
      "execution_count": null,
      "metadata": {
        "id": "ZhrEX5xgQR3P"
      },
      "outputs": [],
      "source": [
        "Linear_SVM_clfr = SVC( C = 1 , kernel = 'linear' )                             ## SVM is defined with best hyperparameter obtained from GridSearchCV using 5 fold cross-validation\n",
        "Linear_SVM_clfr.fit( training_features[most_important_features_Linear_SVM] , y_train)     ## fit on training set consists only important important features obtained using RFECV \n",
        "y_test_predicted_Linear_SVM = Linear_SVM_clfr.predict(optimal_Linear_SVM_testing_features)     ## predict on test features"
      ]
    },
    {
      "cell_type": "code",
      "execution_count": null,
      "metadata": {
        "colab": {
          "base_uri": "https://localhost:8080/"
        },
        "id": "UJGIikwtRwcS",
        "outputId": "7d9b090a-e8ba-43c6-d07c-9132bccb90a9"
      },
      "outputs": [
        {
          "name": "stdout",
          "output_type": "stream",
          "text": [
            "              precision    recall  f1-score   support\n",
            "\n",
            "           0       0.89      0.83      0.86       135\n",
            "           1       0.77      0.84      0.80        90\n",
            "\n",
            "    accuracy                           0.84       225\n",
            "   macro avg       0.83      0.84      0.83       225\n",
            "weighted avg       0.84      0.84      0.84       225\n",
            "\n"
          ]
        }
      ],
      "source": [
        "print(classification_report(y_test , y_test_predicted_Linear_SVM ))"
      ]
    },
    {
      "cell_type": "code",
      "execution_count": null,
      "metadata": {
        "colab": {
          "base_uri": "https://localhost:8080/",
          "height": 312
        },
        "id": "nRtcsdVkR-Mp",
        "outputId": "cb7c9540-3b90-4877-928b-1be93db13787"
      },
      "outputs": [
        {
          "data": {
            "text/plain": [
              "[Text(0, 0.5, 'Control'), Text(0, 1.5, 'Ts65Dn')]"
            ]
          },
          "execution_count": 271,
          "metadata": {},
          "output_type": "execute_result"
        },
        {
          "data": {
            "image/png": "[encoded data removed]",
            "text/plain": [
              "<Figure size 432x288 with 2 Axes>"
            ]
          },
          "metadata": {
            "needs_background": "light"
          },
          "output_type": "display_data"
        }
      ],
      "source": [
        "cm_test_Linear_SVM = confusion_matrix(y_test , y_test_predicted_Linear_SVM)\n",
        "ax=plt.subplot()\n",
        "sns.heatmap(cm_test_Linear_SVM , annot=True)\n",
        "ax.set_xlabel('Predicted labels')\n",
        "ax.set_ylabel('True labels') \n",
        "ax.set_title('Testing Confusion Matrix')\n",
        "ax.xaxis.set_ticklabels(['Control', 'Ts65Dn'])\n",
        "ax.yaxis.set_ticklabels(['Control', 'Ts65Dn'])"
      ]
    },
    {
      "cell_type": "markdown",
      "metadata": {
        "id": "w47RQEyWS9-n"
      },
      "source": [
        "RBF SVM"
      ]
    },
    {
      "cell_type": "code",
      "execution_count": null,
      "metadata": {
        "id": "44Ye-2awSWMV"
      },
      "outputs": [],
      "source": [
        "optimal_RBF_SVM_testing_features = Testing_features[optimal_features_RBF_SVM]         ## it gives the dataframe of testing features which only consists the most important features obtained using RFECV"
      ]
    },
    {
      "cell_type": "code",
      "execution_count": null,
      "metadata": {
        "id": "RIiQbxF3TJzs"
      },
      "outputs": [],
      "source": [
        "RBF_SVM_clfr = SVC(C = 100, gamma = 0.01, kernel = 'rbf')                             ## RBF SVM is defined with best hyperparameter obtained from GridSearchCV using 5 fold cross-validation\n",
        "RBF_SVM_clfr.fit(training_features[optimal_features_RBF_SVM], y_train)                ## fit on training set consists only important important features obtained using RFECV \n",
        "y_predicted_test_RBF_SVM = RBF_SVM_clfr.predict( optimal_RBF_SVM_testing_features)    ## predict on test features"
      ]
    },
    {
      "cell_type": "code",
      "execution_count": null,
      "metadata": {
        "colab": {
          "base_uri": "https://localhost:8080/"
        },
        "id": "90Ip7t3OTLyN",
        "outputId": "60e8a16f-4aef-4029-b3db-7270260c8028"
      },
      "outputs": [
        {
          "name": "stdout",
          "output_type": "stream",
          "text": [
            "              precision    recall  f1-score   support\n",
            "\n",
            "           0       0.79      0.76      0.77       135\n",
            "           1       0.66      0.69      0.67        90\n",
            "\n",
            "    accuracy                           0.73       225\n",
            "   macro avg       0.72      0.73      0.72       225\n",
            "weighted avg       0.74      0.73      0.73       225\n",
            "\n"
          ]
        }
      ],
      "source": [
        "print(classification_report(y_test , y_predicted_test_RBF_SVM ))"
      ]
    },
    {
      "cell_type": "code",
      "execution_count": null,
      "metadata": {
        "colab": {
          "base_uri": "https://localhost:8080/",
          "height": 312
        },
        "id": "t3YlcXn8TyFj",
        "outputId": "29aa5e6f-9f28-46e9-dd6e-3ed436b17be9"
      },
      "outputs": [
        {
          "data": {
            "text/plain": [
              "[Text(0, 0.5, 'Control'), Text(0, 1.5, 'Ts65Dn')]"
            ]
          },
          "execution_count": 294,
          "metadata": {},
          "output_type": "execute_result"
        },
        {
          "data": {
            "image/png": "[encoded data removed]",
            "text/plain": [
              "<Figure size 432x288 with 2 Axes>"
            ]
          },
          "metadata": {
            "needs_background": "light"
          },
          "output_type": "display_data"
        }
      ],
      "source": [
        "cm_test_RBF_SVM = confusion_matrix(y_test , y_predicted_test_RBF_SVM)\n",
        "ax=plt.subplot()\n",
        "sns.heatmap(cm_test_RBF_SVM , annot=True)\n",
        "ax.set_xlabel('Predicted labels')\n",
        "ax.set_ylabel('True labels') \n",
        "ax.set_title('Testing Confusion Matrix')\n",
        "ax.xaxis.set_ticklabels(['Control', 'Ts65Dn'])\n",
        "ax.yaxis.set_ticklabels(['Control', 'Ts65Dn'])"
      ]
    },
    {
      "cell_type": "markdown",
      "metadata": {
        "id": "OPKif_-jUGlA"
      },
      "source": [
        "Neural Network"
      ]
    },
    {
      "cell_type": "code",
      "execution_count": null,
      "metadata": {
        "id": "oHp0Ig_KUDNU"
      },
      "outputs": [],
      "source": [
        "optimal_NN_testing_features = Testing_features[optimal_features_NN]             ## it gives the dataframe of testing features which only consists the most important features obtained using RFECV"
      ]
    },
    {
      "cell_type": "code",
      "execution_count": null,
      "metadata": {
        "colab": {
          "base_uri": "https://localhost:8080/"
        },
        "id": "XGMOVKEEUaB5",
        "outputId": "0f6db3e6-377f-4246-bd33-d4ce913ab105"
      },
      "outputs": [
        {
          "name": "stderr",
          "output_type": "stream",
          "text": [
            "/usr/local/lib/python3.9/dist-packages/sklearn/neural_network/_multilayer_perceptron.py:541: ConvergenceWarning: lbfgs failed to converge (status=1):\n",
            "STOP: TOTAL NO. of ITERATIONS REACHED LIMIT.\n",
            "\n",
            "Increase the number of iterations (max_iter) or scale the data as shown in:\n",
            "    https://scikit-learn.org/stable/modules/preprocessing.html\n",
            "  self.n_iter_ = _check_optimize_result(\"lbfgs\", opt_res, self.max_iter)\n"
          ]
        }
      ],
      "source": [
        "NN_clfr = MLPClassifier(activation = 'relu', alpha = 0.1, hidden_layer_sizes = (128, ), max_iter = 1000, solver = 'lbfgs', early_stopping= True)   ## NN is defined with best hyperparameter obtained from GridSearchCV using 5 fold cross-validation\n",
        "NN_clfr.fit(training_features[optimal_features_NN], y_train)                                       ## fit on training set consists only important important features obtained using RFECV\n",
        "y_predicted_test_NN = NN_clfr.predict( optimal_NN_testing_features)                                ## predict on test features"
      ]
    },
    {
      "cell_type": "code",
      "execution_count": null,
      "metadata": {
        "colab": {
          "base_uri": "https://localhost:8080/"
        },
        "id": "E7Wj0adyU102",
        "outputId": "a5aa9557-e286-4302-b8c1-674a8b6bf070"
      },
      "outputs": [
        {
          "name": "stdout",
          "output_type": "stream",
          "text": [
            "              precision    recall  f1-score   support\n",
            "\n",
            "           0       0.86      0.70      0.78       135\n",
            "           1       0.65      0.83      0.73        90\n",
            "\n",
            "    accuracy                           0.76       225\n",
            "   macro avg       0.76      0.77      0.75       225\n",
            "weighted avg       0.78      0.76      0.76       225\n",
            "\n"
          ]
        }
      ],
      "source": [
        "print(classification_report(y_test , y_predicted_test_NN ))"
      ]
    },
    {
      "cell_type": "code",
      "execution_count": null,
      "metadata": {
        "colab": {
          "base_uri": "https://localhost:8080/",
          "height": 312
        },
        "id": "mp2OppcTU9Is",
        "outputId": "f9cc3ca1-ad07-44fb-9aa0-3f0f67984fb9"
      },
      "outputs": [
        {
          "data": {
            "text/plain": [
              "[Text(0, 0.5, 'Control'), Text(0, 1.5, 'Ts65Dn')]"
            ]
          },
          "execution_count": 283,
          "metadata": {},
          "output_type": "execute_result"
        },
        {
          "data": {
            "image/png": "[encoded data removed]",
            "text/plain": [
              "<Figure size 432x288 with 2 Axes>"
            ]
          },
          "metadata": {
            "needs_background": "light"
          },
          "output_type": "display_data"
        }
      ],
      "source": [
        "cm_test_NN = confusion_matrix(y_test , y_predicted_test_NN)\n",
        "ax=plt.subplot()\n",
        "sns.heatmap(cm_test_NN , annot=True)\n",
        "ax.set_xlabel('Predicted labels')\n",
        "ax.set_ylabel('True labels') \n",
        "ax.set_title('Testing Confusion Matrix')\n",
        "ax.xaxis.set_ticklabels(['Control', 'Ts65Dn'])\n",
        "ax.yaxis.set_ticklabels(['Control', 'Ts65Dn'])"
      ]
    },
    {
      "cell_type": "markdown",
      "metadata": {
        "id": "5fnagM76V-30"
      },
      "source": [
        "Random Forest"
      ]
    },
    {
      "cell_type": "code",
      "execution_count": null,
      "metadata": {
        "id": "A0qgHNfhV6Mi"
      },
      "outputs": [],
      "source": [
        "optimal_RF_testing_features = Testing_features[most_important_features_RF]                  ## it gives the dataframe of testing features which only consists the most important features obtained using RFECV"
      ]
    },
    {
      "cell_type": "code",
      "execution_count": null,
      "metadata": {
        "id": "eyDzqohnWIQt"
      },
      "outputs": [],
      "source": [
        "RF_clfr = RandomForestClassifier( max_depth = 3, max_features = None)                      ## RF is defined with best hyperparameter obtained from GridSearchCV using 5 fold cross-validation\n",
        "RF_clfr.fit(training_features[most_important_features_RF], y_train)                        ## fit on training set consists only important important features obtained using RFECV\n",
        "y_predicted_test_RF = RF_clfr.predict( optimal_RF_testing_features)                        ## predict on test features"
      ]
    },
    {
      "cell_type": "code",
      "execution_count": null,
      "metadata": {
        "colab": {
          "base_uri": "https://localhost:8080/"
        },
        "id": "AZ-jWHVvWKPV",
        "outputId": "72fb9c26-50e0-4ade-e294-3b5882ed184e"
      },
      "outputs": [
        {
          "name": "stdout",
          "output_type": "stream",
          "text": [
            "              precision    recall  f1-score   support\n",
            "\n",
            "           0       0.76      0.75      0.75       135\n",
            "           1       0.63      0.64      0.64        90\n",
            "\n",
            "    accuracy                           0.71       225\n",
            "   macro avg       0.69      0.70      0.70       225\n",
            "weighted avg       0.71      0.71      0.71       225\n",
            "\n"
          ]
        }
      ],
      "source": [
        "print(classification_report(y_test , y_predicted_test_RF ))"
      ]
    },
    {
      "cell_type": "code",
      "execution_count": null,
      "metadata": {
        "colab": {
          "base_uri": "https://localhost:8080/",
          "height": 312
        },
        "id": "lE_nbIVZWlgu",
        "outputId": "aadbad70-5e3f-47f9-9b4e-1bfce07b1f26"
      },
      "outputs": [
        {
          "data": {
            "text/plain": [
              "[Text(0, 0.5, 'Control'), Text(0, 1.5, 'Ts65Dn')]"
            ]
          },
          "execution_count": 287,
          "metadata": {},
          "output_type": "execute_result"
        },
        {
          "data": {
            "image/png": "[encoded data removed]",
            "text/plain": [
              "<Figure size 432x288 with 2 Axes>"
            ]
          },
          "metadata": {
            "needs_background": "light"
          },
          "output_type": "display_data"
        }
      ],
      "source": [
        "cm_test_RF = confusion_matrix(y_test , y_predicted_test_RF)\n",
        "ax=plt.subplot()\n",
        "sns.heatmap(cm_test_RF , annot=True)\n",
        "ax.set_xlabel('Predicted labels')\n",
        "ax.set_ylabel('True labels') \n",
        "ax.set_title('Testing Confusion Matrix')\n",
        "ax.xaxis.set_ticklabels(['Control', 'Ts65Dn'])\n",
        "ax.yaxis.set_ticklabels(['Control', 'Ts65Dn'])"
      ]
    },
    {
      "cell_type": "markdown",
      "metadata": {
        "id": "iDjhDkrLW0yR"
      },
      "source": [
        "Multiclass classification"
      ]
    },
    {
      "cell_type": "code",
      "execution_count": null,
      "metadata": {
        "id": "NP7nLp8fWvDC"
      },
      "outputs": [],
      "source": [
        "testing_label_multiclass = Test_Data['Treatment_Behavior']\n",
        "y_test_multiclass = label.fit_transform(testing_label_multiclass)"
      ]
    },
    {
      "cell_type": "markdown",
      "metadata": {
        "id": "HB08POakYuKG"
      },
      "source": [
        "Linear SVM multiclass"
      ]
    },
    {
      "cell_type": "code",
      "execution_count": null,
      "metadata": {
        "id": "jZ8kNApxXTtK"
      },
      "outputs": [],
      "source": [
        "optimal_Linear_SVM_multiclass_testing_features = Testing_features[most_important_features_Linear_SVM_multiclass]"
      ]
    },
    {
      "cell_type": "code",
      "execution_count": null,
      "metadata": {
        "id": "FEKhBGn6XVtU"
      },
      "outputs": [],
      "source": [
        "Linear_SVM_multiclass_clfr = SVC( C = 10, kernel = 'linear')\n",
        "Linear_SVM_multiclass_clfr.fit(training_features[most_important_features_Linear_SVM_multiclass], y_train_multiclass)\n",
        "y_predicted_test_Linear_SVM_multiclass = Linear_SVM_multiclass_clfr.predict( optimal_Linear_SVM_multiclass_testing_features)"
      ]
    },
    {
      "cell_type": "code",
      "execution_count": null,
      "metadata": {
        "colab": {
          "base_uri": "https://localhost:8080/"
        },
        "id": "JZB3RtlnaE-b",
        "outputId": "6c2de9cc-d37f-45b7-a9b3-8ca9f177ac1d"
      },
      "outputs": [
        {
          "name": "stdout",
          "output_type": "stream",
          "text": [
            "              precision    recall  f1-score   support\n",
            "\n",
            "           0       0.67      0.90      0.77        60\n",
            "           1       0.98      0.85      0.91        60\n",
            "           2       0.85      0.55      0.67        60\n",
            "           3       0.83      0.98      0.90        45\n",
            "\n",
            "    accuracy                           0.81       225\n",
            "   macro avg       0.83      0.82      0.81       225\n",
            "weighted avg       0.83      0.81      0.80       225\n",
            "\n"
          ]
        }
      ],
      "source": [
        "print(classification_report(y_test_multiclass , y_predicted_test_Linear_SVM_multiclass ))"
      ]
    },
    {
      "cell_type": "code",
      "execution_count": null,
      "metadata": {
        "colab": {
          "base_uri": "https://localhost:8080/",
          "height": 583
        },
        "id": "dVf008OUaO15",
        "outputId": "d300840a-04c8-46f6-bb5a-7cd0e1b97822"
      },
      "outputs": [
        {
          "data": {
            "text/plain": [
              "[Text(0, 0.5, 'Memantine_C/S'),\n",
              " Text(0, 1.5, 'Memantine_S/C'),\n",
              " Text(0, 2.5, 'Saline_C/S'),\n",
              " Text(0, 3.5, 'Saline_S/C')]"
            ]
          },
          "execution_count": 256,
          "metadata": {},
          "output_type": "execute_result"
        },
        {
          "data": {
            "image/png": "[encoded data removed]",
            "text/plain": [
              "<Figure size 576x576 with 2 Axes>"
            ]
          },
          "metadata": {
            "needs_background": "light"
          },
          "output_type": "display_data"
        }
      ],
      "source": [
        "plt.figure(figsize = (8,8))\n",
        "cm_test_Linear_SVM_multiclass = confusion_matrix(y_test_multiclass , y_predicted_test_Linear_SVM_multiclass)\n",
        "ax=plt.subplot()\n",
        "sns.heatmap(cm_test_Linear_SVM_multiclass , annot=True)\n",
        "ax.set_xlabel('Predicted labels')\n",
        "ax.set_ylabel('True labels') \n",
        "ax.set_title('Testing Confusion Matrix')\n",
        "ax.xaxis.set_ticklabels(['Memantine_C/S', 'Memantine_S/C' , 'Saline_C/S' , 'Saline_S/C'])\n",
        "ax.yaxis.set_ticklabels(['Memantine_C/S', 'Memantine_S/C' , 'Saline_C/S' , 'Saline_S/C'])"
      ]
    },
    {
      "cell_type": "markdown",
      "metadata": {
        "id": "erc_j6roa3hu"
      },
      "source": [
        "RBF SVM multiclass"
      ]
    },
    {
      "cell_type": "markdown",
      "metadata": {
        "id": "5fD36MZkKoLJ"
      },
      "source": [
        "As RFECV can't be used for RBF kernel SVM... That's why the most important features have been taken from the permutation feature importance metrics"
      ]
    },
    {
      "cell_type": "code",
      "execution_count": null,
      "metadata": {
        "id": "ouc_24cOaj3D"
      },
      "outputs": [],
      "source": [
        "optimal_RBF_SVM_multiclass_testing_features = Testing_features[optimal_features_RBF_SVM_multiclass]"
      ]
    },
    {
      "cell_type": "code",
      "execution_count": null,
      "metadata": {
        "id": "cQOd6kV7bDVa"
      },
      "outputs": [],
      "source": [
        "RBF_SVM_multiclass_clfr = SVC( C = 100, gamma = 0.01, kernel = 'rbf')\n",
        "RBF_SVM_multiclass_clfr.fit(training_features[optimal_features_RBF_SVM_multiclass], y_train_multiclass)\n",
        "y_predicted_test_RBF_SVM_multiclass = RBF_SVM_multiclass_clfr.predict( optimal_RBF_SVM_multiclass_testing_features)"
      ]
    },
    {
      "cell_type": "code",
      "execution_count": null,
      "metadata": {
        "colab": {
          "base_uri": "https://localhost:8080/"
        },
        "id": "21-Wrs_ebFdW",
        "outputId": "0fa862e5-1d25-4338-bfcb-6ada1d002386"
      },
      "outputs": [
        {
          "name": "stdout",
          "output_type": "stream",
          "text": [
            "              precision    recall  f1-score   support\n",
            "\n",
            "           0       0.68      0.83      0.75        60\n",
            "           1       0.90      0.90      0.90        60\n",
            "           2       0.78      0.60      0.68        60\n",
            "           3       0.87      0.87      0.87        45\n",
            "\n",
            "    accuracy                           0.80       225\n",
            "   macro avg       0.81      0.80      0.80       225\n",
            "weighted avg       0.80      0.80      0.79       225\n",
            "\n"
          ]
        }
      ],
      "source": [
        "print(classification_report(y_test_multiclass , y_predicted_test_RBF_SVM_multiclass ))"
      ]
    },
    {
      "cell_type": "code",
      "execution_count": null,
      "metadata": {
        "colab": {
          "base_uri": "https://localhost:8080/",
          "height": 583
        },
        "id": "PFEMd_VwcDg7",
        "outputId": "826674dc-1071-4323-821c-08397d1e2911"
      },
      "outputs": [
        {
          "data": {
            "text/plain": [
              "[Text(0, 0.5, 'Memantine_C/S'),\n",
              " Text(0, 1.5, 'Memantine_S/C'),\n",
              " Text(0, 2.5, 'Saline_C/S'),\n",
              " Text(0, 3.5, 'Saline_S/C')]"
            ]
          },
          "execution_count": 260,
          "metadata": {},
          "output_type": "execute_result"
        },
        {
          "data": {
            "image/png": "[encoded data removed]",
            "text/plain": [
              "<Figure size 576x576 with 2 Axes>"
            ]
          },
          "metadata": {
            "needs_background": "light"
          },
          "output_type": "display_data"
        }
      ],
      "source": [
        "plt.figure(figsize = (8,8))\n",
        "cm_test_RBF_SVM_multiclass = confusion_matrix(y_test_multiclass , y_predicted_test_RBF_SVM_multiclass)\n",
        "ax=plt.subplot()\n",
        "sns.heatmap(cm_test_RBF_SVM_multiclass , annot=True)\n",
        "ax.set_xlabel('Predicted labels')\n",
        "ax.set_ylabel('True labels') \n",
        "ax.set_title('Testing Confusion Matrix')\n",
        "ax.xaxis.set_ticklabels(['Memantine_C/S', 'Memantine_S/C' , 'Saline_C/S' , 'Saline_S/C'])\n",
        "ax.yaxis.set_ticklabels(['Memantine_C/S', 'Memantine_S/C' , 'Saline_C/S' , 'Saline_S/C'])"
      ]
    },
    {
      "cell_type": "markdown",
      "metadata": {
        "id": "ZEXEqqgRcamH"
      },
      "source": [
        "Neural Network"
      ]
    },
    {
      "cell_type": "markdown",
      "metadata": {
        "id": "ca9HXpp3MBGI"
      },
      "source": [
        "Here also Permutation feature importance has been used to fit on the most important features because RFECV can not be used for Neural Network"
      ]
    },
    {
      "cell_type": "code",
      "execution_count": null,
      "metadata": {
        "id": "bZA_-6OOcYjo"
      },
      "outputs": [],
      "source": [
        "optimal_NN_multiclass_testing_features = Testing_features[optimal_features_NN_multiclass]"
      ]
    },
    {
      "cell_type": "code",
      "execution_count": null,
      "metadata": {
        "id": "zmcwe6-ncq6c"
      },
      "outputs": [],
      "source": [
        "NN_multiclass_clfr = MLPClassifier(activation = 'relu', alpha = 0.001, hidden_layer_sizes = (128, ), max_iter = 1000, solver = 'lbfgs', early_stopping= True)\n",
        "NN_multiclass_clfr.fit(training_features[optimal_features_NN_multiclass], y_train_multiclass)\n",
        "y_predicted_test_NN_multiclass = NN_multiclass_clfr.predict( optimal_NN_multiclass_testing_features)"
      ]
    },
    {
      "cell_type": "code",
      "execution_count": null,
      "metadata": {
        "colab": {
          "base_uri": "https://localhost:8080/"
        },
        "id": "wkbfXupVdUh_",
        "outputId": "4e37accc-23fa-4009-8bf2-02791b30a107"
      },
      "outputs": [
        {
          "name": "stdout",
          "output_type": "stream",
          "text": [
            "              precision    recall  f1-score   support\n",
            "\n",
            "           0       0.84      0.87      0.85        60\n",
            "           1       0.75      0.77      0.76        60\n",
            "           2       0.86      0.83      0.85        60\n",
            "           3       0.68      0.67      0.67        45\n",
            "\n",
            "    accuracy                           0.79       225\n",
            "   macro avg       0.78      0.78      0.78       225\n",
            "weighted avg       0.79      0.79      0.79       225\n",
            "\n"
          ]
        }
      ],
      "source": [
        "print(classification_report(y_test_multiclass , y_predicted_test_NN_multiclass ))"
      ]
    },
    {
      "cell_type": "code",
      "execution_count": null,
      "metadata": {
        "colab": {
          "base_uri": "https://localhost:8080/",
          "height": 583
        },
        "id": "83lDkl6QddRy",
        "outputId": "c0b230bb-231d-4900-85b4-30c16dfe1904"
      },
      "outputs": [
        {
          "data": {
            "text/plain": [
              "[Text(0, 0.5, 'Memantine_C/S'),\n",
              " Text(0, 1.5, 'Memantine_S/C'),\n",
              " Text(0, 2.5, 'Saline_C/S'),\n",
              " Text(0, 3.5, 'Saline_S/C')]"
            ]
          },
          "execution_count": 264,
          "metadata": {},
          "output_type": "execute_result"
        },
        {
          "data": {
            "image/png": "[encoded data removed]",
            "text/plain": [
              "<Figure size 576x576 with 2 Axes>"
            ]
          },
          "metadata": {
            "needs_background": "light"
          },
          "output_type": "display_data"
        }
      ],
      "source": [
        "plt.figure(figsize = (8,8))\n",
        "cm_test_NN_multiclass = confusion_matrix(y_test_multiclass , y_predicted_test_NN_multiclass)\n",
        "ax=plt.subplot()\n",
        "sns.heatmap(cm_test_NN_multiclass , annot=True)\n",
        "ax.set_xlabel('Predicted labels')\n",
        "ax.set_ylabel('True labels') \n",
        "ax.set_title('Testing Confusion Matrix')\n",
        "ax.xaxis.set_ticklabels(['Memantine_C/S', 'Memantine_S/C' , 'Saline_C/S' , 'Saline_S/C'])\n",
        "ax.yaxis.set_ticklabels(['Memantine_C/S', 'Memantine_S/C' , 'Saline_C/S' , 'Saline_S/C'])"
      ]
    },
    {
      "cell_type": "markdown",
      "metadata": {
        "id": "0ptK1_DRdu5p"
      },
      "source": [
        "Random Forest Multiclass"
      ]
    },
    {
      "cell_type": "code",
      "execution_count": null,
      "metadata": {
        "id": "ZY8tF_e-dsFa"
      },
      "outputs": [],
      "source": [
        "optimal_RF_multiclass_testing_features = Testing_features[most_important_features_RF_multiclass]"
      ]
    },
    {
      "cell_type": "code",
      "execution_count": null,
      "metadata": {
        "id": "1h83v-l1d6NN"
      },
      "outputs": [],
      "source": [
        "RF_multiclass_clfr = RandomForestClassifier(max_depth = 9, max_features = 'log2')\n",
        "RF_multiclass_clfr.fit(training_features[most_important_features_RF_multiclass], y_train_multiclass)\n",
        "y_predicted_test_RF_multiclass = RF_multiclass_clfr.predict(optimal_RF_multiclass_testing_features)"
      ]
    },
    {
      "cell_type": "code",
      "execution_count": null,
      "metadata": {
        "colab": {
          "base_uri": "https://localhost:8080/"
        },
        "id": "txpByLaSd83i",
        "outputId": "d602f89b-ab26-4862-cd29-9bfa3686dc1e"
      },
      "outputs": [
        {
          "name": "stdout",
          "output_type": "stream",
          "text": [
            "              precision    recall  f1-score   support\n",
            "\n",
            "           0       0.72      0.92      0.81        60\n",
            "           1       0.69      0.57      0.62        60\n",
            "           2       0.91      0.65      0.76        60\n",
            "           3       0.53      0.67      0.59        45\n",
            "\n",
            "    accuracy                           0.70       225\n",
            "   macro avg       0.71      0.70      0.69       225\n",
            "weighted avg       0.73      0.70      0.70       225\n",
            "\n"
          ]
        }
      ],
      "source": [
        "print(classification_report(y_test_multiclass , y_predicted_test_RF_multiclass ))"
      ]
    },
    {
      "cell_type": "code",
      "execution_count": null,
      "metadata": {
        "colab": {
          "base_uri": "https://localhost:8080/",
          "height": 583
        },
        "id": "__gx597EgUwG",
        "outputId": "d28382ed-0177-4817-ef1e-509ea70455ff"
      },
      "outputs": [
        {
          "data": {
            "text/plain": [
              "[Text(0, 0.5, 'Memantine_C/S'),\n",
              " Text(0, 1.5, 'Memantine_S/C'),\n",
              " Text(0, 2.5, 'Saline_C/S'),\n",
              " Text(0, 3.5, 'Saline_S/C')]"
            ]
          },
          "execution_count": 267,
          "metadata": {},
          "output_type": "execute_result"
        },
        {
          "data": {
            "image/png": "[encoded data removed]",
            "text/plain": [
              "<Figure size 576x576 with 2 Axes>"
            ]
          },
          "metadata": {
            "needs_background": "light"
          },
          "output_type": "display_data"
        }
      ],
      "source": [
        "plt.figure(figsize = (8,8))\n",
        "cm_test_RF_multiclass = confusion_matrix(y_test_multiclass , y_predicted_test_RF_multiclass)\n",
        "ax=plt.subplot()\n",
        "sns.heatmap(cm_test_RF_multiclass , annot=True)\n",
        "ax.set_xlabel('Predicted labels')\n",
        "ax.set_ylabel('True labels') \n",
        "ax.set_title('Testing Confusion Matrix')\n",
        "ax.xaxis.set_ticklabels(['Memantine_C/S', 'Memantine_S/C' , 'Saline_C/S' , 'Saline_S/C'])\n",
        "ax.yaxis.set_ticklabels(['Memantine_C/S', 'Memantine_S/C' , 'Saline_C/S' , 'Saline_S/C'])"
      ]
    }
  ],
  "metadata": {
    "colab": {
      "provenance": []
    },
    "kernelspec": {
      "display_name": "Python 3",
      "name": "python3"
    },
    "language_info": {
      "name": "python"
    },
    "widgets": {
      "application/vnd.jupyter.widget-state+json": {
        "04ad3a9422ec40f698c6ad8b6d641698": {
          "model_module": "@jupyter-widgets/base",
          "model_module_version": "1.2.0",
          "model_name": "LayoutModel",
          "state": {
            "_model_module": "@jupyter-widgets/base",
            "_model_module_version": "1.2.0",
            "_model_name": "LayoutModel",
            "_view_count": null,
            "_view_module": "@jupyter-widgets/base",
            "_view_module_version": "1.2.0",
            "_view_name": "LayoutView",
            "align_content": null,
            "align_items": null,
            "align_self": null,
            "border": null,
            "bottom": null,
            "display": null,
            "flex": null,
            "flex_flow": null,
            "grid_area": null,
            "grid_auto_columns": null,
            "grid_auto_flow": null,
            "grid_auto_rows": null,
            "grid_column": null,
            "grid_gap": null,
            "grid_row": null,
            "grid_template_areas": null,
            "grid_template_columns": null,
            "grid_template_rows": null,
            "height": null,
            "justify_content": null,
            "justify_items": null,
            "left": null,
            "margin": null,
            "max_height": null,
            "max_width": null,
            "min_height": null,
            "min_width": null,
            "object_fit": null,
            "object_position": null,
            "order": null,
            "overflow": null,
            "overflow_x": null,
            "overflow_y": null,
            "padding": null,
            "right": null,
            "top": null,
            "visibility": null,
            "width": null
          }
        },
        "1be03dbab05a4a44ab1c15b82f59a75a": {
          "model_module": "@jupyter-widgets/base",
          "model_module_version": "1.2.0",
          "model_name": "LayoutModel",
          "state": {
            "_model_module": "@jupyter-widgets/base",
            "_model_module_version": "1.2.0",
            "_model_name": "LayoutModel",
            "_view_count": null,
            "_view_module": "@jupyter-widgets/base",
            "_view_module_version": "1.2.0",
            "_view_name": "LayoutView",
            "align_content": null,
            "align_items": null,
            "align_self": null,
            "border": null,
            "bottom": null,
            "display": null,
            "flex": null,
            "flex_flow": null,
            "grid_area": null,
            "grid_auto_columns": null,
            "grid_auto_flow": null,
            "grid_auto_rows": null,
            "grid_column": null,
            "grid_gap": null,
            "grid_row": null,
            "grid_template_areas": null,
            "grid_template_columns": null,
            "grid_template_rows": null,
            "height": null,
            "justify_content": null,
            "justify_items": null,
            "left": null,
            "margin": null,
            "max_height": null,
            "max_width": null,
            "min_height": null,
            "min_width": null,
            "object_fit": null,
            "object_position": null,
            "order": null,
            "overflow": null,
            "overflow_x": null,
            "overflow_y": null,
            "padding": null,
            "right": null,
            "top": null,
            "visibility": null,
            "width": null
          }
        },
        "478ef8034bec4233b975a6799244a4aa": {
          "model_module": "@jupyter-widgets/base",
          "model_module_version": "1.2.0",
          "model_name": "LayoutModel",
          "state": {
            "_model_module": "@jupyter-widgets/base",
            "_model_module_version": "1.2.0",
            "_model_name": "LayoutModel",
            "_view_count": null,
            "_view_module": "@jupyter-widgets/base",
            "_view_module_version": "1.2.0",
            "_view_name": "LayoutView",
            "align_content": null,
            "align_items": null,
            "align_self": null,
            "border": null,
            "bottom": null,
            "display": null,
            "flex": null,
            "flex_flow": null,
            "grid_area": null,
            "grid_auto_columns": null,
            "grid_auto_flow": null,
            "grid_auto_rows": null,
            "grid_column": null,
            "grid_gap": null,
            "grid_row": null,
            "grid_template_areas": null,
            "grid_template_columns": null,
            "grid_template_rows": null,
            "height": null,
            "justify_content": null,
            "justify_items": null,
            "left": null,
            "margin": null,
            "max_height": null,
            "max_width": null,
            "min_height": null,
            "min_width": null,
            "object_fit": null,
            "object_position": null,
            "order": null,
            "overflow": null,
            "overflow_x": null,
            "overflow_y": null,
            "padding": null,
            "right": null,
            "top": null,
            "visibility": null,
            "width": null
          }
        },
        "5a69f7970e944c1b91550ed3eff01633": {
          "model_module": "@jupyter-widgets/controls",
          "model_module_version": "1.5.0",
          "model_name": "HBoxModel",
          "state": {
            "_dom_classes": [],
            "_model_module": "@jupyter-widgets/controls",
            "_model_module_version": "1.5.0",
            "_model_name": "HBoxModel",
            "_view_count": null,
            "_view_module": "@jupyter-widgets/controls",
            "_view_module_version": "1.5.0",
            "_view_name": "HBoxView",
            "box_style": "",
            "children": [
              "IPY_MODEL_e4b5aea17955498ba685087c55137cbe",
              "IPY_MODEL_d916ffa816f24a0b8e41a6d3d8350ebe",
              "IPY_MODEL_69c45c2af61d45bbb25c3665f51363dd"
            ],
            "layout": "IPY_MODEL_1be03dbab05a4a44ab1c15b82f59a75a"
          }
        },
        "69c45c2af61d45bbb25c3665f51363dd": {
          "model_module": "@jupyter-widgets/controls",
          "model_module_version": "1.5.0",
          "model_name": "HTMLModel",
          "state": {
            "_dom_classes": [],
            "_model_module": "@jupyter-widgets/controls",
            "_model_module_version": "1.5.0",
            "_model_name": "HTMLModel",
            "_view_count": null,
            "_view_module": "@jupyter-widgets/controls",
            "_view_module_version": "1.5.0",
            "_view_name": "HTMLView",
            "description": "",
            "description_tooltip": null,
            "layout": "IPY_MODEL_b602c4b953ea4b69b0302b28eb9a80ee",
            "placeholder": "​",
            "style": "IPY_MODEL_ace20ed3b7904f06a9158f0f5a7873de",
            "value": " 44.7M/44.7M [00:00&lt;00:00, 106MB/s]"
          }
        },
        "6f70a2b9a18d4954b7c2352a20877a82": {
          "model_module": "@jupyter-widgets/controls",
          "model_module_version": "1.5.0",
          "model_name": "DescriptionStyleModel",
          "state": {
            "_model_module": "@jupyter-widgets/controls",
            "_model_module_version": "1.5.0",
            "_model_name": "DescriptionStyleModel",
            "_view_count": null,
            "_view_module": "@jupyter-widgets/base",
            "_view_module_version": "1.2.0",
            "_view_name": "StyleView",
            "description_width": ""
          }
        },
        "ace20ed3b7904f06a9158f0f5a7873de": {
          "model_module": "@jupyter-widgets/controls",
          "model_module_version": "1.5.0",
          "model_name": "DescriptionStyleModel",
          "state": {
            "_model_module": "@jupyter-widgets/controls",
            "_model_module_version": "1.5.0",
            "_model_name": "DescriptionStyleModel",
            "_view_count": null,
            "_view_module": "@jupyter-widgets/base",
            "_view_module_version": "1.2.0",
            "_view_name": "StyleView",
            "description_width": ""
          }
        },
        "b602c4b953ea4b69b0302b28eb9a80ee": {
          "model_module": "@jupyter-widgets/base",
          "model_module_version": "1.2.0",
          "model_name": "LayoutModel",
          "state": {
            "_model_module": "@jupyter-widgets/base",
            "_model_module_version": "1.2.0",
            "_model_name": "LayoutModel",
            "_view_count": null,
            "_view_module": "@jupyter-widgets/base",
            "_view_module_version": "1.2.0",
            "_view_name": "LayoutView",
            "align_content": null,
            "align_items": null,
            "align_self": null,
            "border": null,
            "bottom": null,
            "display": null,
            "flex": null,
            "flex_flow": null,
            "grid_area": null,
            "grid_auto_columns": null,
            "grid_auto_flow": null,
            "grid_auto_rows": null,
            "grid_column": null,
            "grid_gap": null,
            "grid_row": null,
            "grid_template_areas": null,
            "grid_template_columns": null,
            "grid_template_rows": null,
            "height": null,
            "justify_content": null,
            "justify_items": null,
            "left": null,
            "margin": null,
            "max_height": null,
            "max_width": null,
            "min_height": null,
            "min_width": null,
            "object_fit": null,
            "object_position": null,
            "order": null,
            "overflow": null,
            "overflow_x": null,
            "overflow_y": null,
            "padding": null,
            "right": null,
            "top": null,
            "visibility": null,
            "width": null
          }
        },
        "c4a43e66a0154aa189235e80f967cffa": {
          "model_module": "@jupyter-widgets/controls",
          "model_module_version": "1.5.0",
          "model_name": "ProgressStyleModel",
          "state": {
            "_model_module": "@jupyter-widgets/controls",
            "_model_module_version": "1.5.0",
            "_model_name": "ProgressStyleModel",
            "_view_count": null,
            "_view_module": "@jupyter-widgets/base",
            "_view_module_version": "1.2.0",
            "_view_name": "StyleView",
            "bar_color": null,
            "description_width": ""
          }
        },
        "d916ffa816f24a0b8e41a6d3d8350ebe": {
          "model_module": "@jupyter-widgets/controls",
          "model_module_version": "1.5.0",
          "model_name": "FloatProgressModel",
          "state": {
            "_dom_classes": [],
            "_model_module": "@jupyter-widgets/controls",
            "_model_module_version": "1.5.0",
            "_model_name": "FloatProgressModel",
            "_view_count": null,
            "_view_module": "@jupyter-widgets/controls",
            "_view_module_version": "1.5.0",
            "_view_name": "ProgressView",
            "bar_style": "success",
            "description": "",
            "description_tooltip": null,
            "layout": "IPY_MODEL_478ef8034bec4233b975a6799244a4aa",
            "max": 46830571,
            "min": 0,
            "orientation": "horizontal",
            "style": "IPY_MODEL_c4a43e66a0154aa189235e80f967cffa",
            "value": 46830571
          }
        },
        "e4b5aea17955498ba685087c55137cbe": {
          "model_module": "@jupyter-widgets/controls",
          "model_module_version": "1.5.0",
          "model_name": "HTMLModel",
          "state": {
            "_dom_classes": [],
            "_model_module": "@jupyter-widgets/controls",
            "_model_module_version": "1.5.0",
            "_model_name": "HTMLModel",
            "_view_count": null,
            "_view_module": "@jupyter-widgets/controls",
            "_view_module_version": "1.5.0",
            "_view_name": "HTMLView",
            "description": "",
            "description_tooltip": null,
            "layout": "IPY_MODEL_04ad3a9422ec40f698c6ad8b6d641698",
            "placeholder": "​",
            "style": "IPY_MODEL_6f70a2b9a18d4954b7c2352a20877a82",
            "value": "100%"
          }
        }
      }
    }
  },
  "nbformat": 4,
  "nbformat_minor": 0
}
